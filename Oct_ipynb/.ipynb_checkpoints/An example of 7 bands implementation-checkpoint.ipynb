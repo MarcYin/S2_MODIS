{
 "cells": [
  {
   "cell_type": "code",
   "execution_count": 1,
   "metadata": {
    "collapsed": false
   },
   "outputs": [
    {
     "name": "stdout",
     "output_type": "stream",
     "text": [
      "/data/store01/data_dirs/students/ucfafyi/S2_MODIS\n"
     ]
    }
   ],
   "source": [
    "cd /data/store01/data_dirs/students/ucfafyi/S2_MODIS"
   ]
  },
  {
   "cell_type": "code",
   "execution_count": 2,
   "metadata": {
    "collapsed": false
   },
   "outputs": [],
   "source": [
    "import sys\n",
    "sys.path.insert(0, 'python')\n",
    "from fastRWpkl import *\n",
    "import pylab as plt\n",
    "%matplotlib inline\n",
    "import mgrs\n",
    "from smoothn import smoothn\n",
    "from scipy.interpolate import griddata\n",
    "import pandas as pd\n",
    "from scipy import interpolate"
   ]
  },
  {
   "cell_type": "code",
   "execution_count": 10,
   "metadata": {
    "collapsed": false
   },
   "outputs": [],
   "source": [
    "paras = parallel_rw_pkl(0,'Xingtai0503_atm', 'r')"
   ]
  },
  {
   "cell_type": "code",
   "execution_count": 57,
   "metadata": {
    "collapsed": false
   },
   "outputs": [],
   "source": [
    "valid = np.array([np.hstack([i[0], i[1][0], i[1][1]]) for i in paras])"
   ]
  },
  {
   "cell_type": "code",
   "execution_count": 250,
   "metadata": {
    "collapsed": false,
    "scrolled": true
   },
   "outputs": [
    {
     "data": {
      "text/plain": [
       "(0, 1)"
      ]
     },
     "execution_count": 250,
     "metadata": {},
     "output_type": "execute_result"
    },
    {
     "data": {
      "image/png": "[encoded data removed]",
      "text/plain": [
       "<matplotlib.figure.Figure at 0x7f97d16f58d0>"
      ]
     },
     "metadata": {},
     "output_type": "display_data"
    }
   ],
   "source": [
    "plt.plot(valid[:,2],\"+\")\n",
    "plt.plot([0,60], [0.055635924179828794, 0.055635924179828794 ], 'b-')\n",
    "plt.plot([0,60], [0.29884952630476158, 0.29884952630476158 ], '-b')\n",
    "plt.plot([0,60], [0.17724272524229517,0.17724272524229517])\n",
    "plt.ylim(0,1)"
   ]
  },
  {
   "cell_type": "code",
   "execution_count": 72,
   "metadata": {
    "collapsed": false
   },
   "outputs": [
    {
     "data": {
      "text/plain": [
       "(0.17724272524229517, 0.12160680106246638)"
      ]
     },
     "execution_count": 72,
     "metadata": {},
     "output_type": "execute_result"
    }
   ],
   "source": [
    "valid[:,2].mean(), valid[:,2].std()"
   ]
  },
  {
   "cell_type": "code",
   "execution_count": null,
   "metadata": {
    "collapsed": true
   },
   "outputs": [],
   "source": [
    "\n",
    "def geo_inter(coords, dic, corners):\n",
    "    '''\n",
    "    coords is the coordinates [(lat, lon), (lat, lon)...] needed to transfer\n",
    "    \n",
    "    dic is a dictionary of the Upper lfet (UL), UR, LL, LR 's lat and lons\n",
    "    \n",
    "    example: dic ={'LL_LAT': 36.35288,\n",
    "                   'LL_LON': 113.00651,\n",
    "                   'LR_LAT': 36.41186,\n",
    "                   'LR_LON': 115.6326,\n",
    "                   'UL_LAT': 38.51077,\n",
    "                   'UL_LON': 112.88999,\n",
    "                   'UR_LAT': 38.57451,\n",
    "                   'UR_LON': 115.59258}\n",
    "    \n",
    "    corners is the (x, y) corresponding to the shape of the area (array)            \n",
    "    '''\n",
    "    #lat, lon = coords\n",
    "    a = np.matrix([[1, dic['LL_LAT'], dic['LL_LON'], dic['LL_LAT']*dic['LL_LON']],\n",
    "                   [1, dic['UL_LAT'], dic['UL_LON'], dic['UL_LAT']*dic['UL_LON']], \n",
    "                   [1, dic['LR_LAT'], dic['LR_LON'], dic['LR_LAT']*dic['LR_LON']],\n",
    "                   [1, dic['UR_LAT'], dic['UR_LON'], dic['UR_LAT']*dic['UR_LON']]])\n",
    "    x0, y0 = corners\n",
    "    convs = np.matrix([[1, i[0], i[1], i[0]*i[1]] for i in coords]).T\n",
    "    x = np.matrix([x0,0,x0,0])*((a**-1).T)*convs\n",
    "    y = np.matrix([0,0,y0,y0])*((a**-1).T)*convs\n",
    "    return zip(np.squeeze(np.array(np.round(x).astype('int'))), np.squeeze(np.array((np.round(y).astype('int')))))"
   ]
  },
  {
   "cell_type": "code",
   "execution_count": 244,
   "metadata": {
    "collapsed": false
   },
   "outputs": [
    {
     "data": {
      "text/plain": [
       "[0.055635924179828794, 0.29884952630476158]"
      ]
     },
     "execution_count": 244,
     "metadata": {},
     "output_type": "execute_result"
    }
   ],
   "source": [
    "[valid[:,2].mean()- valid[:,2].std(), valid[:,2].mean()+ valid[:,2].std()]"
   ]
  },
  {
   "cell_type": "code",
   "execution_count": 77,
   "metadata": {
    "collapsed": false
   },
   "outputs": [
    {
     "data": {
      "text/plain": [
       "(array([7984, 7985, 7987, 7988, 7989, 7991, 7992, 7993, 7995, 8030, 8031,\n",
       "        8033, 8034, 8035, 8037, 8038, 8039, 8041, 8079, 8080, 8081, 8083,\n",
       "        8084, 8085, 8087, 8126, 8127, 8129, 8130, 8131, 8132, 8173, 8177,\n",
       "        8178, 8180, 8222, 8223, 8224, 8226, 8267, 8269, 8270, 8272, 8309,\n",
       "        8310, 8311, 8314, 8315, 8316, 8318, 8355, 8360, 8361, 8362, 8364,\n",
       "        8365]),\n",
       " array([6380, 6427, 6473, 6520, 6566, 6612, 6659, 6705, 6752, 6369, 6416,\n",
       "        6462, 6509, 6555, 6602, 6648, 6694, 6741, 6451, 6498, 6544, 6591,\n",
       "        6637, 6684, 6730, 6487, 6533, 6580, 6626, 6673, 6719, 6523, 6662,\n",
       "        6708, 6755, 6605, 6651, 6697, 6744, 6547, 6640, 6687, 6733, 6397,\n",
       "        6444, 6490, 6583, 6629, 6676, 6722, 6386, 6572, 6618, 6665, 6711,\n",
       "        6758]))"
      ]
     },
     "execution_count": 77,
     "metadata": {},
     "output_type": "execute_result"
    }
   ],
   "source": [
    "(valid[:,0]).astype('int'),(valid[:,1]).astype('int')"
   ]
  },
  {
   "cell_type": "code",
   "execution_count": 89,
   "metadata": {
    "collapsed": false
   },
   "outputs": [],
   "source": [
    "lat,lon=37.181944, 114.36\n",
    "tx = mgrs.MGRS()\n",
    "mg = tx.toMGRS(lat,lon, MGRSPrecision=4)\n",
    "imgx = 9999-int(mg[-4:]); imgy = int(mg[-8:-4])\n",
    "lx = imgx-200; ux = imgx+200\n",
    "ly = imgy-200; uy = imgy+200"
   ]
  },
  {
   "cell_type": "code",
   "execution_count": 96,
   "metadata": {
    "collapsed": false
   },
   "outputs": [
    {
     "data": {
      "text/plain": [
       "(200, 200)"
      ]
     },
     "execution_count": 96,
     "metadata": {},
     "output_type": "execute_result"
    }
   ],
   "source": [
    "co_x,co_y = (valid[:,0]).astype('int')-lx, (valid[:,1]).astype('int')-ly\n",
    "imgx-lx,imgy-ly"
   ]
  },
  {
   "cell_type": "code",
   "execution_count": 123,
   "metadata": {
    "collapsed": false
   },
   "outputs": [
    {
     "data": {
      "text/plain": [
       "(array([ 17,  18,  20,  21,  22,  24,  25,  26,  28,  63,  64,  66,  67,\n",
       "         68,  70,  71,  72,  74, 112, 113, 114, 116, 117, 118, 120, 159,\n",
       "        160, 162, 163, 164, 165, 206, 210, 211, 213, 255, 256, 257, 259,\n",
       "        300, 302, 303, 305, 342, 343, 344, 347, 348, 349, 351, 388, 393,\n",
       "        394, 395, 397, 398]),\n",
       " array([ 16,  63, 109, 156, 202, 248, 295, 341, 388,   5,  52,  98, 145,\n",
       "        191, 238, 284, 330, 377,  87, 134, 180, 227, 273, 320, 366, 123,\n",
       "        169, 216, 262, 309, 355, 159, 298, 344, 391, 241, 287, 333, 380,\n",
       "        183, 276, 323, 369,  33,  80, 126, 219, 265, 312, 358,  22, 208,\n",
       "        254, 301, 347, 394]),\n",
       " array([ 0.22268585,  0.23218274,  0.33636125,  0.318912  ,  0.28812599,\n",
       "         0.11707627,  0.12627061,  0.26474031,  0.23529835,  0.27048205,\n",
       "         0.18226519,  0.30376627,  0.3609686 ,  0.42915508,  0.1261214 ,\n",
       "         0.16784543,  0.0913285 ,  0.26504719,  0.3673474 ,  0.3292817 ,\n",
       "         0.30920638,  0.21749633,  0.0475546 ,  0.15767451,  0.06551221,\n",
       "         0.03550674,  0.00367949,  0.15224808,  0.25401172,  0.22737983,\n",
       "         0.04447602,  0.32185451,  0.12826153,  0.02293715,  0.00325689,\n",
       "         0.11285368,  0.12763259,  0.05090819,  0.03666201,  0.33237132,\n",
       "         0.00381392,  0.06235503,  0.09695113,  0.08173706,  0.2918096 ,\n",
       "         0.41784193,  0.3722259 ,  0.05894349,  0.12878171,  0.00392383,\n",
       "         0.00307547,  0.20537664,  0.16776721,  0.12461941,  0.21568691,\n",
       "         0.00393737]))"
      ]
     },
     "execution_count": 123,
     "metadata": {},
     "output_type": "execute_result"
    }
   ],
   "source": [
    "co_x, co_y,valid[:,2]"
   ]
  },
  {
   "cell_type": "code",
   "execution_count": 210,
   "metadata": {
    "collapsed": false
   },
   "outputs": [],
   "source": [
    "aot = np.zeros((400,400))\n",
    "aot[:]=np.nan"
   ]
  },
  {
   "cell_type": "code",
   "execution_count": 211,
   "metadata": {
    "collapsed": false
   },
   "outputs": [],
   "source": [
    "aot[co_x, co_y]=valid[:,2]"
   ]
  },
  {
   "cell_type": "code",
   "execution_count": 212,
   "metadata": {
    "collapsed": false
   },
   "outputs": [],
   "source": [
    "w = (~np.isnan(aot))*1.\n",
    "w[co_x, co_y] = valid[:,-1]\n",
    "aot[np.isnan(aot)] = valid[:,2].mean()"
   ]
  },
  {
   "cell_type": "code",
   "execution_count": 275,
   "metadata": {
    "collapsed": false
   },
   "outputs": [
    {
     "data": {
      "text/plain": [
       "(array([[ 0.17760354,  0.17760332,  0.17760288, ...,  0.17743755,\n",
       "          0.17743771,  0.17743778],\n",
       "        [ 0.17760351,  0.17760329,  0.17760285, ...,  0.17743757,\n",
       "          0.17743772,  0.1774378 ],\n",
       "        [ 0.17760346,  0.17760324,  0.1776028 , ...,  0.1774376 ,\n",
       "          0.17743776,  0.17743783],\n",
       "        ..., \n",
       "        [ 0.17582804,  0.17582897,  0.17583084, ...,  0.17516509,\n",
       "          0.17516136,  0.17515947],\n",
       "        [ 0.17582589,  0.17582683,  0.1758287 , ...,  0.17516416,\n",
       "          0.17516037,  0.17515846],\n",
       "        [ 0.17582482,  0.17582575,  0.17582762, ...,  0.17516373,\n",
       "          0.17515991,  0.17515798]]),\n",
       " 100.0,\n",
       " True,\n",
       " array([[ 0.,  0.,  0., ...,  0.,  0.,  0.],\n",
       "        [ 0.,  0.,  0., ...,  0.,  0.,  0.],\n",
       "        [ 0.,  0.,  0., ...,  0.,  0.,  0.],\n",
       "        ..., \n",
       "        [ 0.,  0.,  0., ...,  0.,  0.,  0.],\n",
       "        [ 0.,  0.,  0., ...,  0.,  0.,  0.],\n",
       "        [ 0.,  0.,  0., ...,  0.,  0.,  0.]]))"
      ]
     },
     "execution_count": 275,
     "metadata": {},
     "output_type": "execute_result"
    }
   ],
   "source": [
    "aot_map = smoothn(aot, W=w, isrobust=1, s=100, MaxIter=1000)\n",
    "aot_map"
   ]
  },
  {
   "cell_type": "code",
   "execution_count": 276,
   "metadata": {
    "collapsed": false
   },
   "outputs": [
    {
     "data": {
      "text/plain": [
       "<matplotlib.colorbar.Colorbar at 0x7f97d0b68990>"
      ]
     },
     "execution_count": 276,
     "metadata": {},
     "output_type": "execute_result"
    },
    {
     "data": {
      "image/png": "[encoded data removed]",
      "text/plain": [
       "<matplotlib.figure.Figure at 0x7f97d0f6e850>"
      ]
     },
     "metadata": {},
     "output_type": "display_data"
    }
   ],
   "source": [
    "plt.imshow(aot_map[0], interpolation=None)\n",
    "plt.colorbar()"
   ]
  },
  {
   "cell_type": "code",
   "execution_count": 215,
   "metadata": {
    "collapsed": false
   },
   "outputs": [
    {
     "data": {
      "text/plain": [
       "0.17725051836969349"
      ]
     },
     "execution_count": 215,
     "metadata": {},
     "output_type": "execute_result"
    }
   ],
   "source": [
    "aot_map[0][200,200]"
   ]
  },
  {
   "cell_type": "code",
   "execution_count": 173,
   "metadata": {
    "collapsed": true
   },
   "outputs": [],
   "source": [
    "grid_x, grid_y = np.mgrid[0:400, 0:400]\n",
    "aots = griddata(np.array([co_x, co_y]).T, valid[:,2], (grid_x, grid_y),method='nearest')"
   ]
  },
  {
   "cell_type": "code",
   "execution_count": 233,
   "metadata": {
    "collapsed": false
   },
   "outputs": [
    {
     "data": {
      "text/html": [
       "<div>\n",
       "<table border=\"1\" class=\"dataframe\">\n",
       "  <thead>\n",
       "    <tr style=\"text-align: right;\">\n",
       "      <th></th>\n",
       "      <th>Date(dd-mm-yyyy)</th>\n",
       "      <th>Time(hh:mm:ss)</th>\n",
       "      <th>Julian_Day</th>\n",
       "      <th>AOT_1640</th>\n",
       "      <th>AOT_1020</th>\n",
       "      <th>AOT_870</th>\n",
       "      <th>AOT_675</th>\n",
       "      <th>AOT_667</th>\n",
       "      <th>AOT_555</th>\n",
       "      <th>AOT_551</th>\n",
       "      <th>AOT_532</th>\n",
       "      <th>AOT_531</th>\n",
       "      <th>AOT_500</th>\n",
       "      <th>AOT_490</th>\n",
       "      <th>AOT_443</th>\n",
       "      <th>AOT_440</th>\n",
       "      <th>AOT_412</th>\n",
       "      <th>AOT_380</th>\n",
       "      <th>AOT_340</th>\n",
       "      <th>Water(cm)</th>\n",
       "    </tr>\n",
       "  </thead>\n",
       "  <tbody>\n",
       "    <tr>\n",
       "      <th>4</th>\n",
       "      <td>03:05:2016</td>\n",
       "      <td>00:07:15</td>\n",
       "      <td>124.005035</td>\n",
       "      <td>0.031110</td>\n",
       "      <td>0.042359</td>\n",
       "      <td>0.047588</td>\n",
       "      <td>0.060134</td>\n",
       "      <td>NaN</td>\n",
       "      <td>NaN</td>\n",
       "      <td>NaN</td>\n",
       "      <td>NaN</td>\n",
       "      <td>NaN</td>\n",
       "      <td>0.066739</td>\n",
       "      <td>NaN</td>\n",
       "      <td>NaN</td>\n",
       "      <td>0.076337</td>\n",
       "      <td>NaN</td>\n",
       "      <td>0.084082</td>\n",
       "      <td>0.091142</td>\n",
       "      <td>0.511909</td>\n",
       "    </tr>\n",
       "    <tr>\n",
       "      <th>5</th>\n",
       "      <td>03:05:2016</td>\n",
       "      <td>00:37:15</td>\n",
       "      <td>124.025868</td>\n",
       "      <td>0.029541</td>\n",
       "      <td>0.039815</td>\n",
       "      <td>0.045460</td>\n",
       "      <td>0.058063</td>\n",
       "      <td>NaN</td>\n",
       "      <td>NaN</td>\n",
       "      <td>NaN</td>\n",
       "      <td>NaN</td>\n",
       "      <td>NaN</td>\n",
       "      <td>0.062091</td>\n",
       "      <td>NaN</td>\n",
       "      <td>NaN</td>\n",
       "      <td>0.071493</td>\n",
       "      <td>NaN</td>\n",
       "      <td>0.078761</td>\n",
       "      <td>0.077383</td>\n",
       "      <td>0.486975</td>\n",
       "    </tr>\n",
       "    <tr>\n",
       "      <th>6</th>\n",
       "      <td>03:05:2016</td>\n",
       "      <td>01:22:19</td>\n",
       "      <td>124.057164</td>\n",
       "      <td>0.031955</td>\n",
       "      <td>0.041477</td>\n",
       "      <td>0.047839</td>\n",
       "      <td>0.060413</td>\n",
       "      <td>NaN</td>\n",
       "      <td>NaN</td>\n",
       "      <td>NaN</td>\n",
       "      <td>NaN</td>\n",
       "      <td>NaN</td>\n",
       "      <td>0.060192</td>\n",
       "      <td>NaN</td>\n",
       "      <td>NaN</td>\n",
       "      <td>0.069243</td>\n",
       "      <td>NaN</td>\n",
       "      <td>0.075497</td>\n",
       "      <td>0.070629</td>\n",
       "      <td>0.447453</td>\n",
       "    </tr>\n",
       "    <tr>\n",
       "      <th>7</th>\n",
       "      <td>03:05:2016</td>\n",
       "      <td>07:22:17</td>\n",
       "      <td>124.307141</td>\n",
       "      <td>0.081640</td>\n",
       "      <td>0.090919</td>\n",
       "      <td>0.101287</td>\n",
       "      <td>0.118541</td>\n",
       "      <td>NaN</td>\n",
       "      <td>NaN</td>\n",
       "      <td>NaN</td>\n",
       "      <td>NaN</td>\n",
       "      <td>NaN</td>\n",
       "      <td>0.135848</td>\n",
       "      <td>NaN</td>\n",
       "      <td>NaN</td>\n",
       "      <td>0.152733</td>\n",
       "      <td>NaN</td>\n",
       "      <td>0.174680</td>\n",
       "      <td>0.192274</td>\n",
       "      <td>0.760989</td>\n",
       "    </tr>\n",
       "    <tr>\n",
       "      <th>8</th>\n",
       "      <td>03:05:2016</td>\n",
       "      <td>08:37:27</td>\n",
       "      <td>124.359340</td>\n",
       "      <td>0.091557</td>\n",
       "      <td>0.102394</td>\n",
       "      <td>0.111964</td>\n",
       "      <td>0.129180</td>\n",
       "      <td>NaN</td>\n",
       "      <td>NaN</td>\n",
       "      <td>NaN</td>\n",
       "      <td>NaN</td>\n",
       "      <td>NaN</td>\n",
       "      <td>0.155331</td>\n",
       "      <td>NaN</td>\n",
       "      <td>NaN</td>\n",
       "      <td>0.176462</td>\n",
       "      <td>NaN</td>\n",
       "      <td>0.202620</td>\n",
       "      <td>0.220729</td>\n",
       "      <td>0.824685</td>\n",
       "    </tr>\n",
       "    <tr>\n",
       "      <th>9</th>\n",
       "      <td>03:05:2016</td>\n",
       "      <td>09:32:01</td>\n",
       "      <td>124.397234</td>\n",
       "      <td>0.097034</td>\n",
       "      <td>0.110542</td>\n",
       "      <td>0.120147</td>\n",
       "      <td>0.141056</td>\n",
       "      <td>NaN</td>\n",
       "      <td>NaN</td>\n",
       "      <td>NaN</td>\n",
       "      <td>NaN</td>\n",
       "      <td>NaN</td>\n",
       "      <td>0.180543</td>\n",
       "      <td>NaN</td>\n",
       "      <td>NaN</td>\n",
       "      <td>0.208450</td>\n",
       "      <td>NaN</td>\n",
       "      <td>0.244123</td>\n",
       "      <td>0.268813</td>\n",
       "      <td>0.877700</td>\n",
       "    </tr>\n",
       "    <tr>\n",
       "      <th>10</th>\n",
       "      <td>03:05:2016</td>\n",
       "      <td>10:06:10</td>\n",
       "      <td>124.420949</td>\n",
       "      <td>0.102942</td>\n",
       "      <td>0.117834</td>\n",
       "      <td>0.126913</td>\n",
       "      <td>0.147866</td>\n",
       "      <td>NaN</td>\n",
       "      <td>NaN</td>\n",
       "      <td>NaN</td>\n",
       "      <td>NaN</td>\n",
       "      <td>NaN</td>\n",
       "      <td>0.190915</td>\n",
       "      <td>NaN</td>\n",
       "      <td>NaN</td>\n",
       "      <td>0.219997</td>\n",
       "      <td>NaN</td>\n",
       "      <td>0.256489</td>\n",
       "      <td>0.279838</td>\n",
       "      <td>0.903077</td>\n",
       "    </tr>\n",
       "    <tr>\n",
       "      <th>11</th>\n",
       "      <td>03:05:2016</td>\n",
       "      <td>22:46:36</td>\n",
       "      <td>124.949028</td>\n",
       "      <td>0.110888</td>\n",
       "      <td>0.134589</td>\n",
       "      <td>0.139996</td>\n",
       "      <td>0.154928</td>\n",
       "      <td>NaN</td>\n",
       "      <td>NaN</td>\n",
       "      <td>NaN</td>\n",
       "      <td>NaN</td>\n",
       "      <td>NaN</td>\n",
       "      <td>0.181862</td>\n",
       "      <td>NaN</td>\n",
       "      <td>NaN</td>\n",
       "      <td>0.201206</td>\n",
       "      <td>NaN</td>\n",
       "      <td>0.222006</td>\n",
       "      <td>0.231482</td>\n",
       "      <td>1.120504</td>\n",
       "    </tr>\n",
       "  </tbody>\n",
       "</table>\n",
       "</div>"
      ],
      "text/plain": [
       "   Date(dd-mm-yyyy) Time(hh:mm:ss)  Julian_Day  AOT_1640  AOT_1020   AOT_870  \\\n",
       "4        03:05:2016       00:07:15  124.005035  0.031110  0.042359  0.047588   \n",
       "5        03:05:2016       00:37:15  124.025868  0.029541  0.039815  0.045460   \n",
       "6        03:05:2016       01:22:19  124.057164  0.031955  0.041477  0.047839   \n",
       "7        03:05:2016       07:22:17  124.307141  0.081640  0.090919  0.101287   \n",
       "8        03:05:2016       08:37:27  124.359340  0.091557  0.102394  0.111964   \n",
       "9        03:05:2016       09:32:01  124.397234  0.097034  0.110542  0.120147   \n",
       "10       03:05:2016       10:06:10  124.420949  0.102942  0.117834  0.126913   \n",
       "11       03:05:2016       22:46:36  124.949028  0.110888  0.134589  0.139996   \n",
       "\n",
       "     AOT_675  AOT_667  AOT_555  AOT_551  AOT_532  AOT_531   AOT_500  AOT_490  \\\n",
       "4   0.060134      NaN      NaN      NaN      NaN      NaN  0.066739      NaN   \n",
       "5   0.058063      NaN      NaN      NaN      NaN      NaN  0.062091      NaN   \n",
       "6   0.060413      NaN      NaN      NaN      NaN      NaN  0.060192      NaN   \n",
       "7   0.118541      NaN      NaN      NaN      NaN      NaN  0.135848      NaN   \n",
       "8   0.129180      NaN      NaN      NaN      NaN      NaN  0.155331      NaN   \n",
       "9   0.141056      NaN      NaN      NaN      NaN      NaN  0.180543      NaN   \n",
       "10  0.147866      NaN      NaN      NaN      NaN      NaN  0.190915      NaN   \n",
       "11  0.154928      NaN      NaN      NaN      NaN      NaN  0.181862      NaN   \n",
       "\n",
       "    AOT_443   AOT_440  AOT_412   AOT_380   AOT_340  Water(cm)  \n",
       "4       NaN  0.076337      NaN  0.084082  0.091142   0.511909  \n",
       "5       NaN  0.071493      NaN  0.078761  0.077383   0.486975  \n",
       "6       NaN  0.069243      NaN  0.075497  0.070629   0.447453  \n",
       "7       NaN  0.152733      NaN  0.174680  0.192274   0.760989  \n",
       "8       NaN  0.176462      NaN  0.202620  0.220729   0.824685  \n",
       "9       NaN  0.208450      NaN  0.244123  0.268813   0.877700  \n",
       "10      NaN  0.219997      NaN  0.256489  0.279838   0.903077  \n",
       "11      NaN  0.201206      NaN  0.222006  0.231482   1.120504  "
      ]
     },
     "execution_count": 233,
     "metadata": {},
     "output_type": "execute_result"
    }
   ],
   "source": [
    "pas = ['Date(dd-mm-yyyy)', 'Time(hh:mm:ss)', 'Julian_Day', 'AOT_1640', \n",
    "       'AOT_1020', 'AOT_870', 'AOT_675', 'AOT_667', 'AOT_555', 'AOT_551', 'AOT_532', \n",
    "       'AOT_531', 'AOT_500', 'AOT_490', 'AOT_443', 'AOT_440', 'AOT_412', 'AOT_380', 'AOT_340', 'Water(cm)']\n",
    "df = pd.read_csv('160101_161231_SONET_Xingtai.dubovik', skiprows=3, na_values=[\"N/A\"])\n",
    "date = df[pas][4:12]\n",
    "aero = np.array(date.AOT_1640),np.array(date.AOT_1020),np.array(date.AOT_870),np.array(date.AOT_675),np.array(date.AOT_500),np.array(date.AOT_440),np.array(date.AOT_380),np.array(date.AOT_340)\n",
    "wv = [1640, 1020,870, 675, 500, 440, 380, 340]\n",
    "aero = np.array(aero).T\n",
    "date"
   ]
  },
  {
   "cell_type": "code",
   "execution_count": 238,
   "metadata": {
    "collapsed": false
   },
   "outputs": [
    {
     "data": {
      "text/plain": [
       "<matplotlib.legend.Legend at 0x7f97d2b9e750>"
      ]
     },
     "execution_count": 238,
     "metadata": {},
     "output_type": "execute_result"
    },
    {
     "data": {
      "image/png": "[encoded data removed]",
      "text/plain": [
       "<matplotlib.figure.Figure at 0x7f97d1d43a50>"
      ]
     },
     "metadata": {},
     "output_type": "display_data"
    }
   ],
   "source": [
    "aot550 = []\n",
    "#plot_config()\n",
    "fig = plt.figure(figsize=(8,4))\n",
    "ax = fig.add_subplot(111)\n",
    "for i,j in enumerate(aero):\n",
    "    ax.plot(wv, j, label = 'No. %s'%i)\n",
    "    f = interpolate.interp1d(wv,j, kind='cubic')\n",
    "    xnew = 550\n",
    "    ynew = f(xnew)\n",
    "    aot550.append(ynew)\n",
    "    plt.plot(550, ynew, 'r+')\n",
    "#pretty_axes(ax)  \n",
    "ax.set_yticks(np.linspace(0, 1.2*np.max(aero), 6))\n",
    "plt.legend(ncol=2)"
   ]
  },
  {
   "cell_type": "code",
   "execution_count": 239,
   "metadata": {
    "collapsed": false
   },
   "outputs": [
    {
     "data": {
      "text/plain": [
       "[array(0.0622156514480573),\n",
       " array(0.05838144121195505),\n",
       " array(0.05747148078799171),\n",
       " array(0.1273528599029023),\n",
       " array(0.14364615438401462),\n",
       " array(0.16419135037848737),\n",
       " array(0.1734720605027206),\n",
       " array(0.17043786085776275)]"
      ]
     },
     "execution_count": 239,
     "metadata": {},
     "output_type": "execute_result"
    }
   ],
   "source": [
    "aot550"
   ]
  },
  {
   "cell_type": "code",
   "execution_count": null,
   "metadata": {
    "collapsed": true
   },
   "outputs": [],
   "source": []
  }
 ],
 "metadata": {
  "kernelspec": {
   "display_name": "Python 2",
   "language": "python",
   "name": "python2"
  },
  "language_info": {
   "codemirror_mode": {
    "name": "ipython",
    "version": 2
   },
   "file_extension": ".py",
   "mimetype": "text/x-python",
   "name": "python",
   "nbconvert_exporter": "python",
   "pygments_lexer": "ipython2",
   "version": "2.7.12"
  }
 },
 "nbformat": 4,
 "nbformat_minor": 0
}
