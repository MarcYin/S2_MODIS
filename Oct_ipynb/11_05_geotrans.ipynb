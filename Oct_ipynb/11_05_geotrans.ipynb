{
 "cells": [
  {
   "cell_type": "code",
   "execution_count": 1,
   "metadata": {
    "collapsed": false
   },
   "outputs": [
    {
     "name": "stdout",
     "output_type": "stream",
     "text": [
      "/data/store01/data_dirs/students/ucfafyi/S2_MODIS\n"
     ]
    }
   ],
   "source": [
    "cd /data/store01/data_dirs/students/ucfafyi/S2_MODIS"
   ]
  },
  {
   "cell_type": "code",
   "execution_count": 2,
   "metadata": {
    "collapsed": true
   },
   "outputs": [],
   "source": [
    "import sys\n",
    "sys.path.insert(0,'python')\n",
    "import numpy.ma as ma\n",
    "from collections import Counter\n",
    "import cPickle as pkl\n",
    "from scipy import optimize\n",
    "from functools import partial\n",
    "import scipy.ndimage as ndimage\n",
    "import numpy as np\n",
    "import scipy\n",
    "from scipy import signal\n",
    "import scipy.stats\n",
    "from cloud import *\n",
    "from fastRWpkl import *\n",
    "import numpy \n",
    "from numpy import clip, where\n",
    "from scipy.ndimage.morphology import *\n",
    "import xml.etree.cElementTree as ET\n",
    "import multiprocessing\n",
    "from get_r import *\n",
    "from sklearn import linear_model\n",
    "from scipy import ndimage\n",
    "from Dload_Finder import *"
   ]
  },
  {
   "cell_type": "code",
   "execution_count": null,
   "metadata": {
    "collapsed": false
   },
   "outputs": [],
   "source": [
    "keys = 'B02', 'B03','B04','B08','B8A','B11','B12'\n",
    "bands = [2,3,4,8,13,11,12]\n",
    "\n",
    "def gaussian(xwin, ywin, xstd, ystd, angle, norm = True):\n",
    "    win = max(xwin, ywin)\n",
    "    winx = win*2**0.5\n",
    "    winy = win*2**0.5\n",
    "        \n",
    "    xgaus = signal.gaussian(winx, xstd)\n",
    "    ygaus = signal.gaussian(winy, ystd)\n",
    "    gaus  = np.outer(xgaus, ygaus)\n",
    "    r_gaus = scipy.ndimage.interpolation.rotate(gaus, angle, reshape=True)\n",
    "    center = np.array(r_gaus.shape)/2\n",
    "    cgaus = r_gaus[center[0]-xwin/2: center[0]+xwin/2, center[1]-ywin/2:center[1]+ywin/2]\n",
    "    if norm:\n",
    "        return cgaus/cgaus.sum()\n",
    "    else:\n",
    "        return cgaus\n",
    "\n",
    "def cost(p, sent, sinds, mod, minds, band, dia_cloud):    \n",
    "    xstd,ystd,angle, xs, ys = p\n",
    "    xwin,ywin = 120, 120\n",
    "    \n",
    "    to_regression =[]          \n",
    "    cx = sinds[0]\n",
    "    cy = sinds[1]\n",
    "    mx = minds[0]\n",
    "    my = minds[1]\n",
    "    \n",
    "    gaus = gaussian(xwin,ywin,xstd,ystd,angle,False)                              \n",
    "    ker = gaus/(gaus.sum())\n",
    "\n",
    "    s = signal.fftconvolve(sent, ker, mode='same')\n",
    "    #new centers after shifts\n",
    "    n_cx = cx+xs; n_cy = cy+ys\n",
    "    # to remove the pixels outside of the borders\n",
    "    in_x = (n_cx>xwin/2)&(n_cx<(10000-xwin/2))\n",
    "    in_y = (n_cy>ywin/2)&(n_cy<(10000-ywin/2))\n",
    "    # to remove the cloud pixel\n",
    "    c_x, c_y = np.where(dia_cloud)\n",
    "    cf_x = ~np.in1d(n_cx, c_x); cf_y = ~np.in1d(n_cy, c_y)\n",
    "    vld = in_x&in_y&cf_x&cf_y\n",
    "\n",
    "    indx,indy = np.round((n_cx)[vld]).astype(int), np.round((n_cy)[vld]).astype(int)\n",
    "    vals = s[indx,indy]\n",
    "    brdf = mod[mx[vld], my[vld]]\n",
    "    mask = (brdf>0)&(brdf<1)&(vals>0)&(vals<1)\n",
    "    if sum(mask) ==0:\n",
    "        print 'Too much cloud again to affect the convolve results'\n",
    "        return 10000\n",
    "    else:\n",
    "        dif = vals[mask] - brdf[mask]\n",
    "        inliers = (dif>(np.nanmean(dif)-3*np.nanstd(dif)))&(dif<(np.nanmean(dif)+3*np.nanstd(dif)))\n",
    "        #global vals; global mask; global brdf; global inliers\n",
    "        #x,y = ransaclin(vals[mask][inliers], brdf[mask][inliers])\n",
    "\n",
    "        m = vals[mask][inliers]#y.ravel()\n",
    "        s = brdf[mask][inliers]#x.ravel()\n",
    "\n",
    "        #global m; global s\n",
    "        #print m, s\n",
    "        r = scipy.stats.linregress(m, s)    \n",
    "        costs = abs(1-r.rvalue)\n",
    "\n",
    "        print 'band: ',band,'\\n','costs:', costs, 'rvalue: ', r.rvalue, 'slop: ', r.slope,'inter',r.intercept, '\\n', 'parameters: ', p,'\\n'\n",
    "        if (r.intercept<0) or (r.slope>1):\n",
    "            costs = costs*1000000000000000.\n",
    "        return 0\n",
    "\n",
    "def ransaclin(x,y):\n",
    "    y, x = y.reshape((len(y),1)), x.reshape((len(x),1))\n",
    "    model = linear_model.LinearRegression()\n",
    "    model.fit(x, y)\n",
    "\n",
    "    model_ransac = linear_model.RANSACRegressor(linear_model.LinearRegression(),max_trials=10000000)\n",
    "    model_ransac.fit(x, y)\n",
    "    inlier_mask = model_ransac.inlier_mask_\n",
    "    return x[inlier_mask], y[inlier_mask]\n",
    "\n",
    "def ScaleExtent(data, shape): # used for unifine different array,\n",
    "\n",
    "    re = int(shape[0]/(data.shape[0]))\n",
    "\n",
    "    a = np.repeat(np.repeat(data, re, axis = 1), re, axis =0)\n",
    "    \n",
    "    if (re*(data.shape[0])-shape[0]) != 0:\n",
    "        extended = np.zeros(shape)\n",
    "        extended[:re*(data.shape[0]),:re*(data.shape[0])] = a\n",
    "        extended[re*(data.shape[0]):,re*(data.shape[0]):] = a[re*(data.shape[0])-shape[0]:, re*(data.shape[0])-shape[0]]\n",
    "        return extended\n",
    "    else:\n",
    "        return a\n",
    "\n",
    "def get_psf(sent, sinds, mod, minds, band,dia_cloud):\n",
    "    p = np.array([30, 400, 7.91598096945, -21.5616564408, 59.7537708998])\n",
    "    psolve = optimize.fmin(cost,p,full_output=1, args=(sent,sinds, mod, minds, band,dia_cloud))\n",
    "    print 'solved b%02d: '%band, psolve\n",
    "    return [band,psolve]\n",
    "\n",
    "def op(ind,  args=None ):\n",
    "    fpath, sentm, brdfs, sinds, minds = args\n",
    "    Sent = gdal_read(bands[ind], fpath)[keys[ind]]\n",
    "    sent = ScaleExtent(Sent, (10980,10980)) \n",
    "    sent[sentm]= np.nanmean(sent[~sentm])\n",
    "    sent[np.isnan(sent)] = np.nanmean(sent[~sentm])\n",
    "    struct1 = ndimage.generate_binary_structure(2, 2)\n",
    "    dia_cloud = ndimage.binary_dilation(sentm, structure=struct1, iterations=5).astype(sentm.dtype)\n",
    "    \n",
    "    if ind<4:\n",
    "        brdfs[ind][brdfs[ind].mask] = np.nan                \n",
    "        psolve = get_psf(sent,sinds, brdfs[ind]*0.001, minds, bands[ind], dia_cloud)\n",
    "\n",
    "    else:\n",
    "        brdfs[ind-1][brdfs[ind-1].mask] = np.nan\n",
    "        psolve = get_psf(sent,sinds, brdfs[ind-1]*0.001, minds, bands[ind], dia_cloud)\n",
    "    return psolve\n",
    "        \n",
    "def optimizing(lat, lon,fpath, mfile, ret = True):\n",
    "    \n",
    "    sentm = get_cloud_mask(fpath)\n",
    "    doy = '%02d/%02d/%02d'%(int(fpath.split('/')[-3]), int(fpath.split('/')[-4]), int(fpath.split('/')[-5]))\n",
    "    pos = fpath.split('/')[-8]+fpath.split('/')[-7]+fpath.split('/')[-6]\n",
    "    if sentm.sum()/(10980.*10980.) <0.15:\n",
    "        print 'DOY: ', doy,'\\n', 'Location: ', pos, \n",
    "        print 'Cloud proportion: ', sentm.sum()/(10980.*10980.)\n",
    "        minds, sinds = get_coords(lat,lon) \n",
    "\n",
    "        modis_filenames = gdal.Open(mfile[0]).GetSubDatasets()\n",
    "        modisQA = gdal.Open(mfile[1]).GetSubDatasets()\n",
    "\n",
    "        brdfs = get_rs(modisQA, modis_filenames, fpath)\n",
    "        args = fpath, sentm, brdfs, sinds, minds\n",
    "        par = partial(op, args=args)\n",
    "        pool = multiprocessing.Pool(processes = 7)\n",
    "        retval = pool.map(par, range(7))\n",
    "        pool.close()\n",
    "        pool.join()\n",
    "        #print doy, lat, lon, retval\n",
    "        parallel_rw_pkl(retval, '%s%spsfs'%(pos, doy), 'w')\n",
    "        \n",
    "        if ret:\n",
    "            parallel_rw_pkl([m,s], '%s%s%to_regs'%(pos, doy), 'w')\n",
    "        \n",
    "    else:\n",
    "        print 'Too much cloud, and this tile (doy: %s, lat: %s, lon: %s) is considered as invalid.'%(doy, lat, lon)\n",
    "    return retval\n",
    "        "
   ]
  },
  {
   "cell_type": "code",
   "execution_count": null,
   "metadata": {
    "collapsed": false,
    "scrolled": true
   },
   "outputs": [
    {
     "name": "stdout",
     "output_type": "stream",
     "text": [
      "\n",
      "Here is the cloud probability calculation!\n",
      "\n",
      "/data/store01/data_dirs/students/ucfafyi/S2_MODIS/s_data/31/T/FJ/2016/2/5/0/ (2, 3, 4, 8, 11, 12, 13)\n"
     ]
    }
   ],
   "source": [
    "lat, lon = 43.56,4.86\n",
    "sfiles, mfiles = get_closet(43.56,4.86, 2016, False)\n",
    "sfile, mfile = sfiles[4], mfiles[4]\n",
    "a = optimizing(lat, lon, sfile, mfile)"
   ]
  },
  {
   "cell_type": "code",
   "execution_count": null,
   "metadata": {
    "collapsed": true
   },
   "outputs": [],
   "source": [
    "a"
   ]
  },
  {
   "cell_type": "code",
   "execution_count": null,
   "metadata": {
    "collapsed": true
   },
   "outputs": [],
   "source": []
  }
 ],
 "metadata": {
  "kernelspec": {
   "display_name": "Python 2",
   "language": "python",
   "name": "python2"
  },
  "language_info": {
   "codemirror_mode": {
    "name": "ipython",
    "version": 2
   },
   "file_extension": ".py",
   "mimetype": "text/x-python",
   "name": "python",
   "nbconvert_exporter": "python",
   "pygments_lexer": "ipython2",
   "version": "2.7.12"
  }
 },
 "nbformat": 4,
 "nbformat_minor": 0
}
