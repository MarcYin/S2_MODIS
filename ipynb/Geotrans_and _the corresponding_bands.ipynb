{
 "cells": [
  {
   "cell_type": "code",
   "execution_count": null,
   "metadata": {
    "collapsed": false
   },
   "outputs": [],
   "source": [
    "import sys\n",
    "sys.path.insert(0,'python')\n",
    "from get_modis import *"
   ]
  },
  {
   "cell_type": "code",
   "execution_count": null,
   "metadata": {
    "collapsed": true
   },
   "outputs": [],
   "source": [
    "fhead = 'data/50SMG20164100'\n",
    "import glob\n",
    "import datetime\n",
    "import calendar\n",
    "fh = fhead.split('20')[0]\n",
    "files = glob.glob('%s*B01.jp2'%fh)\n",
    "dates = []\n",
    "ds = []\n",
    "de = []\n",
    "sys = []\n",
    "eys = []\n",
    "for i in files:\n",
    "    date = datetime.datetime.strptime((i.split('%s'%fh)[1]).split('0B01.jp2')[0], \"%Y%m%d\")\n",
    "    dates.append(date)\n",
    "    doy = date.timetuple().tm_yday\n",
    "    if doy - 8 <0:\n",
    "        sys.append(date.year-1)\n",
    "        days = (datetime.date(date.year,1,1)-datetime.date(date.year-1,1,1)).days\n",
    "        ds.append(doy-8+days)\n",
    "    else:\n",
    "        sys.append(date.year)\n",
    "        ds.append(doy-8)\n",
    "\n",
    "    if doy + 8 > 366:\n",
    "        eys.append(date.year+1)\n",
    "        days = (datetime.date(date.year+1,1,1)-datetime.date(date.year,1,1)).days\n",
    "        ds.append(doy+8-days)\n",
    "    else:\n",
    "        eys.append(date.year)\n",
    "        de.append(doy+8)"
   ]
  },
  {
   "cell_type": "code",
   "execution_count": 25,
   "metadata": {
    "collapsed": true
   },
   "outputs": [],
   "source": [
    "days = (datetime.date(2016+1,1,1)-datetime.date(2016,1,1)).days"
   ]
  },
  {
   "cell_type": "code",
   "execution_count": null,
   "metadata": {
    "collapsed": true
   },
   "outputs": [],
   "source": [
    "fhead = 'data/50SMG20164100'\n",
    "fh = fhead.split('20')[0]\n",
    "files = glob.glob('%s*B01.jp2'%fh)\n",
    "dates = []\n",
    "ds = []\n",
    "de = []\n",
    "sys = []\n",
    "eys = []\n",
    "for j,i in enumerate(files):\n",
    "    \n",
    "    date = datetime.datetime.strptime((i.split('%s'%fh)[1]).split('0B01.jp2')[0], \"%Y%m%d\")\n",
    "    if j > 0:\n",
    "        if (date - dates[-1]).days > 30:\n",
    "            \n",
    "            m = ((i.split('%s'%fh)[1]).split('0B01.jp2')[0])[4]\n",
    "            d = ((i.split('%s'%fh)[1]).split('0B01.jp2')[0])[5:]\n",
    "            date = datetime.datetime(date.year,int(m),int(d))\n",
    "            dates.append(date)\n",
    "        \n",
    "        elif (date - dates[-1]).days < 0:\n",
    "            for k in xrange(j):\n",
    "                m = (files[k].split('%s'%fh)[1]).split('0B01.jp2')[0][4]\n",
    "                d = (files[k].split('%s'%fh)[1]).split('0B01.jp2')[0][5:]\n",
    "                dates[k] = datetime.datetime(date.year,int(m),int(d))\n",
    "           \n",
    "            \n",
    "        else:\n",
    "            dates.append(date)\n",
    "    else:\n",
    "        dates.append(date)\n",
    "    doy = date.timetuple().tm_yday\n",
    "    if doy - 8 <= 0:\n",
    "        \n",
    "        sys.append(date.year-1)\n",
    "        days = (datetime.date(date.year,1,1)-datetime.date(date.year-1,1,1)).days\n",
    "        ds.append(doy-8+days)\n",
    "        \n",
    "    else:\n",
    "        sys.append(date.year)\n",
    "        ds.append(doy-8)\n",
    "\n",
    "    if doy + 8 > 366:\n",
    "        eys.append(date.year+1)\n",
    "        days = (datetime.date(date.year+1,1,1)-datetime.date(date.year,1,1)).days\n",
    "        de.append(doy+8-days)\n",
    "    else:\n",
    "        eys.append(date.year)\n",
    "        de.append(doy+8)\n",
    "\n",
    "\n",
    "for i in range(len(sys)-1):\n",
    "\n",
    "    if sys[i] == eys[i]:\n",
    "        get_modisfiles( 'MOTA', 'MCD43A1.005', sys[i], 'h27v05', None, \n",
    "                       doy_start=ds[i], doy_end=de[i], out_dir='m_data/' )\n",
    "        get_modisfiles( 'MOTA', 'MCD43A2.005', sys[i], 'h27v05', None, \n",
    "                       doy_start=ds[i], doy_end=de[i], out_dir='m_data/' )\n",
    "        get_modisfiles( 'MOTA', 'MCD43A3.005', sys[i], 'h27v05', None, \n",
    "                       doy_start=ds[i], doy_end=de[i], out_dir='m_data/' )\n",
    "    else :\n",
    "        days = (datetime.date(sys[i]+1,1,1)-datetime.date(sys[i],1,1)).days\n",
    "        \n",
    "        get_modisfiles( 'MOTA', 'MCD43A1.005',\n",
    "                       sys[i], 'h27v05', None, doy_start=ds[i],\n",
    "                       doy_end=days, out_dir='m_data/' )\n",
    "        get_modisfiles( 'MOTA', 'MCD43A1.005',\n",
    "                       eys[i], 'h27v05', None, doy_start=1,\n",
    "                       doy_end=de[i], out_dir='m_data/')\n",
    "        \n",
    "        get_modisfiles( 'MOTA', 'MCD43A2.005',\n",
    "                       sys[i], 'h27v05', None, doy_start=ds[i],\n",
    "                       doy_end=days, out_dir='m_data/' )\n",
    "        get_modisfiles( 'MOTA', 'MCD43A2.005',\n",
    "                       eys[i], 'h27v05', None, doy_start=1,\n",
    "                       doy_end=de[i], out_dir='m_data/')\n",
    "        \n",
    "        get_modisfiles( 'MOTA', 'MCD43A3.005',\n",
    "                       sys[i], 'h27v05', None, doy_start=ds[i],\n",
    "                       doy_end=days, out_dir='m_data/' )\n",
    "\n",
    "        get_modisfiles( 'MOTA', 'MCD43A3.005',\n",
    "                       eys[i], 'h27v05', None, doy_start=1,\n",
    "                       doy_end=de[i], out_dir='m_data/')"
   ]
  },
  {
   "cell_type": "code",
   "execution_count": 1,
   "metadata": {
    "collapsed": false
   },
   "outputs": [],
   "source": [
    "import numpy as np\n",
    "from osgeo import ogr\n",
    "from osgeo import osr\n",
    "import mgrs\n",
    "from scipy.interpolate import griddata\n",
    "\n",
    "wgs84 = osr.SpatialReference( ) # Define a SpatialReference object\n",
    "wgs84.ImportFromEPSG( 4326 ) # And set it to WGS84 using the EPSG code\n",
    "modis_sinu = osr.SpatialReference() # define the SpatialReference object\n",
    "# In this case, we get the projection from a Proj4 string\n",
    "modis_sinu.ImportFromProj4 ( \\\n",
    "                \"+proj=sinu +R=6371007.181 +nadgrids=@null +wktext\")\n",
    "tx = osr.CoordinateTransformation( wgs84, modis_sinu )\n",
    "\n",
    "modis_x0, modis_y, modis_z = tx.TransformPoint (180, 0)\n",
    "modis_x1, modis_y, modis_z = tx.TransformPoint (-180, 0)\n",
    "modis_x, modis_y0, modis_z = tx.TransformPoint (0, 90)\n",
    "modis_x, modis_y1, modis_z = tx.TransformPoint (0, -90)\n",
    "\n",
    "#horizontal tilewidth\n",
    "htw = (modis_x0 - modis_x1)/36.\n",
    "#cell size\n",
    "hcs = htw/2400.\n",
    "# vertical tilewidth\n",
    "vtw = (modis_y0 - modis_y1)/18.\n",
    "#vertical cell size \n",
    "vcs = vtw/2400.\n",
    "\n",
    "def m_pc(cd):\n",
    "    '''\n",
    "    Single point transformation\n",
    "    '''\n",
    "    lat = cd[1]\n",
    "    lon = cd[0]\n",
    "    \n",
    "    m_x, m_y, m_z = tx.TransformPoint (lon, lat)\n",
    "    h = int((m_x - modis_x1)/htw) # start from 0 so int would be enough\n",
    "    v = int((modis_y0 - m_y)/vtw) \n",
    "    \n",
    "    \n",
    "    p_x = np.ceil((m_x - modis_x1)/hcs) - (h)*2400 # start from 0 so h not h-1 \n",
    "    p_y = np.ceil((modis_y0 - m_y)/vcs) - (v)*2400 # but the pixel start from 1 so use ceil value\n",
    "\n",
    "    return (h,v,p_x,p_y)\n",
    "\n",
    "def s_pc(fhead):\n",
    "    #fhead = 'data/50SMG20164100'\n",
    "    # generate a list of the forth and fifth letter\n",
    "    a = map(chr, range(65, 91))\n",
    "    a.remove('I')\n",
    "    a.remove('O')\n",
    "    \n",
    "    #get the corner coordinates for each tile\n",
    "    # the mgrs gives the lower left coordinate\n",
    "\n",
    "    t = fhead.split('201')[0][-5:]\n",
    "    m1 = t\n",
    "    m2 = t.replace(t[-1], a[a.index(t[-1])+1])\n",
    "    m3 = t.replace(t[-2], a[a.index(t[-2])+1])\n",
    "    m4 = t.replace(t[-2], a[a.index(t[-2])+1]).replace(t[-1], a[a.index(t[-1])+1])\n",
    "    \n",
    "    m = mgrs.MGRS()\n",
    "    b_l = list(m.toLatLon(m1))\n",
    "    u_l = list(m.toLatLon(m2))\n",
    "    b_r = list(m.toLatLon(m3))\n",
    "    u_r = list(m.toLatLon(m4))\n",
    "    \n",
    "    '''\n",
    "    m_bl = m_pc(b_l)\n",
    "    m_ul = m_pc(u_l)\n",
    "    m_br = m_pc(b_r)\n",
    "    m_ur = m_pc(u_r)\n",
    "    '''\n",
    "    \n",
    "    return [u_l, u_r, b_l, b_r]\n",
    "\n",
    "    '''\n",
    "    c = s_pc('data/50SMG20164100')\n",
    "\n",
    "    x = [0, 0, 10980, 10980]\n",
    "    y = [0,10980, 10980, 0]\n",
    "    ps = np.array([x,y]).reshape(4,2)\n",
    "    lats= np.array([lat for lat, lon in c])\n",
    "    lons = np.array([lon for lat, lon in c])\n",
    "\n",
    "    grid_x, grid_y = np.mgrid[0:10980, 0:10980]\n",
    "    p_lat = griddata(ps, lats, (grid_x, grid_y), method='cubic')\n",
    "    p_lon = griddata(ps, lons, (grid_x, grid_y), method='cubic')\n",
    "    f_lat = p_lat.ravel()\n",
    "    f_lon = p_lon.ravel()\n",
    "    cds = zip(f_lat,f_lon)\n",
    "    mc = tx.TransformPoints(cds)\n",
    "    '''\n"
   ]
  },
  {
   "cell_type": "code",
   "execution_count": 15,
   "metadata": {
    "collapsed": false
   },
   "outputs": [
    {
     "data": {
      "text/plain": [
       "array([[  37.94208532,  115.86192607],\n",
       "       [  37.94758957,  117.        ],\n",
       "       [  37.04089354,  115.87551977],\n",
       "       [  37.04622248,  117.        ]])"
      ]
     },
     "execution_count": 15,
     "metadata": {},
     "output_type": "execute_result"
    }
   ],
   "source": [
    "c = np.array(s_pc('data/50SMG20164100'))\n",
    "c"
   ]
  },
  {
   "cell_type": "code",
   "execution_count": 17,
   "metadata": {
    "collapsed": false
   },
   "outputs": [
    {
     "data": {
      "text/plain": [
       "array([[    0,     0],\n",
       "       [    0, 10980],\n",
       "       [10980,     0],\n",
       "       [10980, 10980]])"
      ]
     },
     "execution_count": 17,
     "metadata": {},
     "output_type": "execute_result"
    }
   ],
   "source": [
    "x = [0, 0, 10980, 10980]\n",
    "y = [0,10980, 0, 10980]\n",
    "ps = np.array([x,y]).T\n",
    "ps"
   ]
  },
  {
   "cell_type": "code",
   "execution_count": 19,
   "metadata": {
    "collapsed": false
   },
   "outputs": [
    {
     "data": {
      "text/plain": [
       "(2, 10980, 10980)"
      ]
     },
     "execution_count": 19,
     "metadata": {},
     "output_type": "execute_result"
    }
   ],
   "source": [
    "np.mgrid[0:10980, 0:10980].shape"
   ]
  },
  {
   "cell_type": "code",
   "execution_count": null,
   "metadata": {
    "collapsed": false
   },
   "outputs": [],
   "source": [
    "import multiprocessing\n",
    "from functools import partial\n",
    "import numpy as np\n",
    "c = np.array(s_pc('data/50SMG20164100'))\n",
    "x = [0, 0, 10980, 10980]\n",
    "y = [0,10980, 0, 10980]\n",
    "ps = np.array([x,y]).T\n",
    "\n",
    "lats = c[:,0]\n",
    "lons = c[:,1]\n",
    "\n",
    "def trans(ps, (grid_x, grid_y), coor = None):\n",
    "    print ps\n",
    "    coord = coor\n",
    "    return griddata(ps, coord, (grid_x, grid_y), method='linear')\n",
    "\n",
    "grid_x, grid_y = np.mgrid[0:10980, 0:10980]\n",
    "\n",
    "par = partial(trans,ps, (grid_x, grid_y))\n",
    "\n",
    "pool = multiprocessing.Pool(processes=2)\n",
    "p_coords = pool.map(par,[c[:,0], c[:,1]],1)\n",
    "pool.close()\n",
    "pool.join()\n",
    "\n",
    "\n",
    "#p_lat = griddata(ps, lats, (grid_x, grid_y), method='cubic')\n",
    "#p_lon = griddata(ps, lons, (grid_x, grid_y), method='cubic')\n",
    "\n",
    "f_lat = p_coords[0].ravel()\n",
    "f_lon = p_coords[1].ravel()\n",
    "cds = zip(f_lon,f_lat)\n",
    "\n",
    "mc = tx.TransformPoints(cds)\n",
    "\n",
    "m_x = np.array([i[0] for i in mc])\n",
    "m_y = np.array([i[1] for i in mc])\n",
    "\n",
    "h = ((m_x - modis_x1)/htw).astype(int) \n",
    "v = ((modis_y0 - m_y)/vtw).astype(int)\n",
    "\n",
    "p_x = np.ceil((m_x - modis_x1)/hcs) - (h)*2400 # start from 0 so h not h-1 \n",
    "p_y = np.ceil((modis_y0 - m_y)/vcs) - (v)*2400\n"
   ]
  },
  {
   "cell_type": "code",
   "execution_count": 15,
   "metadata": {
    "collapsed": false
   },
   "outputs": [],
   "source": [
    "import multiprocessing\n",
    "from functools import partial\n",
    "import numpy as np\n",
    "import numpy as np\n",
    "from osgeo import ogr\n",
    "from osgeo import osr\n",
    "import mgrs\n",
    "from scipy.interpolate import griddata\n",
    "import cPickle as pkl\n",
    "\n",
    "def s_pc(fhead):\n",
    "    #fhead = 'data/50SMG20164100'\n",
    "    # generate a list of the forth and fifth letter\n",
    "    a = map(chr, range(65, 91))\n",
    "    a.remove('I')\n",
    "    a.remove('O')\n",
    "    \n",
    "    #get the corner coordinates for each tile\n",
    "    # the mgrs gives the lower left coordinate\n",
    "\n",
    "    t = fhead.split('201')[0][-5:]\n",
    "    m1 = t\n",
    "    m2 = t.replace(t[-1], a[a.index(t[-1])+1])\n",
    "    m3 = t.replace(t[-2], a[a.index(t[-2])+1])\n",
    "    m4 = t.replace(t[-2], a[a.index(t[-2])+1]).replace(t[-1], a[a.index(t[-1])+1])\n",
    "    \n",
    "    m = mgrs.MGRS()\n",
    "    \n",
    "    b_l = list(m.toLatLon(m1))\n",
    "    u_l = list(m.toLatLon(m2))\n",
    "    b_r = list(m.toLatLon(m3))\n",
    "    u_r = list(m.toLatLon(m4))\n",
    "    \n",
    "    return [u_l, u_r, b_l, b_r]\n",
    "\n",
    "\n",
    "\n",
    "def trans(ps, (grid_x, grid_y), coor = None):\n",
    "    print ps\n",
    "    coord = coor\n",
    "    return griddata(ps, coord, (grid_x, grid_y), method='linear')\n",
    "\n",
    "def coordarray(fhead):\n",
    " \n",
    "    c = np.array(s_pc(fhead))\n",
    "    x = [0, 0, 10980, 10980]\n",
    "    y = [0,10980, 0, 10980]\n",
    "    ps = np.array([x,y]).T\n",
    "\n",
    "    lats = c[:,0]\n",
    "    lons = c[:,1]\n",
    "    grid_x, grid_y = np.mgrid[0:10980, 0:10980]\n",
    "    \n",
    "    p_lat = griddata(ps, lats, (grid_x, grid_y), method='linear')\n",
    "    p_lon = griddata(ps, lons, (grid_x, grid_y), method='linear')\n",
    "    #par = partial(trans,ps, (grid_x, grid_y))\n",
    "\n",
    "    #pool = multiprocessing.Pool(processes=2)\n",
    "    #p_coords = pool.map(par,[c[:,0], c[:,1]],1)\n",
    "    #pool.close()\n",
    "    #pool.join()\n",
    "    \n",
    "    f_lat = p_lat.ravel()\n",
    "    f_lon = p_lon.ravel()\n",
    "    \n",
    "    cds = zip(f_lon,f_lat)\n",
    "    mc = tx.TransformPoints(cds)\n",
    "\n",
    "    m_x = np.array([i[0] for i in mc])\n",
    "    m_y = np.array([i[1] for i in mc])\n",
    "    \n",
    "    return (m_x, m_y, modis_x1, modis_y0)\n",
    "\n",
    "def cal_coords(fhead):\n",
    "    \n",
    "    tx, htw, hcs, vtw, vcs, modis_x1, modis_y0 = geo_transform()\n",
    "    \n",
    "    m_x, m_y = coordarray(fhead)\n",
    "    \n",
    "    h = ((m_x - modis_x1)/htw).astype(int) \n",
    "    v = ((modis_y0 - m_y)/vtw).astype(int)\n",
    "\n",
    "    p_x = np.ceil((m_x - modis_x1)/hcs) - (h)*2400 # start from 0 so h not h-1 \n",
    "    p_y = np.ceil((modis_y0 - m_y)/vcs) - (v)*2400\n",
    "    \n",
    "    return np.array([p_x, p_y])\n",
    "\n",
    "def geo_transform():\n",
    "    # specified for the MODIS and Sentinel 2 geo_transform\n",
    "    \n",
    "    wgs84 = osr.SpatialReference( ) # Define a SpatialReference object\n",
    "    wgs84.ImportFromEPSG( 4326 ) # And set it to WGS84 using the EPSG code\n",
    "    modis_sinu = osr.SpatialReference() # define the SpatialReference object\n",
    "    # In this case, we get the projection from a Proj4 string\n",
    "    modis_sinu.ImportFromProj4 ( \\\n",
    "                \"+proj=sinu +R=6371007.181 +nadgrids=@null +wktext\")\n",
    "    tx = osr.CoordinateTransformation( wgs84, modis_sinu )\n",
    "\n",
    "    modis_x0, modis_y, modis_z = tx.TransformPoint (180, 0)\n",
    "    modis_x1, modis_y, modis_z = tx.TransformPoint (-180, 0)\n",
    "    modis_x, modis_y0, modis_z = tx.TransformPoint (0, 90)\n",
    "    modis_x, modis_y1, modis_z = tx.TransformPoint (0, -90)\n",
    "\n",
    "    #horizontal tilewidth\n",
    "    htw = (modis_x0 - modis_x1)/36.\n",
    "    #cell size\n",
    "    hcs = htw/2400.\n",
    "    # vertical tilewidth\n",
    "    vtw = (modis_y0 - modis_y1)/18.\n",
    "    #vertical cell size \n",
    "    vcs = vtw/2400.\n",
    "    \n",
    "    return (tx, htw, hcs, vtw, vcs, modis_x1, modis_y0)\n",
    "\n",
    "coords = cal_coords('50SMG20164100')\n",
    "pkl.dump(coords, open('pkls/50SMGcoords.pkl', 'wb'))"
   ]
  },
  {
   "cell_type": "code",
   "execution_count": 16,
   "metadata": {
    "collapsed": false
   },
   "outputs": [],
   "source": []
  },
  {
   "cell_type": "code",
   "execution_count": 89,
   "metadata": {
    "collapsed": false
   },
   "outputs": [
    {
     "data": {
      "text/plain": [
       "array([[    0,     0],\n",
       "       [    0, 10980],\n",
       "       [10980,     0],\n",
       "       [10980, 10980]])"
      ]
     },
     "execution_count": 89,
     "metadata": {},
     "output_type": "execute_result"
    }
   ],
   "source": [
    "x = [0, 0, 10980, 10980]\n",
    "y = [0,10980, 0, 10980]\n",
    "ps = np.array([x,y]).T\n",
    "ps"
   ]
  },
  {
   "cell_type": "code",
   "execution_count": 83,
   "metadata": {
    "collapsed": false
   },
   "outputs": [],
   "source": [
    "c = s_pc('data/50SMG20164100')"
   ]
  },
  {
   "cell_type": "code",
   "execution_count": 80,
   "metadata": {
    "collapsed": false
   },
   "outputs": [],
   "source": [
    "c = [i[::-1] for i in c]"
   ]
  },
  {
   "cell_type": "code",
   "execution_count": 81,
   "metadata": {
    "collapsed": false
   },
   "outputs": [
    {
     "data": {
      "text/plain": [
       "[(115.86192606806833, 37.942085319765845),\n",
       " (117.0, 37.94758957178304),\n",
       " (115.87551977006001, 37.040893542510126),\n",
       " (117.0, 37.04622247590853)]"
      ]
     },
     "execution_count": 81,
     "metadata": {},
     "output_type": "execute_result"
    }
   ],
   "source": [
    "c"
   ]
  },
  {
   "cell_type": "code",
   "execution_count": 82,
   "metadata": {
    "collapsed": false
   },
   "outputs": [
    {
     "name": "stdout",
     "output_type": "stream",
     "text": [
      "(27, 5, 330.0, 494.0)\n",
      "(27, 5, 544.0, 493.0)\n",
      "(27, 5, 599.0, 711.0)\n",
      "(27, 5, 813.0, 709.0)\n"
     ]
    }
   ],
   "source": [
    "for i in c:\n",
    "    print m_pc(i)"
   ]
  },
  {
   "cell_type": "code",
   "execution_count": 2,
   "metadata": {
    "collapsed": false
   },
   "outputs": [],
   "source": [
    "import numpy as np\n",
    "x = [0, 0, 10980, 10980]\n",
    "y = [0,10980, 10980, 0]\n",
    "ps = np.array([x,y]).reshape(4,2)"
   ]
  },
  {
   "cell_type": "code",
   "execution_count": 3,
   "metadata": {
    "collapsed": false
   },
   "outputs": [
    {
     "data": {
      "text/plain": [
       "array([[    0,     0],\n",
       "       [10980, 10980],\n",
       "       [    0, 10980],\n",
       "       [10980,     0]])"
      ]
     },
     "execution_count": 3,
     "metadata": {},
     "output_type": "execute_result"
    }
   ],
   "source": [
    "ps"
   ]
  },
  {
   "cell_type": "code",
   "execution_count": null,
   "metadata": {
    "collapsed": false
   },
   "outputs": [],
   "source": [
    "x = [0, 0, 10980, 10980]\n",
    "y = [0,10980, 10980, 0]\n",
    "ps = np.array([x,y]).reshape(4,2)\n",
    "lats= np.array([lat for lat, lon in c])\n",
    "lons = np.array([lon for lat, lon in c])\n",
    "\n",
    "grid_x, grid_y = np.mgrid[0:10980, 0:10980]\n",
    "p_lat = griddata(ps, lats, (grid_x, grid_y), method='cubic')\n",
    "p_lon = griddata(ps, lons, (grid_x, grid_y), method='cubic')\n",
    "f_lat = p_lat.ravel()\n",
    "f_lon = p_lon.ravel()\n",
    "cds = zip(f_lon,f_lat)\n",
    "mc = tx.TransformPoints(cds)\n",
    "\n",
    "del cds\n",
    "\n",
    "'''\n",
    "m_x = np.array([i[0] for i in mc])\n",
    "m_y = np.array([i[1] for i in mc])\n",
    "'''\n",
    "\n",
    "h = ((m_x - modis_x1)/htw).astype(int) \n",
    "v = ((modis_y0 - m_y)/vtw).astype(int)\n",
    "\n",
    "p_x = np.ceil((m_x - modis_x1)/hcs) - (h)*2400 # start from 0 so h not h-1 \n",
    "p_y = np.ceil((modis_y0 - m_y)/vcs) - (v)*2400 # but the pixel start from 1 so use ceil value"
   ]
  },
  {
   "cell_type": "code",
   "execution_count": 53,
   "metadata": {
    "collapsed": false
   },
   "outputs": [
    {
     "data": {
      "text/plain": [
       "[(12727048.871434653, 679525.3163995972, 0.0),\n",
       " (inf, inf, 0.0),\n",
       " (10470713.807612179, 3904181.8249580157, 0.0)]"
      ]
     },
     "execution_count": 53,
     "metadata": {},
     "output_type": "execute_result"
    }
   ],
   "source": [
    "tx.TransformPoints(((115.11111111,6.1111111),(34.111111111,115.11111111),(115.111111111111111,35.11111111111111)))"
   ]
  },
  {
   "cell_type": "code",
   "execution_count": 13,
   "metadata": {
    "collapsed": false
   },
   "outputs": [],
   "source": [
    "mb=\"\"\"459–479\n",
    "545–565\n",
    "620–670\n",
    "841–876\n",
    "1230–1250\n",
    "1628–1652\n",
    "2105–2155\"\"\"\n",
    "mb = [i.split('\\xe2\\x80\\x93') for i in mb.split('\\n')]"
   ]
  },
  {
   "cell_type": "code",
   "execution_count": 14,
   "metadata": {
    "collapsed": false
   },
   "outputs": [],
   "source": [
    "mb = [(float(i),float(j)) for i,j in mb]\n",
    "mb = [(i,j-i) for i,j in mb]"
   ]
  },
  {
   "cell_type": "code",
   "execution_count": 26,
   "metadata": {
    "collapsed": true
   },
   "outputs": [],
   "source": [
    "sb = \"\"\"443\t20\n",
    "490\t65\n",
    "560\t35\n",
    "665\t30\n",
    "705\t15\n",
    "740\t15\n",
    "783\t20\n",
    "842\t115\n",
    "865\t20\n",
    "945\t20\n",
    "1380\t30\n",
    "1610\t90\n",
    "2190\t180\"\"\"\n",
    "sb= [i.split('\\t') for i in sb.split('\\n')]"
   ]
  },
  {
   "cell_type": "code",
   "execution_count": 23,
   "metadata": {
    "collapsed": false
   },
   "outputs": [],
   "source": [
    "sb = [(float(i)-float(j)/2,float(j)) for i,j in sb]"
   ]
  },
  {
   "cell_type": "code",
   "execution_count": 27,
   "metadata": {
    "collapsed": false
   },
   "outputs": [
    {
     "data": {
      "text/plain": [
       "(array([  457.5,   542.5,   650. ,   784.5,   855. ,  1565. ,  2100. ]),\n",
       " array([  522.5,   577.5,   680. ,   899.5,   875. ,  1655. ,  2280. ]))"
      ]
     },
     "execution_count": 27,
     "metadata": {},
     "output_type": "execute_result"
    }
   ],
   "source": [
    "sb = [[float(i)-float(j)/2,float(i)+float(j)/2] for i,j in sb]\n",
    "import numpy as np\n",
    "sb = np.array(sb).T\n",
    "sb[0][np.array([1,2,3,7,8,11,12])], sb[1][np.array([1,2,3,7,8,11,12])]"
   ]
  },
  {
   "cell_type": "code",
   "execution_count": 28,
   "metadata": {
    "collapsed": false
   },
   "outputs": [
    {
     "data": {
      "text/plain": [
       "array([[  433. ,   457.5,   542.5,   650. ,   697.5,   732.5,   773. ,\n",
       "          784.5,   855. ,   935. ,  1365. ,  1565. ,  2100. ],\n",
       "       [  453. ,   522.5,   577.5,   680. ,   712.5,   747.5,   793. ,\n",
       "          899.5,   875. ,   955. ,  1395. ,  1655. ,  2280. ]])"
      ]
     },
     "execution_count": 28,
     "metadata": {},
     "output_type": "execute_result"
    }
   ],
   "source": [
    "sb"
   ]
  },
  {
   "cell_type": "code",
   "execution_count": 21,
   "metadata": {
    "collapsed": false
   },
   "outputs": [],
   "source": [
    "cmap = matplotlib.cm.get_cmap('rainbow')"
   ]
  },
  {
   "cell_type": "code",
   "execution_count": 34,
   "metadata": {
    "collapsed": false
   },
   "outputs": [
    {
     "data": {
      "image/png": "[encoded data removed]",
      "text/plain": [
       "<matplotlib.figure.Figure at 0x7f8298241350>"
      ]
     },
     "metadata": {},
     "output_type": "display_data"
    }
   ],
   "source": [
    "import matplotlib.pyplot as plt\n",
    "import matplotlib\n",
    "%matplotlib inline\n",
    "\n",
    "fig,ax = plt.subplots(figsize=(18,8))\n",
    "#ax.broken_barh(cb, (9.75, 0.25), facecolors=cs)\n",
    "ax.broken_barh(sb[:6], (1, 3), facecolors=('indigo', 'skyblue','springgreen','red',\n",
    "                                       'orangered','salmon','crimson','indianred','firebrick',\n",
    "                                       'firebrick','firebrick','darkred','maroon'),linewidth = 0)\n",
    "ax.broken_barh(sb[6:7], (1, 1), facecolors='crimson', linewidth = 0)\n",
    "ax.broken_barh(sb[7:8], (2, 1), facecolors='indianred', cmap = cmap,  linewidth = 0)\n",
    "ax.broken_barh(sb[8:9], (3, 1), facecolors='firebrick', linewidth = 0)\n",
    "ax.broken_barh(sb[9:], (1, 3), facecolors=('firebrick','firebrick','darkred','maroon'), linewidth = 0)\n",
    "\n",
    "ax.broken_barh(mb, (4.5, 3),facecolors=('deepskyblue','springgreen','red','indianred', \n",
    "                                        'firebrick','darkred','maroon'), linewidth = 0)\n",
    "ax.set_ylim(0, 8)\n",
    "ax.set_xlim(400, 2300)\n",
    "ax.set_xlabel('wavelength(nm)')\n",
    "ax.set_yticks([2.5, 5.5])\n",
    "ax.set_yticklabels(['SENTINEL 2', 'MODIS'],rotation = 'vertical')\n",
    "ax.grid(False)\n",
    "\n",
    "#cbaxes = fig.add_axes([1,-1,0,0.01]) \n",
    "#s = plt.colorbar(ax, cax = cbaxes)"
   ]
  },
  {
   "cell_type": "code",
   "execution_count": 31,
   "metadata": {
    "collapsed": false
   },
   "outputs": [],
   "source": [
    "ax.set_yticklabels?"
   ]
  },
  {
   "cell_type": "markdown",
   "metadata": {},
   "source": [
    "From this img we can see that the corresponding bands are 2,3,4,8,8a,11,12 for sentinel2 and 1,2,3,4,6,7 for MODIS and sentinel 8 and 8a corresponding to the same band 5 of MODIS."
   ]
  },
  {
   "cell_type": "code",
   "execution_count": 111,
   "metadata": {
    "collapsed": false
   },
   "outputs": [],
   "source": [
    "import pylab as plt\n",
    "%matplotlib inline\n",
    "#plt.plot(np.unique(px))"
   ]
  },
  {
   "cell_type": "code",
   "execution_count": 355,
   "metadata": {
    "collapsed": false
   },
   "outputs": [
    {
     "data": {
      "text/plain": [
       "<matplotlib.image.AxesImage at 0x7fcd28a87250>"
      ]
     },
     "execution_count": 355,
     "metadata": {},
     "output_type": "execute_result"
    }
   ],
   "source": [
    "import pylab as plt\n",
    "plt.figure(figsize=(15,15))\n",
    "plt.imshow(p_lat, interpolation = 'none')"
   ]
  },
  {
   "cell_type": "code",
   "execution_count": 228,
   "metadata": {
    "collapsed": false
   },
   "outputs": [
    {
     "data": {
      "text/plain": [
       "(37.942085319765845, 115.86192606806833)"
      ]
     },
     "execution_count": 228,
     "metadata": {},
     "output_type": "execute_result"
    }
   ],
   "source": [
    "m.toLatLon('50SMH')"
   ]
  },
  {
   "cell_type": "code",
   "execution_count": 224,
   "metadata": {
    "collapsed": false
   },
   "outputs": [
    {
     "data": {
      "text/plain": [
       "(37.040893542510126, 115.87551977006001)"
      ]
     },
     "execution_count": 224,
     "metadata": {},
     "output_type": "execute_result"
    }
   ],
   "source": [
    "m.toLatLon('50SMG')"
   ]
  },
  {
   "cell_type": "code",
   "execution_count": 225,
   "metadata": {
    "collapsed": false
   },
   "outputs": [
    {
     "data": {
      "text/plain": [
       "(37.04622247590853, 117.0)"
      ]
     },
     "execution_count": 225,
     "metadata": {},
     "output_type": "execute_result"
    }
   ],
   "source": [
    "m.toLatLon('50SNG')"
   ]
  },
  {
   "cell_type": "code",
   "execution_count": 227,
   "metadata": {
    "collapsed": false
   },
   "outputs": [
    {
     "data": {
      "text/plain": [
       "(37.94758957178304, 117.0)"
      ]
     },
     "execution_count": 227,
     "metadata": {},
     "output_type": "execute_result"
    }
   ],
   "source": [
    "m.toLatLon('50SNH')"
   ]
  },
  {
   "cell_type": "code",
   "execution_count": 2,
   "metadata": {
    "collapsed": true
   },
   "outputs": [],
   "source": [
    "import gdal\n",
    "import sys\n",
    "sys.path.insert(0,'python')\n",
    "from fast_rw import *"
   ]
  },
  {
   "cell_type": "code",
   "execution_count": 25,
   "metadata": {
    "collapsed": false
   },
   "outputs": [],
   "source": [
    "import glob\n",
    "modis_files = glob.glob('m_data/*')"
   ]
  },
  {
   "cell_type": "code",
   "execution_count": 49,
   "metadata": {
    "collapsed": false
   },
   "outputs": [],
   "source": [
    "g = gdal.Open(modis_files[0])\n",
    "fnames = [i[0]for i in g.GetSubDatasets()]"
   ]
  },
  {
   "cell_type": "code",
   "execution_count": 50,
   "metadata": {
    "collapsed": true
   },
   "outputs": [],
   "source": [
    "def r_modis(fnames):\n",
    "    g = gdal.Open(fnames)\n",
    "    if g is None:\n",
    "        raise IOError\n",
    "    else:\n",
    "        return g.ReadAsArray()"
   ]
  },
  {
   "cell_type": "code",
   "execution_count": 57,
   "metadata": {
    "collapsed": false
   },
   "outputs": [
    {
     "data": {
      "text/plain": [
       "<matplotlib.colorbar.Colorbar instance at 0x7f6f740e6b90>"
      ]
     },
     "execution_count": 57,
     "metadata": {},
     "output_type": "execute_result"
    },
    {
     "name": "stderr",
     "output_type": "stream",
     "text": [
      "/home/ucfafyi/.conda/envs/gdal_env/lib/python2.7/site-packages/matplotlib/collections.py:590: FutureWarning: elementwise comparison failed; returning scalar instead, but in the future will perform elementwise comparison\n",
      "  if self._edgecolors == str('face'):\n"
     ]
    },
    {
     "data": {
      "image/png": "[encoded data removed]",
      "text/plain": [
       "<matplotlib.figure.Figure at 0x7f6f7a9582d0>"
      ]
     },
     "metadata": {},
     "output_type": "display_data"
    }
   ],
   "source": [
    "import pylab as plt\n",
    "%matplotlib inline\n",
    "plt.imshow(r_modis(fnames[0])[0])\n",
    "plt.colorbar()"
   ]
  },
  {
   "cell_type": "code",
   "execution_count": 33,
   "metadata": {
    "collapsed": false
   },
   "outputs": [],
   "source": [
    "doys = [i.split('A201')[1].split('.h27')[0][1:] for i in modis_files]"
   ]
  },
  {
   "cell_type": "code",
   "execution_count": 42,
   "metadata": {
    "collapsed": false
   },
   "outputs": [],
   "source": [
    "import datetime\n",
    "dates = zip([datetime.datetime(2015, 1, 1) + datetime.timedelta(int(i) - 1) for i in doys[:4]],doys[:4])\\\n",
    "+zip([datetime.datetime(2016, 1, 1) + datetime.timedelta(int(i) - 1) for i in doys[4:]],doys[4:])"
   ]
  },
  {
   "cell_type": "code",
   "execution_count": 43,
   "metadata": {
    "collapsed": false
   },
   "outputs": [
    {
     "data": {
      "text/plain": [
       "[(datetime.datetime(2015, 12, 3, 0, 0), '337'),\n",
       " (datetime.datetime(2015, 12, 11, 0, 0), '345'),\n",
       " (datetime.datetime(2015, 12, 19, 0, 0), '353'),\n",
       " (datetime.datetime(2015, 12, 27, 0, 0), '361'),\n",
       " (datetime.datetime(2016, 1, 1, 0, 0), '001'),\n",
       " (datetime.datetime(2016, 1, 9, 0, 0), '009'),\n",
       " (datetime.datetime(2016, 1, 17, 0, 0), '017'),\n",
       " (datetime.datetime(2016, 1, 25, 0, 0), '025'),\n",
       " (datetime.datetime(2016, 2, 2, 0, 0), '033'),\n",
       " (datetime.datetime(2016, 2, 10, 0, 0), '041'),\n",
       " (datetime.datetime(2016, 2, 18, 0, 0), '049'),\n",
       " (datetime.datetime(2016, 2, 26, 0, 0), '057'),\n",
       " (datetime.datetime(2016, 3, 5, 0, 0), '065'),\n",
       " (datetime.datetime(2016, 3, 13, 0, 0), '073'),\n",
       " (datetime.datetime(2016, 3, 21, 0, 0), '081'),\n",
       " (datetime.datetime(2016, 3, 29, 0, 0), '089'),\n",
       " (datetime.datetime(2016, 4, 6, 0, 0), '097'),\n",
       " (datetime.datetime(2016, 4, 14, 0, 0), '105'),\n",
       " (datetime.datetime(2016, 4, 22, 0, 0), '113'),\n",
       " (datetime.datetime(2016, 4, 30, 0, 0), '121'),\n",
       " (datetime.datetime(2016, 5, 8, 0, 0), '129'),\n",
       " (datetime.datetime(2016, 12, 2, 0, 0), '337'),\n",
       " (datetime.datetime(2016, 12, 10, 0, 0), '345'),\n",
       " (datetime.datetime(2016, 12, 2, 0, 0), '337'),\n",
       " (datetime.datetime(2016, 12, 10, 0, 0), '345'),\n",
       " (datetime.datetime(2016, 12, 18, 0, 0), '353'),\n",
       " (datetime.datetime(2016, 12, 26, 0, 0), '361'),\n",
       " (datetime.datetime(2016, 12, 18, 0, 0), '353'),\n",
       " (datetime.datetime(2016, 12, 26, 0, 0), '361'),\n",
       " (datetime.datetime(2016, 1, 1, 0, 0), '001'),\n",
       " (datetime.datetime(2016, 1, 1, 0, 0), '001'),\n",
       " (datetime.datetime(2016, 1, 9, 0, 0), '009'),\n",
       " (datetime.datetime(2016, 1, 9, 0, 0), '009'),\n",
       " (datetime.datetime(2016, 1, 17, 0, 0), '017'),\n",
       " (datetime.datetime(2016, 1, 25, 0, 0), '025'),\n",
       " (datetime.datetime(2016, 2, 2, 0, 0), '033'),\n",
       " (datetime.datetime(2016, 2, 10, 0, 0), '041'),\n",
       " (datetime.datetime(2016, 2, 18, 0, 0), '049'),\n",
       " (datetime.datetime(2016, 2, 26, 0, 0), '057'),\n",
       " (datetime.datetime(2016, 3, 5, 0, 0), '065'),\n",
       " (datetime.datetime(2016, 3, 13, 0, 0), '073'),\n",
       " (datetime.datetime(2016, 3, 21, 0, 0), '081'),\n",
       " (datetime.datetime(2016, 3, 29, 0, 0), '089'),\n",
       " (datetime.datetime(2016, 4, 6, 0, 0), '097'),\n",
       " (datetime.datetime(2016, 4, 14, 0, 0), '105'),\n",
       " (datetime.datetime(2016, 4, 22, 0, 0), '113'),\n",
       " (datetime.datetime(2016, 4, 30, 0, 0), '121'),\n",
       " (datetime.datetime(2016, 5, 8, 0, 0), '129'),\n",
       " (datetime.datetime(2016, 1, 17, 0, 0), '017'),\n",
       " (datetime.datetime(2016, 1, 25, 0, 0), '025'),\n",
       " (datetime.datetime(2016, 2, 2, 0, 0), '033'),\n",
       " (datetime.datetime(2016, 2, 10, 0, 0), '041'),\n",
       " (datetime.datetime(2016, 2, 18, 0, 0), '049'),\n",
       " (datetime.datetime(2016, 2, 26, 0, 0), '057'),\n",
       " (datetime.datetime(2016, 3, 5, 0, 0), '065'),\n",
       " (datetime.datetime(2016, 3, 13, 0, 0), '073'),\n",
       " (datetime.datetime(2016, 3, 21, 0, 0), '081'),\n",
       " (datetime.datetime(2016, 3, 29, 0, 0), '089'),\n",
       " (datetime.datetime(2016, 4, 6, 0, 0), '097'),\n",
       " (datetime.datetime(2016, 4, 14, 0, 0), '105'),\n",
       " (datetime.datetime(2016, 4, 22, 0, 0), '113'),\n",
       " (datetime.datetime(2016, 4, 30, 0, 0), '121'),\n",
       " (datetime.datetime(2016, 5, 8, 0, 0), '129')]"
      ]
     },
     "execution_count": 43,
     "metadata": {},
     "output_type": "execute_result"
    }
   ],
   "source": [
    "dates"
   ]
  },
  {
   "cell_type": "code",
   "execution_count": null,
   "metadata": {
    "collapsed": true
   },
   "outputs": [],
   "source": []
  }
 ],
 "metadata": {
  "kernelspec": {
   "display_name": "Python 2",
   "language": "python",
   "name": "python2"
  },
  "language_info": {
   "codemirror_mode": {
    "name": "ipython",
    "version": 2
   },
   "file_extension": ".py",
   "mimetype": "text/x-python",
   "name": "python",
   "nbconvert_exporter": "python",
   "pygments_lexer": "ipython2",
   "version": "2.7.12"
  }
 },
 "nbformat": 4,
 "nbformat_minor": 0
}
