{
 "cells": [
  {
   "cell_type": "code",
   "execution_count": 3,
   "metadata": {
    "collapsed": false
   },
   "outputs": [
    {
     "name": "stdout",
     "output_type": "stream",
     "text": [
      "/data/store01/data_dirs/students/ucfafyi/S2_MODIS\n"
     ]
    }
   ],
   "source": [
    "cd /data/store01/data_dirs/students/ucfafyi/S2_MODIS"
   ]
  },
  {
   "cell_type": "code",
   "execution_count": 6,
   "metadata": {
    "collapsed": true
   },
   "outputs": [],
   "source": [
    "import sys\n",
    "sys.path.insert(0, 'python')\n",
    "import numpy as np"
   ]
  },
  {
   "cell_type": "code",
   "execution_count": 25,
   "metadata": {
    "collapsed": false
   },
   "outputs": [
    {
     "name": "stdout",
     "output_type": "stream",
     "text": [
      "11:03:2016,Locations=Amazon_ATTO_Tower,long=-59.000,lat=-2.144,elev=210,Nmeas=1,PI=Brent Holben,Email=brent@aeronet.gsfc.nasa.gov\r\n",
      "Level 1.5 Almucantar Retrievals, Version 2\r\n",
      "Combined Dubovik Retrievals,ALL POINTS DATA,Inversion Product UNITS can be found at,,, http://aeronet.gsfc.nasa.gov/new_web/units.html\r\n",
      "Date(dd-mm-yyyy),Time(hh:mm:ss),Julian_Day,AOT_1640,AOT_1020,AOT_870,AOT_675,AOT_667,AOT_555,AOT_551,AOT_532,AOT_531,AOT_500,AOT_490,AOT_443,AOT_440,AOT_412,AOT_380,AOT_340,Water(cm),AOTExt440-T,AOTExt675-T,AOTExt870-T,AOTExt1018-T,AOTExt440-F,AOTExt675-F,AOTExt870-F,AOTExt1018-F,AOTExt440-C,AOTExt675-C,AOTExt870-C,AOTExt1018-C,870-440AngstromParam.[AOTExt]-Total,SSA440-T,SSA675-T,SSA870-T,SSA1018-T,AOTAbsp440-T,AOTAbsp675-T,AOTAbsp870-T,AOTAbsp1018-T,870-440AngstromParam.[AOTAbsp],REFR(440),REFR(675),REFR(870),REFR(1018),REFI(440),REFI(675),REFI(870),REFI(1018),ASYM440-T,ASYM675-T,ASYM870-T,ASYM1018-T,ASYM440-F,ASYM675-F,ASYM870-F,ASYM1018-F,ASYM440-C,ASYM675-C,ASYM870-C,ASYM1018-C,0.050000,0.065604,0.086077,0.112939,0.148184,0.194429,0.255105,0.334716,0.439173,0.576227,0.756052,0.991996,1.301571,1.707757,2.240702,2.939966,3.857452,5.061260,6.640745,8.713145,11.432287,15.000000,Inflection_Point[um],VolCon-T,EffRad-T,VolMedianRad-T,StdDev-T,VolCon-F,EffRad-F,VolMedianRad-F,StdDev-F,VolCon-C,EffRad-C,VolMedianRad-C,StdDev-C,Altitude(BOA)(km),Altitude(TOA)(km),DownwardFlux(BOA),DownwardFlux(TOA),UpwardFlux(BOA),UpwardFlux(TOA),RadiativeForcing(BOA),RadiativeForcing(TOA),ForcingEfficiency(BOA),ForcingEfficiency(TOA),DownwardFlux440-T,DownwardFlux675-T,DownwardFlux870-T,DownwardFlux1018-T,UpwardFlux440-T,UpwardFlux675-T,UpwardFlux870-T,UpwardFlux1018-T,DiffuseFlux440-T,DiffuseFlux675-T,DiffuseFlux870-T,DiffuseFlux1018-T,last_processing_date(mm/dd/yyyy),alm_type,solar_zenith_angle_for_1020nm_scan,sky_error,sun_error,alpha440-870,tau440(measured),%sphericity,if_level2_AOD,scat_angle_440(>=3.2to6),scat_angle_440(>=6to30),scat_angle_440(>=30to80),scat_angle_440(>=80),scat_angle_675(>=3.2to6),scat_angle_675(>=6to30),scat_angle_675(>=30to80),scat_angle_675(>=80),scat_angle_870(>=3.2to6),scat_angle_870(>=6to30),scat_angle_870(>=30to80),scat_angle_870(>=80),scat_angle_1020(>=3.2to6),scat_angle_1020(>=6to30),scat_angle_1020(>=30to80),scat_angle_1020(>=80),albedo_440,albedo_675,albedo_870,albedo-1020,average_solar_zenith_angle_for_flux_calculation,DATA_TYPE\r\n",
      "11:03:2016,21:18:55,71.888137,0.019411,0.024961,0.030036,0.038843,N/A,N/A,N/A,N/A,N/A,0.064213,N/A,N/A,0.072612,N/A,0.090728,0.105408,4.784888,0.072500,0.039600,0.028600,0.024200,0.060300,0.025900,0.014000,0.009300,0.012200,0.013800,0.014600,0.015000,1.367122,0.992700,0.991600,0.991200,0.991400,0.000529,0.000333,0.000251,0.000209,1.090943,1.524000,1.538400,1.539000,1.535800,0.000770,0.000774,0.000777,0.000777,0.652867,0.594231,0.593578,0.607351,0.636867,0.530788,0.466271,0.425544,0.730906,0.712707,0.714449,0.719643,0.000176,0.001195,0.004042,0.006952,0.006543,0.004057,0.002252,0.001539,0.001536,0.002116,0.003210,0.004266,0.004481,0.003729,0.002597,0.001625,0.000976,0.000590,0.000372,0.000250,0.000180,0.000140,0.439000,0.014000,0.227000,0.429000,1.272000,0.007000,0.131000,0.144000,0.450000,0.007000,1.161000,1.407000,0.670000,0.210000,120.000000,147.129290,269.030730,23.882000,62.230850,-7.660860,-6.155460,-145.297360,-116.745640,358.449498,295.224619,191.149097,140.839331,141.784577,116.775998,75.608961,55.708949,0.821530,0.401177,0.199958,0.102388,15/03/2016,0,78.110891,6.603597,0.000891,1.351843,0.072612,0.172650,0,4,10,6,4,4,10,5,4,4,9,4,1,2,8,4,1,0.007990,0.040050,0.398590,0.398250,78.760638,Level_1.5\r\n"
     ]
    }
   ],
   "source": [
    "!head -5 aeronets/160101_161231_Amazon_ATTO_Tower.dubovik"
   ]
  },
  {
   "cell_type": "code",
   "execution_count": 191,
   "metadata": {
    "collapsed": false
   },
   "outputs": [
    {
     "name": "stdout",
     "output_type": "stream",
     "text": [
      "160101_161231_Amazon_ATTO_Tower.dubovik\r\n",
      "160101_161231_Aubiere_LAMP.dubovik\r\n",
      "160101_161231_Birdsville.dubovik\r\n",
      "160101_161231_Bonanza_Creek.dubovik\r\n",
      "160101_161231_Bure_OPE.dubovik\r\n",
      "160101_161231_Canberra.dubovik\r\n",
      "160101_161231_CLUJ_UBB.dubovik\r\n",
      "160101_161231_Dalanzadgad.dubovik\r\n",
      "160101_161231_Dayton.dubovik\r\n",
      "160101_161231_Hamburg.dubovik\r\n",
      "160101_161231_Hankuk_UFS.dubovik\r\n",
      "160101_161231_IER_Cinzana.dubovik\r\n",
      "160101_161231_Ilorin.dubovik\r\n",
      "160101_161231_Jaipur.dubovik\r\n",
      "160101_161231_Ji_Parana_SE.dubovik\r\n",
      "160101_161231_Lake_Argyle.dubovik\r\n",
      "160101_161231_Lake_Lefroy.dubovik\r\n",
      "160101_161231_Magurele_Inoe.dubovik\r\n",
      "160101_161231_Mezaira.dubovik\r\n",
      "160101_161231_Munich_University.dubovik\r\n",
      "160101_161231_NEON_KONZ.dubovik\r\n",
      "160101_161231_NEON_TALL.dubovik\r\n",
      "160101_161231_Palencia.dubovik\r\n",
      "160101_161231_Pickle_Lake.dubovik\r\n",
      "160101_161231_Sao_Martinho_SONDA.dubovik\r\n",
      "160101_161231_Silpakorn_Univ.dubovik\r\n",
      "160101_161231_Tomsk_22.lev15\r\n",
      "160101_161231_Tsumkwe.dubovik\r\n",
      "160101_161231_USGS_Flagstaff_ROLO.dubovik\r\n",
      "160101_161231_Windpoort.dubovik\r\n",
      "160101_161231_XuZhou-CUMT.dubovik\r\n",
      "160101_161231_Yakutsk.dubovik\r\n",
      "160101_161231_Zinder_Airport.dubovik\r\n"
     ]
    }
   ],
   "source": [
    "ls aeronets/"
   ]
  },
  {
   "cell_type": "code",
   "execution_count": 200,
   "metadata": {
    "collapsed": false
   },
   "outputs": [],
   "source": [
    "def read_aeronet(place, doy, year):\n",
    "    import glob\n",
    "    files = glob.glob('aeronets/%d*_%s*'%(year-2000, place))\n",
    "    if files ==[]:\n",
    "        print 'no such file: ', 'aeronets/%d*_%s*'%(year-2000, place)\n",
    "        return None\n",
    "    else:\n",
    "        fname = files[0]\n",
    "        data = []\n",
    "        with open(fname, 'r') as inF:\n",
    "            for line in inF:\n",
    "                if 'Date(dd-mm-yyyy)' in line:\n",
    "                    title = np.array((line.split(',')[2:20]))\n",
    "                if 'Level_1.5' in line:\n",
    "                    data.append(line.split(',')[2:20])\n",
    "        vals = np.array(data)\n",
    "        ski_m = vals==np.array('N/A', dtype='|S10')\n",
    "        vals[ski_m] = np.nan\n",
    "        vals = vals.astype(float)\n",
    "        col_m = np.all(np.isnan(vals), axis=0)\n",
    "        title[~col_m]\n",
    "        vals[:,~col_m]\n",
    "        aots = np.vstack((title[~col_m], vals[:,~col_m]))\n",
    "        jdays = np.floor(aots[1:,0].astype(float)).astype(int)\n",
    "        d_m = jdays==doy\n",
    "        aot = aots[1:,][d_m]\n",
    "        return title, aot.astype('float')"
   ]
  },
  {
   "cell_type": "code",
   "execution_count": 208,
   "metadata": {
    "collapsed": false
   },
   "outputs": [
    {
     "data": {
      "text/plain": [
       "(array(['Julian_Day', 'AOT_1640', 'AOT_1020', 'AOT_870', 'AOT_675',\n",
       "        'AOT_667', 'AOT_555', 'AOT_551', 'AOT_532', 'AOT_531', 'AOT_500',\n",
       "        'AOT_490', 'AOT_443', 'AOT_440', 'AOT_412', 'AOT_380', 'AOT_340',\n",
       "        'Water(cm)'], \n",
       "       dtype='|S10'),\n",
       " array([[ 156.054688,    0.238789,    0.273602,    0.284596,    0.305528,\n",
       "            0.348805,    0.375493,    0.412324,    0.450568,    2.068186],\n",
       "        [ 156.070961,    0.246359,    0.28078 ,    0.292941,    0.315492,\n",
       "            0.360589,    0.389271,    0.429269,    0.469728,    2.12355 ],\n",
       "        [ 156.104734,    0.265309,    0.301236,    0.315762,    0.341791,\n",
       "            0.391208,    0.424859,    0.469511,    0.515793,    2.192134],\n",
       "        [ 156.123831,    0.258975,    0.293068,    0.309098,    0.336362,\n",
       "            0.387481,    0.422132,    0.468216,    0.519419,    2.210895],\n",
       "        [ 156.414769,    0.23507 ,    0.253287,    0.267354,    0.288584,\n",
       "            0.31633 ,    0.33973 ,    0.373722,    0.416765,    1.978338]]))"
      ]
     },
     "execution_count": 208,
     "metadata": {},
     "output_type": "execute_result"
    }
   ],
   "source": [
    "read_aeronet('Jaipur', 156, 2016)"
   ]
  },
  {
   "cell_type": "code",
   "execution_count": null,
   "metadata": {
    "collapsed": true
   },
   "outputs": [],
   "source": []
  }
 ],
 "metadata": {
  "kernelspec": {
   "display_name": "Python 2",
   "language": "python",
   "name": "python2"
  },
  "language_info": {
   "codemirror_mode": {
    "name": "ipython",
    "version": 2
   },
   "file_extension": ".py",
   "mimetype": "text/x-python",
   "name": "python",
   "nbconvert_exporter": "python",
   "pygments_lexer": "ipython2",
   "version": "2.7.12"
  }
 },
 "nbformat": 4,
 "nbformat_minor": 0
}
