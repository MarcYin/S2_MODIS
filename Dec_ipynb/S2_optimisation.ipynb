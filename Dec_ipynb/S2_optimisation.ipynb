{
 "cells": [
  {
   "cell_type": "code",
   "execution_count": 1,
   "metadata": {
    "collapsed": false
   },
   "outputs": [
    {
     "name": "stdout",
     "output_type": "stream",
     "text": [
      "/data/store01/data_dirs/students/ucfafyi/S2_MODIS\n"
     ]
    }
   ],
   "source": [
    "cd /data/store01/data_dirs/students/ucfafyi/S2_MODIS"
   ]
  },
  {
   "cell_type": "code",
   "execution_count": 2,
   "metadata": {
    "collapsed": false
   },
   "outputs": [],
   "source": [
    "import os\n",
    "import sys\n",
    "sys.path.insert(0, 'python')\n",
    "from geo_trans import *\n",
    "from Dload_Finder import file_finder\n",
    "import datetime\n",
    "import glob\n",
    "from cloud import get_cloud_mask\n",
    "from classification import *\n",
    "from get_brdf import *\n",
    "import multiprocessing\n",
    "from scipy import ndimage, signal, optimize\n",
    "import scipy\n",
    "from linear_plot import *\n",
    "from fastRWpkl import *"
   ]
  },
  {
   "cell_type": "code",
   "execution_count": 3,
   "metadata": {
    "collapsed": false
   },
   "outputs": [],
   "source": [
    "lat, lon, year, month, day = 37.181944, 114.36, 2016, 5, 3 "
   ]
  },
  {
   "cell_type": "code",
   "execution_count": 4,
   "metadata": {
    "collapsed": false
   },
   "outputs": [],
   "source": [
    "h,v = mtile_cal(lat, lon)\n",
    "m = mgrs.MGRS()\n",
    "mg_coor = m.toMGRS(lat, lon, MGRSPrecision=4)\n",
    "place = mg_coor[:5]\n",
    "fnames = []\n",
    "directory  = os.getcwd()+'/s_data/%s/%s/%s/%d/'%(mg_coor[:2], mg_coor[2], mg_coor[3:5], year)\n",
    "for path, subdirs, files in os.walk(directory):\n",
    "    if 'B01.jp2' in files:\n",
    "        fnames.append( os.path.join(path))"
   ]
  },
  {
   "cell_type": "code",
   "execution_count": 5,
   "metadata": {
    "collapsed": false
   },
   "outputs": [
    {
     "data": {
      "text/plain": [
       "124"
      ]
     },
     "execution_count": 5,
     "metadata": {},
     "output_type": "execute_result"
    }
   ],
   "source": [
    "doy = datetime .datetime(year, month, day).timetuple().tm_yday\n",
    "doy"
   ]
  },
  {
   "cell_type": "code",
   "execution_count": 6,
   "metadata": {
    "collapsed": false
   },
   "outputs": [
    {
     "data": {
      "text/plain": [
       "['m_data/MCD43A1.A2016116.h27v05.006.2016180182935.hdf',\n",
       " 'm_data/MCD43A1.A2016117.h27v05.006.2016180184807.hdf',\n",
       " 'm_data/MCD43A1.A2016118.h27v05.006.2016180190640.hdf',\n",
       " 'm_data/MCD43A1.A2016119.h27v05.006.2016180192910.hdf',\n",
       " 'm_data/MCD43A1.A2016120.h27v05.006.2016180195231.hdf',\n",
       " 'm_data/MCD43A1.A2016121.h27v05.006.2016180201154.hdf',\n",
       " 'm_data/MCD43A1.A2016122.h27v05.006.2016180202755.hdf',\n",
       " 'm_data/MCD43A1.A2016123.h27v05.006.2016180204842.hdf',\n",
       " 'm_data/MCD43A1.A2016124.h27v05.006.2016180210538.hdf',\n",
       " 'm_data/MCD43A1.A2016125.h27v05.006.2016180212518.hdf',\n",
       " 'm_data/MCD43A1.A2016126.h27v05.006.2016180214554.hdf',\n",
       " 'm_data/MCD43A1.A2016127.h27v05.006.2016180220507.hdf',\n",
       " 'm_data/MCD43A1.A2016128.h27v05.006.2016180222324.hdf',\n",
       " 'm_data/MCD43A1.A2016129.h27v05.006.2016180223930.hdf',\n",
       " 'm_data/MCD43A1.A2016130.h27v05.006.2016180225447.hdf',\n",
       " 'm_data/MCD43A1.A2016131.h27v05.006.2016180231424.hdf',\n",
       " 'm_data/MCD43A1.A2016132.h27v05.006.2016180233003.hdf']"
      ]
     },
     "execution_count": 6,
     "metadata": {},
     "output_type": "execute_result"
    }
   ],
   "source": [
    "Hfile = os.getcwd()+'/s_data/%s/%s/%s/%d/%d/%d/0/'%(mg_coor[:2], mg_coor[2], mg_coor[3:5], year, month, day)\n",
    "Lfiles = [glob.glob('m_data/MCD43A1.A%d%03d.h%02dv%02d.006.*.hdf'%(year,i,h,v))[0] for i in range(doy-8, doy+9)]\n",
    "Lfiles"
   ]
  },
  {
   "cell_type": "code",
   "execution_count": 3,
   "metadata": {
    "collapsed": false
   },
   "outputs": [],
   "source": [
    "import sys\n",
    "sys.path.insert(0,'python')\n",
    "from Dload_Finder import *\n",
    "import multiprocessing\n",
    "from fft_helper import *\n",
    "from functools import partial\n",
    "\n",
    "class PSF_optimization():\n",
    "    def __init__(self, year, month, day, doy, lat, lon, sate):\n",
    "        self.year = year\n",
    "        self.doy = doy\n",
    "        self.month = month\n",
    "        self.day= day\n",
    "        self.lat = lat\n",
    "        self.lon = lon\n",
    "        self.sate = sate \n",
    "        self.Lx = None\n",
    "        self.LY = None\n",
    "        self.Hx = None\n",
    "        self.Hy = None\n",
    "        self.H_data = None\n",
    "        self.L_data = None\n",
    "        self.sza = None\n",
    "        self.saa = None\n",
    "        self.vza = None\n",
    "        self.vaa = None\n",
    "        self.retval = None\n",
    "        self.BRDF_16_days =None\n",
    "        self.composite_brdf = None\n",
    "        self.base_mask = None\n",
    "        \n",
    "    def read_meta(self, Hfile, path=None, row=None):\n",
    "    \n",
    "        with open(Hfile[:-4]+'_MTL.txt', 'r') as inF:\n",
    "            for line in inF:\n",
    "                if 'CLOUD_COVER ' in line:\n",
    "                    cloud_cover =  float(line.split('= ')[1])\n",
    "        if cloud_cover<20:\n",
    "            #print 'Less than 20% cloud.'\n",
    "            b1 = gdal.Open(Hfile+'band1.tif').ReadAsArray()\n",
    "            corners = b1.shape\n",
    "            dic = {}\n",
    "            with open(Hfile[:-4]+'_MTL.txt', 'r') as inF:\n",
    "                for line in inF:\n",
    "                    if ('CORNER_' in line)&('LAT_PRODUCT' in line):\n",
    "                        dic[line.split(' = ')[0].strip()[7:13]] = float(line.split(' = ')[1])\n",
    "                    elif ('CORNER_' in line)&('LON_PRODUCT' in line):\n",
    "                        dic[line.split(' = ')[0].strip()[7:13]] = float(line.split(' = ')[1])\n",
    "                    elif 'ROLL_ANGLE' in line:\n",
    "                        vza = float(line.split(' = ')[1])\n",
    "                    elif 'SUN_AZIMUTH' in line:\n",
    "                        saa = float(line.split(' = ')[1])\n",
    "                    elif 'SUN_ELEVATION' in line:\n",
    "                        sza = float(line.split(' = ')[1])\n",
    "            with open('Landsat_azm.pkl', 'r') as savefile:\n",
    "                Landsat_azm = pkl.load(savefile)\n",
    "\n",
    "            vaa = np.nanmean(Landsat_azm[(Landsat_azm[:,2]==path)&(Landsat_azm[:,3]==row)].squeeze()[:2])\n",
    "\n",
    "            return sza, saa, vza, vaa, dic, corners\n",
    "        else:\n",
    "            print 'To much cloud: ', cloud_cover\n",
    "            return None  \n",
    "\n",
    "    def update_mask(self, base_map,forward_8_days, backward_8_days, pre_mask, qa=0, start_point=4, thresh=0.005):\n",
    "\n",
    "        for i in range(8):\n",
    "            qa_fo_mask = forward_8_days[-(i+1),1,:]<=qa\n",
    "            qa_ba_mask = backward_8_days[i,1,:]<=qa\n",
    "            dif = np.abs(forward_8_days[i,0,:] - backward_8_days[-(i+1),0,:])\n",
    "            dif_mask = (dif/np.abs(forward_8_days[i,0,:])) <thresh\n",
    "            non_negative_mask = (forward_8_days[i,0,:]>0) & (backward_8_days[-(i+1),0,:]>0)\n",
    "\n",
    "            i_day_mask = (qa_fo_mask | qa_ba_mask)&dif_mask&non_negative_mask\n",
    "            current_mask = (~pre_mask)&i_day_mask\n",
    "            base_map[current_mask] = i+start_point\n",
    "            pre_mask = pre_mask|current_mask  \n",
    "        return base_map, pre_mask\n",
    "    \n",
    "    def compositing(self, angles, thre=0.005):\n",
    "        BRDF_16_days = np.array([get_brdf_six(Lfile,angles,bands=(7,), \\\n",
    "                                              flag=None, Linds= self.L_inds) for Lfile in self.Lfiles]).squeeze()\n",
    "\n",
    "        backward_8_days,mid_day, forward_8_days = BRDF_16_days[:8], BRDF_16_days[8], BRDF_16_days[9:]\n",
    "\n",
    "        qa_mask_0 = np.all(BRDF_16_days[:,1,:]<=0, axis=0)\n",
    "        stable_mask_0 =  BRDF_16_days[:,0,:].std(axis=0)<0.005\n",
    "        filter_mask_0 = qa_mask_0&stable_mask_0\n",
    "\n",
    "        qa_mask_1 = np.all(BRDF_16_days[:,1,:]<=1, axis=0)\n",
    "        stable_mask_1 =  BRDF_16_days[:,0,:].std(axis=0)<0.004\n",
    "        filter_mask_1 = qa_mask_1&stable_mask_1&np.all(BRDF_16_days[:,0,:]>=0, axis=0)\n",
    "\n",
    "\n",
    "        base_mask = np.zeros(len(self.L_inds[0]))\n",
    "        current_mask = filter_mask_0\n",
    "        base_mask[current_mask] = 1\n",
    "        previous_mask = current_mask\n",
    "\n",
    "        current_mask = (~previous_mask)&filter_mask_1 #| ((mid_day[1]==0)&stable_mask)\n",
    "        base_mask[current_mask] = 2\n",
    "        previous_mask = previous_mask|current_mask\n",
    "\n",
    "        current_mask = (~previous_mask)&((mid_day[1]==0)&stable_mask_0)\n",
    "        base_mask[current_mask] = 3\n",
    "        previous_mask = previous_mask|current_mask\n",
    "\n",
    "        base_mask, pre_mask = self.update_mask(base_mask,forward_8_days, backward_8_days, previous_mask, qa=0, start_point=4)\n",
    "        base_mask, _mask = self.update_mask(base_mask, forward_8_days, backward_8_days, pre_mask, qa=1, start_point=12,thresh=0.00025)\n",
    "\n",
    "        composite_brdf = np.zeros(base_mask.shape)\n",
    "        composite_brdf[:]=np.nan\n",
    "        composite_brdf[base_mask==1] = mid_day[0][base_mask==1]\n",
    "        composite_brdf[base_mask==2] = mid_day[0][base_mask==2]\n",
    "        composite_brdf[base_mask==3] = mid_day[0][base_mask==3]\n",
    "\n",
    "        for i in range(8):\n",
    "            composite_brdf[base_mask==i+4] = forward_8_days[i][0][base_mask==i+4]\n",
    "        for i in range(8):\n",
    "            composite_brdf[base_mask==i+12] = backward_8_days[-(i+1)][0][base_mask==i+12]\n",
    "\n",
    "        return BRDF_16_days, composite_brdf, base_mask\n",
    "    \n",
    "    def Land_PSF_optimization(self):\n",
    "        self.h,self.v = mtile_cal(self.lat, self.lon)\n",
    "        pr=get_wrs(self.lat, self.lon)\n",
    "        self.path, self.row = pr[0]['path'],pr[0]['row']\n",
    "        #self.Hfiles = glob.glob(directory +'l_data/LC8%03d%03d%d*LGN00_sr_band1.tif'%(self.path, self.row, self.year))\n",
    "        self.Hfile = directory +'l_data/LC8%03d%03d%d%03dLGN00_sr_'%(self.path, self.row, self.year, self.doy)\n",
    "        #Lfile = glob.glob('m_data/MCD43A1.A%d%03d.h%02dv%02d.006.*.hdf'%(year,doy,h,v))[0]\n",
    "        self.Lfiles = [glob.glob('m_data/MCD43A1.A%d%03d.h%02dv%02d.006.*.hdf'%(self.year,i,self.h,self.v))[0] for i in range(self.doy-8, self.doy+9)]\n",
    "\n",
    "        if self.read_meta(self.Hfile, self.path, self.row)==None:  \n",
    "            print 'Too much cloud!!'\n",
    "        else:\n",
    "            self.sza, self.saa, self.vza, self.vaa, self.dic, self.corners = self.read_meta(self.Hfile, self.path, self.row)\n",
    "            self.L_inds, self.H_inds = ML_geo_trans(self.lat, self.lon, self.dic, self.corners)\n",
    "            self.Lx, self.Ly = self.L_inds\n",
    "            self.Hx, self.Hy = self.H_inds\n",
    "\n",
    "            tems = np.zeros((3,6))\n",
    "            tems[0,:] = self.sza\n",
    "            tems[1,:] = self.vza\n",
    "            tems[2,:] = self.vaa - self.saa\n",
    "            angles = (tems[0][-1], tems[1][-1], tems[2][-1])\n",
    "\n",
    "            self.BRDF_16_days, self.composite_brdf, self.base_mask = self.compositing(angles, thre=0.005)\n",
    "\n",
    "            cloud = gdal.Open(self.Hfile[:-4]+'_cfmask.tif').ReadAsArray()\n",
    "            cl_mask = cloud==4 # cloud pixels; strictest way is to set the clear pixels with cloud==0\n",
    "            struct = ndimage.generate_binary_structure(2, 2)\n",
    "            dia_cloud = ndimage.binary_dilation(cl_mask, structure=struct, iterations=20).astype(cl_mask.dtype)\n",
    "\n",
    "            self.H_data = gdal.Open(self.Hfile+'band%d.tif'%7).ReadAsArray()*0.0001\n",
    "            mask = ~(H_data<0).astype('bool')\n",
    "            small_mask = ndimage.binary_erosion(mask, structure=struct, iterations=20).astype(mask.dtype)\n",
    "            self.val_mask = (~dia_cloud)&small_mask\n",
    "\n",
    "\n",
    "            avker = np.ones((40,40))\n",
    "            navker = avker/avker.sum()\n",
    "            s = signal.fftconvolve(self.H_data, navker, mode='same')\n",
    "            s[~self.val_mask]=np.nan\n",
    "\n",
    "            self.L_data = self.composite_brdf\n",
    "\n",
    "            args = s, self.L_data, self.H_data.shape\n",
    "\n",
    "            retval0=0,0.2\n",
    "            for xstd0 in range(-30,30,15):\n",
    "                for ystd0 in range(-30,30,15):\n",
    "                    p0 = np.array([xstd0, ystd0])\n",
    "                    retval = optimize.fmin(self._cost1, p0, full_output=1, args=args)\n",
    "                    if retval[1]<retval0[1]:\n",
    "                        retval0=retval\n",
    "\n",
    "            xs, ys = retval[0]\n",
    "            self.xs, self.ys = xs, ys\n",
    "            self.p0 = 13, 32, 4, xs, ys\n",
    "            self.bounds = [5,100],[5,100],[-15,15],[xs-5,xs+5],[ys-5, ys+5]\n",
    "            #args = H_data, L_data, val_mask\n",
    "            #optimize.fmin_l_bfgs_b(cost2, p0, approx_grad=1, iprint=-1, args=args, bounds=bounds)\n",
    "\n",
    "            ps = [(5, 20, 10, xs, ys),(10, 20, 10, xs, ys), (20, 20, 10, xs, ys), (30, 20, 10, xs, ys),(40, 20, 10, xs, ys),\n",
    "            (10, 5, 10, xs, ys),(10, 10, 10, xs, ys), (10, 20, 10, xs, ys), (10, 30, 10, xs, ys),(10, 40, 10, xs, ys),\n",
    "            (10, 20, 0, xs, ys),(10, 20, 5, xs, ys), (10, 20, 10, xs, ys), (10, 30, 15, xs, ys),(10, 30, -10, xs, ys)]\n",
    "            #retval = optimize.fmin_l_bfgs_b(cost2, p0, approx_grad=1, iprint=-1, args=args, bounds=bounds)\n",
    "            #par = partial(self._op)\n",
    "            #pool = multiprocessing.Pool(processes = 15)\n",
    "            #self.solved = pool.map(op, ps)\n",
    "            #pool.close()\n",
    "            #pool.join()\n",
    "\n",
    "            #return self.solved, self.BRDF_16_days, self.L_data, self.base_mask\n",
    "        \n",
    "    \n",
    "    def S2_PSF_optimization(self):\n",
    "        self.h,self.v = mtile_cal(self.lat, self.lon)\n",
    "        m = mgrs.MGRS()\n",
    "        mg_coor = m.toMGRS(self.lat, self.lon, MGRSPrecision=4)\n",
    "        self.place = mg_coor[:5]\n",
    "        #self.Hfiles = glob.glob(directory +'l_data/LC8%03d%03d%d*LGN00_sr_band1.tif'%(self.path, self.row, self.year))\n",
    "        self.Hfile = os.getcwd()+'/s_data/%s/%s/%s/%d/%d/%d/0/'%(mg_coor[:2], mg_coor[2], mg_coor[3:5], self.year, self.month, self.day)\n",
    "        #Lfile = glob.glob('m_data/MCD43A1.A%d%03d.h%02dv%02d.006.*.hdf'%(year,doy,h,v))[0]\n",
    "        self.doy = datetime .datetime(self.year, self.month, self.day).timetuple().tm_yday\n",
    "        self.Lfiles = [glob.glob('m_data/MCD43A1.A%d%03d.h%02dv%02d.006.*.hdf'%(self.year,i,self.h,self.v))[0] for i in range(self.doy-8, self.doy+9)]\n",
    "        \n",
    "        cl = classification(fhead = self.Hfile, bands = (2,3,4,8,11,12,13), bounds = None)\n",
    "        cl.Get_cm_p()\n",
    "        self.cloud = cl.cm.copy()\n",
    "        self.H_data = np.repeat(np.repeat(cl.b12, 2, axis=1), 2, axis=0)\n",
    "        del cl\n",
    "        cloud_cover = 1.*self.cloud.sum()/self.cloud.size\n",
    "        if cloud_cover > 0.2:  \n",
    "            print 'Too much cloud, cloud proportion: %.03f !!'%cloud_cover\n",
    "        else:\n",
    "            mete = readxml('%smetadata.xml'%self.Hfile)\n",
    "            self.sza = np.zeros(7)\n",
    "            self.sza[:] = mete['mSz']\n",
    "            self.saa = self.sza.copy()\n",
    "            self.saa[:] = mete['mSa']\n",
    "            self.vza = (mete['mVz'])[[1,2,3,7,8,11,12],]\n",
    "            self.vaa = (mete['mVa'])[[1,2,3,7,8,11,12],]\n",
    "            \n",
    "            self.L_inds, self.H_inds = get_coords(self.lat,self.lon)\n",
    "            self.Lx, self.Ly = self.L_inds\n",
    "            self.Hx, self.Hy = self.H_inds\n",
    "\n",
    "            angles = (self.sza[-1], self.vza[-1], (self.vaa - self.saa)[-1])\n",
    "\n",
    "            self.BRDF_16_days, self.composite_brdf, self.base_mask = self.compositing(angles, thre=0.005)\n",
    "\n",
    "            struct = ndimage.generate_binary_structure(2, 2)\n",
    "            dia_cloud = ndimage.binary_dilation(self.cloud, structure=struct, iterations=60).astype(self.cloud.dtype)\n",
    "\n",
    "            mask = ~(self.H_data<0).astype('bool')\n",
    "            small_mask = ndimage.binary_erosion(mask, structure=struct, iterations=60).astype(mask.dtype)\n",
    "            self.val_mask = (~dia_cloud)&small_mask\n",
    "\n",
    "\n",
    "            avker = np.ones((120,120))\n",
    "            navker = avker/avker.sum()\n",
    "            s = signal.fftconvolve(self.H_data, navker, mode='same')\n",
    "            s[~self.val_mask]=np.nan\n",
    "\n",
    "            self.L_data = self.composite_brdf\n",
    "\n",
    "            args = s, self.L_data, self.H_data.shape\n",
    "\n",
    "            retval0=0,0.2\n",
    "            for xstd0 in range(-30,30,15):\n",
    "                for ystd0 in range(-30,30,15):\n",
    "                    p0 = np.array([xstd0, ystd0])\n",
    "                    retval = optimize.fmin(self._cost1, p0, full_output=1, args=args)\n",
    "                    if retval[1]<retval0[1]:\n",
    "                        retval0=retval\n",
    "\n",
    "            xs, ys = retval[0]\n",
    "            self.xs, self.ys = xs, ys\n",
    "            \n",
    "           \n",
    "    def _cost1(self, shifts, s=None, L_data=None, shape = None):\n",
    "        xs, ys = shifts \n",
    "        val = (self.Hx+xs<shape[0])&(self.Hy+ys<shape[1])\n",
    "        shx, shy = (self.Hx+xs).astype(int), (self.Hy+ys).astype(int)\n",
    "        Lvals, Hvals = L_data[val], s[shx[val], shy[val]]\n",
    "        mas = (Lvals>0)&(Lvals<1)&(Hvals>0)&(Hvals<1)\n",
    "        r = scipy.stats.linregress(Lvals[mas], Hvals[mas])\n",
    "        return abs(1-r.rvalue)\n",
    "\n",
    "    def gaussian(self, xstd, ystd, angle, norm = True):\n",
    "        win = int(round(max(3*xstd, 3*ystd)))\n",
    "        winx = win*2**0.5\n",
    "        winy = win*2**0.5\n",
    "\n",
    "        xgaus = signal.gaussian(winx, xstd)\n",
    "        ygaus = signal.gaussian(winy, ystd)\n",
    "        gaus  = np.outer(xgaus, ygaus)\n",
    "        r_gaus = scipy.ndimage.interpolation.rotate(gaus, angle, reshape=True)\n",
    "        center = np.array(r_gaus.shape)/2\n",
    "        cgaus = r_gaus[center[0]-win/2: center[0]+win/2, center[1]-win/2:center[1]+win/2]\n",
    "        if norm:\n",
    "            return cgaus/cgaus.sum()\n",
    "        else:\n",
    "            return cgaus \n",
    "\n"
   ]
  },
  {
   "cell_type": "code",
   "execution_count": 4,
   "metadata": {
    "collapsed": false,
    "scrolled": true
   },
   "outputs": [
    {
     "name": "stdout",
     "output_type": "stream",
     "text": [
      "\n",
      "Here is the cloud probability calculation!\n",
      "\n",
      "50/S/KG/2016/5/3/0/ (2, 3, 4, 8, 11, 12, 13)\n",
      "7%\n",
      "14%\n",
      "21%\n",
      "29%\n",
      "36%\n",
      "43%\n",
      "50%\n",
      "57%\n",
      "64%\n",
      "71%\n",
      "79%\n",
      "86%\n",
      "93%\n",
      "99%\n",
      "Done!!!\n"
     ]
    },
    {
     "name": "stderr",
     "output_type": "stream",
     "text": [
      "/data/store01/data_dirs/students/ucfafyi/.conda/envs/gdal_env/lib/python2.7/site-packages/ipykernel/__main__.py:266: RuntimeWarning: invalid value encountered in greater\n",
      "/data/store01/data_dirs/students/ucfafyi/.conda/envs/gdal_env/lib/python2.7/site-packages/ipykernel/__main__.py:266: RuntimeWarning: invalid value encountered in less\n"
     ]
    },
    {
     "name": "stdout",
     "output_type": "stream",
     "text": [
      "Optimization terminated successfully.\n",
      "         Current function value: 0.017484\n",
      "         Iterations: 35\n",
      "         Function evaluations: 95\n",
      "Optimization terminated successfully.\n",
      "         Current function value: 0.017315\n",
      "         Iterations: 44\n",
      "         Function evaluations: 110\n",
      "Optimization terminated successfully.\n",
      "         Current function value: 0.017633\n",
      "         Iterations: 29\n",
      "         Function evaluations: 77\n",
      "Optimization terminated successfully.\n",
      "         Current function value: 0.017326\n",
      "         Iterations: 41\n",
      "         Function evaluations: 107\n",
      "Optimization terminated successfully.\n",
      "         Current function value: 0.017284\n",
      "         Iterations: 43\n",
      "         Function evaluations: 106\n",
      "Optimization terminated successfully.\n",
      "         Current function value: 0.050496\n",
      "         Iterations: 47\n",
      "         Function evaluations: 172\n",
      "Optimization terminated successfully.\n",
      "         Current function value: 0.045053\n",
      "         Iterations: 14\n",
      "         Function evaluations: 53\n",
      "Optimization terminated successfully.\n",
      "         Current function value: 0.047181\n",
      "         Iterations: 15\n",
      "         Function evaluations: 57\n",
      "Optimization terminated successfully.\n",
      "         Current function value: 0.029196\n",
      "         Iterations: 26\n",
      "         Function evaluations: 73\n",
      "Optimization terminated successfully.\n",
      "         Current function value: 0.035710\n",
      "         Iterations: 14\n",
      "         Function evaluations: 53\n",
      "Optimization terminated successfully.\n",
      "         Current function value: 0.029649\n",
      "         Iterations: 3\n",
      "         Function evaluations: 11\n",
      "Optimization terminated successfully.\n",
      "         Current function value: 0.029196\n",
      "         Iterations: 26\n",
      "         Function evaluations: 72\n",
      "Optimization terminated successfully.\n",
      "         Current function value: 0.017284\n",
      "         Iterations: 29\n",
      "         Function evaluations: 85\n",
      "Optimization terminated successfully.\n",
      "         Current function value: 0.026166\n",
      "         Iterations: 15\n",
      "         Function evaluations: 57\n",
      "Optimization terminated successfully.\n",
      "         Current function value: 0.019782\n",
      "         Iterations: 14\n",
      "         Function evaluations: 55\n",
      "Optimization terminated successfully.\n",
      "         Current function value: 0.017447\n",
      "         Iterations: 27\n",
      "         Function evaluations: 81\n"
     ]
    }
   ],
   "source": [
    "C = PSF_optimization(2016, 5, 3, 124, 37.181944, 114.36, 'S2')\n",
    "retval2 = C.S2_PSF_optimization()"
   ]
  },
  {
   "cell_type": "code",
   "execution_count": 9,
   "metadata": {
    "collapsed": false
   },
   "outputs": [],
   "source": [
    "Hx, Hy, xs, ys, L_data, H_data, val_mask = C.Hx, C.Hy, C.xs, C.ys, C.L_data, C.H_data,  C.val_mask"
   ]
  },
  {
   "cell_type": "code",
   "execution_count": 10,
   "metadata": {
    "collapsed": true
   },
   "outputs": [],
   "source": [
    "paras = [Hx, Hy, xs, ys, L_data, H_data, val_mask]"
   ]
  },
  {
   "cell_type": "code",
   "execution_count": 11,
   "metadata": {
    "collapsed": false
   },
   "outputs": [
    {
     "name": "stdout",
     "output_type": "stream",
     "text": [
      "Length of data: 7\n",
      "Length of data: 7\n"
     ]
    }
   ],
   "source": [
    "parallel_rw_pkl(paras, 'HAVE_TO', 'w')"
   ]
  },
  {
   "cell_type": "code",
   "execution_count": 3,
   "metadata": {
    "collapsed": false
   },
   "outputs": [],
   "source": [
    "Hx, Hy, xs, ys, L_data, H_data, val_mask = parallel_rw_pkl(None, 'HAVE_TO', 'r')"
   ]
  },
  {
   "cell_type": "code",
   "execution_count": 4,
   "metadata": {
    "collapsed": false,
    "scrolled": true
   },
   "outputs": [],
   "source": [
    "def gaussian(xstd, ystd, angle, norm = True):\n",
    "        win = int(round(max(3*xstd, 3*ystd)))\n",
    "        winx = win*2**0.5\n",
    "        winy = win*2**0.5\n",
    "\n",
    "        xgaus = signal.gaussian(winx, xstd)\n",
    "        ygaus = signal.gaussian(winy, ystd)\n",
    "        gaus  = np.outer(xgaus, ygaus)\n",
    "        r_gaus = scipy.ndimage.interpolation.rotate(gaus, angle, reshape=True)\n",
    "        center = np.array(r_gaus.shape)/2\n",
    "        cgaus = r_gaus[center[0]-win/2: center[0]+win/2, center[1]-win/2:center[1]+win/2]\n",
    "        if norm:\n",
    "            return cgaus/cgaus.sum()\n",
    "        else:\n",
    "            return cgaus \n",
    "\n",
    "\n",
    "def cost2(para):\n",
    "    xstd,ystd,angle, xs, ys = para \n",
    "    G = gaussian(xstd,ystd,angle,True)                              \n",
    "    ss = signal.fftconvolve(H_data, G, mode='same')\n",
    "    # remove the cloud pixel\n",
    "    ss[~val_mask]=np.nan\n",
    "    val = (Hx+xs<H_data.shape[0])&(Hy+ys<H_data.shape[1])\n",
    "    shx, shy = (Hx+xs).astype(int), (Hy+ys).astype(int)\n",
    "    Lvals, Hvals = L_data[val], ss[shx[val], shy[val]]\n",
    "    mas = (Lvals>0)&(Lvals<1)&(Hvals>0)&(Hvals<1)\n",
    "    r = scipy.stats.linregress(Lvals[mas], Hvals[mas])\n",
    "    costs = abs(1-r.rvalue)\n",
    "    return costs \n",
    "\n",
    "\n",
    "\n",
    "p0 = 13, 16, 0, xs, ys\n",
    "bounds = [5,100],[5,100],[-15,15],[xs-5,xs+5],[ys-5, ys+5]\n",
    "#args = H_data, L_data, val_mask\n",
    "#retval = optimize.fmin_l_bfgs_b(cost2, p0, approx_grad=1, iprint=0, bounds=bounds)\n",
    "\n",
    "ps = [(5, 20, -5, xs, ys),(10, 20, 10, xs, ys), (20, 20, 0, xs, ys), (30, 20, 5, xs, ys),(40, 20, 10, xs, ys),\n",
    "(10, 5, 0, xs, ys),(10, 5, 5, xs, ys), (10, 20, -5, xs, ys), (10, 30, 10, xs, ys),(10, 40, -10, xs, ys),\n",
    "(10, 20, 0, xs, ys),(10, 20, 5, xs, ys), (10, 20, -5, xs, ys), (10, 30, 5, xs, ys),(10, 30, -10, xs, ys)]\n",
    "#retval = optimize.fmin_l_bfgs_b(cost2, p0, approx_grad=1, iprint=-1, args=args, bounds=bounds)]\n",
    "#pool = multiprocessing.Pool(processes = 5)\n",
    "#solved = pool.map(op, ps)\n",
    "#pool.close()\n",
    "#pool.join()"
   ]
  },
  {
   "cell_type": "code",
   "execution_count": 6,
   "metadata": {
    "collapsed": false,
    "scrolled": true
   },
   "outputs": [
    {
     "name": "stderr",
     "output_type": "stream",
     "text": [
      "/data/store01/data_dirs/students/ucfafyi/.conda/envs/gdal_env/lib/python2.7/site-packages/ipykernel/__main__.py:27: RuntimeWarning: invalid value encountered in greater\n",
      "/data/store01/data_dirs/students/ucfafyi/.conda/envs/gdal_env/lib/python2.7/site-packages/ipykernel/__main__.py:27: RuntimeWarning: invalid value encountered in less\n",
      "/data/store01/data_dirs/students/ucfafyi/.conda/envs/gdal_env/lib/python2.7/site-packages/ipykernel/__main__.py:27: RuntimeWarning: invalid value encountered in greater\n",
      "/data/store01/data_dirs/students/ucfafyi/.conda/envs/gdal_env/lib/python2.7/site-packages/ipykernel/__main__.py:27: RuntimeWarning: invalid value encountered in less\n",
      "/data/store01/data_dirs/students/ucfafyi/.conda/envs/gdal_env/lib/python2.7/site-packages/ipykernel/__main__.py:27: RuntimeWarning: invalid value encountered in greater\n",
      "/data/store01/data_dirs/students/ucfafyi/.conda/envs/gdal_env/lib/python2.7/site-packages/ipykernel/__main__.py:27: RuntimeWarning: invalid value encountered in less\n",
      "/data/store01/data_dirs/students/ucfafyi/.conda/envs/gdal_env/lib/python2.7/site-packages/ipykernel/__main__.py:27: RuntimeWarning: invalid value encountered in greater\n",
      "/data/store01/data_dirs/students/ucfafyi/.conda/envs/gdal_env/lib/python2.7/site-packages/ipykernel/__main__.py:27: RuntimeWarning: invalid value encountered in greater\n",
      "/data/store01/data_dirs/students/ucfafyi/.conda/envs/gdal_env/lib/python2.7/site-packages/ipykernel/__main__.py:27: RuntimeWarning: invalid value encountered in less\n",
      "/data/store01/data_dirs/students/ucfafyi/.conda/envs/gdal_env/lib/python2.7/site-packages/ipykernel/__main__.py:27: RuntimeWarning: invalid value encountered in less\n"
     ]
    },
    {
     "name": "stdout",
     "output_type": "stream",
     "text": [
      "(array([ 32.08891216,  38.56787714,  13.67241732,  26.14453125,   1.03125   ]), 0.014061789623966758, {'warnflag': 0, 'task': 'CONVERGENCE: NORM_OF_PROJECTED_GRADIENT_<=_PGTOL', 'grad': array([ -8.61533067e-06,  -7.77156117e-07,   7.29416527e-06,\n",
      "         0.00000000e+00,   0.00000000e+00]), 'nit': 6, 'funcalls': 42})\n",
      "(array([ 34.29835699,  39.50045275,  11.60109217,  26.14453125,   1.03125   ]), 0.013996772081404263, {'warnflag': 1, 'task': 'STOP: TOTAL NO. of f AND g EVALUATIONS EXCEEDS LIMIT', 'grad': array([  1.71529457e-05,   6.79456491e-06,   4.85167462e-06,\n",
      "         0.00000000e+00,   0.00000000e+00]), 'nit': 9, 'funcalls': 252})\n",
      "(array([ 30.63526707,  42.43958329,  10.39015363,  26.14453125,   1.03125   ]), 0.01393679479891885, {'warnflag': 1, 'task': 'STOP: TOTAL NO. of f AND g EVALUATIONS EXCEEDS LIMIT', 'grad': array([  3.23074900e-06,   2.43915999e-05,   1.62869718e-05,\n",
      "         0.00000000e+00,   0.00000000e+00]), 'nit': 8, 'funcalls': 252})\n",
      "(array([ 29.46108006,  41.83652597,  -6.43845796,  26.14453125,   1.03125   ]), 0.013722121576971169, {'warnflag': 1, 'task': 'STOP: TOTAL NO. of f AND g EVALUATIONS EXCEEDS LIMIT', 'grad': array([ -1.33226763e-07,   1.23678845e-05,   1.83186799e-06,\n",
      "         0.00000000e+00,   0.00000000e+00]), 'nit': 10, 'funcalls': 252})\n",
      "(array([ 30.31119515,  40.97157331,  -0.95356005,  26.14453125,   1.03125   ]), 0.01373756495015821, {'warnflag': 1, 'task': 'STOP: TOTAL NO. of f AND g EVALUATIONS EXCEEDS LIMIT', 'grad': array([  1.32782674e-05,   1.99507078e-05,   6.67244038e-06,\n",
      "         0.00000000e+00,   0.00000000e+00]), 'nit': 10, 'funcalls': 252})\n",
      "(array([ 29.94895822,  41.49881435,  -7.92378116,  26.14453125,   1.03125   ]), 0.013776490407972464, {'warnflag': 0, 'task': 'CONVERGENCE: NORM_OF_PROJECTED_GRADIENT_<=_PGTOL', 'grad': array([  5.56221735e-06,   6.32827124e-06,   7.54951657e-07,\n",
      "         0.00000000e+00,   0.00000000e+00]), 'nit': 3, 'funcalls': 30})\n",
      "(array([ 32.56509596,  38.50969459,  12.60858224,  26.14453125,   1.03125   ]), 0.014052132199397271, {'warnflag': 0, 'task': 'CONVERGENCE: NORM_OF_PROJECTED_GRADIENT_<=_PGTOL', 'grad': array([ -2.33146835e-06,  -2.13162821e-06,   6.13953333e-06,\n",
      "         0.00000000e+00,   0.00000000e+00]), 'nit': 6, 'funcalls': 42})\n",
      "(array([ 29.23511174,  42.50027723,  -2.38593194,  26.14453125,   1.03125   ]), 0.013742181552643395, {'warnflag': 1, 'task': 'STOP: TOTAL NO. of f AND g EVALUATIONS EXCEEDS LIMIT', 'grad': array([  3.33066907e-07,   1.66422431e-05,   5.98410210e-06,\n",
      "         0.00000000e+00,   0.00000000e+00]), 'nit': 13, 'funcalls': 252})\n",
      "(array([ 31.83672494,  39.18529072,   1.84497446,  26.14453125,   1.03125   ]), 0.013932532205702008, {'warnflag': 0, 'task': 'CONVERGENCE: NORM_OF_PROJECTED_GRADIENT_<=_PGTOL', 'grad': array([  8.81517082e-06,  -6.43929354e-06,   5.66213743e-06,\n",
      "         0.00000000e+00,   0.00000000e+00]), 'nit': 6, 'funcalls': 42})\n",
      "(array([ 33.18344875,  38.58607834,  12.00510412,  26.14453125,   1.03125   ]), 0.014013322996745958, {'warnflag': 0, 'task': 'CONVERGENCE: NORM_OF_PROJECTED_GRADIENT_<=_PGTOL', 'grad': array([  3.26405569e-06,  -3.33066907e-07,   4.91828800e-06,\n",
      "         0.00000000e+00,   0.00000000e+00]), 'nit': 6, 'funcalls': 42})\n",
      "(array([ 31.4083156 ,  39.08125265,   8.51610723,  26.14453125,   1.03125   ]), 0.014048125918223131, {'warnflag': 0, 'task': 'CONVERGENCE: NORM_OF_PROJECTED_GRADIENT_<=_PGTOL', 'grad': array([ -7.42739203e-06,  -5.85087534e-06,   7.96029909e-06,\n",
      "         0.00000000e+00,   0.00000000e+00]), 'nit': 6, 'funcalls': 42})\n",
      "(array([ 30.48704258,  41.32867101, -13.55359581,  26.14453125,   1.03125   ]), 0.013759671885916647, {'warnflag': 0, 'task': 'CONVERGENCE: NORM_OF_PROJECTED_GRADIENT_<=_PGTOL', 'grad': array([  9.98090499e-06,   9.81437154e-06,  -3.31956684e-06,\n",
      "         0.00000000e+00,   0.00000000e+00]), 'nit': 9, 'funcalls': 72})\n",
      "(array([ 28.56397493,  43.50110536,   2.60936819,  26.14453125,   1.03125   ]), 0.013794942475922833, {'warnflag': 1, 'task': 'STOP: TOTAL NO. of f AND g EVALUATIONS EXCEEDS LIMIT', 'grad': array([ -1.25233157e-05,   2.47135645e-05,   1.37001521e-05,\n",
      "         0.00000000e+00,   0.00000000e+00]), 'nit': 12, 'funcalls': 252})\n",
      "(array([ 29.42837517,  42.76207552,  -8.62764384,  26.14453125,   1.03125   ]), 0.013724975625184488, {'warnflag': 1, 'task': 'STOP: TOTAL NO. of f AND g EVALUATIONS EXCEEDS LIMIT', 'grad': array([  3.53050922e-06,   1.38666856e-05,  -2.66453526e-07,\n",
      "         0.00000000e+00,   0.00000000e+00]), 'nit': 10, 'funcalls': 252})\n",
      "(array([ 29.42837517,  42.76207552,  -8.62764384,  26.14453125,   1.03125   ]), 0.013724975625184488, {'warnflag': 1, 'task': 'STOP: TOTAL NO. of f AND g EVALUATIONS EXCEEDS LIMIT', 'grad': array([  3.53050922e-06,   1.38666856e-05,  -2.66453526e-07,\n",
      "         0.00000000e+00,   0.00000000e+00]), 'nit': 10, 'funcalls': 252})\n"
     ]
    }
   ],
   "source": [
    "import multiprocessing\n",
    "\n",
    "def fun(f, q_in, q_out):\n",
    "    while True:\n",
    "        i, x = q_in.get()\n",
    "        if i is None:\n",
    "            break\n",
    "        q_out.put((i, f(x)))\n",
    "\n",
    "\n",
    "def parmap(f, X, nprocs=multiprocessing.cpu_count()):\n",
    "    q_in = multiprocessing.Queue(1)\n",
    "    q_out = multiprocessing.Queue()\n",
    "\n",
    "    proc = [multiprocessing.Process(target=fun, args=(f, q_in, q_out))\n",
    "            for _ in range(nprocs)]\n",
    "    for p in proc:\n",
    "        p.daemon = True\n",
    "        p.start()\n",
    "\n",
    "    sent = [q_in.put((i, x)) for i, x in enumerate(X)]\n",
    "    [q_in.put((None, None)) for _ in range(nprocs)]\n",
    "    res = [q_out.get() for _ in range(len(sent))]\n",
    "\n",
    "    [p.join() for p in proc]\n",
    "\n",
    "    return [x for i, x in sorted(res)]\n",
    "\n",
    "def op( p0):\n",
    "    #p0 =  ps[ind]\n",
    "    retval = optimize.fmin_l_bfgs_b(cost2, p0, approx_grad=1, iprint=-1, bounds= bounds, maxiter=250, maxfun=250)\n",
    "    return retval\n",
    "retval = parmap(op, ps, nprocs=5)"
   ]
  },
  {
   "cell_type": "code",
   "execution_count": 7,
   "metadata": {
    "collapsed": false
   },
   "outputs": [],
   "source": [
    "paras = np.array([i[0] for i in retval])\n",
    "costs = np.array([i[1] for i in retval])"
   ]
  },
  {
   "cell_type": "code",
   "execution_count": 8,
   "metadata": {
    "collapsed": false
   },
   "outputs": [
    {
     "data": {
      "text/plain": [
       "(array([[ 29.46108006,  41.83652597,  -6.43845796,  26.14453125,   1.03125   ],\n",
       "        [ 32.08891216,  38.56787714,  13.67241732,  26.14453125,   1.03125   ],\n",
       "        [ 30.31119515,  40.97157331,  -0.95356005,  26.14453125,   1.03125   ],\n",
       "        [ 34.29835699,  39.50045275,  11.60109217,  26.14453125,   1.03125   ],\n",
       "        [ 30.63526707,  42.43958329,  10.39015363,  26.14453125,   1.03125   ],\n",
       "        [ 29.23511174,  42.50027723,  -2.38593194,  26.14453125,   1.03125   ],\n",
       "        [ 28.56397493,  43.50110536,   2.60936819,  26.14453125,   1.03125   ],\n",
       "        [ 29.42837517,  42.76207552,  -8.62764384,  26.14453125,   1.03125   ],\n",
       "        [ 32.56509596,  38.50969459,  12.60858224,  26.14453125,   1.03125   ],\n",
       "        [ 29.94895822,  41.49881435,  -7.92378116,  26.14453125,   1.03125   ],\n",
       "        [ 31.83672494,  39.18529072,   1.84497446,  26.14453125,   1.03125   ],\n",
       "        [ 33.18344875,  38.58607834,  12.00510412,  26.14453125,   1.03125   ],\n",
       "        [ 29.42837517,  42.76207552,  -8.62764384,  26.14453125,   1.03125   ],\n",
       "        [ 31.4083156 ,  39.08125265,   8.51610723,  26.14453125,   1.03125   ],\n",
       "        [ 30.48704258,  41.32867101, -13.55359581,  26.14453125,   1.03125   ]]),\n",
       " array([ 0.01372212,  0.01406179,  0.01373756,  0.01399677,  0.01393679,\n",
       "         0.01374218,  0.01379494,  0.01372498,  0.01405213,  0.01377649,\n",
       "         0.01393253,  0.01401332,  0.01372498,  0.01404813,  0.01375967]))"
      ]
     },
     "execution_count": 8,
     "metadata": {},
     "output_type": "execute_result"
    }
   ],
   "source": [
    "paras, costs"
   ]
  },
  {
   "cell_type": "code",
   "execution_count": 9,
   "metadata": {
    "collapsed": false
   },
   "outputs": [
    {
     "data": {
      "text/plain": [
       "array([[ 29.46108006,  41.83652597,  -6.43845796,  26.14453125,   1.03125   ]])"
      ]
     },
     "execution_count": 9,
     "metadata": {},
     "output_type": "execute_result"
    }
   ],
   "source": [
    "paras[costs == costs.min()]"
   ]
  },
  {
   "cell_type": "code",
   "execution_count": 13,
   "metadata": {
    "collapsed": false
   },
   "outputs": [
    {
     "data": {
      "text/plain": [
       "[<matplotlib.lines.Line2D at 0x7fef8c6c2250>]"
      ]
     },
     "execution_count": 13,
     "metadata": {},
     "output_type": "execute_result"
    },
    {
     "name": "stderr",
     "output_type": "stream",
     "text": [
      "/home/ucfafyi/.conda/envs/gdal_env/lib/python2.7/site-packages/matplotlib/font_manager.py:1288: UserWarning: findfont: Font family [u'sans-serif'] not found. Falling back to Bitstream Vera Sans\n",
      "  (prop.get_family(), self.defaultFamily[fontext]))\n"
     ]
    },
    {
     "data": {
      "image/png": "[encoded data removed]",
      "text/plain": [
       "<matplotlib.figure.Figure at 0x7fef8c6f2a50>"
      ]
     },
     "metadata": {},
     "output_type": "display_data"
    }
   ],
   "source": [
    "import pylab as plt\n",
    "%matplotlib inline\n",
    "plt.plot(costs)"
   ]
  },
  {
   "cell_type": "code",
   "execution_count": 10,
   "metadata": {
    "collapsed": false
   },
   "outputs": [
    {
     "name": "stderr",
     "output_type": "stream",
     "text": [
      "/data/store01/data_dirs/students/ucfafyi/.conda/envs/gdal_env/lib/python2.7/site-packages/ipykernel/__main__.py:9: RuntimeWarning: invalid value encountered in greater\n",
      "/data/store01/data_dirs/students/ucfafyi/.conda/envs/gdal_env/lib/python2.7/site-packages/ipykernel/__main__.py:9: RuntimeWarning: invalid value encountered in less\n"
     ]
    },
    {
     "data": {
      "text/plain": [
       "LinregressResult(slope=0.8855939893068242, intercept=0.012495603501919, rvalue=0.98627787853593929, pvalue=0.0, stderr=0.0022237142304714387)"
      ]
     },
     "execution_count": 10,
     "metadata": {},
     "output_type": "execute_result"
    }
   ],
   "source": [
    "xstd,ystd,angle, xs, ys =  29.46108006,  41.83652597,  -6.43845796,  26.14453125,   1.03125\n",
    "G = gaussian(xstd,ystd,angle,True)                              \n",
    "ss = signal.fftconvolve(H_data, G, mode='same')\n",
    "# remove the cloud pixel\n",
    "ss[~val_mask]=np.nan\n",
    "val = (Hx+xs<H_data.shape[0])&(Hy+ys<H_data.shape[1])\n",
    "shx, shy = (Hx+xs).astype(int), (Hy+ys).astype(int)\n",
    "Lvals, Hvals = L_data[val], ss[shx[val], shy[val]]\n",
    "mas = (Lvals>0)&(Lvals<1)&(Hvals>0)&(Hvals<1)\n",
    "r = scipy.stats.linregress(Lvals[mas], Hvals[mas])\n",
    "r"
   ]
  },
  {
   "cell_type": "code",
   "execution_count": 14,
   "metadata": {
    "collapsed": false
   },
   "outputs": [
    {
     "data": {
      "text/plain": [
       "<matplotlib.figure.Figure at 0x7fef35df7710>"
      ]
     },
     "metadata": {},
     "output_type": "display_data"
    },
    {
     "data": {
      "image/png": "[encoded data removed]",
      "text/plain": [
       "<matplotlib.figure.Figure at 0x7fef35df5510>"
      ]
     },
     "metadata": {},
     "output_type": "display_data"
    }
   ],
   "source": [
    "linear_plots([Lvals[mas],], [Hvals[mas],], cmap=plt.cm.get_cmap('jet'), \n",
    "             titles=['Composite of 16 days'], three_sigma=1)"
   ]
  },
  {
   "cell_type": "code",
   "execution_count": 32,
   "metadata": {
    "collapsed": false
   },
   "outputs": [],
   "source": [
    "def gaussian(xstd, ystd, angle, norm = True):\n",
    "    win = int(round(max(3*xstd, 3*ystd)))\n",
    "    winx = win*2**0.5\n",
    "    winy = win*2**0.5\n",
    "        \n",
    "    xgaus = signal.gaussian(winx, xstd)\n",
    "    ygaus = signal.gaussian(winy, ystd)\n",
    "    gaus  = np.outer(xgaus, ygaus)\n",
    "    r_gaus = scipy.ndimage.interpolation.rotate(gaus, angle, reshape=True)\n",
    "    center = np.array(r_gaus.shape)/2\n",
    "    cgaus = r_gaus[center[0]-win/2: center[0]+win/2, center[1]-win/2:center[1]+win/2]\n",
    "    if norm:\n",
    "        return cgaus/cgaus.sum()\n",
    "    else:\n",
    "        return cgaus \n",
    "\n",
    "def cost2(para, H_data=None, L_data=None, val_mask=None):\n",
    "    xstd,ystd,angle, xs, ys = para \n",
    "    G = gaussian(xstd,ystd,angle,True)                              \n",
    "    ss = signal.fftconvolve(H_data, G, mode='same')\n",
    "    # remove the cloud pixel\n",
    "    ss[~val_mask]=np.nan\n",
    "    val = (Hx+xs<H_data.shape[0])&(Hy+ys<H_data.shape[1])\n",
    "    shx, shy = (Hx+xs).astype(int), (Hy+ys).astype(int)\n",
    "    Lvals, Hvals = L_data[val], ss[shx[val], shy[val]]\n",
    "    mas = (Lvals>0)&(Lvals<1)&(Hvals>0)&(Hvals<1)\n",
    "    r = scipy.stats.linregress(Lvals[mas], Hvals[mas])\n",
    "    costs = abs(1-r.rvalue)\n",
    "    return costs \n",
    "\n",
    "def op(p0):\n",
    "    #p0 =  ps[ind]\n",
    "    args = H_data, L_data, val_mask\n",
    "    return optimize.fmin_l_bfgs_b(cost2, p0, approx_grad=1, iprint=-1, args=args, bounds=bounds)"
   ]
  },
  {
   "cell_type": "code",
   "execution_count": null,
   "metadata": {
    "collapsed": true
   },
   "outputs": [],
   "source": [
    "def Land_PSF_optimization(self):\n",
    "        self.h,self.v = mtile_cal(self.lat, self.lon)\n",
    "        m = mgrs.MGRS()\n",
    "        mg_coor = m.toMGRS(self.lat, self.lon, MGRSPrecision=4)\n",
    "        self.place = mg_coor[:5]\n",
    "        #self.Hfiles = glob.glob(directory +'l_data/LC8%03d%03d%d*LGN00_sr_band1.tif'%(self.path, self.row, self.year))\n",
    "        self.Hfile = os.getcwd()+'/s_data/%s/%s/%s/%d/%d/%d/0/'%(mg_coor[:2], mg_coor[2], mg_coor[3:5], self.year, self.month, self.day)\n",
    "        #Lfile = glob.glob('m_data/MCD43A1.A%d%03d.h%02dv%02d.006.*.hdf'%(year,doy,h,v))[0]\n",
    "        self.doy = datetime .datetime(self.year, self.month, self.day).timetuple().tm_yday\n",
    "        self.Lfiles = [glob.glob('m_data/MCD43A1.A%d%03d.h%02dv%02d.006.*.hdf'%(self.year,i,self.h,self.v))[0] for i in range(self.doy-8, self.doy+9)]\n",
    "        \n",
    "        cl = classification(fhead = self.Hfile, bands = (2,3,4,8,11,12,13), bounds = None)\n",
    "        cl.Get_cm_p()\n",
    "        self.cloud = cl.cm.copy()\n",
    "        self.H_data = cl.b12.copy()\n",
    "        del cl\n",
    "        cloud_cover = 1.*cloud.sum()/cloud.size\n",
    "        if cloud_cover > 0.2:  \n",
    "            print 'Too much cloud, cloud proportion: %.03f !!'%cloud_cover\n",
    "        else:\n",
    "            mete = readxml('%smetadata.xml'%Hfile)\n",
    "            self.sza = np.zeros(7)\n",
    "            self.sza[:] = mete['mSz']\n",
    "            self.saa = self.sza.copy()\n",
    "            self.saa[:] = mete['mSa']\n",
    "            self.vza = (mete['mVz'])[[1,2,3,7,8,11,12],]\n",
    "            self.vaa = (mete['mVa'])[[1,2,3,7,8,11,12],]\n",
    "            \n",
    "            self.L_inds, self.H_inds = get_coords(lat,lon)\n",
    "            self.Lx, self.Ly = self.L_inds\n",
    "            self.Hx, self.Hy = self.H_inds\n",
    "\n",
    "            angles = (self.sza[-1], self.vza[-1], (self.vaa - self.saa)[-1])\n",
    "\n",
    "            self.BRDF_16_days, self.composite_brdf, self.base_mask = self.compositing(angles, thre=0.005)\n",
    "\n",
    "            struct = ndimage.generate_binary_structure(2, 2)\n",
    "            dia_cloud = ndimage.binary_dilation(self.cloud, structure=struct, iterations=60).astype(self.cloud.dtype)\n",
    "\n",
    "            mask = ~(H_data<0).astype('bool')\n",
    "            small_mask = ndimage.binary_erosion(mask, structure=struct, iterations=60).astype(mask.dtype)\n",
    "            self.val_mask = (~dia_cloud)&small_mask\n",
    "\n",
    "\n",
    "            avker = np.ones((120,120))\n",
    "            navker = avker/avker.sum()\n",
    "            s = signal.fftconvolve(self.H_data, navker, mode='same')\n",
    "            s[~val_mask]=np.nan\n",
    "\n",
    "            self.L_data = self.composite_brdf\n",
    "\n",
    "            args = s, self.L_data, self.H_data.shape\n",
    "\n",
    "            retval0=0,0.2\n",
    "            for xstd0 in range(-30,30,15):\n",
    "                for ystd0 in range(-30,30,15):\n",
    "                    p0 = np.array([xstd0, ystd0])\n",
    "                    retval = optimize.fmin(self._cost1, p0, full_output=1, args=args)\n",
    "                    if retval[1]<retval0[1]:\n",
    "                        retval0=retval\n",
    "\n",
    "            xs, ys = retval[0]\n",
    "            self.xs, self.ys = xs, ys\n",
    "            self.p0 = 13, 32, 4, xs, ys\n",
    "            self.bounds = [5,100],[5,100],[-15,15],[xs-5,xs+5],[ys-5, ys+5]\n",
    "            #args = H_data, L_data, val_mask\n",
    "            #optimize.fmin_l_bfgs_b(cost2, p0, approx_grad=1, iprint=-1, args=args, bounds=bounds)\n",
    "\n",
    "            ps = [(5, 20, 10, xs, ys),(10, 20, 10, xs, ys), (20, 20, 10, xs, ys), (30, 20, 10, xs, ys),(40, 20, 10, xs, ys),\n",
    "            (10, 5, 10, xs, ys),(10, 10, 10, xs, ys), (10, 20, 10, xs, ys), (10, 30, 10, xs, ys),(10, 40, 10, xs, ys),\n",
    "            (10, 20, 0, xs, ys),(10, 20, 5, xs, ys), (10, 20, 10, xs, ys), (10, 30, 15, xs, ys),(10, 30, -10, xs, ys)]\n",
    "            #retval = optimize.fmin_l_bfgs_b(cost2, p0, approx_grad=1, iprint=-1, args=args, bounds=bounds)\n",
    "            #par = partial(self._op)\n",
    "            pool = multiprocessing.Pool(processes = 15)\n",
    "            self.solved = pool.map(op, ps)\n",
    "            pool.close()\n",
    "            pool.join()\n",
    "\n",
    "            return self.solved, self.BRDF_16_days, self.L_data, self.base_mask"
   ]
  },
  {
   "cell_type": "code",
   "execution_count": null,
   "metadata": {
    "collapsed": true
   },
   "outputs": [],
   "source": [
    "def gaussian(xstd, ystd, angle, norm = True):\n",
    "    win = int(round(max(3*xstd, 3*ystd)))\n",
    "    winx = win*2**0.5\n",
    "    winy = win*2**0.5\n",
    "        \n",
    "    xgaus = signal.gaussian(winx, xstd)\n",
    "    ygaus = signal.gaussian(winy, ystd)\n",
    "    gaus  = np.outer(xgaus, ygaus)\n",
    "    r_gaus = scipy.ndimage.interpolation.rotate(gaus, angle, reshape=True)\n",
    "    center = np.array(r_gaus.shape)/2\n",
    "    cgaus = r_gaus[center[0]-win/2: center[0]+win/2, center[1]-win/2:center[1]+win/2]\n",
    "    if norm:\n",
    "        return cgaus/cgaus.sum()\n",
    "    else:\n",
    "        return cgaus \n",
    "\n",
    "def cost2(para, H_data=None, L_data=None, val_mask=None):\n",
    "    xstd,ystd,angle, xs, ys = para \n",
    "    G = gaussian(xstd,ystd,angle,True)                              \n",
    "    ss = signal.fftconvolve(H_data, G, mode='same')\n",
    "    # remove the cloud pixel\n",
    "    ss[~val_mask]=np.nan\n",
    "    val = (Hx+xs<H_data.shape[0])&(Hy+ys<H_data.shape[1])\n",
    "    shx, shy = (Hx+xs).astype(int), (Hy+ys).astype(int)\n",
    "    Lvals, Hvals = L_data[val], ss[shx[val], shy[val]]\n",
    "    mas = (Lvals>0)&(Lvals<1)&(Hvals>0)&(Hvals<1)\n",
    "    r = scipy.stats.linregress(Lvals[mas], Hvals[mas])\n",
    "    costs = abs(1-r.rvalue)\n",
    "    return costs \n",
    "\n",
    "def op(p0):\n",
    "    #p0 =  ps[ind]\n",
    "    args = H_data, L_data, val_mask\n",
    "    return optimize.fmin_l_bfgs_b(cost2, p0, approx_grad=1, iprint=-1, args=args, bounds=bounds)"
   ]
  },
  {
   "cell_type": "code",
   "execution_count": null,
   "metadata": {
    "collapsed": true
   },
   "outputs": [],
   "source": []
  }
 ],
 "metadata": {
  "kernelspec": {
   "display_name": "Python 2",
   "language": "python",
   "name": "python2"
  },
  "language_info": {
   "codemirror_mode": {
    "name": "ipython",
    "version": 2
   },
   "file_extension": ".py",
   "mimetype": "text/x-python",
   "name": "python",
   "nbconvert_exporter": "python",
   "pygments_lexer": "ipython2",
   "version": "2.7.12"
  }
 },
 "nbformat": 4,
 "nbformat_minor": 0
}
