{
 "cells": [
  {
   "cell_type": "code",
   "execution_count": 1,
   "metadata": {
    "collapsed": false
   },
   "outputs": [
    {
     "name": "stdout",
     "output_type": "stream",
     "text": [
      "/data/store01/data_dirs/students/ucfafyi/S2_MODIS\n"
     ]
    }
   ],
   "source": [
    "cd /data/store01/data_dirs/students/ucfafyi/S2_MODIS"
   ]
  },
  {
   "cell_type": "code",
   "execution_count": 7,
   "metadata": {
    "collapsed": true
   },
   "outputs": [],
   "source": [
    "import os\n",
    "import sys\n",
    "sys.path.insert(0,'python')\n",
    "import multiprocessing\n",
    "from fft_helper import *\n",
    "from functools import partial\n",
    "import multiprocessing\n",
    "import gdal\n",
    "from L_geo import *\n",
    "from get_brdf import *\n",
    "from geo_trans import *\n",
    "from Dload_Finder import file_finder\n",
    "import datetime\n",
    "import glob\n",
    "from cloud import get_cloud_mask\n",
    "from classification import *\n",
    "import multiprocessing\n",
    "from scipy import ndimage, signal, optimize\n",
    "import scipy\n",
    "from get_wrs import *\n",
    "directory = os.getcwd()+'/'\n",
    "from smoothn import *\n",
    "import tifffile\n",
    "\n",
    "def fun(f, q_in, q_out):\n",
    "    while True:\n",
    "        i, x = q_in.get()\n",
    "        if i is None:\n",
    "            break\n",
    "        q_out.put((i, f(x)))\n",
    "\n",
    "\n",
    "def parmap(f, X, nprocs=multiprocessing.cpu_count()):\n",
    "    q_in = multiprocessing.Queue(1)\n",
    "    q_out = multiprocessing.Queue()\n",
    "\n",
    "    proc = [multiprocessing.Process(target=fun, args=(f, q_in, q_out))\n",
    "            for _ in range(nprocs)]\n",
    "    for p in proc:\n",
    "        p.daemon = True\n",
    "        p.start()\n",
    "\n",
    "    sent = [q_in.put((i, x)) for i, x in enumerate(X)]\n",
    "    [q_in.put((None, None)) for _ in range(nprocs)]\n",
    "    res = [q_out.get() for _ in range(len(sent))]\n",
    "\n",
    "    [p.join() for p in proc]\n",
    "\n",
    "    return [x for i, x in sorted(res)]\n",
    "\n",
    "\n",
    "\n",
    "class PSF_optimization(object):\n",
    "    def __init__(self, year, month, day, doy, lat, lon, sate):\n",
    "        self.year = year\n",
    "        self.doy = doy\n",
    "        self.month = month\n",
    "        self.day= day\n",
    "        self.lat = lat\n",
    "        self.lon = lon\n",
    "        self.sate = sate \n",
    "        self.Lx = None\n",
    "        self.LY = None\n",
    "        self.Hx = None\n",
    "        self.Hy = None\n",
    "        self.H_data = None\n",
    "        self.L_data = None\n",
    "        self.sza = None\n",
    "        self.saa = None\n",
    "        self.vza = None\n",
    "        self.vaa = None\n",
    "        self.retval = None\n",
    "        self.BRDF_16_days =None\n",
    "        self.composite_brdf = None\n",
    "        self.base_mask = None\n",
    "        \n",
    "    def S2_PSF_optimization(self):\n",
    "        \n",
    "        self.h,self.v = mtile_cal(self.lat, self.lon)\n",
    "        m = mgrs.MGRS()\n",
    "        mg_coor = m.toMGRS(self.lat, self.lon, MGRSPrecision=4)\n",
    "        self.place = mg_coor[:5]\n",
    "        #self.Hfiles = glob.glob(directory +'l_data/LC8%03d%03d%d*LGN00_sr_band1.tif'%(self.path, self.row, self.year))\n",
    "        self.Hfile = os.getcwd()+'/s_data/%s/%s/%s/%d/%d/%d/0/'%(mg_coor[:2], mg_coor[2], mg_coor[3:5], self.year, self.month, self.day)\n",
    "        #Lfile = glob.glob('m_data/MCD43A1.A%d%03d.h%02dv%02d.006.*.hdf'%(year,doy,h,v))[0]\n",
    "        self.doy = datetime .datetime(self.year, self.month, self.day).timetuple().tm_yday\n",
    "        self.Lfiles = [glob.glob('m_data/MCD43A1.A%d%03d.h%02dv%02d.006.*.hdf'%(self.year,i,self.h,self.v))[0] for i in range(self.doy-8, self.doy+9)]\n",
    "        \n",
    "        if glob.glob(self.Hfile+'cloud.tif')==[]:\n",
    "            cl = classification(fhead = self.Hfile, bands = (2,3,4,8,11,12,13), bounds = None)\n",
    "            cl.Get_cm_p()\n",
    "            self.cloud = cl.cm.copy()\n",
    "            tifffile.imsave(self.Hfile+'cloud.tif', self.cloud)\n",
    "            self.H_data = np.repeat(np.repeat(cl.b12, 2, axis=1), 2, axis=0)\n",
    "            del cl\n",
    "        else:\n",
    "            self.cloud = tifffile.imread(self.Hfile+'cloud.tif')\n",
    "        cloud_cover = 1.*self.cloud.sum()/self.cloud.size\n",
    "        if cloud_cover > 0.2:  \n",
    "            print 'Too much cloud, cloud proportion: %.03f !!'%cloud_cover\n",
    "        else:\n",
    "            mete = readxml('%smetadata.xml'%self.Hfile)\n",
    "            self.sza = np.zeros(7)\n",
    "            self.sza[:] = mete['mSz']\n",
    "            self.saa = self.sza.copy()\n",
    "            self.saa[:] = mete['mSa']\n",
    "            self.vza = (mete['mVz'])[[1,2,3,7,8,11,12],]\n",
    "            self.vaa = (mete['mVa'])[[1,2,3,7,8,11,12],]\n",
    "            \n",
    "            self.L_inds, self.H_inds = get_coords(self.lat,self.lon)\n",
    "            self.Lx, self.Ly = self.L_inds\n",
    "            self.Hx, self.Hy = self.H_inds\n",
    "\n",
    "            angles = (self.sza[-1], self.vza[-1], (self.vaa - self.saa)[-1])\n",
    "\n",
    "            self.BRDF_16_days = np.array([get_brdf_six(Lfile,angles,bands=(7,), \\\n",
    "                                              flag=None, Linds= self.L_inds) for Lfile in self.Lfiles]).squeeze()\n",
    "\n",
    "            valid_range = (self.BRDF_16_days[:,0,:]>=0)&(self.BRDF_16_days[:,0,:]<=1)\n",
    "            magic = 0.618034\n",
    "            test = self.BRDF_16_days[:,0,:].copy()\n",
    "            test[~valid_range]=np.nan\n",
    "            W = magic**self.BRDF_16_days[:,1,:]\n",
    "            W[self.BRDF_16_days[:,1,:]>1]=0\n",
    "            \n",
    "            smothed = smoothn(test, axis=0, isrobust=1, W =W, s=1)[0]\n",
    "            \n",
    "            \n",
    "            struct = ndimage.generate_binary_structure(2, 2)\n",
    "            dia_cloud = ndimage.binary_dilation(self.cloud, structure=struct, iterations=60).astype(self.cloud.dtype)\n",
    "\n",
    "            mask = ~(self.H_data<=0).astype('bool')\n",
    "            small_mask = ndimage.binary_erosion(mask, structure=struct, iterations=60).astype(mask.dtype)\n",
    "            self.val_mask = (~dia_cloud)&small_mask\n",
    "\n",
    "            avker = np.ones((120,120))\n",
    "            navker = avker/avker.sum()\n",
    "            self.s = signal.fftconvolve(self.H_data, navker, mode='same')\n",
    "            self.s[~self.val_mask]=np.nan\n",
    "\n",
    "            self.L_data = np.zeros(self.BRDF_16_days[8,0,:].shape[0])\n",
    "            self.L_data[:] = np.nan\n",
    "            self.L_data[self.BRDF_16_days[8,1,:]==0] = smothed[8,:][self.BRDF_16_days[8,1,:]==0]\n",
    "            #args = s, self.L_data, \n",
    "\n",
    "            xstd,ystd = np.mgrid[-30:30:2, -30:30:2]\n",
    "            ps = zip(xstd.ravel(), ystd.ravel())\n",
    "\n",
    "            self.solved = parmap(self.op1, ps, nprocs=32)\n",
    "\n",
    "            return self.solved, self.BRDF_16_days, smothed\n",
    "                        \n",
    "    def _cost1(self, shifts):\n",
    "        xs, ys = shifts \n",
    "        val = (self.Hx+xs<self.s.shape[0])&(self.Hy+ys<self.s.shape[1])\n",
    "        shx, shy = (self.Hx+xs).astype(int), (self.Hy+ys).astype(int)\n",
    "        Lvals, Hvals = self.L_data[val], self.s[shx[val], shy[val]]\n",
    "        Lvals[np.isnan(Lvals)],Hvals[np.isnan(Hvals)]=-9999999, -9999999\n",
    "        mas = (Lvals>0)&(Lvals<1)&(Hvals>0)&(Hvals<1)\n",
    "        r = scipy.stats.linregress(Lvals[mas], Hvals[mas])\n",
    "        return abs(1-r.rvalue)\n",
    "\n",
    "    def gaussian(self, xstd, ystd, angle, norm = True):\n",
    "        win = int(round(max(3*xstd, 3*ystd)))\n",
    "        winx = win*2**0.5\n",
    "        winy = win*2**0.5\n",
    "\n",
    "        xgaus = signal.gaussian(winx, xstd)\n",
    "        ygaus = signal.gaussian(winy, ystd)\n",
    "        gaus  = np.outer(xgaus, ygaus)\n",
    "        r_gaus = ndimage.interpolation.rotate(gaus, angle, reshape=True)\n",
    "        center = np.array(r_gaus.shape)/2\n",
    "        cgaus = r_gaus[center[0]-win/2: center[0]+win/2, center[1]-win/2:center[1]+win/2]\n",
    "        if norm:\n",
    "            return cgaus/cgaus.sum()\n",
    "        else:\n",
    "            return cgaus \n",
    "\n",
    "    def _cost2(self, para):\n",
    "        xstd,ystd,angle, xs, ys = para \n",
    "        G = self.gaussian(xstd,ystd,angle,True)                              \n",
    "        ss = signal.fftconvolve(self.H_data, G, mode='same')\n",
    "        # remove the cloud pixel\n",
    "        ss[~self.val_mask]=np.nan\n",
    "        val = (self.Hx+xs<self.H_data.shape[0])&(self.Hy+ys<self.H_data.shape[1])\n",
    "        shx, shy = (self.Hx+xs).astype(int), (self.Hy+ys).astype(int)\n",
    "        Lvals, Hvals = self.L_data[val], ss[shx[val], shy[val]]\n",
    "        Lvals[np.isnan(Lvals)],Hvals[np.isnan(Hvals)]=-9999999, -9999999\n",
    "        mas = (Lvals>0)&(Lvals<1)&(Hvals>0)&(Hvals<1)\n",
    "        r = scipy.stats.linregress(Lvals[mas], Hvals[mas])\n",
    "        costs = abs(1-r.rvalue)\n",
    "        return costs \n",
    "\n",
    "    def op1(self, p0):\n",
    "        #p0 =  ps[ind\n",
    "        #args = self.H_data, self.L_data, self.val_mas\n",
    "        return optimize.fmin(self._cost1, p0, full_output=1, maxiter=250, maxfun=250)\n",
    "\n",
    "    "
   ]
  },
  {
   "cell_type": "code",
   "execution_count": 5,
   "metadata": {
    "collapsed": false
   },
   "outputs": [
    {
     "name": "stderr",
     "output_type": "stream",
     "text": [
      "/home/ucfafyi/.conda/envs/gdal_env/lib/python2.7/site-packages/matplotlib/__init__.py:878: UserWarning: axes.color_cycle is deprecated and replaced with axes.prop_cycle; please use the latter.\n",
      "  warnings.warn(self.msg_depr % (key, alt_key))\n",
      "/home/ucfafyi/.conda/envs/gdal_env/lib/python2.7/site-packages/matplotlib/__init__.py:878: UserWarning: svg.embed_char_paths is deprecated and replaced with svg.fonttype; please use the latter.\n",
      "  warnings.warn(self.msg_depr % (key, alt_key))\n"
     ]
    }
   ],
   "source": [
    "import os\n",
    "import sys\n",
    "sys.path.insert(0,'python')\n",
    "from fastRWpkl import *\n",
    "from get_wrs import *\n",
    "from linear_plot import *\n",
    "from smoothn import *\n",
    "plot_config()\n",
    "import pylab as plt\n",
    "%matplotlib inline\n",
    "#from glob import glob\n",
    "import mgrs"
   ]
  },
  {
   "cell_type": "code",
   "execution_count": null,
   "metadata": {
    "collapsed": false,
    "scrolled": true
   },
   "outputs": [],
   "source": [
    "files = '''50SMH - 2016-11-16\n",
    "50SMH - 2016-11-06\n",
    "50SMH - 2016-09-07\n",
    "50SMH - 2016-08-28\n",
    "50SMH - 2016-07-29\n",
    "50SMH - 2016-05-10\n",
    "50SMH - 2016-04-30\n",
    "50SMH - 2016-04-10\n",
    "50SMH - 2016-02-10'''\n",
    "lat, lon = 38.84313441, 115.84771239 \n",
    "fnames = sorted([[i.split(' - ')[0], i.split(' - ')[1]] for i in files.split('\\n')])\n",
    "m = mgrs.MGRS()\n",
    "retval = []\n",
    "for fi in fnames:\n",
    "    pos, date = fi\n",
    "    da = datetime.datetime.strptime(date, '%Y-%m-%d')\n",
    "    doy = datetime .datetime(da.year, da.month, da.day).timetuple().tm_yday\n",
    "    lat, lon = m.toLatLon(pos)\n",
    "    if da.month<=10:\n",
    "        C = PSF_optimization(da.year, da.month, da.day, doy, lat+0.5, lon+1, 'S2')\n",
    "        data = C.S2_PSF_optimization()\n",
    "        #paras = np.array([i[0] for i in data[0]])\n",
    "        #costs = np.array([i[1] for i in data[0]])\n",
    "        #op_pa = paras[costs==costs.min()]\n",
    "        retval.append([fi,data])"
   ]
  },
  {
   "cell_type": "code",
   "execution_count": null,
   "metadata": {
    "collapsed": false
   },
   "outputs": [],
   "source": [
    "lat, lon = 37.94208532, 115.86192607"
   ]
  },
  {
   "cell_type": "code",
   "execution_count": null,
   "metadata": {
    "collapsed": false
   },
   "outputs": [],
   "source": [
    "fnames = sorted([[i.split(' - ')[0], i.split(' - ')[1]] for i in files.split('\\n')])"
   ]
  },
  {
   "cell_type": "code",
   "execution_count": null,
   "metadata": {
    "collapsed": false
   },
   "outputs": [],
   "source": [
    "fnames"
   ]
  },
  {
   "cell_type": "code",
   "execution_count": null,
   "metadata": {
    "collapsed": false,
    "scrolled": false
   },
   "outputs": [],
   "source": [
    "m = mgrs.MGRS()\n",
    "retval = []\n",
    "for fi in fnames:\n",
    "    pos, date = fi\n",
    "    da = datetime.datetime.strptime(date, '%Y-%m-%d')\n",
    "    doy = datetime .datetime(da.year, da.month, da.day).timetuple().tm_yday\n",
    "    lat, lon = m.toLatLon(pos)\n",
    "    if da.month<=10:\n",
    "        try:\n",
    "            C = PSF_optimization(da.year, da.month, da.day, doy, lat+0.5, lon+1, 'S2')\n",
    "            data = C.S2_PSF_optimization()\n",
    "            paras = np.array([i[0] for i in data[0]])\n",
    "            costs = np.array([i[1] for i in data[0]])\n",
    "            op_pa = paras[costs==costs.min()]\n",
    "            retval.append([fi, op_pa, costs.min()])\n",
    "        except:\n",
    "            pass"
   ]
  },
  {
   "cell_type": "code",
   "execution_count": null,
   "metadata": {
    "collapsed": false
   },
   "outputs": [],
   "source": [
    "L_data, s, Hx, Hy, Lx, Ly = C.L_data, C.s, C.Hx, C.Hy, C.Lx, C.Ly"
   ]
  },
  {
   "cell_type": "code",
   "execution_count": 47,
   "metadata": {
    "collapsed": true
   },
   "outputs": [],
   "source": [
    "def _cost1(shifts):\n",
    "        xs, ys = shifts \n",
    "        val = (Hx+xs<s.shape[0])&(Hy+ys<s.shape[1])\n",
    "        shx, shy = (Hx+xs).astype(int), (Hy+ys).astype(int)\n",
    "        Lvals, Hvals = L_data[val], s[shx[val], shy[val]]\n",
    "        Lvals[np.isnan(Lvals)],Hvals[np.isnan(Hvals)]=-9999999, -9999999\n",
    "        mas = (Lvals>0)&(Lvals<1)&(Hvals>0)&(Hvals<1)\n",
    "        r = scipy.stats.linregress(Lvals[mas], Hvals[mas])\n",
    "        return abs(1-r.rvalue)\n",
    "def op1(p0):\n",
    "        #p0 =  ps[ind]\n",
    "        #args = self.H_data, self.L_data, self.val_mask\n",
    "        return optimize.fmin(_cost1, p0, full_output=1, maxiter=250, maxfun=250)"
   ]
  },
  {
   "cell_type": "code",
   "execution_count": null,
   "metadata": {
    "collapsed": true
   },
   "outputs": [],
   "source": []
  },
  {
   "cell_type": "code",
   "execution_count": null,
   "metadata": {
    "collapsed": true
   },
   "outputs": [],
   "source": []
  }
 ],
 "metadata": {
  "kernelspec": {
   "display_name": "Python 2",
   "language": "python",
   "name": "python2"
  },
  "language_info": {
   "codemirror_mode": {
    "name": "ipython",
    "version": 2
   },
   "file_extension": ".py",
   "mimetype": "text/x-python",
   "name": "python",
   "nbconvert_exporter": "python",
   "pygments_lexer": "ipython2",
   "version": "2.7.12"
  }
 },
 "nbformat": 4,
 "nbformat_minor": 0
}
