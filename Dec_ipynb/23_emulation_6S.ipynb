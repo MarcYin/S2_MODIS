{
 "cells": [
  {
   "cell_type": "code",
   "execution_count": 1,
   "metadata": {
    "collapsed": false
   },
   "outputs": [
    {
     "name": "stdout",
     "output_type": "stream",
     "text": [
      "/data/store01/data_dirs/students/ucfafyi/S2_MODIS\n"
     ]
    }
   ],
   "source": [
    "cd /data/store01/data_dirs/students/ucfafyi/S2_MODIS"
   ]
  },
  {
   "cell_type": "code",
   "execution_count": 2,
   "metadata": {
    "collapsed": false
   },
   "outputs": [],
   "source": [
    "import sys\n",
    "sys.path.insert(0,'python')\n",
    "from Py6S import *\n",
    "import gp_emulator\n",
    "import pickle\n",
    "from functools import partial\n",
    "import pylab as plt\n",
    "from scipy.stats import linregress\n",
    "%matplotlib inline\n",
    "import numpy as np"
   ]
  },
  {
   "cell_type": "code",
   "execution_count": 3,
   "metadata": {
    "collapsed": false
   },
   "outputs": [],
   "source": [
    "S2_RSRs = pickle.load(open('Nov_ipynb/S2_RSRs.pkl', 'r'))"
   ]
  },
  {
   "cell_type": "code",
   "execution_count": 6,
   "metadata": {
    "collapsed": false,
    "scrolled": true
   },
   "outputs": [
    {
     "data": {
      "text/plain": [
       "(13,\n",
       " 0.84799999999999998,\n",
       " 0.88049999999999995,\n",
       " array([ 0.00165148,  0.03804429,  0.21657728,  0.68010578,  0.91494435,\n",
       "         0.92785929,  0.94658315,  0.96995952,  0.98332461,  0.99423704,\n",
       "         0.92100462,  0.3551352 ,  0.04609595,  0.00463711]))"
      ]
     },
     "execution_count": 6,
     "metadata": {},
     "output_type": "execute_result"
    }
   ],
   "source": [
    "S2_RSRs[6]"
   ]
  },
  {
   "cell_type": "code",
   "execution_count": 129,
   "metadata": {
    "collapsed": true
   },
   "outputs": [],
   "source": [
    "def atm(p, RSR = None):\n",
    "    #print len(p[0])\n",
    "    # ele in km\n",
    "    TOA_ref , aot550, water, ozone, sz , vz , ele= p[0]\n",
    "    \n",
    "    path = '/home/ucfafyi/DATA/Downloads/6SV2.1/sixsV2.1'\n",
    "    s = SixS(path)\n",
    "    ss = []\n",
    "    s = SixS(path)\n",
    "    s.altitudes.set_target_custom_altitude(ele)\n",
    "    s.altitudes.set_sensor_satellite_level()\n",
    "    s.ground_reflectance = GroundReflectance.HomogeneousLambertian(GroundReflectance.GreenVegetation)\n",
    "    s.geometry = Geometry.User()\n",
    "    s.geometry.solar_a = 0\n",
    "    s.geometry.solar_z = np.arcsin(sz)*180/np.pi\n",
    "    s.geometry.view_a = 0\n",
    "    s.geometry.view_z = np.arcsin(vz)*180/np.pi\n",
    "    s.wavelength = Wavelength(RSR)\n",
    "    s.aero_profile = AeroProfile.PredefinedType(AeroProfile.Continental)\n",
    "    s.aot550 = aot550\n",
    "    s.atmos_profile = AtmosProfile.UserWaterAndOzone(water, ozone)\n",
    "    s.atmos_corr = AtmosCorr.AtmosCorrLambertianFromReflectance(TOA_ref)\n",
    "    s.run()\n",
    "    return s.outputs.atmos_corrected_reflectance_lambertian"
   ]
  },
  {
   "cell_type": "code",
   "execution_count": 130,
   "metadata": {
    "collapsed": true
   },
   "outputs": [],
   "source": [
    "parameters = ['TOA_ref','aot550', 'water', 'ozone', 'sz','vz','ele']\n",
    "min_vals = [0.,0.,0., 0., 0., 0., 0]\n",
    "max_vals = [1,1.,10., 1, 1, 1, 2]"
   ]
  },
  {
   "cell_type": "code",
   "execution_count": null,
   "metadata": {
    "collapsed": false,
    "scrolled": true
   },
   "outputs": [],
   "source": [
    "n_train =1000\n",
    "n_validate = 500\n",
    "retval = []\n",
    "for band in range(7):\n",
    "    simulator = partial (atm, RSR=S2_RSRs[band])\n",
    "    x = gp_emulator.create_emulator_validation ( simulator, parameters, min_vals, max_vals, \n",
    "                                                n_train, n_validate, do_gradient=True, n_tries=15, n_procs=16)\n",
    "    retval.append(x)"
   ]
  },
  {
   "cell_type": "code",
   "execution_count": null,
   "metadata": {
    "collapsed": true
   },
   "outputs": [],
   "source": [
    "retval"
   ]
  },
  {
   "cell_type": "code",
   "execution_count": null,
   "metadata": {
    "collapsed": true
   },
   "outputs": [],
   "source": [
    "from fastRWpkl import *\n",
    "parallel_rw_pkl(retval, 'Sixs_emulation', 'w')"
   ]
  },
  {
   "cell_type": "code",
   "execution_count": 116,
   "metadata": {
    "collapsed": false
   },
   "outputs": [
    {
     "name": "stdout",
     "output_type": "stream",
     "text": [
      " 1 &    nan &    nan &    nan &    nan &    nan\\\\\n",
      "2 &    nan &    nan &    nan &    nan &    nan\\\\\n",
      "3 &    nan &    nan &    nan &    nan &    nan\\\\\n",
      "4 &  0.001 &  1.525 &  0.010 & 5.689e-03 & 8.085e+02\\\\\n",
      "5 &    nan &    nan &    nan &    nan &    nan\\\\\n",
      "6 & -0.000 &  0.000 & -0.001 & 4.103e-11 & 9.007e+01\\\\\n",
      "7 & -0.000 &  0.000 & -0.000 & 4.478e-09 & 1.416e+03\\\\\n"
     ]
    },
    {
     "data": {
      "image/png": "[encoded data removed]",
      "text/plain": [
       "<matplotlib.figure.Figure at 0x7f0f643f54d0>"
      ]
     },
     "metadata": {},
     "output_type": "display_data"
    }
   ],
   "source": [
    "fig1, axs1 = plt.subplots ( nrows=2, ncols=4, figsize=(14,7))\n",
    "#fig2, axs2 = plt.subplots ( nrows=4, ncols=3, figsize=(9,9))\n",
    "axs1 = axs1.flatten()\n",
    "#axs2 = axs2.flatten()\n",
    "names = ('SB2_MB3,SB3_MB4,SB4_MB1,SB8_MB2,SB8A_MB2,SB11_MB6,SB12_MB7').split(',')\n",
    "\n",
    "for iband in xrange (7):\n",
    "    gp, validate, validate_output, validate_gradient, emulated_validation, emulated_gradient = retval[iband]\n",
    "\n",
    "    slope, intercept, r_value, p_value, std_err = linregress( validate_output, emulated_validation.squeeze() )\n",
    "    axs1[iband].plot ( validate_output, emulated_validation, '+', mec=\"#90ceff\", mfc=\"none\", rasterized=True, markersize= 4 )\n",
    "    ymax = max(validate_output.max(), emulated_validation.max())\n",
    "    if iband == 2:\n",
    "        ymax = ymax*1.7\n",
    "    axs1[iband].plot ( [0, 1.2*ymax], [0, 1.2*ymax], 'k--', lw=0.5)\n",
    "    #p = np.polyfit ( validate_output, emulated_validation, 1)\n",
    "    mae = np.abs(validate_output- emulated_validation.squeeze()).max()\n",
    "    print \"%d & %6.3f & %6.3f & %6.3f & %6.3e & %6.3e\\\\\\\\\" % (iband+1, slope, intercept, r_value, std_err, mae),\n",
    "    ymax = 1\n",
    "    x = np.linspace(0, 1.1/1.2, 5)\n",
    "    #axs1[iband].plot ( x, np.polyval ( p, x), '-', lw=0.4  )\n",
    "    axs1[iband].set_ylim ( 0, ymax )\n",
    "    axs1[iband].set_xlim ( 0, ymax )\n",
    "    #pretty_axes ( axs1[iband])\n",
    "    axs1[iband].set_title ('SENT %s'%(names[iband][1:-4]))\n",
    "    print\n",
    "axs1[4].set_ylabel ( \"Emulated 6S corrected reflectance [-]\")\n",
    "axs1[4].set_xlabel ( \"6S corrected reflectance [-]\")\n",
    "plt.tight_layout()     \n",
    "axs1[7].set_visible (False)"
   ]
  },
  {
   "cell_type": "code",
   "execution_count": null,
   "metadata": {
    "collapsed": true
   },
   "outputs": [],
   "source": []
  }
 ],
 "metadata": {
  "kernelspec": {
   "display_name": "Python 2",
   "language": "python",
   "name": "python2"
  },
  "language_info": {
   "codemirror_mode": {
    "name": "ipython",
    "version": 2
   },
   "file_extension": ".py",
   "mimetype": "text/x-python",
   "name": "python",
   "nbconvert_exporter": "python",
   "pygments_lexer": "ipython2",
   "version": "2.7.12"
  }
 },
 "nbformat": 4,
 "nbformat_minor": 0
}
