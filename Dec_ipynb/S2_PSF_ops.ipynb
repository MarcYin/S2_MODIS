{
 "cells": [
  {
   "cell_type": "code",
   "execution_count": 1,
   "metadata": {
    "collapsed": false
   },
   "outputs": [
    {
     "name": "stdout",
     "output_type": "stream",
     "text": [
      "/data/store01/data_dirs/students/ucfafyi/S2_MODIS\n"
     ]
    }
   ],
   "source": [
    "cd /data/store01/data_dirs/students/ucfafyi/S2_MODIS"
   ]
  },
  {
   "cell_type": "code",
   "execution_count": 2,
   "metadata": {
    "collapsed": true
   },
   "outputs": [],
   "source": [
    "import os\n",
    "import sys\n",
    "sys.path.insert(0,'python')\n",
    "from PSF_optimization import *\n",
    "from fastRWpkl import *\n",
    "from get_wrs import *"
   ]
  },
  {
   "cell_type": "code",
   "execution_count": 3,
   "metadata": {
    "collapsed": true
   },
   "outputs": [],
   "source": [
    "lat, lon, year = 37.181944, 114.36, 2016"
   ]
  },
  {
   "cell_type": "code",
   "execution_count": 4,
   "metadata": {
    "collapsed": false
   },
   "outputs": [],
   "source": [
    "h,v = mtile_cal(lat, lon)\n",
    "m = mgrs.MGRS()\n",
    "mg_coor = m.toMGRS(lat, lon, MGRSPrecision=4)\n",
    "place = mg_coor[:5]\n",
    "fnames = []\n",
    "directory  = os.getcwd()+'/s_data/%s/%s/%s/%d/'%(mg_coor[:2], mg_coor[2], mg_coor[3:5], year)\n",
    "for path, subdirs, files in os.walk(directory):\n",
    "    if 'B01.jp2' in files:\n",
    "        fnames.append( os.path.join(path))"
   ]
  },
  {
   "cell_type": "code",
   "execution_count": 4,
   "metadata": {
    "collapsed": false,
    "scrolled": true
   },
   "outputs": [],
   "source": [
    "files = np.loadtxt('China_S2_images.txt', dtype='S10')"
   ]
  },
  {
   "cell_type": "code",
   "execution_count": 14,
   "metadata": {
    "collapsed": false,
    "scrolled": true
   },
   "outputs": [
    {
     "name": "stdout",
     "output_type": "stream",
     "text": [
      "50SPG_1103_PSF.pkl\n",
      "50SPG_1014_PSF.pkl\n",
      "50SPG_1004_PSF.pkl\n",
      "50SPG_0616_PSF.pkl\n",
      "50SPG_0616_PSF.pkl\n",
      "50SPG_0530_PSF.pkl\n",
      "50SPG_0510_PSF.pkl\n",
      "50SPG_0430_PSF.pkl\n",
      "50SNG_0828_PSF.pkl\n",
      "50SNG_0530_PSF.pkl\n",
      "50SNG_0510_PSF.pkl\n",
      "50SNG_0430_PSF.pkl\n",
      "50SNG_0410_PSF.pkl\n",
      "50SNG_0210_PSF.pkl\n",
      "50SMG_1116_PSF.pkl\n",
      "50SMG_0907_PSF.pkl\n",
      "50SMG_0828_PSF.pkl\n",
      "50SMG_0729_PSF.pkl\n",
      "50SMG_0530_PSF.pkl\n",
      "50SMG_0510_PSF.pkl\n",
      "50SMG_0430_PSF.pkl\n",
      "50SMG_0410_PSF.pkl\n",
      "50SMG_0210_PSF.pkl\n",
      "50SLG_1030_PSF.pkl\n",
      "50SLG_0930_PSF.pkl\n",
      "50SLG_0910_PSF.pkl\n",
      "50SLG_0910_PSF.pkl\n",
      "50SLG_0831_PSF.pkl\n",
      "50SLG_0821_PSF.pkl\n",
      "50SLG_0622_PSF.pkl\n",
      "50SLG_0503_PSF.pkl\n",
      "50SLG_0413_PSF.pkl\n",
      "50SLG_0203_PSF.pkl\n",
      "50SLG_0403_PSF.pkl\n",
      "50SLG_0114_PSF.pkl\n",
      "50SKG_1030_PSF.pkl\n",
      "50SKG_1010_PSF.pkl\n",
      "50SKG_0930_PSF.pkl\n",
      "50SKG_0910_PSF.pkl\n",
      "50SKG_0831_PSF.pkl\n",
      "50SKG_0821_PSF.pkl\n",
      "50SKG_0821_PSF.pkl\n",
      "50SKG_0811_PSF.pkl\n",
      "50SKG_0622_PSF.pkl\n",
      "50SKG_0503_PSF.pkl\n",
      "50SKG_0413_PSF.pkl\n",
      "50SKG_0203_PSF.pkl\n",
      "50SNH_1116_PSF.pkl\n",
      "50SNH_1017_PSF.pkl\n",
      "50SNH_0828_PSF.pkl\n",
      "50SNH_0510_PSF.pkl\n",
      "50SNH_0430_PSF.pkl\n",
      "50SNH_0410_PSF.pkl\n",
      "50SNH_0210_PSF.pkl\n",
      "50SMH_1116_PSF.pkl\n",
      "50SMH_1106_PSF.pkl\n",
      "50SMH_0907_PSF.pkl\n",
      "50SMH_0828_PSF.pkl\n",
      "50SMH_0729_PSF.pkl\n",
      "50SMH_0510_PSF.pkl\n",
      "50SMH_0430_PSF.pkl\n",
      "50SMH_0410_PSF.pkl\n",
      "50SMH_0210_PSF.pkl\n",
      "50SLH_1030_PSF.pkl\n",
      "50SLH_1010_PSF.pkl\n",
      "50SLH_0930_PSF.pkl\n",
      "50SLH_0910_PSF.pkl\n",
      "50SLH_0831_PSF.pkl\n",
      "50SLH_0702_PSF.pkl\n",
      "50SLH_0622_PSF.pkl\n",
      "50SLH_0503_PSF.pkl\n",
      "50SLH_0413_PSF.pkl\n",
      "50SLH_0403_PSF.pkl\n",
      "50SKH_1030_PSF.pkl\n",
      "50SKH_1010_PSF.pkl\n",
      "50SKH_0930_PSF.pkl\n",
      "50SKH_0910_PSF.pkl\n",
      "50SKH_0831_PSF.pkl\n",
      "50SKH_0821_PSF.pkl\n",
      "50SKH_0622_PSF.pkl\n",
      "50SKH_0503_PSF.pkl\n",
      "50SKH_0413_PSF.pkl\n",
      "50SMJ_0920_PSF.pkl\n",
      "50SMJ_1010_PSF.pkl\n",
      "50SMJ_0930_PSF.pkl\n",
      "50SMJ_0831_PSF.pkl\n",
      "50SMJ_0821_PSF.pkl\n",
      "50SMJ_0702_PSF.pkl\n",
      "50SMJ_0622_PSF.pkl\n",
      "50SMJ_0513_PSF.pkl\n",
      "50SMJ_0503_PSF.pkl\n",
      "50SMJ_0413_PSF.pkl\n",
      "50SMJ_0324_PSF.pkl\n",
      "50SMJ_0403_PSF.pkl\n",
      "50SMJ_0314_PSF.pkl\n",
      "50SLJ_0920_PSF.pkl\n",
      "50SLJ_1010_PSF.pkl\n",
      "50SLJ_0930_PSF.pkl\n",
      "50SLJ_0831_PSF.pkl\n",
      "50SLJ_0821_PSF.pkl\n",
      "50SLJ_0702_PSF.pkl\n",
      "50SLJ_0622_PSF.pkl\n",
      "50SLJ_0513_PSF.pkl\n",
      "50SLJ_0503_PSF.pkl\n",
      "50SLJ_0413_PSF.pkl\n",
      "50SLJ_0324_PSF.pkl\n",
      "50SLJ_0403_PSF.pkl\n"
     ]
    }
   ],
   "source": [
    "for i in files:\n",
    "    pos, date = i\n",
    "    da = datetime.datetime.strptime(date, '%Y-%m-%d')\n",
    "    print pos+'_%02d%02d_PSF.pkl'%(da.month, da.day)"
   ]
  },
  {
   "cell_type": "code",
   "execution_count": 17,
   "metadata": {
    "collapsed": false
   },
   "outputs": [
    {
     "data": {
      "text/plain": [
       "(37.040893542510126, 118.12448022993999)"
      ]
     },
     "execution_count": 17,
     "metadata": {},
     "output_type": "execute_result"
    }
   ],
   "source": [
    "m = mgrs.MGRS()\n",
    "m.toLatLon(pos)"
   ]
  },
  {
   "cell_type": "code",
   "execution_count": 19,
   "metadata": {
    "collapsed": false
   },
   "outputs": [
    {
     "data": {
      "text/plain": [
       "'50SPG'"
      ]
     },
     "execution_count": 19,
     "metadata": {},
     "output_type": "execute_result"
    }
   ],
   "source": [
    "pos"
   ]
  },
  {
   "cell_type": "code",
   "execution_count": 20,
   "metadata": {
    "collapsed": false
   },
   "outputs": [
    {
     "data": {
      "text/plain": [
       "'50SPF0000099999'"
      ]
     },
     "execution_count": 20,
     "metadata": {},
     "output_type": "execute_result"
    }
   ],
   "source": [
    "m = mgrs.MGRS()\n",
    "m.toMGRS(37.040893542510126, 118.12448022993999, MGRSPrecision=5)"
   ]
  },
  {
   "cell_type": "code",
   "execution_count": null,
   "metadata": {
    "collapsed": false,
    "scrolled": true
   },
   "outputs": [
    {
     "name": "stdout",
     "output_type": "stream",
     "text": [
      "50SPG\n",
      "Due to lack of modis ['50SPG' '2016-11-03']\n",
      "50SPG\n",
      "\n",
      "Here is the cloud probability calculation!\n",
      "\n",
      "/S/PG/2016/10/14/0/ (2, 3, 4, 8, 11, 12, 13)\n",
      "7%\n"
     ]
    },
    {
     "name": "stderr",
     "output_type": "stream",
     "text": [
      "python/classification.py:122: RuntimeWarning: invalid value encountered in divide\n",
      "  self.NDSI = (self.b3 - self.eb11)/(self.eb11 + self.b3)\n",
      "python/classification.py:93: RuntimeWarning: invalid value encountered in greater\n",
      "  m = ca > minm\n"
     ]
    },
    {
     "name": "stdout",
     "output_type": "stream",
     "text": [
      "14%\n",
      "21%\n",
      "29%\n",
      "36%\n"
     ]
    },
    {
     "name": "stderr",
     "output_type": "stream",
     "text": [
      "python/classification.py:149: RuntimeWarning: divide by zero encountered in divide\n",
      "  b2_b4 = self.b2/self.b4\n",
      "python/classification.py:149: RuntimeWarning: invalid value encountered in divide\n",
      "  b2_b4 = self.b2/self.b4\n"
     ]
    },
    {
     "name": "stdout",
     "output_type": "stream",
     "text": [
      "43%\n"
     ]
    },
    {
     "name": "stderr",
     "output_type": "stream",
     "text": [
      "python/classification.py:178: RuntimeWarning: invalid value encountered in greater\n",
      "  S_p_m = self.sp > self.t7_sp #use the finnal possibility to thershold (0.73 for his) the snow mask\n"
     ]
    },
    {
     "name": "stdout",
     "output_type": "stream",
     "text": [
      "50%\n"
     ]
    },
    {
     "name": "stderr",
     "output_type": "stream",
     "text": [
      "python/classification.py:183: RuntimeWarning: invalid value encountered in divide\n",
      "  self.NDVI = (self.b8 - self.b4)/(self.b8 + self.b4)\n",
      "python/classification.py:99: RuntimeWarning: invalid value encountered in less\n",
      "  m = ca < maxm\n"
     ]
    },
    {
     "name": "stdout",
     "output_type": "stream",
     "text": [
      "57%\n"
     ]
    },
    {
     "name": "stderr",
     "output_type": "stream",
     "text": [
      "python/classification.py:190: RuntimeWarning: divide by zero encountered in divide\n",
      "  b8_b3 = self.b8/self.b3\n",
      "python/classification.py:190: RuntimeWarning: invalid value encountered in divide\n",
      "  b8_b3 = self.b8/self.b3\n"
     ]
    },
    {
     "name": "stdout",
     "output_type": "stream",
     "text": [
      "64%\n"
     ]
    },
    {
     "name": "stderr",
     "output_type": "stream",
     "text": [
      "python/classification.py:197: RuntimeWarning: divide by zero encountered in divide\n",
      "  b2_b11 = self.b2/self.eb11\n",
      "python/classification.py:197: RuntimeWarning: invalid value encountered in divide\n",
      "  b2_b11 = self.b2/self.eb11\n",
      "python/classification.py:201: RuntimeWarning: invalid value encountered in less\n",
      "  self.bsm = (self.b2 < b2_FT) & (b2_b11 < 0.6) #bare soil\n",
      "python/classification.py:203: RuntimeWarning: invalid value encountered in less\n",
      "  self.p10m = p10m & ~(self.b2 < b2_FT)\n"
     ]
    },
    {
     "name": "stdout",
     "output_type": "stream",
     "text": [
      "71%\n",
      "79%\n"
     ]
    },
    {
     "name": "stderr",
     "output_type": "stream",
     "text": [
      "python/classification.py:216: RuntimeWarning: divide by zero encountered in divide\n",
      "  b2_b11 = self.b2/self.eb11\n",
      "python/classification.py:216: RuntimeWarning: invalid value encountered in divide\n",
      "  b2_b11 = self.b2/self.eb11\n",
      "python/classification.py:218: RuntimeWarning: invalid value encountered in greater\n",
      "  self.wm2 = where((b2_b11 > 4.) & (self.eb12 < B12_FT) & (self.eb8a < self.b4) & (self.b2 < 0.2), True, False)\n",
      "python/classification.py:218: RuntimeWarning: invalid value encountered in less\n",
      "  self.wm2 = where((b2_b11 > 4.) & (self.eb12 < B12_FT) & (self.eb8a < self.b4) & (self.b2 < 0.2), True, False)\n",
      "python/classification.py:219: RuntimeWarning: invalid value encountered in less\n",
      "  R15_AMB = (b2_b11 < 4.) & (b2_b11 >= 2.) & (self.eb12 < B12_FT) & (self.eb8a < self.b4) & (self.b2 < 0.2)\n",
      "python/classification.py:219: RuntimeWarning: invalid value encountered in greater_equal\n",
      "  R15_AMB = (b2_b11 < 4.) & (b2_b11 >= 2.) & (self.eb12 < B12_FT) & (self.eb8a < self.b4) & (self.b2 < 0.2)\n"
     ]
    },
    {
     "name": "stdout",
     "output_type": "stream",
     "text": [
      "86%\n"
     ]
    },
    {
     "name": "stderr",
     "output_type": "stream",
     "text": [
      "python/classification.py:228: RuntimeWarning: divide by zero encountered in divide\n",
      "  b8a_b11 = self.eb8a/self.eb11\n",
      "python/classification.py:228: RuntimeWarning: invalid value encountered in divide\n",
      "  b8a_b11 = self.eb8a/self.eb11\n",
      "python/classification.py:230: RuntimeWarning: invalid value encountered in less\n",
      "  self.Dssm = (self.b2 < b2_FT) & (b8a_b11 < 0.9) & (self.b2 < 0.8)\n",
      "python/classification.py:232: RuntimeWarning: invalid value encountered in less\n",
      "  self.p13m = p13m & ~(self.b2 < b2_FT)\n"
     ]
    },
    {
     "name": "stdout",
     "output_type": "stream",
     "text": [
      "93%\n"
     ]
    },
    {
     "name": "stderr",
     "output_type": "stream",
     "text": [
      "python/classification.py:237: RuntimeWarning: divide by zero encountered in divide\n",
      "  b4_b11 = self.b4/self.eb11\n",
      "python/classification.py:237: RuntimeWarning: invalid value encountered in divide\n",
      "  b4_b11 = self.b4/self.eb11\n"
     ]
    },
    {
     "name": "stdout",
     "output_type": "stream",
     "text": [
      "99%\n"
     ]
    },
    {
     "name": "stderr",
     "output_type": "stream",
     "text": [
      "python/classification.py:286: RuntimeWarning: invalid value encountered in greater\n",
      "  c_ptm = self.cp > self.c_pt\n"
     ]
    },
    {
     "name": "stdout",
     "output_type": "stream",
     "text": [
      "Done!!!\n"
     ]
    },
    {
     "name": "stderr",
     "output_type": "stream",
     "text": [
      "python/PSF_optimization.py:114: RuntimeWarning: divide by zero encountered in divide\n",
      "  dif_mask = (dif/np.abs(forward_8_days[i,0,:])) <thresh\n",
      "python/PSF_optimization.py:114: RuntimeWarning: invalid value encountered in divide\n",
      "  dif_mask = (dif/np.abs(forward_8_days[i,0,:])) <thresh\n",
      "python/PSF_optimization.py:114: RuntimeWarning: invalid value encountered in less\n",
      "  dif_mask = (dif/np.abs(forward_8_days[i,0,:])) <thresh\n"
     ]
    },
    {
     "name": "stdout",
     "output_type": "stream",
     "text": [
      "Optimization terminated successfully.\n",
      "         Current function value: 0.050309\n",
      "         Iterations: 20\n",
      "         Function evaluations: 68\n",
      "Optimization terminated successfully.\n",
      "         Current function value: 0.049820\n",
      "         Iterations: 21\n",
      "         Function evaluations: 67\n",
      "Optimization terminated successfully.\n",
      "         Current function value: 0.049307\n",
      "         Iterations: 21\n",
      "         Function evaluations: 69\n",
      "Optimization terminated successfully.\n",
      "         Current function value: 0.048017\n",
      "         Iterations: 19\n",
      "         Function evaluations: 64\n",
      "Optimization terminated successfully.\n",
      "         Current function value: 0.046274\n",
      "         Iterations: 17\n",
      "         Function evaluations: 60\n",
      "Optimization terminated successfully.\n",
      "         Current function value: 0.041916\n",
      "         Iterations: 45\n",
      "         Function evaluations: 170\n",
      "Optimization terminated successfully.\n",
      "         Current function value: 0.039801\n",
      "         Iterations: 14\n",
      "         Function evaluations: 53\n",
      "Optimization terminated successfully.\n",
      "         Current function value: 0.039045\n",
      "         Iterations: 15\n",
      "         Function evaluations: 57\n",
      "Optimization terminated successfully.\n",
      "         Current function value: 0.045172\n",
      "         Iterations: 19\n",
      "         Function evaluations: 63\n",
      "Optimization terminated successfully.\n",
      "         Current function value: 0.043905\n",
      "         Iterations: 14\n",
      "         Function evaluations: 53\n",
      "Optimization terminated successfully.\n",
      "         Current function value: 0.040819\n",
      "         Iterations: 3\n",
      "         Function evaluations: 11\n",
      "Optimization terminated successfully.\n",
      "         Current function value: 0.039417\n",
      "         Iterations: 16\n",
      "         Function evaluations: 56\n",
      "Optimization terminated successfully.\n",
      "         Current function value: 0.041440\n",
      "         Iterations: 19\n",
      "         Function evaluations: 63\n",
      "Optimization terminated successfully.\n",
      "         Current function value: 0.036716\n",
      "         Iterations: 15\n",
      "         Function evaluations: 57\n",
      "Optimization terminated successfully.\n",
      "         Current function value: 0.038632\n",
      "         Iterations: 14\n",
      "         Function evaluations: 55\n",
      "Optimization terminated successfully.\n",
      "         Current function value: 0.030083\n",
      "         Iterations: 14\n",
      "         Function evaluations: 55\n"
     ]
    }
   ],
   "source": [
    "for fi in files:\n",
    "    pos, date = fi\n",
    "    print pos\n",
    "    da = datetime.datetime.strptime(date, '%Y-%m-%d')\n",
    "    doy = datetime .datetime(da.year, da.month, da.day).timetuple().tm_yday\n",
    "    lat, lon = m.toLatLon(pos)\n",
    "    if da.month<=10:\n",
    "        C = PSF_optimization(da.year, da.month, da.day, doy, lat+0.5, lon+1, 'S2')\n",
    "        data = C.S2_PSF_optimization()\n",
    "        try:\n",
    "            parallel_rw_pkl(data, pos+'_%02d%02d_PSF.pkl'%(da.month, da.day))\n",
    "        except:\n",
    "            print 'something wrong', fi\n",
    "    else:\n",
    "        print 'Due to lack of modis', fi"
   ]
  },
  {
   "cell_type": "code",
   "execution_count": null,
   "metadata": {
    "collapsed": false,
    "scrolled": true
   },
   "outputs": [],
   "source": [
    "'''\n",
    "for fname in fnames[6:]:\n",
    "    month, day =  int(fname.split('/')[-3]), int(fname.split('/')[-2])\n",
    "    doy = datetime .datetime(year, month, day).timetuple().tm_yday\n",
    "    C = PSF_optimization(2016, month, day, doy, 37.181944, 114.36, 'S2')\n",
    "    data = C.S2_PSF_optimization()\n",
    "    try:\n",
    "        parallel_rw_pkl(data, mg_coor[:5]+'_%02d%02d_PSF.pkl'%(month, day))\n",
    "    except:\n",
    "        pass"
   ]
  },
  {
   "cell_type": "code",
   "execution_count": 28,
   "metadata": {
    "collapsed": false
   },
   "outputs": [
    {
     "name": "stdout",
     "output_type": "stream",
     "text": [
      "pkls/50SKG_0117_PSF.pkl00.pkl  pkls/50SKG_0526_PSF.pkl00.pkl\r\n",
      "pkls/50SKG_0117_PSF.pkl01.pkl  pkls/50SKG_0526_PSF.pkl01.pkl\r\n",
      "pkls/50SKG_0117_PSF.pkl02.pkl  pkls/50SKG_0526_PSF.pkl02.pkl\r\n",
      "pkls/50SKG_0117_PSF.pkl03.pkl  pkls/50SKG_0526_PSF.pkl03.pkl\r\n",
      "pkls/50SKG_0124_PSF.pkl00.pkl  pkls/50SKG_0612_PSF.pkl00.pkl\r\n",
      "pkls/50SKG_0124_PSF.pkl01.pkl  pkls/50SKG_0612_PSF.pkl01.pkl\r\n",
      "pkls/50SKG_0124_PSF.pkl02.pkl  pkls/50SKG_0612_PSF.pkl02.pkl\r\n",
      "pkls/50SKG_0124_PSF.pkl03.pkl  pkls/50SKG_0612_PSF.pkl03.pkl\r\n",
      "pkls/50SKG_0203_PSF.pkl00.pkl  pkls/50SKG_0615_PSF.pkl00.pkl\r\n",
      "pkls/50SKG_0203_PSF.pkl01.pkl  pkls/50SKG_0615_PSF.pkl01.pkl\r\n",
      "pkls/50SKG_0203_PSF.pkl02.pkl  pkls/50SKG_0615_PSF.pkl02.pkl\r\n",
      "pkls/50SKG_0203_PSF.pkl03.pkl  pkls/50SKG_0615_PSF.pkl03.pkl\r\n",
      "pkls/50SKG_0216_PSF.pkl00.pkl  pkls/50SKG_0622_PSF.pkl00.pkl\r\n",
      "pkls/50SKG_0216_PSF.pkl01.pkl  pkls/50SKG_0622_PSF.pkl01.pkl\r\n",
      "pkls/50SKG_0216_PSF.pkl02.pkl  pkls/50SKG_0622_PSF.pkl02.pkl\r\n",
      "pkls/50SKG_0216_PSF.pkl03.pkl  pkls/50SKG_0622_PSF.pkl03.pkl\r\n",
      "pkls/50SKG_0413_PSF.pkl00.pkl  pkls/50SKG_0725_PSF.pkl00.pkl\r\n",
      "pkls/50SKG_0413_PSF.pkl01.pkl  pkls/50SKG_0725_PSF.pkl01.pkl\r\n",
      "pkls/50SKG_0413_PSF.pkl02.pkl  pkls/50SKG_0725_PSF.pkl02.pkl\r\n",
      "pkls/50SKG_0413_PSF.pkl03.pkl  pkls/50SKG_0725_PSF.pkl03.pkl\r\n",
      "pkls/50SKG_0503_PSF.pkl00.pkl  pkls/50SKG_0811_PSF.pkl00.pkl\r\n",
      "pkls/50SKG_0503_PSF.pkl01.pkl  pkls/50SKG_0811_PSF.pkl01.pkl\r\n",
      "pkls/50SKG_0503_PSF.pkl02.pkl  pkls/50SKG_0811_PSF.pkl02.pkl\r\n",
      "pkls/50SKG_0503_PSF.pkl03.pkl  pkls/50SKG_0811_PSF.pkl03.pkl\r\n",
      "pkls/50SKG_0513_PSF.pkl00.pkl  pkls/50SKG_0814_PSF.pkl00.pkl\r\n",
      "pkls/50SKG_0513_PSF.pkl01.pkl  pkls/50SKG_0814_PSF.pkl01.pkl\r\n",
      "pkls/50SKG_0513_PSF.pkl02.pkl  pkls/50SKG_0814_PSF.pkl02.pkl\r\n",
      "pkls/50SKG_0513_PSF.pkl03.pkl  pkls/50SKG_0814_PSF.pkl03.pkl\r\n"
     ]
    }
   ],
   "source": [
    "ls pkls/50SKG*PSF*"
   ]
  },
  {
   "cell_type": "code",
   "execution_count": 7,
   "metadata": {
    "collapsed": true
   },
   "outputs": [],
   "source": [
    "S2_0503 = parallel_rw_pkl(None, mg_coor[:5]+'_0503_PSF.pkl','r')"
   ]
  },
  {
   "cell_type": "code",
   "execution_count": 12,
   "metadata": {
    "collapsed": false
   },
   "outputs": [],
   "source": [
    "S2_0503_para = np.array([i[0] for i in S2_0503[0]])\n",
    "S2_0503_cost = np.array([i[1] for i in S2_0503[0]])"
   ]
  },
  {
   "cell_type": "code",
   "execution_count": 38,
   "metadata": {
    "collapsed": false
   },
   "outputs": [
    {
     "data": {
      "text/plain": [
       "(array([[ 32.2021052 ,  39.26454563,  10.48347826,  26.14453125,   1.03125   ],\n",
       "        [ 32.08891216,  38.56787714,  13.67241732,  26.14453125,   1.03125   ],\n",
       "        [ 30.6970037 ,  41.16659343,   4.77731869,  26.14453125,   1.03125   ],\n",
       "        [ 30.56770754,  41.33895097,   7.50401674,  26.14453125,   1.03125   ],\n",
       "        [ 30.63526707,  42.43958329,  10.39015363,  26.14453125,   1.03125   ],\n",
       "        [ 30.39449802,  42.49946213,   8.14683622,  26.14453125,   1.03125   ],\n",
       "        [ 33.88291446,  38.0326361 ,  14.73609727,  26.14453125,   1.03125   ],\n",
       "        [ 32.08891216,  38.56787714,  13.67241732,  26.14453125,   1.03125   ],\n",
       "        [ 32.56509596,  38.50969459,  12.60858224,  26.14453125,   1.03125   ],\n",
       "        [ 33.04411709,  38.94580943,  11.59462941,  26.14453125,   1.03125   ],\n",
       "        [ 31.83672494,  39.18529072,   1.84497446,  26.14453125,   1.03125   ],\n",
       "        [ 33.18344875,  38.58607834,  12.00510412,  26.14453125,   1.03125   ],\n",
       "        [ 32.08891216,  38.56787714,  13.67241732,  26.14453125,   1.03125   ],\n",
       "        [ 31.95288551,  38.65628523,  12.82652335,  26.14453125,   1.03125   ],\n",
       "        [ 30.48704258,  41.32867101, -13.55359581,  26.14453125,   1.03125   ]]),\n",
       " array([ 0.0140372 ,  0.01406179,  0.01382185,  0.01385384,  0.01393679,\n",
       "         0.0138349 ,  0.01408586,  0.01406179,  0.01405213,  0.0140291 ,\n",
       "         0.01393253,  0.01401332,  0.01406179,  0.01402171,  0.01375967]),\n",
       " array([[ 30.48704258,  41.32867101, -13.55359581,  26.14453125,   1.03125   ]]))"
      ]
     },
     "execution_count": 38,
     "metadata": {},
     "output_type": "execute_result"
    }
   ],
   "source": [
    "S2_0503_para,S2_0503_cost, S2_0503_para[S2_0503_cost==S2_0503_cost.min()]"
   ]
  },
  {
   "cell_type": "code",
   "execution_count": 16,
   "metadata": {
    "collapsed": false
   },
   "outputs": [
    {
     "data": {
      "text/plain": [
       "[<matplotlib.lines.Line2D at 0x7f530c3271d0>]"
      ]
     },
     "execution_count": 16,
     "metadata": {},
     "output_type": "execute_result"
    },
    {
     "data": {
      "image/png": "[encoded data removed]",
      "text/plain": [
       "<matplotlib.figure.Figure at 0x7f531b5b74d0>"
      ]
     },
     "metadata": {},
     "output_type": "display_data"
    }
   ],
   "source": [
    "import pylab as plt\n",
    "%matplotlib inline\n",
    "plt.plot(S2_0503_cost)"
   ]
  },
  {
   "cell_type": "code",
   "execution_count": 9,
   "metadata": {
    "collapsed": true
   },
   "outputs": [],
   "source": [
    "S2_0513 = parallel_rw_pkl(None, mg_coor[:5]+'_0513_PSF.pkl','r')"
   ]
  },
  {
   "cell_type": "code",
   "execution_count": 17,
   "metadata": {
    "collapsed": false
   },
   "outputs": [
    {
     "data": {
      "text/plain": [
       "[<matplotlib.lines.Line2D at 0x7f530c227b90>]"
      ]
     },
     "execution_count": 17,
     "metadata": {},
     "output_type": "execute_result"
    },
    {
     "data": {
      "image/png": "[encoded data removed]",
      "text/plain": [
       "<matplotlib.figure.Figure at 0x7f530c3ce1d0>"
      ]
     },
     "metadata": {},
     "output_type": "display_data"
    }
   ],
   "source": [
    "S2_0513_para = np.array([i[0] for i in S2_0513[0]])\n",
    "S2_0513_cost = np.array([i[1] for i in S2_0513[0]])\n",
    "plt.plot(S2_0513_cost)"
   ]
  },
  {
   "cell_type": "code",
   "execution_count": 37,
   "metadata": {
    "collapsed": false
   },
   "outputs": [
    {
     "data": {
      "text/plain": [
       "(array([[ 33.33898498,  37.89907813,  13.76255419,  23.90625   ,   6.375     ],\n",
       "        [ 36.42301501,  37.17725242,  14.90403862,  23.90625   ,   6.375     ],\n",
       "        [ 33.18823642,  38.83326757,   4.59289675,  23.90625   ,   6.375     ],\n",
       "        [ 36.45299417,  37.89584219,  10.63102923,  23.90625   ,   6.375     ],\n",
       "        [ 37.9263378 ,  35.0588645 ,  15.        ,  23.90625   ,   6.375     ],\n",
       "        [ 36.58084975,  37.78755892,  11.05434111,  23.90625   ,   6.375     ],\n",
       "        [ 31.90260704,  40.71647604,  -1.16991505,  23.90625   ,   6.375     ],\n",
       "        [ 36.42301501,  37.17725242,  14.90403862,  23.90625   ,   6.375     ],\n",
       "        [ 29.73753371,  39.61035154,  -3.10139036,  23.90625   ,   6.375     ],\n",
       "        [ 31.44031711,  39.47944514,   2.2829622 ,  23.90625   ,   6.375     ],\n",
       "        [ 30.40268327,  41.91071005,  -7.38226353,  23.90625   ,   6.375     ],\n",
       "        [ 35.74297041,  37.17842175,  15.        ,  23.90625   ,   6.375     ],\n",
       "        [ 36.42301501,  37.17725242,  14.90403862,  23.90625   ,   6.375     ],\n",
       "        [ 33.32600794,  37.98650083,  11.84759517,  23.90625   ,   6.375     ],\n",
       "        [ 29.72741874,  40.21403266, -11.44841724,  23.90625   ,   6.375     ]]),\n",
       " array([ 0.03262103,  0.03268612,  0.03254165,  0.0326611 ,  0.03264502,\n",
       "         0.0326517 ,  0.03248752,  0.03268612,  0.03250199,  0.03253133,\n",
       "         0.0324397 ,  0.03268633,  0.03268612,  0.0326094 ,  0.03240807]),\n",
       " array([[ 29.72741874,  40.21403266, -11.44841724,  23.90625   ,   6.375     ]]))"
      ]
     },
     "execution_count": 37,
     "metadata": {},
     "output_type": "execute_result"
    }
   ],
   "source": [
    "S2_0513_para, S2_0513_cost, S2_0513_para[S2_0513_cost==S2_0513_cost.min()]"
   ]
  },
  {
   "cell_type": "code",
   "execution_count": 33,
   "metadata": {
    "collapsed": true
   },
   "outputs": [],
   "source": [
    "S2_0612 = parallel_rw_pkl(None, '50SKG_0612_PSF.pkl', 'r')"
   ]
  },
  {
   "cell_type": "code",
   "execution_count": 34,
   "metadata": {
    "collapsed": false
   },
   "outputs": [
    {
     "data": {
      "text/plain": [
       "[<matplotlib.lines.Line2D at 0x7f52e21077d0>]"
      ]
     },
     "execution_count": 34,
     "metadata": {},
     "output_type": "execute_result"
    },
    {
     "data": {
      "image/png": "[encoded data removed]",
      "text/plain": [
       "<matplotlib.figure.Figure at 0x7f52bd9b1750>"
      ]
     },
     "metadata": {},
     "output_type": "display_data"
    }
   ],
   "source": [
    "S2_0612_para = np.array([i[0] for i in S2_0612[0]])\n",
    "S2_0612_cost = np.array([i[1] for i in S2_0612[0]])\n",
    "plt.plot(S2_0612_cost)"
   ]
  },
  {
   "cell_type": "code",
   "execution_count": 36,
   "metadata": {
    "collapsed": false
   },
   "outputs": [
    {
     "data": {
      "text/plain": [
       "(array([[ 41.02389838,  49.32087076,  -7.96033326,  22.546875  ,   3.375     ],\n",
       "        [ 43.11979168,  49.06393218,   8.83488828,  22.546875  ,   3.375     ],\n",
       "        [ 42.72799356,  50.26332216,   5.3071354 ,  22.546875  ,   3.375     ],\n",
       "        [ 42.41012056,  49.79019674,   4.81942944,  22.546875  ,   3.375     ],\n",
       "        [ 45.59089379,  50.55378415,  12.63118706,  22.546875  ,   3.375     ],\n",
       "        [ 45.44764844,  49.51081492,   5.24895853,  22.546875  ,   3.375     ],\n",
       "        [ 43.84283468,  48.97551587,  14.72742238,  22.546875  ,   3.375     ],\n",
       "        [ 43.11979168,  49.06393218,   8.83488828,  22.546875  ,   3.375     ],\n",
       "        [ 42.42000936,  51.09843619,   5.67132279,  22.546875  ,   3.375     ],\n",
       "        [ 40.60997547,  52.28300757,  11.75248593,  22.546875  ,   3.375     ],\n",
       "        [ 41.42459956,  49.2950427 ,  -2.52344707,  22.546875  ,   3.375     ],\n",
       "        [ 41.10304153,  48.67337005,  10.71430985,  22.546875  ,   3.375     ],\n",
       "        [ 43.11979168,  49.06393218,   8.83488828,  22.546875  ,   3.375     ],\n",
       "        [ 47.29385107,  48.36156597,   6.32799354,  22.546875  ,   3.375     ],\n",
       "        [ 41.08033687,  50.68230038,  -9.77974034,  22.546875  ,   3.375     ]]),\n",
       " array([ 0.03452132,  0.03461216,  0.03448708,  0.03451294,  0.03448825,\n",
       "         0.03455921,  0.03459522,  0.03461216,  0.03443504,  0.03433956,\n",
       "         0.03452278,  0.03458691,  0.03461216,  0.03466838,  0.0344085 ]),\n",
       " array([[ 40.60997547,  52.28300757,  11.75248593,  22.546875  ,   3.375     ]]))"
      ]
     },
     "execution_count": 36,
     "metadata": {},
     "output_type": "execute_result"
    }
   ],
   "source": [
    "S2_0612_para, S2_0612_cost, S2_0612_para[S2_0612_cost==S2_0612_cost.min()]"
   ]
  },
  {
   "cell_type": "code",
   "execution_count": null,
   "metadata": {
    "collapsed": true
   },
   "outputs": [],
   "source": []
  }
 ],
 "metadata": {
  "kernelspec": {
   "display_name": "Python 2",
   "language": "python",
   "name": "python2"
  },
  "language_info": {
   "codemirror_mode": {
    "name": "ipython",
    "version": 2
   },
   "file_extension": ".py",
   "mimetype": "text/x-python",
   "name": "python",
   "nbconvert_exporter": "python",
   "pygments_lexer": "ipython2",
   "version": "2.7.12"
  }
 },
 "nbformat": 4,
 "nbformat_minor": 0
}
