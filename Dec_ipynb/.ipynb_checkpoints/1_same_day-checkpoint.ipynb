{
 "cells": [
  {
   "cell_type": "code",
   "execution_count": 1,
   "metadata": {
    "collapsed": false
   },
   "outputs": [
    {
     "name": "stdout",
     "output_type": "stream",
     "text": [
      "/data/store01/data_dirs/students/ucfafyi/S2_MODIS\n"
     ]
    }
   ],
   "source": [
    "cd /data/store01/data_dirs/students/ucfafyi/S2_MODIS"
   ]
  },
  {
   "cell_type": "code",
   "execution_count": null,
   "metadata": {
    "collapsed": false
   },
   "outputs": [],
   "source": [
    "import sys\n",
    "sys.path.insert(0, 'python')\n",
    "from PSF_optimization import *\n",
    "from read_net import *"
   ]
  },
  {
   "cell_type": "code",
   "execution_count": null,
   "metadata": {
    "collapsed": false
   },
   "outputs": [],
   "source": [
    "lat, lon, year, month, day = 37.474469, 117.346456, 2016, 3, 10\n",
    "h,v = mtile_cal(lat, lon)\n",
    "#pr=get_wrs(lat, lon)\n",
    "#path, row = pr[0]['path'],pr[0]['row']\n",
    "path, row = 122, 34\n",
    "Hfiles = glob.glob(directory +'l_data/LC8%03d%03d%d*LGN00_sr_band1.tif'%(path, row, year))\n",
    "Hfiles"
   ]
  },
  {
   "cell_type": "code",
   "execution_count": 18,
   "metadata": {
    "collapsed": true
   },
   "outputs": [],
   "source": [
    "doy = 70\n",
    "Hfile = directory +'l_data/LC8%03d%03d%d%03dLGN00_toa_'%(path, row, year, doy)\n",
    "Lfile = glob.glob('m_data/MCD43A1.A%d%03d.h%02dv%02d.006.*.hdf'%(year,doy,h,v))[0]"
   ]
  },
  {
   "cell_type": "code",
   "execution_count": 10,
   "metadata": {
    "collapsed": false
   },
   "outputs": [],
   "source": [
    "#psf = PSF_optimization(2016, 3, 10, 70, lat, lon ,'l8')\n",
    "#retval = psf.Land_PSF_optimization()\n",
    "#para = np.array([np.hstack((i[0], i[1])) for i in retval[0]])\n",
    "#para[para[:,-1].argmin(axis=-1)]"
   ]
  },
  {
   "cell_type": "code",
   "execution_count": 6,
   "metadata": {
    "collapsed": false
   },
   "outputs": [
    {
     "data": {
      "text/plain": [
       "(11.4719796, 15.1676255, 7.69298694, 32.5671574, 4.54695201, 0.0180884279)"
      ]
     },
     "execution_count": 6,
     "metadata": {},
     "output_type": "execute_result"
    }
   ],
   "source": [
    "psf = 1.14719796e+01,   1.51676255e+01,   7.69298694e+00, 3.25671574e+01,   4.54695201e+00,   1.80884279e-02\n",
    "psf"
   ]
  },
  {
   "cell_type": "code",
   "execution_count": 9,
   "metadata": {
    "collapsed": false
   },
   "outputs": [],
   "source": [
    "def read_meta(Hfile):\n",
    "    \n",
    "    with open(Hfile[:-4]+'_MTL.txt', 'r') as inF:\n",
    "        for line in inF:\n",
    "            if 'CLOUD_COVER ' in line:\n",
    "                cloud_cover =  float(line.split('= ')[1])\n",
    "    if cloud_cover<20:\n",
    "        #print 'Less than 20% cloud.'\n",
    "        b1 = gdal.Open(Hfile+'band1.tif').ReadAsArray()\n",
    "        corners = b1.shape\n",
    "        dic = {}\n",
    "        with open(Hfile[:-4]+'_MTL.txt', 'r') as inF:\n",
    "            for line in inF:\n",
    "                if ('CORNER_' in line)&('LAT_PRODUCT' in line):\n",
    "                    dic[line.split(' = ')[0].strip()[7:13]] = float(line.split(' = ')[1])\n",
    "                elif ('CORNER_' in line)&('LON_PRODUCT' in line):\n",
    "                    dic[line.split(' = ')[0].strip()[7:13]] = float(line.split(' = ')[1])\n",
    "                elif 'ROLL_ANGLE' in line:\n",
    "                    vza = float(line.split(' = ')[1])\n",
    "                elif 'SUN_AZIMUTH' in line:\n",
    "                    saa = float(line.split(' = ')[1])\n",
    "                elif 'SUN_ELEVATION' in line:\n",
    "                    sza = float(line.split(' = ')[1])\n",
    "        with open('Landsat_azm.pkl', 'r') as savefile:\n",
    "            Landsat_azm = pkl.load(savefile)\n",
    "\n",
    "        vaa = np.nanmean(Landsat_azm[(Landsat_azm[:,2]==path)&(Landsat_azm[:,3]==row)].squeeze()[:2])\n",
    "        \n",
    "        return sza, saa, vza, vaa, dic, corners\n",
    "    else:\n",
    "        print 'To much cloud: ', cloud_cover\n",
    "        return None  \n",
    "sza, saa, vza, vaa, dic, corners = read_meta('l_data/LC81220342016070LGN00_sr_')\n",
    "L_inds, H_inds = ML_geo_trans(lat, lon, dic, corners)\n",
    "Lx, Ly = L_inds\n",
    "Hx, Hy = H_inds"
   ]
  },
  {
   "cell_type": "code",
   "execution_count": 12,
   "metadata": {
    "collapsed": false
   },
   "outputs": [],
   "source": [
    "tems = np.zeros((3,6))\n",
    "tems[0,:] = sza\n",
    "tems[1,:] = vza\n",
    "tems[2,:] = vaa-saa\n",
    "brdf, qa = get_brdf_six(Lfile, (tems[0], tems[1], tems[2]), bands=[3,4,1,2,6,7], flag=None, Linds= L_inds)\n",
    "\n",
    "cloud = gdal.Open(Hfile[:-5]+'_cfmask.tif').ReadAsArray()\n",
    "cl_mask = cloud==4 # cloud pixels; strictest way is to set the clear pixels with cloud==0\n",
    "struct = ndimage.generate_binary_structure(2, 2)\n",
    "dia_cloud = ndimage.binary_dilation(cl_mask, structure=struct, iterations=20).astype(cl_mask.dtype)"
   ]
  },
  {
   "cell_type": "code",
   "execution_count": 16,
   "metadata": {
    "collapsed": false
   },
   "outputs": [],
   "source": [
    "def gaussian( xstd, ystd, angle, norm = True):\n",
    "    win = int(round(max(2*1.69*xstd, 3*ystd)))\n",
    "    winx = win*2**0.5\n",
    "    winy = win*2**0.5\n",
    "\n",
    "    xgaus = signal.gaussian(winx, xstd)\n",
    "    ygaus = signal.gaussian(winy, ystd)\n",
    "    gaus  = np.outer(xgaus, ygaus)\n",
    "    r_gaus = ndimage.interpolation.rotate(gaus, angle, reshape=True)\n",
    "    center = np.array(r_gaus.shape)/2\n",
    "    cgaus = r_gaus[center[0]-win/2: center[0]+win/2, center[1]-win/2:center[1]+win/2]\n",
    "    if norm:\n",
    "        return cgaus/cgaus.sum()\n",
    "    else:\n",
    "        return cgaus \n",
    "    \n",
    "shape =  dia_cloud.shape\n",
    "xstd,ystd, angle, xs, ys = psf[:5]\n",
    "shx, shy = (Hx+xs).astype(int), (Hy+ys).astype(int)\n",
    "val = (Hx+xs<shape[0])&(Hy+ys<shape[1])&(Hx+xs>0)&(Hy+ys>0)\n",
    "ker = gaussian(xstd,ystd,angle,True)"
   ]
  },
  {
   "cell_type": "code",
   "execution_count": 22,
   "metadata": {
    "collapsed": false,
    "scrolled": true
   },
   "outputs": [],
   "source": [
    "def L8_get_to_cor(band, Hfile=None, ker = None, dia_cloud=None):\n",
    "    fname = Hfile + 'band%s.tif'%band\n",
    "    data = gdal.Open(fname).ReadAsArray()*0.0001\n",
    "    mask = ~(data<=0).astype('bool')\n",
    "    struct = ndimage.generate_binary_structure(2, 2)\n",
    "    small_mask = ndimage.binary_erosion(mask, structure=struct, iterations=20).astype(mask.dtype)\n",
    "    val_mask = (~dia_cloud)&small_mask\n",
    "    used_mask = val_mask[shx[val], shy[val]]\n",
    "    used_data = signal.fftconvolve(data, ker, mode='same')[shx[val], shy[val]]\n",
    "    \n",
    "    return used_data, used_mask \n",
    "bands = [2,3,4,5,6,7]\n",
    "par = partial(L8_get_to_cor, Hfile=Hfile, ker = ker, dia_cloud=dia_cloud)\n",
    "retval = parmap(par, bands, nprocs=len(bands))"
   ]
  },
  {
   "cell_type": "code",
   "execution_count": 35,
   "metadata": {
    "collapsed": true
   },
   "outputs": [],
   "source": [
    "L8_mask = np.array(retval)[:,1,:].astype(bool)\n",
    "L8_data = np.array(retval)[:,0,:]\n",
    "l8 = L8_data.copy()\n",
    "Mcomb_mask = np.all(qa==0, axis=0)\n",
    "Scomb_mask = np.all(L8_mask, axis = 0)\n",
    "l8[:,(~Scomb_mask)|(~Mcomb_mask[val])]=np.nan\n",
    "l8[np.isnan(l8)], brdf[np.isnan(brdf)] = -9999999, -9999999\n",
    "mas = np.all((brdf[:,val]>0)&(brdf[:,val]<1)&(l8>0)&(l8<1), axis=0)\n",
    "to_cor = shx[val][mas], shy[val][mas],l8[:,mas], brdf[:,val][:,mas]"
   ]
  },
  {
   "cell_type": "code",
   "execution_count": 41,
   "metadata": {
    "collapsed": false
   },
   "outputs": [],
   "source": [
    "L8_emus = parallel_rw_pkl(None, '6S_emulation_L8_', 'r')\n",
    "aot = read_net(year, month,day, np.arange(lat,lat+1, 0.125), np.arange(lon,lon+2, 0.125), dataset='aot')\n",
    "twv = read_net(year, month,day, np.arange(lat,lat+1, 0.125), np.arange(lon,lon+2, 0.125), dataset='wv')\n",
    "tco = read_net(year, month,day, np.arange(lat,lat+1, 0.125), np.arange(lon,lon+2, 0.125), dataset='tco')"
   ]
  },
  {
   "cell_type": "code",
   "execution_count": 46,
   "metadata": {
    "collapsed": true
   },
   "outputs": [],
   "source": [
    "import gdal\n",
    "def elevation(lat, lon, north=True, east=True):\n",
    "    lats = range( int(lat.min()), int(lat.max())+1)\n",
    "    lons = range( int(lon.min()), int(this_lon.max())+1)\n",
    "    eles=np.zeros_like(lat)\n",
    "    for lat0 in lats:\n",
    "        for lon0 in lons:\n",
    "            if lat0>=0:\n",
    "                lat_name = 'N%d'%int(lat0)\n",
    "            elif lat0<0:\n",
    "                lat_name = 'S%d'%int(lat0)\n",
    "            else:\n",
    "                'Wrong lat given, and float is expected!'\n",
    "            if lon0>=0:\n",
    "                lon_name = 'E%d'%int(lon0)\n",
    "            elif lon0<0:\n",
    "                lon_name = 'W%d'%int(lon0)\n",
    "            else:\n",
    "                'Wrong lon given, and float is expected!'\n",
    "            fname = 'SRTM/'+lat_name+lon_name+ '.hgt'\n",
    "            mask = (lat>lat0)&(lat<lat0+1)&(lon>lon0)&(lon<lon0+1)\n",
    "            g = gdal.Open(fname)\n",
    "            geo = g.GetGeoTransform()\n",
    "            l_lon, lon_size,l_lat, lat_size, = geo[0], geo[1],geo[3],geo[5]\n",
    "            x, y = ((lon-l_lon)/lon_size).astype(int), ((lat-l_lat)/lat_size).astype(int)\n",
    "            ele = g.ReadAsArray()\n",
    "            eles[mask] = ele[x[mask],y[mask]]    \n",
    "    return eles\n",
    "\n",
    "def cost(p, args = None):\n",
    "    if any(p>10) or any(p<0):\n",
    "        return 10000\n",
    "    else:\n",
    "        #'aot550', 'water', 'ozone'\n",
    "        aot550, water = p\n",
    "        TOA_refs, M_refs, angles, ele, ozone = args        \n",
    "        sz, sa, vz, va = angles        \n",
    "        Sur_refs = [L8_emus[ind][0].predict(np.array([[toa_ref, aot550, water, ozone, \\\n",
    "                                                            np.sin(sz), np.sin(vz), np.cos((sa-va)), \\\n",
    "                                                            ele],]))[0][0] for ind, toa_ref in enumerate(TOA_refs)]\n",
    "        Sur_refs = np.array(Sur_refs)\n",
    "        M_refs = np.array(M_refs)\n",
    "        cost = sum(abs(Sur_refs-M_refs)*w)    \n",
    "        return cost\n",
    "\n",
    "\n",
    "def opt(ind):\n",
    "    \n",
    "    #sent_refs, modis_refs = np.array([refs[ii][tuple(aoi[ind])] for ii in range(7)]).T\n",
    "    \n",
    "    TOA_refs = to_cor[2][:,ind]\n",
    "    M_refs = to_cor[3][:,ind]\n",
    "    m = mgrs.MGRS()\n",
    "    pix_lat, pix_lon = cor_inter(np.array([[to_cor[0][ind], to_cor[1][ind]],]).T, dic, corners)\n",
    "    ele = eles[ind]\n",
    "    inx_lat, inx_lon = (np.abs(lats-pix_lat)).argmin(),(np.abs(lons-pix_lon)).argmin()\n",
    "    aot0, tcw0, tco0 = aot[inx_lat, inx_lon], twv[inx_lat, inx_lon]/10., tco[inx_lat, inx_lon]\n",
    "                                                          \n",
    "    angles =[i*np.pi/180 for i in [sza, saa, vza, vaa]]\n",
    "    \n",
    "    ozone = tco0*46.698\n",
    "    \n",
    "    args = TOA_refs, M_refs , angles, ele, ozone\n",
    "    #print args\n",
    "    p = aot0, tcw0 \n",
    "    psolve = optimize.fmin_l_bfgs_b(cost,p, iprint=-1, approx_grad=1, args=(args,))\n",
    "    return [to_cor[0][ind],to_cor[1][ind],psolve]\n",
    "\n",
    "wl = np.array([482.04,561.41,654.59,864.67,1608.86,2200.73])/1000\n",
    "alpha = 1.42 #angstrom exponent for continental type aerosols\n",
    "w = (np.array(wl)/wl[0])**(-alpha)\n",
    "lats, lons = np.arange(lat,lat+1, 0.125), np.arange(lon,lon+2, 0.125)\n",
    "this_lat, this_lon = cor_inter(np.array([to_cor[0], to_cor[1]]), dic, corners)\n",
    "eles = elevation(this_lat, this_lon)/1000."
   ]
  },
  {
   "cell_type": "code",
   "execution_count": null,
   "metadata": {
    "collapsed": false
   },
   "outputs": [],
   "source": [
    "opt(0)"
   ]
  },
  {
   "cell_type": "code",
   "execution_count": null,
   "metadata": {
    "collapsed": false
   },
   "outputs": [],
   "source": [
    "pool = multiprocessing.Pool(processes=16)\n",
    "retval = pool.map(opt, range(len(to_cor[0])))\n",
    "pool.close()\n",
    "pool.join()"
   ]
  },
  {
   "cell_type": "code",
   "execution_count": null,
   "metadata": {
    "collapsed": true
   },
   "outputs": [],
   "source": [
    "parallel_rw_pkl(retval, 'First_full_S2_aot', 'w')"
   ]
  }
 ],
 "metadata": {
  "kernelspec": {
   "display_name": "Python 2",
   "language": "python",
   "name": "python2"
  },
  "language_info": {
   "codemirror_mode": {
    "name": "ipython",
    "version": 2
   },
   "file_extension": ".py",
   "mimetype": "text/x-python",
   "name": "python",
   "nbconvert_exporter": "python",
   "pygments_lexer": "ipython2",
   "version": "2.7.10"
  }
 },
 "nbformat": 4,
 "nbformat_minor": 0
}
