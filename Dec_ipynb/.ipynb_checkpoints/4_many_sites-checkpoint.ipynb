{
 "cells": [
  {
   "cell_type": "code",
   "execution_count": 1,
   "metadata": {
    "collapsed": true
   },
   "outputs": [],
   "source": [
    "a = '''LC81960232016156LGN00\t196\t23\t04/06/2016\t53.10269\t8.86103\t\t\t32UNE - 2016-06-04\tL\n",
    "LC81880502016324LGN00\t188\t50\t19/11/2016\t14.45674\t9.60574\t\t\t32PMA - 2016-11-19\tL\n",
    "LC81760742016320LGN00\t176\t74\t15/11/2016\t-20.22982\t20.60988\t\t\t34KDD - 2016-11-15\tL\n",
    "LC81760742016240LGN00\t176\t74\t27/08/2016\t-20.23005\t20.61637\t\t\t34KDD - 2016-08-27\tL\n",
    "LC81490202016259LGN00\t149\t20\t15/09/2016\t57.30972\t83.67202\t\t\t44VPH - 2016-09-15\tL\n",
    "LC81310302016309LGN00\t131\t30\t04/11/2016\t43.18487\t105.28591\t\t\t48TVP - 2016-11-04\tL\n",
    "LC81150342016149LGN00\t115\t34\t28/05/2016\t37.47448\t128.19361\t\t\t52SCG - 2016-05-28\tL\n",
    "LC81290502016103LGN00\t129\t50\t12/04/2016\t14.45689\t100.76525\t\t\t47PPR - 2016-04-12\tL\n",
    "LC80980782016286LGN00\t98\t78\t12/10/2016\t-25.99264\t139.74535\t\t\t54JUS - 2016-10-12\tL\n",
    "LC81070712016301LGN00\t107\t71\t27/10/2016\t-15.90084\t128.20079\t\t\t52LDH - 2016-10-27\tL\n",
    "LC81210172016191LGN00\t121\t17\t09/07/2016\t61.47729\t129.63156\t\t\t52VEP - 2016-07-09\tL\n",
    "LC81210172016111LGN00\t121\t17\t20/04/2016\t61.47734\t129.56515\t\t\t52VEP - 2016-04-20\tL\n",
    "LC81190172016081LGN00\t119\t17\t21/03/2016\t61.47741\t132.66719\t\t\t52VEP - 2016-03-21\tL\n",
    "LC80700142016297LGN00\t70\t14\t23/10/2016\t65.58732\t-148.17534\t\t\t6WVS - 2016-10-23\tL\n",
    "LC80700142016041LGN00\t70\t14\t10/02/2016\t65.58702\t-148.18943\t\t\t6WVS - 2016-02-10\tL'''"
   ]
  },
  {
   "cell_type": "code",
   "execution_count": 8,
   "metadata": {
    "collapsed": false
   },
   "outputs": [],
   "source": [
    "import numpy as np\n",
    "lis = np.array([[i.split('\\t')[0],i.split('\\t')[3], i.split('\\t')[4],i.split('\\t')[5]] for i in a.split('\\n')])"
   ]
  },
  {
   "cell_type": "code",
   "execution_count": null,
   "metadata": {
    "collapsed": true
   },
   "outputs": [],
   "source": []
  }
 ],
 "metadata": {
  "kernelspec": {
   "display_name": "Python 2",
   "language": "python",
   "name": "python2"
  },
  "language_info": {
   "codemirror_mode": {
    "name": "ipython",
    "version": 2
   },
   "file_extension": ".py",
   "mimetype": "text/x-python",
   "name": "python",
   "nbconvert_exporter": "python",
   "pygments_lexer": "ipython2",
   "version": "2.7.12"
  }
 },
 "nbformat": 4,
 "nbformat_minor": 0
}
