{
 "cells": [
  {
   "cell_type": "code",
   "execution_count": 1,
   "metadata": {
    "collapsed": false,
    "slideshow": {
     "slide_type": "-"
    }
   },
   "outputs": [
    {
     "name": "stdout",
     "output_type": "stream",
     "text": [
      "/data/store01/data_dirs/students/ucfafyi/S2_MODIS\n"
     ]
    }
   ],
   "source": [
    "cd /data/store01/data_dirs/students/ucfafyi/S2_MODIS"
   ]
  },
  {
   "cell_type": "code",
   "execution_count": null,
   "metadata": {
    "collapsed": false,
    "slideshow": {
     "slide_type": "-"
    }
   },
   "outputs": [],
   "source": [
    "import sys\n",
    "sys.path.insert(0,'python')\n",
    "import cPickle as pkl\n",
    "import numpy as np\n",
    "import gdal\n",
    "import glob \n",
    "import gdal\n",
    "import numpy as np\n",
    "import numpy.ma as ma\n",
    "import sys\n",
    "sys.path.insert(0, 'python')\n",
    "import kernels\n",
    "from geo_trans import *\n",
    "from readSent import *\n",
    "import pylab as plt\n",
    "%matplotlib inline\n",
    "from scipy.interpolate import griddata\n",
    "from Dload_Finder import *\n",
    "from fft_helper import *\n",
    "from get_brdf import *\n",
    "from nicer_plot import *\n",
    "from linear_plot7 import *\n",
    "from L_geo import *\n",
    "from scipy import ndimage, signal\n",
    "import geocoder\n",
    "from Py6S import *\n",
    "from scipy import optimize\n",
    "from fastRWpkl import *\n",
    "from smoothn import *\n",
    "from elevation import *"
   ]
  },
  {
   "cell_type": "code",
   "execution_count": 3,
   "metadata": {
    "collapsed": false
   },
   "outputs": [
    {
     "data": {
      "text/plain": [
       "['/data/store01/data_dirs/students/ucfafyi/S2_MODIS/l_data/LC81220342016038LGN00_sr_band1.tif',\n",
       " '/data/store01/data_dirs/students/ucfafyi/S2_MODIS/l_data/LC81220342016070LGN00_sr_band1.tif',\n",
       " '/data/store01/data_dirs/students/ucfafyi/S2_MODIS/l_data/LC81220342016086LGN00_sr_band1.tif',\n",
       " '/data/store01/data_dirs/students/ucfafyi/S2_MODIS/l_data/LC81220342016134LGN00_sr_band1.tif',\n",
       " '/data/store01/data_dirs/students/ucfafyi/S2_MODIS/l_data/LC81220342016150LGN00_sr_band1.tif']"
      ]
     },
     "execution_count": 3,
     "metadata": {},
     "output_type": "execute_result"
    }
   ],
   "source": [
    "lat, lon, year = 37.474469, 117.346456, 2016\n",
    "h,v = mtile_cal(lat, lon)\n",
    "pr=get_wrs(lat, lon)\n",
    "path, row = pr[0]['path'],pr[0]['row']\n",
    "Hfiles = glob.glob(directory +'l_data/LC8%03d%03d%d*LGN00_sr_band1.tif'%(path, row, year))\n",
    "Hfiles"
   ]
  },
  {
   "cell_type": "code",
   "execution_count": 4,
   "metadata": {
    "collapsed": true
   },
   "outputs": [],
   "source": [
    "doys = [int(i.split('2016')[1][:3]) for i in Hfiles]\n",
    "doy = doys[1]; Hsat = 'L'\n",
    "\n",
    "Hfile = directory +'l_data/LC8%03d%03d%d%03dLGN00_sr_'%(path, row, year, doy)\n",
    "Lfile = glob.glob('m_data/MCD43A1.A%d%03d.h%02dv%02d.006.*.hdf'%(year,doy,h,v))[0]"
   ]
  },
  {
   "cell_type": "code",
   "execution_count": 5,
   "metadata": {
    "collapsed": false
   },
   "outputs": [],
   "source": [
    "def read_meta(Hfile):\n",
    "    \n",
    "    with open(Hfile[:-4]+'_MTL.txt', 'r') as inF:\n",
    "        for line in inF:\n",
    "            if 'CLOUD_COVER ' in line:\n",
    "                cloud_cover =  float(line.split('= ')[1])\n",
    "    if cloud_cover<20:\n",
    "        #print 'Less than 20% cloud.'\n",
    "        b1 = gdal.Open(Hfile+'band1.tif').ReadAsArray()\n",
    "        corners = b1.shape\n",
    "        dic = {}\n",
    "        with open(Hfile[:-4]+'_MTL.txt', 'r') as inF:\n",
    "            for line in inF:\n",
    "                if ('CORNER_' in line)&('LAT_PRODUCT' in line):\n",
    "                    dic[line.split(' = ')[0].strip()[7:13]] = float(line.split(' = ')[1])\n",
    "                elif ('CORNER_' in line)&('LON_PRODUCT' in line):\n",
    "                    dic[line.split(' = ')[0].strip()[7:13]] = float(line.split(' = ')[1])\n",
    "                elif 'ROLL_ANGLE' in line:\n",
    "                    vza = float(line.split(' = ')[1])\n",
    "                elif 'SUN_AZIMUTH' in line:\n",
    "                    saa = float(line.split(' = ')[1])\n",
    "                elif 'SUN_ELEVATION' in line:\n",
    "                    sza = float(line.split(' = ')[1])\n",
    "        with open('Landsat_azm.pkl', 'r') as savefile:\n",
    "            Landsat_azm = pkl.load(savefile)\n",
    "\n",
    "        vaa = np.nanmean(Landsat_azm[(Landsat_azm[:,2]==path)&(Landsat_azm[:,3]==row)].squeeze()[:2])\n",
    "        \n",
    "        return sza, saa, vza, vaa, dic, corners\n",
    "    else:\n",
    "        print 'To much cloud: ', cloud_cover\n",
    "        return None  \n",
    "sza, saa, vza, vaa, dic, corners = read_meta('l_data/LC81220342016070LGN00_sr_')\n",
    "L_inds, H_inds = ML_geo_trans(lat, lon, dic, corners)\n",
    "Lx, Ly = L_inds\n",
    "Hx, Hy = H_inds"
   ]
  },
  {
   "cell_type": "code",
   "execution_count": 6,
   "metadata": {
    "collapsed": false
   },
   "outputs": [],
   "source": [
    "tems = np.zeros((3,6))\n",
    "tems[0,:] = sza\n",
    "tems[1,:] = vza\n",
    "tems[2,:] = vaa-saa\n",
    "brdfs = get_brdf_six(Lfile, (tems[0], tems[1], tems[2]), bands=[3,4,1,2,6,7], flag=None, Linds= L_inds)"
   ]
  },
  {
   "cell_type": "code",
   "execution_count": 7,
   "metadata": {
    "collapsed": false
   },
   "outputs": [],
   "source": [
    "brdf, qa = brdfs"
   ]
  },
  {
   "cell_type": "code",
   "execution_count": 8,
   "metadata": {
    "collapsed": false
   },
   "outputs": [],
   "source": [
    "Hfile = 'l_data/LC81220342016070LGN00_sr_'"
   ]
  },
  {
   "cell_type": "code",
   "execution_count": 9,
   "metadata": {
    "collapsed": false
   },
   "outputs": [
    {
     "data": {
      "text/plain": [
       "'l_data/LC81220342016070LGN00_cfmask.tif'"
      ]
     },
     "execution_count": 9,
     "metadata": {},
     "output_type": "execute_result"
    }
   ],
   "source": [
    "Hfile[:-4]+'_cfmask.tif'"
   ]
  },
  {
   "cell_type": "code",
   "execution_count": 10,
   "metadata": {
    "collapsed": false
   },
   "outputs": [],
   "source": [
    "cloud = gdal.Open(Hfile[:-4]+'_cfmask.tif').ReadAsArray()\n",
    "cl_mask = cloud==4 # cloud pixels; strictest way is to set the clear pixels with cloud==0\n",
    "struct = ndimage.generate_binary_structure(2, 2)\n",
    "dia_cloud = ndimage.binary_dilation(cl_mask, structure=struct, iterations=20).astype(cl_mask.dtype)"
   ]
  },
  {
   "cell_type": "code",
   "execution_count": 11,
   "metadata": {
    "collapsed": true
   },
   "outputs": [],
   "source": [
    "temp = 'l_data/LC81220342016070LGN00_toa_band%s.tif' \n",
    "Land_data = np.array([gdal.Open(temp%band).ReadAsArray()*0.0001 for band in [2,3,4,5,6,7]])"
   ]
  },
  {
   "cell_type": "code",
   "execution_count": 12,
   "metadata": {
    "collapsed": true
   },
   "outputs": [],
   "source": [
    "Land_mask = np.zeros_like(Land_data).astype('bool')\n",
    "for i,data in enumerate(Land_data):\n",
    "    mask = ~(data<=0).astype('bool')\n",
    "    small_mask = ndimage.binary_erosion(mask, structure=struct, iterations=20).astype(mask.dtype)\n",
    "    val_mask = (~dia_cloud)&small_mask\n",
    "    Land_mask[i] = val_mask"
   ]
  },
  {
   "cell_type": "code",
   "execution_count": 13,
   "metadata": {
    "collapsed": false
   },
   "outputs": [],
   "source": [
    "def gaussian( xstd, ystd, angle, norm = True):\n",
    "    win = int(round(max(2*1.69*xstd, 3*ystd)))\n",
    "    winx = win*2**0.5\n",
    "    winy = win*2**0.5\n",
    "\n",
    "    xgaus = signal.gaussian(winx, xstd)\n",
    "    ygaus = signal.gaussian(winy, ystd)\n",
    "    gaus  = np.outer(xgaus, ygaus)\n",
    "    r_gaus = ndimage.interpolation.rotate(gaus, angle, reshape=True)\n",
    "    center = np.array(r_gaus.shape)/2\n",
    "    cgaus = r_gaus[center[0]-win/2: center[0]+win/2, center[1]-win/2:center[1]+win/2]\n",
    "    if norm:\n",
    "        return cgaus/cgaus.sum()\n",
    "    else:\n",
    "        return cgaus "
   ]
  },
  {
   "cell_type": "code",
   "execution_count": 14,
   "metadata": {
    "collapsed": true
   },
   "outputs": [],
   "source": [
    "psf = 12.07059575,  14.50282544,  -0.260141  ,  32.41992188,   5.671875"
   ]
  },
  {
   "cell_type": "code",
   "execution_count": 15,
   "metadata": {
    "collapsed": false
   },
   "outputs": [],
   "source": [
    "shape = cloud.shape\n",
    "xs, ys = 32.41992188,   5.671875\n",
    "xstd,ystd,angle = 12.07059575,  14.50282544,  -0.260141\n",
    "shx, shy = (Hx+xs).astype(int), (Hy+ys).astype(int)\n",
    "val = (Hx+xs<shape[0])&(Hy+ys<shape[1])&(Hx+xs>0)&(Hy+ys>0)\n",
    "ker = gaussian(xstd,ystd,angle,True) \n",
    "ss = np.array([signal.fftconvolve(H_data, ker, mode='same')[shx[val], shy[val]] for H_data in Land_data])"
   ]
  },
  {
   "cell_type": "code",
   "execution_count": 16,
   "metadata": {
    "collapsed": false
   },
   "outputs": [],
   "source": [
    "s = ss.copy()\n",
    "Mcomb_mask = np.all(qa<2, axis=0)\n",
    "Lcomb_mask = np.all(Land_mask, axis = 0)\n",
    "s[:,(~Lcomb_mask[shx[val], shy[val]])|(~Mcomb_mask[val])]=np.nan\n",
    "s[np.isnan(s)], brdf[np.isnan(brdf)] = -9999999, -9999999\n",
    "mas = np.all((brdf[:,val]>0)&(brdf[:,val]<1)&(s>0)&(s<1), axis=0)\n",
    "to_cor = shx[val][mas], shy[val][mas],s[:,mas], brdf[:,mas]"
   ]
  },
  {
   "cell_type": "code",
   "execution_count": 17,
   "metadata": {
    "collapsed": true
   },
   "outputs": [],
   "source": [
    "L8_emus = parallel_rw_pkl(None, '6S_emulation_L8_', 'r')"
   ]
  },
  {
   "cell_type": "code",
   "execution_count": 19,
   "metadata": {
    "collapsed": true,
    "raw_mimetype": "text/x-python"
   },
   "outputs": [],
   "source": [
    "def cost(p, args = None):\n",
    "    if any(p>10) or any(p<0):\n",
    "        return 10000\n",
    "    else:\n",
    "        #'aot550', 'water', 'ozone'\n",
    "        aot550, water, ozone = p\n",
    "        TOA_refs, M_refs, angles, ele = args        \n",
    "        sz, sa, vz, va = angles        \n",
    "        Sur_refs = [L8_emus[ind][0].predict(np.array([[toa_ref, aot550, water, ozone, \\\n",
    "                                                            np.sin(sz), np.sin(vz), np.cos(sa-va), \\\n",
    "                                                            ele],]))[0][0] for ind, toa_ref in enumerate(TOA_refs)]\n",
    "        Sur_refs = np.array(Sur_refs)\n",
    "        M_refs = np.array(M_refs)\n",
    "        cost = sum(abs(M_refs-Sur_refs)*w)    \n",
    "        return cost\n",
    "\n",
    "\n",
    "def opt(ind):\n",
    "    \n",
    "    #sent_refs, modis_refs = np.array([refs[ii][tuple(aoi[ind])] for ii in range(7)]).T\n",
    "    \n",
    "    TOA_refs = to_cor[2][:,ind]\n",
    "    M_refs = to_cor[3][:,ind]\n",
    "    \n",
    "    this_lat, this_lon = cor_inter(np.array([[to_cor[0][ind], to_cor[1][ind]],]).T, dic, corners)\n",
    "    ele = elevation((this_lat, this_lon))/1000.\n",
    "                                                          \n",
    "    angles =[i*np.pi/180 for i in [sza, saa, vza, vaa]]\n",
    "    \n",
    "    args = TOA_refs, M_refs , angles, 0.02\n",
    "    #print args\n",
    "    p = 0.3, 0.20,  0.41\n",
    "    psolve = optimize.fmin_l_bfgs_b(cost,p, iprint=-1, approx_grad=1, args=(args,))\n",
    "    return [to_cor[0][ind],to_cor[1][ind],psolve]\n",
    "\n",
    "wl = np.array([482.04,561.41,654.59,864.67,1608.86,2200.73])/1000\n",
    "alpha = 1.42 #angstrom exponent for continental type aerosols\n",
    "w = (np.array(wl)/wl[0])**(-alpha)"
   ]
  },
  {
   "cell_type": "code",
   "execution_count": null,
   "metadata": {
    "collapsed": false
   },
   "outputs": [],
   "source": [
    "pool = multiprocessing.Pool(processes=10)\n",
    "retval = pool.map(opt, range(to_cor[0].shape[0]))\n",
    "pool.close()\n",
    "pool.join()"
   ]
  },
  {
   "cell_type": "code",
   "execution_count": 36,
   "metadata": {
    "collapsed": false
   },
   "outputs": [
    {
     "name": "stdout",
     "output_type": "stream",
     "text": [
      "Length of data: 142629\n",
      "Length of data: 35\n"
     ]
    }
   ],
   "source": [
    "parallel_rw_pkl(retval, 'First_full_land_aot', 'w')"
   ]
  },
  {
   "cell_type": "code",
   "execution_count": 51,
   "metadata": {
    "collapsed": false
   },
   "outputs": [
    {
     "data": {
      "text/plain": [
       "67"
      ]
     },
     "execution_count": 51,
     "metadata": {},
     "output_type": "execute_result"
    }
   ],
   "source": [
    "retval[0][0]"
   ]
  },
  {
   "cell_type": "code",
   "execution_count": 55,
   "metadata": {
    "collapsed": true
   },
   "outputs": [],
   "source": [
    "indx, indy = np.array([[i[0], i[1]] for i in retval]).T"
   ]
  },
  {
   "cell_type": "code",
   "execution_count": 40,
   "metadata": {
    "collapsed": false
   },
   "outputs": [],
   "source": [
    "paras = np.array([i[2][0] for i in retval])"
   ]
  },
  {
   "cell_type": "code",
   "execution_count": 43,
   "metadata": {
    "collapsed": false
   },
   "outputs": [],
   "source": [
    "aot = paras[:,0]"
   ]
  },
  {
   "cell_type": "code",
   "execution_count": 44,
   "metadata": {
    "collapsed": false,
    "scrolled": true
   },
   "outputs": [
    {
     "data": {
      "text/plain": [
       "[<matplotlib.lines.Line2D at 0x7fe5ce8f5d90>]"
      ]
     },
     "execution_count": 44,
     "metadata": {},
     "output_type": "execute_result"
    },
    {
     "data": {
      "image/png": "[encoded data removed]",
      "text/plain": [
       "<matplotlib.figure.Figure at 0x7fe5ce969290>"
      ]
     },
     "metadata": {},
     "output_type": "display_data"
    }
   ],
   "source": [
    "plt.plot(aot, '+')"
   ]
  },
  {
   "cell_type": "code",
   "execution_count": 59,
   "metadata": {
    "collapsed": false
   },
   "outputs": [],
   "source": [
    "aot_map = np.zeros_like(H_data)"
   ]
  },
  {
   "cell_type": "code",
   "execution_count": 61,
   "metadata": {
    "collapsed": false
   },
   "outputs": [],
   "source": [
    "aot_map[indx, indy] = aot"
   ]
  },
  {
   "cell_type": "code",
   "execution_count": 65,
   "metadata": {
    "collapsed": false
   },
   "outputs": [],
   "source": [
    "aot_map[aot_map==0]=aot.mean()"
   ]
  },
  {
   "cell_type": "code",
   "execution_count": 67,
   "metadata": {
    "collapsed": false
   },
   "outputs": [
    {
     "data": {
      "text/plain": [
       "<matplotlib.colorbar.Colorbar instance at 0x7fe4337d3cb0>"
      ]
     },
     "execution_count": 67,
     "metadata": {},
     "output_type": "execute_result"
    },
    {
     "data": {
      "image/png": "[encoded data removed]",
      "text/plain": [
       "<matplotlib.figure.Figure at 0x7fe5cc1dc890>"
      ]
     },
     "metadata": {},
     "output_type": "display_data"
    }
   ],
   "source": [
    "plt.imshow(aot_map)\n",
    "plt.colorbar()"
   ]
  },
  {
   "cell_type": "code",
   "execution_count": 69,
   "metadata": {
    "collapsed": true
   },
   "outputs": [],
   "source": [
    "W = np.zeros_like(H_data)\n",
    "W[aot_map>0]=1"
   ]
  },
  {
   "cell_type": "code",
   "execution_count": null,
   "metadata": {
    "collapsed": false
   },
   "outputs": [
    {
     "name": "stderr",
     "output_type": "stream",
     "text": [
      "python/smoothn.py:193: FutureWarning: comparison to `None` will result in an elementwise object comparison in the future.\n",
      "  if W != None:\n",
      "python/smoothn.py:211: FutureWarning: comparison to `None` will result in an elementwise object comparison in the future.\n",
      "  if W == None:\n"
     ]
    }
   ],
   "source": [
    "smothed = smoothn(aot_map, isrobust=1, W=W, s=10)"
   ]
  },
  {
   "cell_type": "code",
   "execution_count": null,
   "metadata": {
    "collapsed": true
   },
   "outputs": [],
   "source": [
    "mask = H_data<=0"
   ]
  },
  {
   "cell_type": "code",
   "execution_count": null,
   "metadata": {
    "collapsed": true
   },
   "outputs": [],
   "source": [
    "plt.figure(figszie=(20,20))\n",
    "plt.imshow(smothed[0], interpolation = 'None')\n",
    "plt.colorbar()"
   ]
  },
  {
   "cell_type": "code",
   "execution_count": null,
   "metadata": {
    "collapsed": true
   },
   "outputs": [],
   "source": []
  },
  {
   "cell_type": "code",
   "execution_count": null,
   "metadata": {
    "collapsed": true
   },
   "outputs": [],
   "source": []
  },
  {
   "cell_type": "code",
   "execution_count": null,
   "metadata": {
    "collapsed": true
   },
   "outputs": [],
   "source": []
  },
  {
   "cell_type": "code",
   "execution_count": null,
   "metadata": {
    "collapsed": true
   },
   "outputs": [],
   "source": []
  },
  {
   "cell_type": "code",
   "execution_count": null,
   "metadata": {
    "collapsed": true
   },
   "outputs": [],
   "source": []
  },
  {
   "cell_type": "code",
   "execution_count": null,
   "metadata": {
    "collapsed": true
   },
   "outputs": [],
   "source": []
  },
  {
   "cell_type": "code",
   "execution_count": null,
   "metadata": {
    "collapsed": true
   },
   "outputs": [],
   "source": []
  },
  {
   "cell_type": "code",
   "execution_count": null,
   "metadata": {
    "collapsed": true
   },
   "outputs": [],
   "source": []
  },
  {
   "cell_type": "code",
   "execution_count": 95,
   "metadata": {
    "collapsed": false
   },
   "outputs": [],
   "source": [
    "S2_emulation = pkl.load(open('6S_emulation_S2.pkl', 'r'))\n",
    "em_b2 = S2_emulation[0][0]"
   ]
  },
  {
   "cell_type": "code",
   "execution_count": 101,
   "metadata": {
    "collapsed": false,
    "scrolled": true
   },
   "outputs": [
    {
     "data": {
      "text/plain": [
       "0.16514323971307476"
      ]
     },
     "execution_count": 101,
     "metadata": {},
     "output_type": "execute_result"
    }
   ],
   "source": [
    "parameters = ['TOA_ref','aot550', 'water', 'ozone', 'sz','vz','raa','ele']\n",
    "min_vals = [0.,0.,0., 0., 0., 0.,-1, 0]\n",
    "max_vals = [1,1.,5., 1, 0.97, 0.97, 1, 4]\n",
    "\n",
    "em_b2.predict(np.array([[0.2,0.2, 1,0.3,np.sin(40), np.sin(40), np.cos(180), 0.],]))[0][0]"
   ]
  },
  {
   "cell_type": "code",
   "execution_count": 122,
   "metadata": {
    "collapsed": false
   },
   "outputs": [
    {
     "data": {
      "text/plain": [
       "[0.1716964301277244,\n",
       " 0.34313417179099304,\n",
       " 0.20752348276411681,\n",
       " 0.33384150605422036,\n",
       " 0.21425538800141908,\n",
       " 0.4562273677285873,\n",
       " 0.30355153555639447]"
      ]
     },
     "execution_count": 122,
     "metadata": {},
     "output_type": "execute_result"
    }
   ],
   "source": [
    "aot550, water, ozone, sza,vza, saa, vaa = 0.4,2,0.3,20*np.pi/180,10*np.pi/180,180*np.pi/180,0*np.pi/180\n",
    "ele = 0.2\n",
    "TOA_refs = [0.2, 0.3, 0.2,0.3, 0.2, 0.4, 0.3]\n",
    "[S2_emulation[ind][0].predict(np.array([[toa_ref, aot550, water, ozone, \\\n",
    "                                                            np.sin(sza), np.sin(vza), np.cos(saa-vaa), \\\n",
    "                                                            ele],]))[0][0] for ind, toa_ref in enumerate(TOA_refs)]"
   ]
  },
  {
   "cell_type": "code",
   "execution_count": null,
   "metadata": {
    "collapsed": true
   },
   "outputs": [],
   "source": []
  }
 ],
 "metadata": {
  "celltoolbar": "Raw Cell Format",
  "kernelspec": {
   "display_name": "Python 2",
   "language": "python",
   "name": "python2"
  },
  "language_info": {
   "codemirror_mode": {
    "name": "ipython",
    "version": 2
   },
   "file_extension": ".py",
   "mimetype": "text/x-python",
   "name": "python",
   "nbconvert_exporter": "python",
   "pygments_lexer": "ipython2",
   "version": "2.7.10"
  }
 },
 "nbformat": 4,
 "nbformat_minor": 0
}
