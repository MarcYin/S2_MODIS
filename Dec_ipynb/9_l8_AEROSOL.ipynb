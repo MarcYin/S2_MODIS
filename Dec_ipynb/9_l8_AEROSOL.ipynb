{
 "cells": [
  {
   "cell_type": "code",
   "execution_count": 2,
   "metadata": {
    "collapsed": false
   },
   "outputs": [
    {
     "name": "stdout",
     "output_type": "stream",
     "text": [
      "/data/store01/data_dirs/students/ucfafyi/S2_MODIS\n"
     ]
    }
   ],
   "source": [
    "cd /data/store01/data_dirs/students/ucfafyi/S2_MODIS"
   ]
  },
  {
   "cell_type": "code",
   "execution_count": 4,
   "metadata": {
    "collapsed": false
   },
   "outputs": [],
   "source": [
    "import os\n",
    "import sys\n",
    "sys.path.insert(0,'python')\n",
    "from fastRWpkl import *"
   ]
  },
  {
   "cell_type": "code",
   "execution_count": 9,
   "metadata": {
    "collapsed": false
   },
   "outputs": [
    {
     "data": {
      "text/plain": [
       "[12.0705957, 14.5028254, -0.260141, 32.4199219, 5.671875, 0.0237047614]"
      ]
     },
     "execution_count": 9,
     "metadata": {},
     "output_type": "execute_result"
    }
   ],
   "source": [
    "[  1.20705957e+01,   1.45028254e+01,  -2.60141000e-01, 3.24199219e+01,   5.67187500e+00,   2.37047614e-02]"
   ]
  },
  {
   "cell_type": "code",
   "execution_count": 20,
   "metadata": {
    "collapsed": false
   },
   "outputs": [
    {
     "data": {
      "text/plain": [
       "[11.6416934, 15.2025489, -2.44039251, 30.6672363, 2.45507812, 0.0196411839]"
      ]
     },
     "execution_count": 20,
     "metadata": {},
     "output_type": "execute_result"
    }
   ],
   "source": [
    "[  1.16416934e+01,   1.52025489e+01,  -2.44039251e+00, 3.06672363e+01,   2.45507812e+00,   1.96411839e-02]"
   ]
  },
  {
   "cell_type": "code",
   "execution_count": 25,
   "metadata": {
    "collapsed": false
   },
   "outputs": [
    {
     "data": {
      "text/plain": [
       "[14.65351173, 22.44382098, -5.30280196, 32.80517578, 7.86328125, 0.06635839]"
      ]
     },
     "execution_count": 25,
     "metadata": {},
     "output_type": "execute_result"
    }
   ],
   "source": [
    "[ 14.65351173,  22.44382098,  -5.30280196,  32.80517578, 7.86328125,   0.06635839]"
   ]
  },
  {
   "cell_type": "code",
   "execution_count": 31,
   "metadata": {
    "collapsed": false
   },
   "outputs": [
    {
     "data": {
      "text/plain": [
       "[14.62706278, 22.09745196, 0.92370867, 34.79882812, 10.078125, 0.12426114]"
      ]
     },
     "execution_count": 31,
     "metadata": {},
     "output_type": "execute_result"
    }
   ],
   "source": [
    "[ 14.62706278,  22.09745196,   0.92370867,  34.79882812, 10.078125  ,   0.12426114]"
   ]
  },
  {
   "cell_type": "code",
   "execution_count": null,
   "metadata": {
    "collapsed": true
   },
   "outputs": [],
   "source": []
  }
 ],
 "metadata": {
  "kernelspec": {
   "display_name": "Python 2",
   "language": "python",
   "name": "python2"
  },
  "language_info": {
   "codemirror_mode": {
    "name": "ipython",
    "version": 2
   },
   "file_extension": ".py",
   "mimetype": "text/x-python",
   "name": "python",
   "nbconvert_exporter": "python",
   "pygments_lexer": "ipython2",
   "version": "2.7.12"
  }
 },
 "nbformat": 4,
 "nbformat_minor": 0
}
