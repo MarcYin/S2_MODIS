{
 "cells": [
  {
   "cell_type": "code",
   "execution_count": 1,
   "metadata": {
    "collapsed": false
   },
   "outputs": [
    {
     "name": "stdout",
     "output_type": "stream",
     "text": [
      "/data/store01/data_dirs/students/ucfafyi/S2_MODIS\n"
     ]
    }
   ],
   "source": [
    "cd /data/store01/data_dirs/students/ucfafyi/S2_MODIS"
   ]
  },
  {
   "cell_type": "code",
   "execution_count": 80,
   "metadata": {
    "collapsed": true
   },
   "outputs": [],
   "source": [
    "import ogr\n",
    "import shapely.geometry\n",
    "import shapely.wkt\n",
    "import sys\n",
    "sys.path.insert(0,'python')\n",
    "from get_wrs import *\n",
    "from L_geo import *\n",
    "import gdal\n",
    "from scipy import ndimage\n",
    "import pylab as plt\n",
    "import scipy\n",
    "from sklearn import linear_model\n",
    "import itertools\n",
    "%matplotlib inline\n",
    "from L_geo import *"
   ]
  },
  {
   "cell_type": "code",
   "execution_count": 3,
   "metadata": {
    "collapsed": false
   },
   "outputs": [],
   "source": [
    "g = ogr.Open('./shapefile/wrs2_descending.shp')\n",
    "l0 = g.GetLayer(0)\n",
    "polygons = []\n",
    "for i in range(l0.GetFeatureCount()):\n",
    "    feature = l0.GetFeature(i)\n",
    "    path = feature['PATH']\n",
    "    row = feature['ROW']\n",
    "\n",
    "    # Get the geometry into a Shapely-compatible\n",
    "    # format by converting to Well-known Text (Wkt)\n",
    "    # and importing that into shapely\n",
    "    geom = feature.GetGeometryRef()\n",
    "    shape = shapely.wkt.loads(geom.ExportToWkt())\n",
    "    # Store the shape and the path/row values\n",
    "    # in a list so we can search it easily later\n",
    "    polygons.append((shape, path, row))"
   ]
  },
  {
   "cell_type": "code",
   "execution_count": 536,
   "metadata": {
    "collapsed": true
   },
   "outputs": [],
   "source": [
    "polys = get_wrs(37.181944, 114.36)"
   ]
  },
  {
   "cell_type": "code",
   "execution_count": 648,
   "metadata": {
    "collapsed": false
   },
   "outputs": [
    {
     "data": {
      "text/plain": [
       "[{'path': 124,\n",
       "  'poly': <shapely.geometry.polygon.Polygon at 0x7f4b6a226350>,\n",
       "  'row': 34}]"
      ]
     },
     "execution_count": 648,
     "metadata": {},
     "output_type": "execute_result"
    }
   ],
   "source": [
    "polys"
   ]
  },
  {
   "cell_type": "code",
   "execution_count": 552,
   "metadata": {
    "collapsed": false
   },
   "outputs": [
    {
     "data": {
      "image/svg+xml": [
       "<svg xmlns=\"http://www.w3.org/2000/svg\" xmlns:xlink=\"http://www.w3.org/1999/xlink\" width=\"100.0\" height=\"100.0\" viewBox=\"112.9128 36.4745 2.7054 2.0041\" preserveAspectRatio=\"xMinYMin meet\"><g transform=\"matrix(1,0,0,-1,0,74.9531)\"><path fill-rule=\"evenodd\" fill=\"#66cc99\" stroke=\"#555555\" stroke-width=\"0.054108\" opacity=\"0.6\" d=\"M 114.974624575,36.5855092772 L 113.013321154,36.8705533253 L 113.013,36.8706 L 113.024674889,36.9115381351 L 113.034263772,36.9451616638 L 113.421723806,38.3037947794 L 113.443,38.3784 L 114.459381541,38.2305715908 L 115.013621537,38.1499597205 L 115.280589158,38.1111304058 L 115.518,38.0766 L 115.494836887,38.0024237119 L 115.077729138,36.6667006238 L 115.065669238,36.6280806585 L 115.052375425,36.5855092772 L 115.049,36.5747 L 115.0135,36.5798593566 L 114.975241138,36.5854196696 L 114.974624575,36.5855092772 z\" /></g></svg>"
      ],
      "text/plain": [
       "<shapely.geometry.polygon.Polygon at 0x7f4b6a226350>"
      ]
     },
     "execution_count": 552,
     "metadata": {},
     "output_type": "execute_result"
    }
   ],
   "source": [
    "poly=polys[0]['poly']\n",
    "poly"
   ]
  },
  {
   "cell_type": "code",
   "execution_count": 6,
   "metadata": {
    "collapsed": false
   },
   "outputs": [
    {
     "data": {
      "text/plain": [
       "{'LL_LAT': 36.35288,\n",
       " 'LL_LON': 113.00651,\n",
       " 'LR_LAT': 36.41186,\n",
       " 'LR_LON': 115.6326,\n",
       " 'UL_LAT': 38.51077,\n",
       " 'UL_LON': 112.88999,\n",
       " 'UR_LAT': 38.57451,\n",
       " 'UR_LON': 115.59258}"
      ]
     },
     "execution_count": 6,
     "metadata": {},
     "output_type": "execute_result"
    }
   ],
   "source": [
    "b1 = gdal.Open('l_data/LC81240342016132LGN00_sr_band1.tif').ReadAsArray()\n",
    "f = open('l_data/LC81240342016132LGN00_MTL.txt', 'r')\n",
    "dic = dict([[(i.split(' = ')[0]).strip()[7:13],float(i.split(' = ')[1])] for i in f.read().split('\\n')[22:30]])\n",
    "dic"
   ]
  },
  {
   "cell_type": "code",
   "execution_count": 7,
   "metadata": {
    "collapsed": false
   },
   "outputs": [
    {
     "data": {
      "text/plain": [
       "<matplotlib.image.AxesImage at 0x7f4b6c6f8c90>"
      ]
     },
     "execution_count": 7,
     "metadata": {},
     "output_type": "execute_result"
    },
    {
     "data": {
      "image/png": "[encoded data removed]",
      "text/plain": [
       "<matplotlib.figure.Figure at 0x7f4b6c6f0c10>"
      ]
     },
     "metadata": {},
     "output_type": "display_data"
    }
   ],
   "source": [
    "xcor, ycor = list(poly.boundary.xy[1]),list(poly.boundary.xy[0])\n",
    "cors = geo_inter(zip(xcor, ycor), dic, b1.shape)\n",
    "test = np.zeros_like(b1)\n",
    "test[cors[0],cors[1]] = 255\n",
    "struct1 = ndimage.generate_binary_structure(2, 2)\n",
    "dia = ndimage.binary_dilation(test, structure=struct1, iterations=40)\n",
    "plt.figure(figsize=(8,8))\n",
    "plt.imshow(dia)"
   ]
  },
  {
   "cell_type": "code",
   "execution_count": 8,
   "metadata": {
    "collapsed": true
   },
   "outputs": [],
   "source": [
    "def ransaclin(x,y):\n",
    "    y, x = y.reshape((len(y),1)), x.reshape((len(x),1))\n",
    "    model = linear_model.LinearRegression()\n",
    "    model.fit(x, y)\n",
    "\n",
    "    model_ransac = linear_model.RANSACRegressor(linear_model.LinearRegression(),max_trials=10000000)\n",
    "    model_ransac.fit(x, y)\n",
    "    inlier_mask = model_ransac.inlier_mask_\n",
    "    return x[inlier_mask], y[inlier_mask]"
   ]
  },
  {
   "cell_type": "code",
   "execution_count": 548,
   "metadata": {
    "collapsed": false
   },
   "outputs": [
    {
     "name": "stdout",
     "output_type": "stream",
     "text": [
      "0.999903929338\n"
     ]
    },
    {
     "data": {
      "text/plain": [
       "[((1.9724489475563518, 0.64351336718582131),\n",
       "  (1.9724545527594004, 0.64351255255930784)),\n",
       " ((1.9724489475563518, 0.64351336718582131),\n",
       "  (1.9726527128147568, 0.64422787243375235)),\n",
       " ((1.9724489475563518, 0.64351336718582131),\n",
       "  (1.972820070389075, 0.64481471371413024)),\n",
       " ((1.9724545527594004, 0.64351255255930784),\n",
       "  (1.9726527128147568, 0.64422787243375235)),\n",
       " ((1.9724545527594004, 0.64351255255930784),\n",
       "  (1.972820070389075, 0.64481471371413024)),\n",
       " ((1.9726527128147568, 0.64422787243375235),\n",
       "  (1.972820070389075, 0.64481471371413024))]"
      ]
     },
     "execution_count": 548,
     "metadata": {},
     "output_type": "execute_result"
    }
   ],
   "source": [
    "xcor, ycor = list(poly.boundary.xy[1]),list(poly.boundary.xy[0])\n",
    "cors = dict(zip(ycor, xcor))\n",
    "keys = sorted(cors.keys())\n",
    "lb = keys[:4], [cors[i] for i in keys[:4]]\n",
    "rb = keys[-4:], [cors[i] for i in keys[-4:]]\n",
    "lb, rb\n",
    "x, y = ransaclin(np.array(lb[0]),np.array(lb[1]))\n",
    "print abs(scipy.stats.linregress(x.squeeze(),-1*y.squeeze()).rvalue)\n",
    "lst = zip(x.squeeze()* np.pi / 180., y.squeeze()* np.pi / 180.)\n",
    "combs = [i for i in itertools.combinations(lst,2)]\n",
    "combs"
   ]
  },
  {
   "cell_type": "code",
   "execution_count": 549,
   "metadata": {
    "collapsed": false
   },
   "outputs": [
    {
     "data": {
      "text/plain": [
       "([113.013, 113.013321154478, 113.024674889318, 113.034263771996],\n",
       " [36.8706, 36.8705533253389, 36.9115381351464, 36.9451616637561])"
      ]
     },
     "execution_count": 549,
     "metadata": {},
     "output_type": "execute_result"
    }
   ],
   "source": [
    "lb"
   ]
  },
  {
   "cell_type": "code",
   "execution_count": 550,
   "metadata": {
    "collapsed": false
   },
   "outputs": [
    {
     "data": {
      "text/plain": [
       "([115.077729138139, 115.280589158277, 115.494836887201, 115.518],\n",
       " [36.6667006238177, 38.1111304057986, 38.0024237119136, 38.0766])"
      ]
     },
     "execution_count": 550,
     "metadata": {},
     "output_type": "execute_result"
    }
   ],
   "source": [
    "rb"
   ]
  },
  {
   "cell_type": "code",
   "execution_count": 10,
   "metadata": {
    "collapsed": false
   },
   "outputs": [
    {
     "name": "stdout",
     "output_type": "stream",
     "text": [
      "1.0\n"
     ]
    }
   ],
   "source": [
    "x, y = ransaclin(np.array(rb[0]),np.array(rb[1]))\n",
    "print abs(scipy.stats.linregress(x.squeeze(),-1*y.squeeze()).rvalue)"
   ]
  },
  {
   "cell_type": "markdown",
   "metadata": {},
   "source": [
    "θ = atan2( sin Δλ ⋅ cos φ2 , cos φ1 ⋅ sin φ2 − sin φ1 ⋅ cos φ2 ⋅ cos Δλ )\n",
    "\n",
    "where φ1,λ1 is the start point, φ2,λ2 the end point (Δλ is the difference in longitude)"
   ]
  },
  {
   "cell_type": "code",
   "execution_count": null,
   "metadata": {
    "collapsed": true
   },
   "outputs": [],
   "source": [
    "azms = []\n",
    "for i in combs:\n",
    "    phi1 = i[0][0]\n",
    "    namda1 = i[0][1]\n",
    "    phi2 = i[1][0]\n",
    "    namda2 = i[1][1]\n",
    "    delta = namda2-namda1\n",
    "    azms.append(np.arctan2(np.sin(delta)*np.cos(phi2), \n",
    "                           np.cos(phi1)*np.sin(phi2)-np.sin(phi1)*np.cos(phi2)*np.cos(delta))/np.pi*180)\n",
    "\n",
    "mask = (azms < np.mean(azms)+np.std(azms))&(azms > np.mean(azms)-np.std(azms))\n",
    "M_azm = np.array(azms)[mask].mean()\n",
    "print M_azm\n",
    "if M_azm<0:\n",
    "    M_azm +=180\n",
    "M_azm"
   ]
  },
  {
   "cell_type": "code",
   "execution_count": 570,
   "metadata": {
    "collapsed": false
   },
   "outputs": [
    {
     "name": "stdout",
     "output_type": "stream",
     "text": [
      "1.0\n"
     ]
    },
    {
     "data": {
      "text/plain": [
       "[((0.6399546517286776, 2.0084852691787418),\n",
       "  (0.66326741751085738, 2.0157651727354562)),\n",
       " ((0.6399546517286776, 2.0084852691787418),\n",
       "  (0.66456203796487279, 2.0161694453188095)),\n",
       " ((0.66326741751085738, 2.0157651727354562),\n",
       "  (0.66456203796487279, 2.0161694453188095))]"
      ]
     },
     "execution_count": 570,
     "metadata": {},
     "output_type": "execute_result"
    }
   ],
   "source": [
    "xcor, ycor = list(poly.boundary.xy[1]),list(poly.boundary.xy[0])\n",
    "cors = dict(zip(ycor, xcor))\n",
    "keys = sorted(cors.keys())\n",
    "lb = [cors[i] for i in keys[:4]], keys[:4]\n",
    "rb = [cors[i] for i in keys[-4:]], keys[-4:] \n",
    "lb, rb\n",
    "x, y = ransaclin(np.array(rb[0]),np.array(rb[1]))\n",
    "print abs(scipy.stats.linregress(x.squeeze(),y.squeeze()).rvalue)\n",
    "lst = zip(x.squeeze()* np.pi / 180., y.squeeze()* np.pi / 180.)\n",
    "combs = [i for i in itertools.combinations(lst,2)]\n",
    "combs"
   ]
  },
  {
   "cell_type": "code",
   "execution_count": 621,
   "metadata": {
    "collapsed": false
   },
   "outputs": [
    {
     "data": {
      "text/plain": [
       "([36.8706, 36.8705533253389, 36.9115381351464, 36.9451616637561],\n",
       " [113.013, 113.013321154478, 113.024674889318, 113.034263771996])"
      ]
     },
     "execution_count": 621,
     "metadata": {},
     "output_type": "execute_result"
    }
   ],
   "source": [
    "lb"
   ]
  },
  {
   "cell_type": "code",
   "execution_count": 622,
   "metadata": {
    "collapsed": false
   },
   "outputs": [
    {
     "name": "stdout",
     "output_type": "stream",
     "text": [
      "[[ 36.8706    ]\n",
      " [ 36.87055333]\n",
      " [ 36.91153814]\n",
      " [ 36.94516166]] [[ 113.013     ]\n",
      " [ 113.01332115]\n",
      " [ 113.02467489]\n",
      " [ 113.03426377]]\n",
      "12.7313747202\n"
     ]
    },
    {
     "data": {
      "text/plain": [
       "192.73137472015435"
      ]
     },
     "execution_count": 622,
     "metadata": {},
     "output_type": "execute_result"
    }
   ],
   "source": [
    "get_azm(lb, poly)"
   ]
  },
  {
   "cell_type": "code",
   "execution_count": 623,
   "metadata": {
    "collapsed": false
   },
   "outputs": [
    {
     "name": "stdout",
     "output_type": "stream",
     "text": [
      "[[ 36.8706    ]\n",
      " [ 36.91153814]\n",
      " [ 36.94516166]] [[ 113.013     ]\n",
      " [ 113.02467489]\n",
      " [ 113.03426377]]\n",
      "12.8394079332\n"
     ]
    },
    {
     "data": {
      "text/plain": [
       "192.839407933243"
      ]
     },
     "execution_count": 623,
     "metadata": {},
     "output_type": "execute_result"
    }
   ],
   "source": [
    "get_azm(lb1, poly)"
   ]
  },
  {
   "cell_type": "code",
   "execution_count": 624,
   "metadata": {
    "collapsed": false
   },
   "outputs": [
    {
     "name": "stdout",
     "output_type": "stream",
     "text": [
      "[[ 36.66670062]\n",
      " [ 38.00242371]\n",
      " [ 38.0766    ]] [[ 115.07772914]\n",
      " [ 115.49483689]\n",
      " [ 115.518     ]]\n",
      "13.8099820918\n"
     ]
    },
    {
     "data": {
      "text/plain": [
       "193.80998209181644"
      ]
     },
     "execution_count": 624,
     "metadata": {},
     "output_type": "execute_result"
    }
   ],
   "source": [
    "get_azm(rb, poly)"
   ]
  },
  {
   "cell_type": "code",
   "execution_count": 625,
   "metadata": {
    "collapsed": false
   },
   "outputs": [
    {
     "name": "stdout",
     "output_type": "stream",
     "text": [
      "[[ 36.66670062]\n",
      " [ 38.00242371]\n",
      " [ 38.0766    ]] [[ 115.07772914]\n",
      " [ 115.49483689]\n",
      " [ 115.518     ]]\n",
      "13.8099820918\n"
     ]
    },
    {
     "data": {
      "text/plain": [
       "193.80998209181644"
      ]
     },
     "execution_count": 625,
     "metadata": {},
     "output_type": "execute_result"
    }
   ],
   "source": [
    "get_azm(rb1, poly)"
   ]
  },
  {
   "cell_type": "code",
   "execution_count": 553,
   "metadata": {
    "collapsed": false
   },
   "outputs": [
    {
     "name": "stdout",
     "output_type": "stream",
     "text": [
      "-12.7313747202\n"
     ]
    },
    {
     "data": {
      "text/plain": [
       "167.26862527984565"
      ]
     },
     "execution_count": 553,
     "metadata": {},
     "output_type": "execute_result"
    }
   ],
   "source": [
    "azms = []\n",
    "for i in combs:\n",
    "    phi1 = i[0][1]\n",
    "    namda1 = i[0][0]\n",
    "    phi2 = i[1][1]\n",
    "    namda2 = i[1][0]\n",
    "    delta = namda1-namda2\n",
    "    azms.append(np.arctan2(np.sin(delta)*np.cos(phi2), \n",
    "                           np.cos(phi1)*np.sin(phi2)-np.sin(phi1)*np.cos(phi2)*np.cos(delta))/np.pi*180)\n",
    "\n",
    "mask = (azms < np.mean(azms)+np.std(azms))&(azms > np.mean(azms)-np.std(azms))\n",
    "M_azm = np.array(azms)[mask].mean()\n",
    "print M_azm\n",
    "if M_azm<0:\n",
    "    M_azm +=180\n",
    "M_azm"
   ]
  },
  {
   "cell_type": "code",
   "execution_count": 617,
   "metadata": {
    "collapsed": true
   },
   "outputs": [],
   "source": [
    "xycor = np.array(poly.boundary.coords.xy)[::-1,:]\n",
    "lat_thresh = xycor[0,xycor[1]==xycor[1].min()][0]\n",
    "lb1 = xycor[:,xycor[0]>=lat_thresh]\n",
    "lb1 = lb1[:,abs(lb1[1])!=180]\n",
    "lb1 = lb1[:,lb1[1]<=sorted(lb1[1])[min(2,len(lb1[0])-1)]]\n",
    "lb1.sort()\n",
    "\n",
    "\n",
    "\n",
    "\n",
    "lat_thresh = xycor[0,xycor[1]==xycor[1].max()][0]\n",
    "rb1 = xycor[:,xycor[0]<=lat_thresh]\n",
    "rb1 = rb1[:,abs(rb1[1])!=180]\n",
    "rb1 = rb1[:,rb1[1]>=sorted(rb1[1])[max(-3, -len(rb1[0]))]]\n",
    "rb1.sort()"
   ]
  },
  {
   "cell_type": "code",
   "execution_count": 618,
   "metadata": {
    "collapsed": false
   },
   "outputs": [
    {
     "data": {
      "text/plain": [
       "array([[  36.8706    ,   36.91153814,   36.94516166],\n",
       "       [ 113.013     ,  113.02467489,  113.03426377]])"
      ]
     },
     "execution_count": 618,
     "metadata": {},
     "output_type": "execute_result"
    }
   ],
   "source": [
    "lb1"
   ]
  },
  {
   "cell_type": "code",
   "execution_count": 619,
   "metadata": {
    "collapsed": false
   },
   "outputs": [
    {
     "data": {
      "text/plain": [
       "([36.6667006238177, 38.1111304057986, 38.0024237119136, 38.0766],\n",
       " [115.077729138139, 115.280589158277, 115.494836887201, 115.518])"
      ]
     },
     "execution_count": 619,
     "metadata": {},
     "output_type": "execute_result"
    }
   ],
   "source": [
    "rb"
   ]
  },
  {
   "cell_type": "code",
   "execution_count": 620,
   "metadata": {
    "collapsed": false
   },
   "outputs": [
    {
     "data": {
      "text/plain": [
       "array([[  36.66670062,   38.00242371,   38.0766    ],\n",
       "       [ 115.07772914,  115.49483689,  115.518     ]])"
      ]
     },
     "execution_count": 620,
     "metadata": {},
     "output_type": "execute_result"
    }
   ],
   "source": [
    "rb1"
   ]
  },
  {
   "cell_type": "code",
   "execution_count": null,
   "metadata": {
    "collapsed": true
   },
   "outputs": [],
   "source": [
    "x, y = ransaclin(np.array(rb[0]),np.array(rb[1]))\n",
    "print abs(scipy.stats.linregress(x.squeeze(),-1*y.squeeze()).rvalue)\n",
    "lst = zip(x.squeeze()* np.pi / 180., y.squeeze()* np.pi / 180.)\n",
    "combs = [i for i in itertools.combinations(lst,2)]\n",
    "combs"
   ]
  },
  {
   "cell_type": "code",
   "execution_count": 563,
   "metadata": {
    "collapsed": false
   },
   "outputs": [
    {
     "data": {
      "text/plain": [
       "array([[ 115.518     ,  115.49483689,  115.07772914,  115.06566924],\n",
       "       [  38.0766    ,   38.00242371,   36.66670062,   36.62808066]])"
      ]
     },
     "execution_count": 563,
     "metadata": {},
     "output_type": "execute_result"
    }
   ],
   "source": [
    "rb[::-1,:]"
   ]
  },
  {
   "cell_type": "code",
   "execution_count": null,
   "metadata": {
    "collapsed": true
   },
   "outputs": [],
   "source": [
    "var y = Math.sin(λ2-λ1) * Math.cos(φ2);\n",
    "var x = Math.cos(φ1)*Math.sin(φ2) -\n",
    "        Math.sin(φ1)*Math.cos(φ2)*Math.cos(λ2-λ1);\n",
    "var brng = Math.atan2(y, x).toDegrees();"
   ]
  },
  {
   "cell_type": "markdown",
   "metadata": {},
   "source": [
    "To put them together, get the azimuth angle for each tile."
   ]
  },
  {
   "cell_type": "code",
   "execution_count": 632,
   "metadata": {
    "collapsed": true
   },
   "outputs": [],
   "source": [
    "def get_azm(border, poly):\n",
    "    #x, y = ransaclin(np.array(border[0]),np.array(border[1]))\n",
    "    x,y = np.array(border[0]),np.array(border[1])\n",
    "    if abs(scipy.stats.linregress(x,y).rvalue)<0.9:\n",
    "        print 'Need to be recalculated: ',poly \n",
    "    else:\n",
    "        lst = zip(x* np.pi / 180., y* np.pi / 180.)\n",
    "        combs = [i for i in itertools.combinations(lst,2)]\n",
    "        azms = []\n",
    "        for i in combs:\n",
    "            phi1 = i[0][0]\n",
    "            namda1 = i[0][1]\n",
    "            phi2 = i[1][0]\n",
    "            namda2 = i[1][1]\n",
    "            delta = namda2-namda1\n",
    "            azms.append(np.arctan2(np.sin(delta)*np.cos(phi2), \n",
    "                                   np.cos(phi1)*np.sin(phi2)-np.sin(phi1)*np.cos(phi2)*np.cos(delta))/np.pi*180)\n",
    "\n",
    "        mask = (azms < np.mean(azms)+np.std(azms))&(azms > np.mean(azms)-np.std(azms))\n",
    "        M_azm = np.nanmean(np.array(azms)[mask])\n",
    "        if M_azm<0:\n",
    "            M_azm = (M_azm+360) % 360\n",
    "        return (M_azm+180) % 360\n",
    "    "
   ]
  },
  {
   "cell_type": "code",
   "execution_count": 543,
   "metadata": {
    "collapsed": false
   },
   "outputs": [],
   "source": [
    "if  type(poly) == shapely.geometry.multipolygon.MultiPolygon:\n",
    "    p1, p2 = poly\n",
    "    lp = max(p1.boundary.coords.xy, p2.boundary.coords.xy)\n",
    "    rp = min(p1.boundary.coords.xy, p2.boundary.coords.xy)\n",
    "    xycor = np.array([np.array(lp[1]),np.array(lp[0])])\n",
    "    lat_thresh = xycor[0,xycor[1]==xycor[1].min()][0]\n",
    "    lb = xycor[:,xycor[0]>=lat_thresh]\n",
    "    lb = lb[:,abs(lb[1])!=180]\n",
    "    xycor = np.array([np.array(rp[1]),np.array(rp[0])])\n",
    "    lat_thresh = xycor[0,xycor[1]==xycor[1].max()][0]\n",
    "    rb = xycor[:,xycor[0]<=lat_thresh]\n",
    "    rb = rb[:,abs(rb[1])!=180]\n",
    "elif type(poly) == shapely.geometry.polygon.Polygon:\n",
    "    xycor = np.array(poly.boundary.coords.xy)[::-1,:]\n",
    "    lat_thresh = xycor[0,xycor[1]==xycor[1].min()][0]\n",
    "    lb = xycor[:,xycor[0]>=lat_thresh]\n",
    "    lb = lb[:,abs(lb[1])!=180]\n",
    "    lat_thresh = xycor[0,xycor[1]==xycor[1].max()][0]\n",
    "    rb = xycor[:,xycor[0]<=lat_thresh]\n",
    "    rb = rb[:,abs(rb[1])!=180]\n",
    "else:\n",
    "    print 'what type is this: ', type(poly), "
   ]
  },
  {
   "cell_type": "code",
   "execution_count": 321,
   "metadata": {
    "collapsed": false
   },
   "outputs": [],
   "source": [
    "ind = 121\n",
    "\n",
    "p1 = polygons[ind][0][0]\n",
    "p2 = polygons[ind][0][1]"
   ]
  },
  {
   "cell_type": "code",
   "execution_count": 322,
   "metadata": {
    "collapsed": false
   },
   "outputs": [
    {
     "data": {
      "image/svg+xml": [
       "<svg xmlns=\"http://www.w3.org/2000/svg\" xmlns:xlink=\"http://www.w3.org/1999/xlink\" width=\"100.0\" height=\"100.0\" viewBox=\"-180.26624 -82.89904 7.18848 2.17648\" preserveAspectRatio=\"xMinYMin meet\"><g transform=\"matrix(1,0,0,-1,0,-163.6216)\"><path fill-rule=\"evenodd\" fill=\"#66cc99\" stroke=\"#555555\" stroke-width=\"0.1437696\" opacity=\"0.6\" d=\"M -180.0,-81.966799827 L -180.0,-81.8951221678 L -180.0,-81.5394362299 L -180.0,-81.3451658604 L -180.0,-81.0593304135 L -180.0,-80.9888 L -179.667579554,-80.9888 L -178.974420446,-80.9888 L -178.442501685,-80.9888 L -174.66324465,-80.9888 L -174.421,-80.9888 L -174.059195493,-81.541080975 L -173.606175054,-82.232599639 L -173.348804756,-82.6254657211 L -173.344,-82.6328 L -173.641085408,-82.6328 L -173.936312648,-82.6328 L -180.0,-82.6328 L -180.0,-81.966799827 z\" /></g></svg>"
      ],
      "text/plain": [
       "<shapely.geometry.polygon.Polygon at 0x7f4b69deb950>"
      ]
     },
     "execution_count": 322,
     "metadata": {},
     "output_type": "execute_result"
    }
   ],
   "source": [
    "p1"
   ]
  },
  {
   "cell_type": "code",
   "execution_count": 323,
   "metadata": {
    "collapsed": false
   },
   "outputs": [
    {
     "data": {
      "image/svg+xml": [
       "<svg xmlns=\"http://www.w3.org/2000/svg\" xmlns:xlink=\"http://www.w3.org/1999/xlink\" width=\"100.0\" height=\"100.0\" viewBox=\"174.49008 -82.84472 5.72184 2.06784\" preserveAspectRatio=\"xMinYMin meet\"><g transform=\"matrix(1,0,0,-1,0,-163.6216)\"><path fill-rule=\"evenodd\" fill=\"#66cc99\" stroke=\"#555555\" stroke-width=\"0.1144368\" opacity=\"0.6\" d=\"M 174.706804756,-82.6254657211 L 174.964175054,-82.232599639 L 175.417195493,-81.541080975 L 175.779,-80.9888 L 176.02124465,-80.9888 L 179.800501685,-80.9888 L 180.0,-80.9888 L 180.0,-81.0593304135 L 180.0,-81.3451658604 L 180.0,-81.5394362299 L 180.0,-81.8951221678 L 180.0,-81.966799827 L 180.0,-82.6328 L 175.294312648,-82.6328 L 174.999085408,-82.6328 L 174.702,-82.6328 L 174.706804756,-82.6254657211 z\" /></g></svg>"
      ],
      "text/plain": [
       "<shapely.geometry.polygon.Polygon at 0x7f4b69deb850>"
      ]
     },
     "execution_count": 323,
     "metadata": {},
     "output_type": "execute_result"
    }
   ],
   "source": [
    "p2"
   ]
  },
  {
   "cell_type": "code",
   "execution_count": 216,
   "metadata": {
    "collapsed": false
   },
   "outputs": [
    {
     "data": {
      "text/plain": [
       "array([-80.76232148, -80.65568276, -80.62098886, -80.32529929, -80.3142    ])"
      ]
     },
     "execution_count": 216,
     "metadata": {},
     "output_type": "execute_result"
    }
   ],
   "source": [
    "np.array(p1.boundary.coords.xy[1])[np.array(p1.boundary.coords.xy[1])>lat0]"
   ]
  },
  {
   "cell_type": "code",
   "execution_count": 468,
   "metadata": {
    "collapsed": false
   },
   "outputs": [],
   "source": [
    "p1 = polygons[ind][0][0]\n",
    "p2 = polygons[ind][0][1]\n",
    "lp = max(p1.boundary.coords.xy, p2.boundary.coords.xy)\n",
    "rp = min(p1.boundary.coords.xy, p2.boundary.coords.xy)"
   ]
  },
  {
   "cell_type": "code",
   "execution_count": 469,
   "metadata": {
    "collapsed": true
   },
   "outputs": [],
   "source": [
    "xycor = np.array([np.array(lp[1]),np.array(lp[0])])\n",
    "lat_thresh = xycor[0,xycor[1]==xycor[1].min()][0]\n",
    "lb = xycor[:,xycor[0]>=lat_thresh]\n",
    "lb = lb[:,abs(lb[1])!=180]"
   ]
  },
  {
   "cell_type": "code",
   "execution_count": 470,
   "metadata": {
    "collapsed": false
   },
   "outputs": [],
   "source": [
    "xycor = np.array([np.array(rp[1]),np.array(rp[0])])\n",
    "lat_thresh = xycor[0,xycor[1]==xycor[1].max()][0]\n",
    "rb = xycor[:,xycor[0]<=lat_thresh]\n",
    "rb = rb[:,abs(rb[1])!=180]"
   ]
  },
  {
   "cell_type": "code",
   "execution_count": 499,
   "metadata": {
    "collapsed": false
   },
   "outputs": [
    {
     "data": {
      "text/plain": [
       "array([[ 80.2035    ,  80.22491633,  80.23475654,  80.24799245,\n",
       "         80.78164434,  80.80694899],\n",
       "       [-29.3159    , -29.14312855, -29.06374488, -28.95696711,\n",
       "        -24.6518502 , -24.44771066]])"
      ]
     },
     "execution_count": 499,
     "metadata": {},
     "output_type": "execute_result"
    }
   ],
   "source": [
    "lb"
   ]
  },
  {
   "cell_type": "code",
   "execution_count": 498,
   "metadata": {
    "collapsed": false
   },
   "outputs": [
    {
     "data": {
      "text/plain": [
       "(array([[ 79.7253    ],\n",
       "        [ 79.70439691],\n",
       "        [ 78.93033516],\n",
       "        [ 78.9112    ]]), array([[-16.6132    ],\n",
       "        [-16.79342467],\n",
       "        [-23.46731828],\n",
       "        [-23.6323    ]]))"
      ]
     },
     "execution_count": 498,
     "metadata": {},
     "output_type": "execute_result"
    }
   ],
   "source": [
    "ransaclin(rb[0], rb[1])"
   ]
  },
  {
   "cell_type": "code",
   "execution_count": 505,
   "metadata": {
    "collapsed": false
   },
   "outputs": [
    {
     "name": "stdout",
     "output_type": "stream",
     "text": [
      "-118.321170837\n"
     ]
    },
    {
     "data": {
      "text/plain": [
       "61.678829163443254"
      ]
     },
     "execution_count": 505,
     "metadata": {},
     "output_type": "execute_result"
    }
   ],
   "source": [
    "lst = zip(rb[0]* np.pi / 180., rb[1]* np.pi / 180.)\n",
    "combs = [i for i in itertools.combinations(lst,2)]\n",
    "azms = []\n",
    "for i in combs:\n",
    "    phi1 = i[0][0]\n",
    "    namda1 = i[0][1]\n",
    "    phi2 = i[1][0]\n",
    "    namda2 = i[1][1]\n",
    "    delta = namda2-namda1\n",
    "    azms.append(np.arctan2(np.sin(delta)*np.cos(phi2), \n",
    "                           np.cos(phi1)*np.sin(phi2)-np.sin(phi1)*np.cos(phi2)*np.cos(delta))/np.pi*180)\n",
    "\n",
    "mask = (azms < np.mean(azms)+np.std(azms))&(azms > np.mean(azms)-np.std(azms))\n",
    "M_azm = np.nanmean(np.array(azms)[mask])\n",
    "print M_azm\n",
    "if M_azm<0:\n",
    "    M_azm = (M_azm+360) % 360\n",
    "(M_azm+180) % 360"
   ]
  },
  {
   "cell_type": "code",
   "execution_count": 242,
   "metadata": {
    "collapsed": false
   },
   "outputs": [
    {
     "data": {
      "text/plain": [
       "LinregressResult(slope=19.386689865158818, intercept=1735.4174871683381, rvalue=1.0, pvalue=1.5000000000000099e-40, stderr=0.0)"
      ]
     },
     "execution_count": 242,
     "metadata": {},
     "output_type": "execute_result"
    }
   ],
   "source": [
    "scipy.stats.linregress(a[:,0],a[:,1])"
   ]
  },
  {
   "cell_type": "code",
   "execution_count": null,
   "metadata": {
    "collapsed": true
   },
   "outputs": [],
   "source": [
    "np.array([[i, di2[i]] for i in u_xcors]).sort"
   ]
  },
  {
   "cell_type": "code",
   "execution_count": 30,
   "metadata": {
    "collapsed": false
   },
   "outputs": [
    {
     "data": {
      "text/plain": [
       "[(174.706804755721, -82.625465721072),\n",
       " (174.964175054029, -82.2325996389759),\n",
       " (175.417195492633, -81.5410809750333),\n",
       " (175.779, -80.9888),\n",
       " (176.021244649601, -80.9888),\n",
       " (179.800501684836, -80.9888),\n",
       " (180.0, -80.9888),\n",
       " (180.0, -81.0593304134548),\n",
       " (180.0, -81.3451658604008),\n",
       " (180.0, -81.5394362298528),\n",
       " (180.0, -81.8951221677717),\n",
       " (180.0, -81.9667998270395),\n",
       " (180.0, -82.6328),\n",
       " (175.294312648149, -82.6328),\n",
       " (174.999085408022, -82.6328),\n",
       " (174.702, -82.6328),\n",
       " (174.706804755721, -82.625465721072)]"
      ]
     },
     "execution_count": 30,
     "metadata": {},
     "output_type": "execute_result"
    }
   ],
   "source": [
    "zip(list(p2.boundary.coords.xy[0]),list(p2.boundary.coords.xy[1]))"
   ]
  },
  {
   "cell_type": "code",
   "execution_count": 31,
   "metadata": {
    "collapsed": false
   },
   "outputs": [
    {
     "data": {
      "image/svg+xml": [
       "<svg xmlns=\"http://www.w3.org/2000/svg\" xmlns:xlink=\"http://www.w3.org/1999/xlink\" width=\"100.0\" height=\"100.0\" viewBox=\"174.49008 -82.84472 5.72184 2.06784\" preserveAspectRatio=\"xMinYMin meet\"><g transform=\"matrix(1,0,0,-1,0,-163.6216)\"><path fill-rule=\"evenodd\" fill=\"#66cc99\" stroke=\"#555555\" stroke-width=\"0.1144368\" opacity=\"0.6\" d=\"M 174.706804756,-82.6254657211 L 174.964175054,-82.232599639 L 175.417195493,-81.541080975 L 175.779,-80.9888 L 176.02124465,-80.9888 L 179.800501685,-80.9888 L 180.0,-80.9888 L 180.0,-81.0593304135 L 180.0,-81.3451658604 L 180.0,-81.5394362299 L 180.0,-81.8951221678 L 180.0,-81.966799827 L 180.0,-82.6328 L 175.294312648,-82.6328 L 174.999085408,-82.6328 L 174.702,-82.6328 L 174.706804756,-82.6254657211 z\" /></g></svg>"
      ],
      "text/plain": [
       "<shapely.geometry.polygon.Polygon at 0x7f4b69e1f790>"
      ]
     },
     "execution_count": 31,
     "metadata": {},
     "output_type": "execute_result"
    }
   ],
   "source": [
    "p2"
   ]
  },
  {
   "cell_type": "code",
   "execution_count": 450,
   "metadata": {
    "collapsed": false
   },
   "outputs": [
    {
     "name": "stdout",
     "output_type": "stream",
     "text": [
      "Need to be recalculated:  (<shapely.geometry.polygon.Polygon object at 0x7f4b6e17acd0>, 13, 8)\n"
     ]
    }
   ],
   "source": [
    "poly = polygons[7]\n",
    "xycor = np.array(poly[0].boundary.coords.xy)[::-1,:]\n",
    "lat_thresh = xycor[0,xycor[1]==xycor[1].min()][0]\n",
    "lb = xycor[:,xycor[0]>=lat_thresh]\n",
    "lb = lb[:,abs(lb[1])!=180]\n",
    "lat_thresh = xycor[0,xycor[1]==xycor[1].max()][0]\n",
    "rb = xycor[:,xycor[0]<=lat_thresh]\n",
    "rb = rb[:,abs(rb[1])!=180]\n",
    "r_azm = get_azm(rb, poly)"
   ]
  },
  {
   "cell_type": "code",
   "execution_count": 421,
   "metadata": {
    "collapsed": false
   },
   "outputs": [
    {
     "data": {
      "image/svg+xml": [
       "<svg xmlns=\"http://www.w3.org/2000/svg\" xmlns:xlink=\"http://www.w3.org/1999/xlink\" width=\"100.0\" height=\"100.0\" viewBox=\"-53.23128 72.09012 8.41266 2.76286\" preserveAspectRatio=\"xMinYMin meet\"><g transform=\"matrix(1,0,0,-1,0,146.9431)\"><path fill-rule=\"evenodd\" fill=\"#66cc99\" stroke=\"#555555\" stroke-width=\"0.1682532\" opacity=\"0.6\" d=\"M -45.3620312282,73.5819522998 L -46.8587601215,72.9166645756 L -47.1645162172,72.7807576802 L -47.950222114,72.4315157498 L -48.0173,72.4017 L -48.7627408564,72.5222654486 L -49.0288557076,72.5653060951 L -50.362186566,72.7809551726 L -52.912576736,73.1934479039 L -52.9197,73.1946 L -52.858974942,73.2257346536 L -52.7911450743,73.2605120504 L -52.1641515758,73.5819810787 L -52.0099588671,73.6610380074 L -51.7562841004,73.7911008884 L -50.4242073169,74.4740767571 L -50.362659942,74.505633025 L -50.2929,74.5414 L -50.2831648078,74.539785105 L -48.76305,74.2876251264 L -48.4954670891,74.2432378862 L -45.7699765062,73.7911275302 L -45.1302,73.685 L -45.2058706925,73.6513647952 L -45.3620312282,73.5819522998 z\" /></g></svg>"
      ],
      "text/plain": [
       "<shapely.geometry.polygon.Polygon at 0x7f4b6e17acd0>"
      ]
     },
     "execution_count": 421,
     "metadata": {},
     "output_type": "execute_result"
    }
   ],
   "source": [
    "poly[0]"
   ]
  },
  {
   "cell_type": "code",
   "execution_count": 424,
   "metadata": {
    "collapsed": false
   },
   "outputs": [
    {
     "data": {
      "text/plain": [
       "(array('d', [-45.3620312281768, -46.858760121493, -47.1645162171751, -47.9502221139836, -48.0173, -48.7627408563501, -49.0288557075549, -50.3621865660307, -52.9125767360044, -52.9197, -52.8589749419901, -52.7911450742667, -52.1641515758487, -52.0099588670643, -51.7562841003955, -50.4242073169485, -50.3626599420166, -50.2929, -50.2831648077766, -48.76305, -48.4954670890506, -45.7699765061994, -45.1302, -45.205870692492, -45.3620312281768]),\n",
       " array('d', [73.5819522998444, 72.9166645755561, 72.7807576801978, 72.4315157497575, 72.4017, 72.5222654485558, 72.56530609508, 72.7809551726105, 73.1934479038793, 73.1946, 73.2257346536195, 73.260512050395, 73.5819810787448, 73.6610380073998, 73.7911008883765, 74.4740767570937, 74.5056330250084, 74.5414, 74.5397851049606, 74.2876251263874, 74.2432378861958, 73.7911275301507, 73.685, 73.6513647952357, 73.5819522998444]))"
      ]
     },
     "execution_count": 424,
     "metadata": {},
     "output_type": "execute_result"
    }
   ],
   "source": [
    "poly[0].boundary.coords.xy"
   ]
  },
  {
   "cell_type": "code",
   "execution_count": 425,
   "metadata": {
    "collapsed": false
   },
   "outputs": [
    {
     "data": {
      "text/plain": [
       "-52.919699999999999"
      ]
     },
     "execution_count": 425,
     "metadata": {},
     "output_type": "execute_result"
    }
   ],
   "source": [
    "lat_thresh = xycor[0,xycor[1]==xycor[1].max()][0]\n",
    "rb = xycor[:,xycor[0]<=lat_thresh]\n",
    "rb = rb[:,abs(rb[1])!=180]\n",
    "rb = rb[:,rb[1]>=sorted(rb[1])[max(-5, -len(rb[0]))]]"
   ]
  },
  {
   "cell_type": "code",
   "execution_count": 533,
   "metadata": {
    "collapsed": false
   },
   "outputs": [],
   "source": [
    "poly = polygons[1]\n",
    "xycor = np.array(poly[0].boundary.coords.xy)[::-1,:]\n",
    "lat_thresh = xycor[0,xycor[1]==xycor[1].min()][0]\n",
    "lb = xycor[:,xycor[0]>=lat_thresh]\n",
    "#slist = lb[1].copy()\n",
    "#sorted(slist)[4]\n",
    "#lb = lb[:,abs(lb[1])!=180]\n",
    "#lb = lb[:,lb[1]<=sorted(lb[1])[min(5,len(lb[0])-1)]]\n",
    "lat_thresh = xycor[0,xycor[1]==xycor[1].max()][0]\n",
    "rb = xycor[:,xycor[0]<=lat_thresh]\n",
    "rb = rb[:,abs(rb[1])!=180]\n",
    "rb = rb[:,rb[1]>=sorted(rb[1])[max(-5, -len(rb[0]))]]"
   ]
  },
  {
   "cell_type": "code",
   "execution_count": 520,
   "metadata": {
    "collapsed": false
   },
   "outputs": [
    {
     "data": {
      "text/plain": [
       "-29.315899999999999"
      ]
     },
     "execution_count": 520,
     "metadata": {},
     "output_type": "execute_result"
    }
   ],
   "source": [
    "xycor[1].min()"
   ]
  },
  {
   "cell_type": "code",
   "execution_count": 523,
   "metadata": {
    "collapsed": false
   },
   "outputs": [
    {
     "data": {
      "text/plain": [
       "(array([ 80.2035    ,  80.22491633,  80.23475654,  80.24799245,\n",
       "         80.78164434,  80.80694899,  80.857225  ,  81.06523331,\n",
       "         81.08624183,  81.10968417,  81.134     ,  81.12821993,\n",
       "         81.11939796,  80.87618393,  80.62100359]),\n",
       " array([-29.3159    , -29.14312855, -29.06374488, -28.95696711,\n",
       "        -24.6518502 , -24.44771066, -24.04212026, -22.36405988,\n",
       "        -22.1945783 , -22.0054625 , -21.8093    , -21.78797977,\n",
       "        -21.75543924, -20.85832529, -19.91707268]))"
      ]
     },
     "execution_count": 523,
     "metadata": {},
     "output_type": "execute_result"
    }
   ],
   "source": [
    "xycor[0][xycor[0]>=lat_thresh], xycor[1][xycor[0]>=lat_thresh]"
   ]
  },
  {
   "cell_type": "code",
   "execution_count": 518,
   "metadata": {
    "collapsed": false
   },
   "outputs": [
    {
     "data": {
      "text/plain": [
       "80.203500000000005"
      ]
     },
     "execution_count": 518,
     "metadata": {},
     "output_type": "execute_result"
    }
   ],
   "source": [
    "lat_thresh"
   ]
  },
  {
   "cell_type": "code",
   "execution_count": 517,
   "metadata": {
    "collapsed": false
   },
   "outputs": [
    {
     "data": {
      "text/plain": [
       "[(80.1868116192136, -29.2425036670762),\n",
       " (80.198959040749898, -29.295928634222602),\n",
       " (80.203500000000005, -29.315899999999999),\n",
       " (80.224916331282301, -29.143128551957702),\n",
       " (80.234756539053606, -29.0637448833318),\n",
       " (80.247992454252696, -28.956967106831701),\n",
       " (80.781644344521297, -24.651850202489801),\n",
       " (80.806948988779794, -24.447710661822398),\n",
       " (80.857224995670506, -24.0421202552387),\n",
       " (81.065233305567205, -22.364059880096299),\n",
       " (81.086241833034705, -22.194578297841399),\n",
       " (81.109684170856795, -22.005462496557101),\n",
       " (81.134, -21.8093),\n",
       " (81.128219933594494, -21.787979773514799),\n",
       " (81.119397960107094, -21.755439235119098),\n",
       " (80.876183931684096, -20.858325290994198),\n",
       " (80.621003594307496, -19.917072681465999),\n",
       " (80.004285498938899, -17.642259807650099),\n",
       " (79.725300000000004, -16.613199999999999),\n",
       " (79.7043969059322, -16.7934246745744),\n",
       " (78.930335161924006, -23.467318283919699),\n",
       " (78.911199999999994, -23.632300000000001),\n",
       " (79.004366289851504, -24.04205),\n",
       " (79.063282419714, -24.301166084258099),\n",
       " (80.1868116192136, -29.2425036670762)]"
      ]
     },
     "execution_count": 517,
     "metadata": {},
     "output_type": "execute_result"
    }
   ],
   "source": [
    "zip(xycor[0], xycor[1])"
   ]
  },
  {
   "cell_type": "code",
   "execution_count": 531,
   "metadata": {
    "collapsed": false
   },
   "outputs": [
    {
     "data": {
      "text/plain": [
       "array([-29.3159    , -29.14312855, -29.06374488, -28.95696711,\n",
       "       -24.6518502 , -24.44771066, -24.04212026, -22.36405988,\n",
       "       -22.1945783 , -22.0054625 , -21.8093    , -21.78797977,\n",
       "       -21.75543924, -20.85832529, -19.91707268])"
      ]
     },
     "execution_count": 531,
     "metadata": {},
     "output_type": "execute_result"
    }
   ],
   "source": [
    "lb[1]"
   ]
  },
  {
   "cell_type": "code",
   "execution_count": 535,
   "metadata": {
    "collapsed": false
   },
   "outputs": [
    {
     "data": {
      "text/plain": [
       "array([-29.3159    , -29.14312855, -29.06374488, -28.95696711,\n",
       "       -24.6518502 , -24.44771066, -24.04212026, -22.36405988,\n",
       "       -22.1945783 , -22.0054625 , -21.8093    , -21.78797977,\n",
       "       -21.75543924, -20.85832529, -19.91707268])"
      ]
     },
     "execution_count": 535,
     "metadata": {},
     "output_type": "execute_result"
    }
   ],
   "source": [
    "lb[1]"
   ]
  },
  {
   "cell_type": "code",
   "execution_count": 511,
   "metadata": {
    "collapsed": false
   },
   "outputs": [
    {
     "data": {
      "text/plain": [
       "(230.96644017015629, 60.881619196465124)"
      ]
     },
     "execution_count": 511,
     "metadata": {},
     "output_type": "execute_result"
    }
   ],
   "source": [
    "get_azm(lb, poly),get_azm(rb, poly)"
   ]
  },
  {
   "cell_type": "code",
   "execution_count": 495,
   "metadata": {
    "collapsed": false
   },
   "outputs": [
    {
     "data": {
      "text/plain": [
       "array([[ 80.2035    ,  80.22491633,  80.23475654,  80.24799245,\n",
       "         80.78164434,  80.80694899],\n",
       "       [-29.3159    , -29.14312855, -29.06374488, -28.95696711,\n",
       "        -24.6518502 , -24.44771066]])"
      ]
     },
     "execution_count": 495,
     "metadata": {},
     "output_type": "execute_result"
    }
   ],
   "source": [
    "lb"
   ]
  },
  {
   "cell_type": "code",
   "execution_count": 509,
   "metadata": {
    "collapsed": false
   },
   "outputs": [
    {
     "data": {
      "image/svg+xml": [
       "<svg xmlns=\"http://www.w3.org/2000/svg\" xmlns:xlink=\"http://www.w3.org/1999/xlink\" width=\"100.0\" height=\"100.0\" viewBox=\"-29.824008 78.403092 13.718916 3.239016\" preserveAspectRatio=\"xMinYMin meet\"><g transform=\"matrix(1,0,0,-1,0,160.0452)\"><path fill-rule=\"evenodd\" fill=\"#66cc99\" stroke=\"#555555\" stroke-width=\"0.27437832\" opacity=\"0.6\" d=\"M -29.2425036671,80.1868116192 L -29.2959286342,80.1989590407 L -29.3159,80.2035 L -29.143128552,80.2249163313 L -29.0637448833,80.2347565391 L -28.9569671068,80.2479924543 L -24.6518502025,80.7816443445 L -24.4477106618,80.8069489888 L -24.0421202552,80.8572249957 L -22.3640598801,81.0652333056 L -22.1945782978,81.086241833 L -22.0054624966,81.1096841709 L -21.8093,81.134 L -21.7879797735,81.1282199336 L -21.7554392351,81.1193979601 L -20.858325291,80.8761839317 L -19.9170726815,80.6210035943 L -17.6422598077,80.0042854989 L -16.6132,79.7253 L -16.7934246746,79.7043969059 L -23.4673182839,78.9303351619 L -23.6323,78.9112 L -24.04205,79.0043662899 L -24.3011660843,79.0632824197 L -29.2425036671,80.1868116192 z\" /></g></svg>"
      ],
      "text/plain": [
       "<shapely.geometry.polygon.Polygon at 0x7f4b6e17ab90>"
      ]
     },
     "execution_count": 509,
     "metadata": {},
     "output_type": "execute_result"
    }
   ],
   "source": [
    "poly[0]"
   ]
  },
  {
   "cell_type": "code",
   "execution_count": 490,
   "metadata": {
    "collapsed": false
   },
   "outputs": [
    {
     "data": {
      "text/plain": [
       "80.203500000000005"
      ]
     },
     "execution_count": 490,
     "metadata": {},
     "output_type": "execute_result"
    }
   ],
   "source": [
    "lat_thresh = xycor[0,xycor[1]==xycor[1].min()][0]\n",
    "lat_thresh"
   ]
  },
  {
   "cell_type": "code",
   "execution_count": 491,
   "metadata": {
    "collapsed": false
   },
   "outputs": [
    {
     "data": {
      "text/plain": [
       "array([[ 80.2035    ,  80.22491633,  80.23475654,  80.24799245,\n",
       "         80.78164434,  80.80694899,  80.857225  ,  81.06523331,\n",
       "         81.08624183,  81.10968417,  81.134     ,  81.12821993,\n",
       "         81.11939796,  80.87618393,  80.62100359],\n",
       "       [-29.3159    , -29.14312855, -29.06374488, -28.95696711,\n",
       "        -24.6518502 , -24.44771066, -24.04212026, -22.36405988,\n",
       "        -22.1945783 , -22.0054625 , -21.8093    , -21.78797977,\n",
       "        -21.75543924, -20.85832529, -19.91707268]])"
      ]
     },
     "execution_count": 491,
     "metadata": {},
     "output_type": "execute_result"
    }
   ],
   "source": [
    "xycor[:,xycor[0]>=lat_thresh]"
   ]
  },
  {
   "cell_type": "code",
   "execution_count": 487,
   "metadata": {
    "collapsed": false
   },
   "outputs": [
    {
     "data": {
      "text/plain": [
       "array([[ 80.18681162,  80.19895904,  80.2035    ,  80.22491633,\n",
       "         80.23475654,  80.24799245,  80.78164434,  80.80694899,\n",
       "         80.857225  ,  81.06523331,  81.08624183,  81.10968417,\n",
       "         81.134     ,  81.12821993,  81.11939796,  80.87618393,\n",
       "         80.62100359,  80.0042855 ,  79.7253    ,  79.70439691,\n",
       "         78.93033516,  78.9112    ,  79.00436629,  79.06328242,\n",
       "         80.18681162],\n",
       "       [-29.24250367, -29.29592863, -29.3159    , -29.14312855,\n",
       "        -29.06374488, -28.95696711, -24.6518502 , -24.44771066,\n",
       "        -24.04212026, -22.36405988, -22.1945783 , -22.0054625 ,\n",
       "        -21.8093    , -21.78797977, -21.75543924, -20.85832529,\n",
       "        -19.91707268, -17.64225981, -16.6132    , -16.79342467,\n",
       "        -23.46731828, -23.6323    , -24.04205   , -24.30116608,\n",
       "        -29.24250367]])"
      ]
     },
     "execution_count": 487,
     "metadata": {},
     "output_type": "execute_result"
    }
   ],
   "source": [
    "xycor"
   ]
  },
  {
   "cell_type": "code",
   "execution_count": 486,
   "metadata": {
    "collapsed": false
   },
   "outputs": [
    {
     "data": {
      "text/plain": [
       "array([[ 80.2035    ,  80.22491633,  80.23475654,  80.24799245,\n",
       "         80.78164434],\n",
       "       [-29.3159    , -29.14312855, -29.06374488, -28.95696711, -24.6518502 ]])"
      ]
     },
     "execution_count": 486,
     "metadata": {},
     "output_type": "execute_result"
    }
   ],
   "source": [
    "lb"
   ]
  },
  {
   "cell_type": "code",
   "execution_count": 481,
   "metadata": {
    "collapsed": false
   },
   "outputs": [
    {
     "data": {
      "text/plain": [
       "60.881619196465124"
      ]
     },
     "execution_count": 481,
     "metadata": {},
     "output_type": "execute_result"
    }
   ],
   "source": [
    "get_azm(rb, poly)"
   ]
  },
  {
   "cell_type": "code",
   "execution_count": 462,
   "metadata": {
    "collapsed": false
   },
   "outputs": [
    {
     "data": {
      "text/plain": [
       "[-52.919699999999999,\n",
       " -52.858974941990098,\n",
       " -52.791145074266701,\n",
       " -52.164151575848699,\n",
       " -52.009958867064299,\n",
       " -51.756284100395497,\n",
       " -50.424207316948497,\n",
       " -50.362659942016599,\n",
       " -50.292900000000003,\n",
       " -50.2831648077766,\n",
       " -48.76305,\n",
       " -48.495467089050599,\n",
       " -45.769976506199399,\n",
       " -45.362031228176797,\n",
       " -45.362031228176797,\n",
       " -45.205870692491999,\n",
       " -45.130200000000002]"
      ]
     },
     "execution_count": 462,
     "metadata": {},
     "output_type": "execute_result"
    }
   ],
   "source": [
    "sorted(lb[1])"
   ]
  },
  {
   "cell_type": "code",
   "execution_count": 460,
   "metadata": {
    "collapsed": false
   },
   "outputs": [
    {
     "data": {
      "text/plain": [
       "array([[ 73.1946    ,  73.22573465,  73.26051205,  73.58198108,\n",
       "         73.66103801],\n",
       "       [-52.9197    , -52.85897494, -52.79114507, -52.16415158,\n",
       "        -52.00995887]])"
      ]
     },
     "execution_count": 460,
     "metadata": {},
     "output_type": "execute_result"
    }
   ],
   "source": [
    "lb[:,lb[1]<=sorted(lb[1])[4]]"
   ]
  },
  {
   "cell_type": "code",
   "execution_count": null,
   "metadata": {
    "collapsed": false,
    "scrolled": true
   },
   "outputs": [],
   "source": [
    "tile_azm = []\n",
    "for poly in polygons:    \n",
    "    if  type(poly[0]) == shapely.geometry.multipolygon.MultiPolygon:\n",
    "        p1, p2 = poly[0]\n",
    "        lp = max(p1.boundary.coords.xy, p2.boundary.coords.xy)\n",
    "        rp = min(p1.boundary.coords.xy, p2.boundary.coords.xy)\n",
    "        xycor = np.array([np.array(lp[1]),np.array(lp[0])])\n",
    "        lat_thresh = xycor[0,xycor[1]==xycor[1].min()][0]\n",
    "        lb = xycor[:,xycor[0]>=lat_thresh]\n",
    "        lb = lb[:,abs(lb[1])!=180]\n",
    "        if lb.size ==0:\n",
    "            lb = xycor[:,xycor[0]>=lat_thresh]\n",
    "            lb.sort()\n",
    "        else:\n",
    "            lb = lb[:,lb[1]<=sorted(lb[1])[min(2,len(lb[0])-1)]]\n",
    "            lb.sort()\n",
    "        lat_thresh = xycor[0,xycor[1]==xycor[1].max()][0]\n",
    "        rb = xycor[:,xycor[0]<=lat_thresh]\n",
    "        rb = rb[:,abs(rb[1])!=180]\n",
    "        if rb.size ==0:\n",
    "            rb= xycor[:,xycor[0]<=lat_thresh]\n",
    "            rb.sort()\n",
    "        else:\n",
    "            rb = rb[:,rb[1]>=sorted(rb[1])[max(-3, -len(rb[0]))]]\n",
    "            rb.sort()\n",
    "    elif type(poly[0]) == shapely.geometry.polygon.Polygon:\n",
    "        xycor = np.array(poly[0].boundary.coords.xy)[::-1,:]\n",
    "        lat_thresh = xycor[0,xycor[1]==xycor[1].min()][0]\n",
    "        lb = xycor[:,xycor[0]>=lat_thresh]\n",
    "        lb = lb[:,abs(lb[1])!=180]\n",
    "        if lb.size==0:\n",
    "            lb = xycor[:,xycor[0]>=lat_thresh]\n",
    "            lb.sort()\n",
    "        else:\n",
    "            lb = lb[:,lb[1]<=sorted(lb[1])[min(2,len(lb[0])-1)]]\n",
    "            lb.sort()\n",
    "        lat_thresh = xycor[0,xycor[1]==xycor[1].max()][0]\n",
    "        rb = xycor[:,xycor[0]<=lat_thresh]\n",
    "        rb = rb[:,abs(rb[1])!=180]\n",
    "        if rb.size ==0:\n",
    "            rb= xycor[:,xycor[0]<=lat_thresh]\n",
    "            rb.sort()\n",
    "        else:\n",
    "            rb = rb[:,rb[1]>=sorted(rb[1])[max(-3, -len(rb[0]))]]\n",
    "            rb.sort()\n",
    "    else:\n",
    "        print 'what type is this: ', type(poly), poly\n",
    "    \n",
    "    l_azm = get_azm(lb, poly); r_azm = get_azm(rb, poly)\n",
    "    tile_azm.append([l_azm, r_azm, poly[1], poly[2]])"
   ]
  },
  {
   "cell_type": "code",
   "execution_count": 667,
   "metadata": {
    "collapsed": true
   },
   "outputs": [],
   "source": [
    "import cPickle as pkl\n",
    "with open('Landsat_azm.pkl', 'r') as savefile:\n",
    "    test = pkl.load(savefile)"
   ]
  },
  {
   "cell_type": "code",
   "execution_count": 669,
   "metadata": {
    "collapsed": false
   },
   "outputs": [
    {
     "data": {
      "text/plain": [
       "array([[192.839407933243, 193.80998209181644, 124, 34]], dtype=object)"
      ]
     },
     "execution_count": 669,
     "metadata": {},
     "output_type": "execute_result"
    }
   ],
   "source": [
    "lan_azm[(lan_azm[:,2]==124)&(lan_azm[:,3]==34)]"
   ]
  },
  {
   "cell_type": "code",
   "execution_count": null,
   "metadata": {
    "collapsed": true
   },
   "outputs": [],
   "source": []
  }
 ],
 "metadata": {
  "kernelspec": {
   "display_name": "Python 2",
   "language": "python",
   "name": "python2"
  },
  "language_info": {
   "codemirror_mode": {
    "name": "ipython",
    "version": 2
   },
   "file_extension": ".py",
   "mimetype": "text/x-python",
   "name": "python",
   "nbconvert_exporter": "python",
   "pygments_lexer": "ipython2",
   "version": "2.7.12"
  }
 },
 "nbformat": 4,
 "nbformat_minor": 0
}
