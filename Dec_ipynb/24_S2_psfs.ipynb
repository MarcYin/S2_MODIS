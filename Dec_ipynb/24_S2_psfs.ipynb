{
 "cells": [
  {
   "cell_type": "code",
   "execution_count": 2,
   "metadata": {
    "collapsed": false
   },
   "outputs": [
    {
     "name": "stdout",
     "output_type": "stream",
     "text": [
      "/data/store01/data_dirs/students/ucfafyi/S2_MODIS\n"
     ]
    }
   ],
   "source": [
    "cd /data/store01/data_dirs/students/ucfafyi/S2_MODIS"
   ]
  },
  {
   "cell_type": "code",
   "execution_count": 3,
   "metadata": {
    "collapsed": false
   },
   "outputs": [],
   "source": [
    "import sys\n",
    "sys.path.insert(0, 'python')\n",
    "from fastRWpkl import *\n",
    "import glob\n",
    "import numpy as np"
   ]
  },
  {
   "cell_type": "code",
   "execution_count": 4,
   "metadata": {
    "collapsed": false
   },
   "outputs": [],
   "source": [
    "pkls = glob.glob('pkls/50*PSF*00.pkl')"
   ]
  },
  {
   "cell_type": "code",
   "execution_count": 5,
   "metadata": {
    "collapsed": false
   },
   "outputs": [],
   "source": [
    "fnames = [j.split('/')[1] for j in (i.split('00.')[0] for i in pkls)]"
   ]
  },
  {
   "cell_type": "code",
   "execution_count": 6,
   "metadata": {
    "collapsed": false
   },
   "outputs": [],
   "source": [
    "c = []\n",
    "for fname in sorted(fnames):\n",
    "    data = np.array([np.hstack((i[0], np.array(i[1]))) for i in parallel_rw_pkl(None, fname, 'r')[0]])\n",
    "    mi = data[data[:,5] == data[:,5].min()]\n",
    "    c.append([fname, mi])"
   ]
  },
  {
   "cell_type": "code",
   "execution_count": 8,
   "metadata": {
    "collapsed": false
   },
   "outputs": [
    {
     "data": {
      "text/plain": [
       "17"
      ]
     },
     "execution_count": 8,
     "metadata": {},
     "output_type": "execute_result"
    }
   ],
   "source": [
    "len(c[:-5])"
   ]
  },
  {
   "cell_type": "code",
   "execution_count": 9,
   "metadata": {
    "collapsed": false
   },
   "outputs": [
    {
     "data": {
      "text/plain": [
       "['50SKG_0503_PSF.pkl',\n",
       " '50SKG_0513_PSF.pkl',\n",
       " '50SKG_0526_PSF.pkl',\n",
       " '50SKG_0117_PSF.pkl',\n",
       " '50SKG_0124_PSF.pkl',\n",
       " '50SKG_0203_PSF.pkl',\n",
       " '50SKG_0216_PSF.pkl',\n",
       " '50SKG_0413_PSF.pkl',\n",
       " '50SKG_0612_PSF.pkl',\n",
       " '50SKG_0615_PSF.pkl',\n",
       " '50SKG_0622_PSF.pkl',\n",
       " '50SKG_0725_PSF.pkl',\n",
       " '50SKG_0811_PSF.pkl',\n",
       " '50SKG_0814_PSF.pkl',\n",
       " '50SPG_1014_PSF.pkl',\n",
       " '50SPG_1004_PSF.pkl',\n",
       " '50SPG_0616_PSF.pkl',\n",
       " '50SPG_0530_PSF.pkl',\n",
       " '50SPG_0510_PSF.pkl',\n",
       " '50SPG_0430_PSF.pkl',\n",
       " '50SNG_0828_PSF.pkl',\n",
       " '50SNG_0530_PSF.pkl']"
      ]
     },
     "execution_count": 9,
     "metadata": {},
     "output_type": "execute_result"
    }
   ],
   "source": [
    "fnames"
   ]
  },
  {
   "cell_type": "code",
   "execution_count": 10,
   "metadata": {
    "collapsed": false
   },
   "outputs": [
    {
     "data": {
      "text/plain": [
       "['50SKG_0117_PSF.pkl',\n",
       " '50SKG_0124_PSF.pkl',\n",
       " '50SKG_0203_PSF.pkl',\n",
       " '50SKG_0216_PSF.pkl',\n",
       " '50SKG_0413_PSF.pkl',\n",
       " '50SKG_0503_PSF.pkl',\n",
       " '50SKG_0513_PSF.pkl',\n",
       " '50SKG_0526_PSF.pkl',\n",
       " '50SKG_0612_PSF.pkl',\n",
       " '50SKG_0615_PSF.pkl',\n",
       " '50SKG_0622_PSF.pkl',\n",
       " '50SKG_0725_PSF.pkl',\n",
       " '50SKG_0811_PSF.pkl',\n",
       " '50SKG_0814_PSF.pkl',\n",
       " '50SNG_0530_PSF.pkl',\n",
       " '50SNG_0828_PSF.pkl',\n",
       " '50SPG_0430_PSF.pkl']"
      ]
     },
     "execution_count": 10,
     "metadata": {},
     "output_type": "execute_result"
    }
   ],
   "source": [
    "sorted(fnames)[:-5]"
   ]
  },
  {
   "cell_type": "code",
   "execution_count": 11,
   "metadata": {
    "collapsed": false
   },
   "outputs": [],
   "source": [
    "paras = [[i[0],i[1].flatten()] for i in  c[:-5] if i[1].flatten()[-1]<0.1]"
   ]
  },
  {
   "cell_type": "code",
   "execution_count": 12,
   "metadata": {
    "collapsed": false
   },
   "outputs": [
    {
     "data": {
      "text/plain": [
       "[['50SKG_0413_PSF.pkl',\n",
       "  array([  2.92344905e+01,   4.31667817e+01,  -1.23489766e+01,\n",
       "           3.07690430e+01,   1.06054688e+01,   1.75041610e-02])],\n",
       " ['50SKG_0503_PSF.pkl',\n",
       "  array([  3.04870426e+01,   4.13286710e+01,  -1.35535958e+01,\n",
       "           2.61445312e+01,   1.03125000e+00,   1.37596719e-02])],\n",
       " ['50SKG_0513_PSF.pkl',\n",
       "  array([  2.97274187e+01,   4.02140327e+01,  -1.14484172e+01,\n",
       "           2.39062500e+01,   6.37500000e+00,   3.24080654e-02])],\n",
       " ['50SKG_0612_PSF.pkl',\n",
       "  array([  4.06099755e+01,   5.22830076e+01,   1.17524859e+01,\n",
       "           2.25468750e+01,   3.37500000e+00,   3.43395558e-02])],\n",
       " ['50SKG_0622_PSF.pkl',\n",
       "  array([  2.69970497e+01,   4.49402981e+01,  -7.21792374e+00,\n",
       "           2.20356445e+01,   1.10156250e+00,   1.06793924e-02])],\n",
       " ['50SNG_0530_PSF.pkl',\n",
       "  array([  2.81029865e+01,   4.04234524e+01,  -4.34902714e+00,\n",
       "           2.00625000e+01,   9.00000000e+00,   3.24066091e-02])],\n",
       " ['50SNG_0828_PSF.pkl',\n",
       "  array([ 30.89561813,  41.29100136, -15.        ,  20.12109375,\n",
       "           7.359375  ,   0.08639883])]]"
      ]
     },
     "execution_count": 12,
     "metadata": {},
     "output_type": "execute_result"
    }
   ],
   "source": [
    "paras"
   ]
  },
  {
   "cell_type": "code",
   "execution_count": null,
   "metadata": {
    "collapsed": true
   },
   "outputs": [],
   "source": []
  }
 ],
 "metadata": {
  "kernelspec": {
   "display_name": "Python 2",
   "language": "python",
   "name": "python2"
  },
  "language_info": {
   "codemirror_mode": {
    "name": "ipython",
    "version": 2
   },
   "file_extension": ".py",
   "mimetype": "text/x-python",
   "name": "python",
   "nbconvert_exporter": "python",
   "pygments_lexer": "ipython2",
   "version": "2.7.12"
  }
 },
 "nbformat": 4,
 "nbformat_minor": 0
}
