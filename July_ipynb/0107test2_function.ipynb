{
 "cells": [
  {
   "cell_type": "code",
   "execution_count": null,
   "metadata": {
    "collapsed": true
   },
   "outputs": [],
   "source": [
    "import sys\n",
    "sys.path.insert(0,'python')\n",
    "from fastRWpkl import *\n",
    "from scipy import signal\n",
    "import numpy as np\n",
    "import scipy\n",
    "from scipy import signal\n",
    "from scipy.ndimage.morphology import binary_dilation as bd\n",
    "import scipy.ndimage as ndimage\n",
    "from functools import partial\n",
    "import multiprocessing\n",
    "import numpy.ma as ma\n",
    "from collections import Counter"
   ]
  },
  {
   "cell_type": "code",
   "execution_count": null,
   "metadata": {
    "collapsed": true
   },
   "outputs": [],
   "source": [
    "def gaussian(xwin, ywin, xstd, ystd, angle, norm = True):\n",
    "    win = max(xwin, ywin)\n",
    "    winx = win*2**0.5\n",
    "    winy = win*2**0.5\n",
    "    \n",
    "    xstd = xstd*2**0.5\n",
    "    ystd = ystd*2**0.5\n",
    "        \n",
    "    xgaus = signal.gaussian(winx, xstd)\n",
    "    ygaus = signal.gaussian(winy, ystd)\n",
    "    gaus  = np.outer(xgaus/(xgaus.sum()), ygaus/(ygaus.sum()))\n",
    "    r_gaus = scipy.ndimage.interpolation.rotate(gaus, angle, reshape=True)\n",
    "    center = np.array(r_gaus.shape)/2\n",
    "    cgaus = r_gaus[center[0]-xwin/2.: center[0]+xwin/2., center[1]-ywin/2.:center[1]+ywin/2.]\n",
    "    if norm:\n",
    "        return cgaus/cgaus.sum()\n",
    "    else:\n",
    "        return cgaus"
   ]
  },
  {
   "cell_type": "code",
   "execution_count": null,
   "metadata": {
    "collapsed": true
   },
   "outputs": [],
   "source": [
    "data = parallel_rw_pkl(None, 'inter_sent%i'%2, 'r')\n",
    "mask = parallel_rw_pkl(None, 'inter_sentm%i'%2, 'r')\n",
    "modis_sent = ma.array(data, mask=mask)\n",
    "\n",
    "b4 = parallel_rw_pkl(None, 'band4', 'r')\n",
    "stm = parallel_rw_pkl(None, 'std_m', 'r')\n",
    "p_mask = np.unique(stm)\n",
    "\n",
    "Sent = b4\n",
    "struct = ndimage.generate_binary_structure(2, 2)"
   ]
  },
  {
   "cell_type": "code",
   "execution_count": null,
   "metadata": {
    "collapsed": true
   },
   "outputs": [],
   "source": [
    "#Gaussian one\n",
    "def shift(pat, mode='gaus'): \n",
    "    mask,to_conv, brdf, indx, indy = pat\n",
    "    print mask.sum()\n",
    "    if (mask.sum() >= 2000) and (mask.sum() < 3000):\n",
    "        \n",
    "        if mode == 'mean':\n",
    "            w = 1./(np.nansum(mask))\n",
    "            k = np.zeros(mask.shape).astype('float')\n",
    "            k[mask] = w\n",
    "            conved = signal.fftconvolve(to_conv, k, mode='valid')\n",
    "            dif = abs(conved-u)\n",
    "            minm = np.nanmin(dif)\n",
    "            x = np.where(dif == minm)[0][0]-np.ceil((conved.shape[0])/2.)\n",
    "            y = np.where(dif == minm)[1][0]-np.ceil((conved.shape[1])/2.)\n",
    "            vals = conved[np.where(dif == minm)[0][0], np.where(dif == minm)[1][0]]\n",
    "            return [x, y , brdf, vals, indx,indy]\n",
    "\n",
    "        elif mode == 'gaus':\n",
    "            \n",
    "            inds = pkl.load(open('pkls/gaus_trans.pkl','rb'))\n",
    "            #vx,vy = pkl.load(open('pkls/gaus_valid.pkl','rb'))\n",
    "            \n",
    "            xwin, ywin = 100, 100  \n",
    "            cost = []\n",
    "            start = 1.\n",
    "            star = 1\n",
    "            end = 60\n",
    "            for xstd in np.arange(8,20,1):\n",
    "                for ystd in np.arange(10,30,1):\n",
    "                    if xstd <=ystd:\n",
    "                        for angle in xrange(30,160, 2):\n",
    "                            \n",
    "                            gaus = gaussian(xwin,ywin,xstd,ystd,angle,False)                            \n",
    "                            kernel = np.zeros((99, 225))\n",
    "                            kernel[inds[1], inds[0]] = gaus.ravel()\n",
    "                            \n",
    "                            if kernel.sum() <= 0:\n",
    "                                return 0\n",
    "                            else:\n",
    "                                ker = kernel/(kernel.sum())\n",
    "                                conved = signal.fftconvolve(to_conv, ker, mode='valid')\n",
    "                                dif = abs(conved-brdf)\n",
    "                                minm = np.nanmin(dif)\n",
    "                                if minm<start:\n",
    "                                    x = np.where(dif == minm)[0][0]-np.ceil((conved.shape[0])/2.)\n",
    "                                    y = np.where(dif == minm)[1][0]-np.ceil((conved.shape[1])/2.)\n",
    "                                    vals = conved[np.where(dif == minm)[0][0], np.where(dif == minm)[1][0]]\n",
    "                                    cost.append([xstd, ystd, angle, x, y , brdf, vals, indx, indy])\n",
    "                                    start = minm\n",
    "                                    print 'Find One!!', start\n",
    "                    else:\n",
    "                        pass\n",
    "            return cost[-1]           \n",
    "        else:\n",
    "            pass   \n",
    "    else:\n",
    "        pass\n",
    "        "
   ]
  },
  {
   "cell_type": "code",
   "execution_count": null,
   "metadata": {
    "collapsed": true
   },
   "outputs": [],
   "source": []
  }
 ],
 "metadata": {
  "kernelspec": {
   "display_name": "Python 2",
   "language": "python",
   "name": "python2"
  },
  "language_info": {
   "codemirror_mode": {
    "name": "ipython",
    "version": 2
   },
   "file_extension": ".py",
   "mimetype": "text/x-python",
   "name": "python",
   "nbconvert_exporter": "python",
   "pygments_lexer": "ipython2",
   "version": "2.7.11"
  }
 },
 "nbformat": 4,
 "nbformat_minor": 0
}
