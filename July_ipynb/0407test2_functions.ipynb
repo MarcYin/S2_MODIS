{
 "cells": [
  {
   "cell_type": "code",
   "execution_count": 1,
   "metadata": {
    "collapsed": true
   },
   "outputs": [],
   "source": [
    "import sys\n",
    "sys.path.insert(0,'python')\n",
    "from fastRWpkl import *\n",
    "from scipy import signal\n",
    "import numpy as np\n",
    "import scipy\n",
    "from scipy import signal\n",
    "from scipy.ndimage.morphology import binary_dilation as bd\n",
    "import scipy.ndimage as ndimage\n",
    "from functools import partial\n",
    "import multiprocessing\n",
    "import numpy.ma as ma\n",
    "from collections import Counter\n",
    "import cPickle as pkl\n",
    "import pylab as plt\n",
    "%matplotlib inline"
   ]
  },
  {
   "cell_type": "code",
   "execution_count": 2,
   "metadata": {
    "collapsed": true
   },
   "outputs": [],
   "source": [
    "inds = pkl.load(open('pkls/gaus_trans.pkl','rb'))\n",
    "data = parallel_rw_pkl(None, 'test_patch', 'r')\n",
    "mask = parallel_rw_pkl(None, 'mtest_patch', 'r')\n",
    "modis_sent = ma.array(data, mask=mask)\n",
    "\n",
    "Sent = parallel_rw_pkl(None, 'b4test_patch', 'r')\n",
    "stm = parallel_rw_pkl(None, 'stmtest_patch', 'r')\n",
    "p_mask = np.unique(stm)\n",
    "\n",
    "struct = ndimage.generate_binary_structure(2, 2)"
   ]
  },
  {
   "cell_type": "code",
   "execution_count": 39,
   "metadata": {
    "collapsed": true
   },
   "outputs": [],
   "source": [
    "def gaussian(xwin, ywin, xstd, ystd, angle, norm = True):\n",
    "    win = max(xwin, ywin)\n",
    "    winx = win*2**0.5\n",
    "    winy = win*2**0.5\n",
    "    \n",
    "    xstd = xstd*2**0.5\n",
    "    ystd = ystd*2**0.5\n",
    "        \n",
    "    xgaus = signal.gaussian(winx, xstd)\n",
    "    ygaus = signal.gaussian(winy, ystd)\n",
    "    gaus  = np.outer(xgaus, ygaus)\n",
    "    r_gaus = scipy.ndimage.interpolation.rotate(gaus, angle, reshape=True)\n",
    "    center = np.array(r_gaus.shape)/2\n",
    "    cgaus = r_gaus[center[0]-xwin/2.: center[0]+xwin/2., center[1]-ywin/2.:center[1]+ywin/2.]\n",
    "    if norm:\n",
    "        return cgaus/cgaus.sum()\n",
    "    else:\n",
    "        return cgaus\n",
    "\n",
    "\n",
    "def conv(p, Sent, modis_sent, inds,c_pixels):\n",
    "    \n",
    "    xstd,ystd,angle, sx, sy = p\n",
    "    print p\n",
    "    \n",
    "    xwin,ywin = 100,100\n",
    "    gaus = gaussian(xwin,ywin,xstd,ystd,angle,False)                            \n",
    "    '''\n",
    "    kernel = np.zeros((99, 225))\n",
    "    kernel[inds[1], inds[0]] = gaus.ravel()\n",
    "\n",
    "    if kernel.sum() <= 0:\n",
    "        print 'invalid gauss: %s'%([xstd, ystd, angle])\n",
    "        pass\n",
    "    else:\n",
    "        ker = kernel/(kernel.sum())\n",
    "    '''\n",
    "    ker = gaus/(gaus.sum())\n",
    "    shape = 3000\n",
    "    dia = 1000\n",
    "    hdia = dia/2\n",
    "    # for symetric dialation of the patche to avoid the border effects\n",
    "    '''\n",
    "    to_conv = np.zeros(np.array(Sent.shape)+dia)\n",
    "    to_conv[:hdia,:hdia] = Sent[:hdia,:hdia][::-1,::-1]\n",
    "    to_conv[:hdia,hdia:shape+hdia] = Sent[:hdia,::][::, ::-1]\n",
    "    to_conv[hdia:shape+hdia, :hdia] = Sent[::,:hdia][::,::-1]\n",
    "    to_conv[shape+hdia:, :hdia] = Sent[-hdia:,:hdia][::-1,::-1]\n",
    "    to_conv[shape+hdia:,hdia:shape+hdia] = Sent[-hdia:, ::][::-1,::]\n",
    "    to_conv[shape+hdia:,shape+hdia:] = Sent[-hdia:, -hdia:][::-1,::-1]\n",
    "    to_conv[hdia:shape+hdia, shape+hdia:] = Sent[::, -hdia:][::,::-1]\n",
    "    to_conv[:hdia,shape+hdia:] = Sent[:hdia,-hdia:][::-1,::-1]\n",
    "    to_conv[hdia:shape+hdia, hdia:shape+hdia] = Sent\n",
    "    '''\n",
    "    \n",
    "    to_conv = np.zeros(np.array(Sent.shape)*2)\n",
    "    to_conv[:3000,:3000] = Sent[::-1,::-1]\n",
    "    to_conv[3000:,:3000] = Sent[::,::-1]\n",
    "    to_conv[3000:,3000:] = Sent\n",
    "    to_conv[:3000,3000:] = Sent[::-1,::]\n",
    "    \n",
    "    shx = hdia+sx; shy = hdia + sy\n",
    "    s = signal.fftconvolve(to_conv, ker, mode='valid')[3000:,3000:]\n",
    "    shape = s.shape\n",
    "\n",
    "    #s = signal.fftconvolve(to_conv, ker, mode='valid')[shx:shape+shx,shy:shape+shy]\n",
    "    m = (modis_sent*0.001)[:shape[0], :shape[1]]\n",
    "    ma = (c_pixels[0] >= shape[0]) | (c_pixels[1] >= shape[1])\n",
    "    c_pixels = np.array([c_pixels[0][~ma], c_pixels[1][~ma]])\n",
    "    \n",
    "    vm = m[c_pixels[0], c_pixels[1]]\n",
    "    vs = s[c_pixels[0], c_pixels[1]]\n",
    "    vm = vm[~vm.mask]; vs = vs[~vm.mask]    \n",
    "    r = scipy.stats.linregress(vm,vs)\n",
    "    cost = 1-r.rvalue\n",
    "    print cost\n",
    "    return cost"
   ]
  },
  {
   "cell_type": "code",
   "execution_count": null,
   "metadata": {
    "collapsed": false,
    "scrolled": true
   },
   "outputs": [],
   "source": [
    "from scipy import optimize\n",
    "c_pixels = np.array(parallel_rw_pkl(None, 'c_pixels', 'r')).T\n",
    "p = np.array([82.,142., 121., 3, -7])\n",
    "bound = np.array([(10.,144.),(75.,205.),(62.,187.),(-50.,50.),(-50.,50.)])\n",
    "psolve = optimize.fmin_l_bfgs_b(conv,p,approx_grad=True,iprint=-1,\\\n",
    "                                args=(Sent, modis_sent, inds,c_pixels),bounds=bound)"
   ]
  }
 ],
 "metadata": {
  "kernelspec": {
   "display_name": "Python 2",
   "language": "python",
   "name": "python2"
  },
  "language_info": {
   "codemirror_mode": {
    "name": "ipython",
    "version": 2
   },
   "file_extension": ".py",
   "mimetype": "text/x-python",
   "name": "python",
   "nbconvert_exporter": "python",
   "pygments_lexer": "ipython2",
   "version": "2.7.12"
  }
 },
 "nbformat": 4,
 "nbformat_minor": 0
}
