{
 "cells": [
  {
   "cell_type": "code",
   "execution_count": 46,
   "metadata": {
    "collapsed": true
   },
   "outputs": [],
   "source": [
    "import urllib2\n",
    "import numpy as np\n",
    "head = 'ftp://ftpext.cr.usgs.gov/pub/cr/co/denver/speclab/pub/spectral.library/splib06.library/ASCII/S/'"
   ]
  },
  {
   "cell_type": "code",
   "execution_count": 47,
   "metadata": {
    "collapsed": false
   },
   "outputs": [],
   "source": [
    "f = urllib2.urlopen(head).readlines()"
   ]
  },
  {
   "cell_type": "code",
   "execution_count": 48,
   "metadata": {
    "collapsed": false
   },
   "outputs": [],
   "source": [
    "urls = [head + i.split(' ')[-1].split('\\r')[0] for i in f]"
   ]
  },
  {
   "cell_type": "code",
   "execution_count": 49,
   "metadata": {
    "collapsed": false
   },
   "outputs": [],
   "source": [
    "for ii,j in enumerate(['http://hesl.jpl.nasa.gov/specdata/gsfc.fieldspec.vegetation.hesl%s.spectrum.txt'%i for i in range(1,11)]):\n",
    "    f = urllib2.urlopen(j).read()\n",
    "    t = open('spectral/vegetation_hesl_%s.txt'%(ii+1), 'w+')\n",
    "    t.write(f)\n",
    "    t.close()"
   ]
  },
  {
   "cell_type": "code",
   "execution_count": 46,
   "metadata": {
    "collapsed": false
   },
   "outputs": [],
   "source": [
    "t = '''http://speclib.jpl.nasa.gov/speclibdata/jhu.becknic.soil.alfisol.fragiboralf.coarse.86P1994.spectrum.txt\n",
    "http://speclib.jpl.nasa.gov/speclibdata/jhu.becknic.soil.alfisol.haploxeralf.coarse.87P313.spectrum.txt\n",
    "http://speclib.jpl.nasa.gov/speclibdata/jhu.becknic.soil.alfisol.haplustalf.coarse.87P3468.spectrum.txt'''"
   ]
  },
  {
   "cell_type": "code",
   "execution_count": 47,
   "metadata": {
    "collapsed": false
   },
   "outputs": [],
   "source": [
    "for ii,j in enumerate(t.split('\\n')):\n",
    "    f = urllib2.urlopen(j).read()\n",
    "    t = open('spectral/jhuveg_%s.txt'%(ii+1), 'w+')\n",
    "    t.write(f)\n",
    "    t.close()"
   ]
  },
  {
   "cell_type": "code",
   "execution_count": 13,
   "metadata": {
    "collapsed": true
   },
   "outputs": [],
   "source": [
    "f = urllib2.urlopen('http://speclib.jpl.nasa.gov/search-1/soil').read()"
   ]
  },
  {
   "cell_type": "code",
   "execution_count": 21,
   "metadata": {
    "collapsed": false
   },
   "outputs": [],
   "source": [
    "f = urllib2.urlopen('http://speclib.jpl.nasa.gov/speclibdata/jhu.becknic.soil.inceptisol.xerumbrept.coarse.87P325.spectrum.txt')"
   ]
  },
  {
   "cell_type": "code",
   "execution_count": 3,
   "metadata": {
    "collapsed": false,
    "scrolled": false
   },
   "outputs": [],
   "source": [
    "subs = [['Alfisol', 'Fragiboralf', '86P1994'],\n",
    " ['Alfisol', 'Haploxeralf', '87P313'],\n",
    " ['Alfisol', 'Haplustalf', '87P3468'],\n",
    " ['Alfisol', 'Haplustalf', '87P3665'],\n",
    " ['Alfisol', 'Haplustalf', '87P3671'],\n",
    " ['Alfisol', 'Paleustalf', '87P1087'],\n",
    " ['Alfisol', 'Paleustalf', '87P2376'],\n",
    " ['Alfisol', 'Paleustalf', '87P2410'],\n",
    " ['Alfisol', 'Paleustalf', '87P473'],\n",
    " ['Aridisol', 'Calciorthid', '79P1536'],\n",
    " ['Aridisol', 'Calciorthid', '84P3721'],\n",
    " ['Aridisol', 'Camborthid', '87P337'],\n",
    " ['Aridisol', 'Camborthid', '89P1772'],\n",
    " ['Aridisol', 'Gypsiorthid', '82P2695'],\n",
    " ['Aridisol', 'Haplargid', '89P1793'],\n",
    " ['Aridisol', 'Salorthid', '79P1530'],\n",
    " ['Aridisol', 'Salorthid', '89P1763'],\n",
    " ['Aridisol', 'Salorthid', '89P1805'],\n",
    " ['Aridisol', 'Torripsamment', '90P0142'],\n",
    " ['Entisol', 'Quartzipsamment', '87P706'],\n",
    " ['Entisol', 'Torripsamment', '15'],\n",
    " ['Entisol', 'Ustifluvent', '82P2230'],\n",
    " ['Inceptisol', 'Cryumbrept', '87P3855'],\n",
    " ['Inceptisol', 'Dystrochrept', '88P2535'],\n",
    " ['Inceptisol', 'Haplumbrept', '86P4561'],\n",
    " ['Inceptisol', 'Haplumbrept', '88P4699'],\n",
    " ['Inceptisol', 'Plaggept', '85P3707'],\n",
    " ['Inceptisol', 'Ustocrept', '82P2671'],\n",
    " ['Inceptisol', 'Xerumbrept', '87P325'],\n",
    " ['Lunar', 'Highlands', '60051.19'],\n",
    " ['Lunar', 'Highlands', '61221.79'],\n",
    " ['Lunar', 'Highlands', '61241.98'],\n",
    " ['Lunar', 'Highlands', '62231.15'],\n",
    " ['Lunar', 'Highlands', '64801.34'],\n",
    " ['Lunar', 'Highlands', '67701.36'],\n",
    " ['Lunar', 'Highlands', '67941.72'],\n",
    " ['Lunar', 'Highlands', '68501.609'],\n",
    " ['Lunar', 'Maria', '10084.1939'],\n",
    " ['Lunar', 'Maria', '12023.139'],\n",
    " ['Lunar', 'Maria', '12024.69'],\n",
    " ['Lunar', 'Maria', '12030.135'],\n",
    " ['Lunar', 'Maria', '12070.405'],\n",
    " ['Lunar', 'Transitional', '14141.146'],\n",
    " ['Lunar', 'Transitional', '14148.183'],\n",
    " ['Lunar', 'Transitional', '14149.18'],\n",
    " ['Lunar', 'Transitional', '14259.61'],\n",
    " ['Mollisol', 'Agialboll', '85P5339'],\n",
    " ['Mollisol', 'Agriudoll', '87P757'],\n",
    " ['Mollisol', 'Argiustoll', '90P128s'],\n",
    " ['Mollisol', 'Cryoboroll', '85P4663'],\n",
    " ['Mollisol', 'Cryoboroll', '87P4453'],\n",
    " ['Mollisol', 'Haplaquoll', '86P4603'],\n",
    " ['Mollisol', 'Hapludoll', '87P764'],\n",
    " ['Mollisol', 'Haplustall', '85P4569'],\n",
    " ['Mollisol', 'Paleustoll', '90P186s'],\n",
    " ['Spodosol', 'Cryohumod', '87P4264'],\n",
    " ['Ultisol', 'Hapludult', '87P707'],\n",
    " ['Vertisol', 'Chromoxerert', '88P475'],\n",
    " ['Aridisol', 'none', 'fgg009'],\n",
    " ['Aridisol', 'none', 'fgg018'],\n",
    " ['Aridisol', 'none', 'fgg024'],\n",
    " ['Aridisol', 'none', 'fgt017'],\n",
    " ['Entisol', 'none', 'fgg027'],\n",
    " ['Entisol', 'none', 'fgg003'],\n",
    " ['Entisol', 'none', 'fgg007'],\n",
    " ['Entisol', 'none', 'fgg008'],\n",
    " ['Entisol', 'none', 'fgg033'],\n",
    " ['Entisol', 'none', 'fgg036'],\n",
    " ['Entisol', 'none', 'fgg037']]"
   ]
  },
  {
   "cell_type": "code",
   "execution_count": 29,
   "metadata": {
    "collapsed": false
   },
   "outputs": [],
   "source": [
    "http://speclib.jpl.nasa.gov/speclibdata/jhu.becknic.soil.alfisol.paleustalf.coarse.87P473.spectrum.txt\n",
    "http://speclib.jpl.nasa.gov/speclibdata/jhu.becknic.soil.aridisol.calciorthid.coarse.79P1536.spectrum.txt\n",
    "http://speclib.jpl.nasa.gov/speclibdata/jhu.becknic.soil.entisol.quartzipsamment.coarse.87P706.spectrum.txt\n",
    "http://speclib.jpl.nasa.gov/speclibdata/jhu.becknic.soil.inceptisol.cryumbrept.coarse.87P3855.spectrum.txt\n",
    "http://speclib.jpl.nasa.gov/speclibdata/jhu.becknic.soil.lunar.highlands.fine.60051.spectrum.txt\n",
    "http://speclib.jpl.nasa.gov/speclibdata/jhu.becknic.soil.mollisol.paleustoll.coarse.90P186s.spectrum.txt\n",
    "http://speclib.jpl.nasa.gov/speclibdata/jhu.becknic.soil.spodosol.cryohumod.coarse.87P4264.spectrum.txt\n",
    "http://speclib.jpl.nasa.gov/speclibdata/jhu.becknic.soil.ultisol.hapludult.coarse.87P707.spectrum.txt\n",
    "http://speclib.jpl.nasa.gov/speclibdata/jhu.becknic.soil.ultisol.hapludult.coarse.87P707.spectrum.txt\n",
    "http://speclib.jpl.nasa.gov/speclibdata/jpl.nicolet.soil.entisol.none.unsorted.fg027.spectrum.txt"
   ]
  },
  {
   "cell_type": "code",
   "execution_count": 12,
   "metadata": {
    "collapsed": false,
    "scrolled": true
   },
   "outputs": [
    {
     "name": "stdout",
     "output_type": "stream",
     "text": [
      "http://speclib.jpl.nasa.gov/speclibdata/jhu.becknic.soil.alfisol.fragiboralf.coarse.86P1994.spectrum.txt\n",
      "http://speclib.jpl.nasa.gov/speclibdata/jhu.becknic.soil.alfisol.haploxeralf.coarse.87P313.spectrum.txt\n",
      "http://speclib.jpl.nasa.gov/speclibdata/jhu.becknic.soil.alfisol.haplustalf.coarse.87P3468.spectrum.txt\n",
      "http://speclib.jpl.nasa.gov/speclibdata/jhu.becknic.soil.alfisol.haplustalf.coarse.87P3665.spectrum.txt\n",
      "http://speclib.jpl.nasa.gov/speclibdata/jhu.becknic.soil.alfisol.haplustalf.coarse.87P3671.spectrum.txt\n",
      "http://speclib.jpl.nasa.gov/speclibdata/jhu.becknic.soil.alfisol.paleustalf.coarse.87P1087.spectrum.txt\n",
      "http://speclib.jpl.nasa.gov/speclibdata/jhu.becknic.soil.alfisol.paleustalf.coarse.87P2376.spectrum.txt\n",
      "http://speclib.jpl.nasa.gov/speclibdata/jhu.becknic.soil.alfisol.paleustalf.coarse.87P2410.spectrum.txt\n",
      "http://speclib.jpl.nasa.gov/speclibdata/jhu.becknic.soil.alfisol.paleustalf.coarse.87P473.spectrum.txt\n",
      "http://speclib.jpl.nasa.gov/speclibdata/jhu.becknic.soil.aridisol.calciorthid.coarse.79P1536.spectrum.txt\n",
      "http://speclib.jpl.nasa.gov/speclibdata/jhu.becknic.soil.aridisol.calciorthid.coarse.84P3721.spectrum.txt\n",
      "http://speclib.jpl.nasa.gov/speclibdata/jhu.becknic.soil.aridisol.camborthid.coarse.87P337.spectrum.txt\n",
      "http://speclib.jpl.nasa.gov/speclibdata/jhu.becknic.soil.aridisol.camborthid.coarse.89P1772.spectrum.txt\n",
      "http://speclib.jpl.nasa.gov/speclibdata/jhu.becknic.soil.aridisol.gypsiorthid.coarse.82P2695.spectrum.txt\n",
      "http://speclib.jpl.nasa.gov/speclibdata/jhu.becknic.soil.aridisol.haplargid.coarse.89P1793.spectrum.txt\n",
      "http://speclib.jpl.nasa.gov/speclibdata/jhu.becknic.soil.aridisol.salorthid.coarse.79P1530.spectrum.txt\n",
      "http://speclib.jpl.nasa.gov/speclibdata/jhu.becknic.soil.aridisol.salorthid.coarse.89P1763.spectrum.txt\n",
      "http://speclib.jpl.nasa.gov/speclibdata/jhu.becknic.soil.aridisol.salorthid.coarse.89P1805.spectrum.txt\n",
      "http://speclib.jpl.nasa.gov/speclibdata/jhu.becknic.soil.aridisol.torripsamment.coarse.90P0142.spectrum.txt\n",
      "http://speclib.jpl.nasa.gov/speclibdata/jhu.becknic.soil.entisol.quartzipsamment.coarse.87P706.spectrum.txt\n",
      "http://speclib.jpl.nasa.gov/speclibdata/jhu.becknic.soil.entisol.ustifluvent.coarse.82P2230.spectrum.txt\n",
      "http://speclib.jpl.nasa.gov/speclibdata/jhu.becknic.soil.inceptisol.cryumbrept.coarse.87P3855.spectrum.txt\n",
      "http://speclib.jpl.nasa.gov/speclibdata/jhu.becknic.soil.inceptisol.dystrochrept.coarse.88P2535.spectrum.txt\n",
      "http://speclib.jpl.nasa.gov/speclibdata/jhu.becknic.soil.inceptisol.haplumbrept.coarse.86P4561.spectrum.txt\n",
      "http://speclib.jpl.nasa.gov/speclibdata/jhu.becknic.soil.inceptisol.haplumbrept.coarse.88P4699.spectrum.txt\n",
      "http://speclib.jpl.nasa.gov/speclibdata/jhu.becknic.soil.inceptisol.plaggept.coarse.85P3707.spectrum.txt\n",
      "http://speclib.jpl.nasa.gov/speclibdata/jhu.becknic.soil.inceptisol.ustocrept.coarse.82P2671.spectrum.txt\n",
      "http://speclib.jpl.nasa.gov/speclibdata/jhu.becknic.soil.inceptisol.xerumbrept.coarse.87P325.spectrum.txt\n",
      "http://speclib.jpl.nasa.gov/speclibdata/jhu.becknic.soil.mollisol.agialboll.coarse.85P5339.spectrum.txt\n",
      "http://speclib.jpl.nasa.gov/speclibdata/jhu.becknic.soil.mollisol.agriudoll.coarse.87P757.spectrum.txt\n",
      "http://speclib.jpl.nasa.gov/speclibdata/jhu.becknic.soil.mollisol.argiustoll.coarse.90P128s.spectrum.txt\n",
      "http://speclib.jpl.nasa.gov/speclibdata/jhu.becknic.soil.mollisol.cryoboroll.coarse.85P4663.spectrum.txt\n",
      "http://speclib.jpl.nasa.gov/speclibdata/jhu.becknic.soil.mollisol.cryoboroll.coarse.87P4453.spectrum.txt\n",
      "http://speclib.jpl.nasa.gov/speclibdata/jhu.becknic.soil.mollisol.haplaquoll.coarse.86P4603.spectrum.txt\n",
      "http://speclib.jpl.nasa.gov/speclibdata/jhu.becknic.soil.mollisol.hapludoll.coarse.87P764.spectrum.txt\n",
      "http://speclib.jpl.nasa.gov/speclibdata/jhu.becknic.soil.mollisol.haplustall.coarse.85P4569.spectrum.txt\n",
      "http://speclib.jpl.nasa.gov/speclibdata/jhu.becknic.soil.mollisol.paleustoll.coarse.90P186s.spectrum.txt\n",
      "http://speclib.jpl.nasa.gov/speclibdata/jhu.becknic.soil.spodosol.cryohumod.coarse.87P4264.spectrum.txt\n",
      "http://speclib.jpl.nasa.gov/speclibdata/jhu.becknic.soil.ultisol.hapludult.coarse.87P707.spectrum.txt\n",
      "http://speclib.jpl.nasa.gov/speclibdata/jhu.becknic.soil.vertisol.chromoxerert.coarse.88P475.spectrum.txt\n",
      "http://speclib.jpl.nasa.gov/speclibdata/jpl.nicolet.soil.aridisol.none.unsorted.fgg009.spectrum.txt\n",
      "http://speclib.jpl.nasa.gov/speclibdata/jpl.nicolet.soil.aridisol.none.unsorted.fgg018.spectrum.txt\n",
      "http://speclib.jpl.nasa.gov/speclibdata/jpl.nicolet.soil.aridisol.none.unsorted.fgg024.spectrum.txt\n",
      "http://speclib.jpl.nasa.gov/speclibdata/jpl.nicolet.soil.aridisol.none.unsorted.fgt017.spectrum.txt\n",
      "http://speclib.jpl.nasa.gov/speclibdata/jpl.nicolet.soil.entisol.none.unsorted.fgg003.spectrum.txt\n",
      "http://speclib.jpl.nasa.gov/speclibdata/jpl.nicolet.soil.entisol.none.unsorted.fgg007.spectrum.txt\n",
      "http://speclib.jpl.nasa.gov/speclibdata/jpl.nicolet.soil.entisol.none.unsorted.fgg008.spectrum.txt\n",
      "http://speclib.jpl.nasa.gov/speclibdata/jpl.nicolet.soil.entisol.none.unsorted.fgg033.spectrum.txt\n",
      "http://speclib.jpl.nasa.gov/speclibdata/jpl.nicolet.soil.entisol.none.unsorted.fgg036.spectrum.txt\n",
      "http://speclib.jpl.nasa.gov/speclibdata/jpl.nicolet.soil.entisol.none.unsorted.fgg037.spectrum.txt\n"
     ]
    }
   ],
   "source": [
    "for i in subs:\n",
    "    for j in ['fine', 'coarse', 'unsorted']:\n",
    "        for k in ['becknic', 'nicolet']:\n",
    "            for l in ['jhu', 'jpl']:\n",
    "                url = 'http://speclib.jpl.nasa.gov/speclibdata/%s.%s.soil.%s.%s.%s.%s.spectrum.txt'%(l,k, i[0].lower(), i[1].lower(), j, i[2])\n",
    "                try:\n",
    "                    f = urllib2.urlopen(url).read()\n",
    "                    print url\n",
    "                    t = open('spectral/soil%s%s.txt'%(i[0],i[2]), 'w+')\n",
    "                    t.write(f)\n",
    "                    t.close()\n",
    "                except:\n",
    "                    pass"
   ]
  },
  {
   "cell_type": "code",
   "execution_count": null,
   "metadata": {
    "collapsed": true
   },
   "outputs": [],
   "source": [
    "http://speclib.jpl.nasa.gov/speclibdata/jpl.nicolet.soil.entisol.none.unsorted.fgg037.spectrum.txt"
   ]
  },
  {
   "cell_type": "code",
   "execution_count": null,
   "metadata": {
    "collapsed": true
   },
   "outputs": [],
   "source": [
    "http://speclib.jpl.nasa.gov/speclibdata/jhu.becknic.soil.lunar.maria.fine.12024.spectrum.txt\n",
    "http://speclib.jpl.nasa.gov/speclibdata/jhu.becknic.soil.aridisol.haplargid.coarse.89P1793.spectrum.txt\n",
    "http://speclib.jpl.nasa.gov/speclibdata/jhu.becknic.soil.aridisol.haplargid.coarse.89p1793.spectrum.txt"
   ]
  },
  {
   "cell_type": "markdown",
   "metadata": {
    "collapsed": true
   },
   "source": [
    "#### MODIS and SENTINEL 2 spectral response"
   ]
  },
  {
   "cell_type": "code",
   "execution_count": 44,
   "metadata": {
    "collapsed": true
   },
   "outputs": [],
   "source": [
    "f = urllib2.urlopen('ftp://mcst.ssaihq.com/pub/permanent/MCST/FM1_RSR_LUT_07-10-01').read()"
   ]
  },
  {
   "cell_type": "code",
   "execution_count": null,
   "metadata": {
    "collapsed": false,
    "scrolled": false
   },
   "outputs": [],
   "source": [
    "for ii in [2, 3, 4, 5, 7, 8]:\n",
    "    url='ftp://mcst.ssaihq.com/pub/permanent/MCST/FM1_RSR_LUT_07-10-01/'+[i.split(' ')[-1] for i in f.split('\\r')][ii]\n",
    "    print url\n",
    "    g = urllib2.urlopen(url).read()\n",
    "    t = open('sp_rep/modis_band_%s.det'%(ii-1), 'w+')\n",
    "    t.write(g)\n",
    "    t.close()"
   ]
  },
  {
   "cell_type": "code",
   "execution_count": null,
   "metadata": {
    "collapsed": true
   },
   "outputs": [],
   "source": []
  }
 ],
 "metadata": {
  "kernelspec": {
   "display_name": "Python 2",
   "language": "python",
   "name": "python2"
  },
  "language_info": {
   "codemirror_mode": {
    "name": "ipython",
    "version": 2
   },
   "file_extension": ".py",
   "mimetype": "text/x-python",
   "name": "python",
   "nbconvert_exporter": "python",
   "pygments_lexer": "ipython2",
   "version": "2.7.12"
  }
 },
 "nbformat": 4,
 "nbformat_minor": 0
}
