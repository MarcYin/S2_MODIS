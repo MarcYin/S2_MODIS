{
 "cells": [
  {
   "cell_type": "code",
   "execution_count": 1,
   "metadata": {
    "collapsed": false
   },
   "outputs": [
    {
     "name": "stdout",
     "output_type": "stream",
     "text": [
      "/data/store01/data_dirs/students/ucfafyi/Sentinel\n"
     ]
    }
   ],
   "source": [
    "cd /data/store01/data_dirs/students/ucfafyi/Sentinel"
   ]
  },
  {
   "cell_type": "code",
   "execution_count": 2,
   "metadata": {
    "collapsed": false
   },
   "outputs": [],
   "source": [
    "import sys\n",
    "sys.path.insert(0, 'python')\n",
    "from fastRWpkl import *\n",
    "from glob import glob\n",
    "from applied import *"
   ]
  },
  {
   "cell_type": "code",
   "execution_count": 3,
   "metadata": {
    "collapsed": false,
    "scrolled": true
   },
   "outputs": [],
   "source": [
    "#files = glob('pkls/*psfs00.pkl')"
   ]
  },
  {
   "cell_type": "code",
   "execution_count": 4,
   "metadata": {
    "collapsed": false,
    "scrolled": true
   },
   "outputs": [],
   "source": [
    "#psfs = [[i[5:-6],parallel_rw_pkl(None, i[5:-6], 'r')] for i in files]"
   ]
  },
  {
   "cell_type": "code",
   "execution_count": 5,
   "metadata": {
    "collapsed": false
   },
   "outputs": [],
   "source": [
    "psfs = parallel_rw_pkl(None, '21MTT201psfs', 'r')"
   ]
  },
  {
   "cell_type": "code",
   "execution_count": 6,
   "metadata": {
    "collapsed": false
   },
   "outputs": [],
   "source": [
    "psf = np.tile(np.mean(np.array([i[1][0] for i in psfs]), axis=0), 6).reshape(6,5)"
   ]
  },
  {
   "cell_type": "code",
   "execution_count": 7,
   "metadata": {
    "collapsed": false
   },
   "outputs": [
    {
     "data": {
      "text/plain": [
       "array([[  33.45420912,  339.17589729,    8.67735863,  -17.36266371,\n",
       "          42.08736167],\n",
       "       [  33.45420912,  339.17589729,    8.67735863,  -17.36266371,\n",
       "          42.08736167],\n",
       "       [  33.45420912,  339.17589729,    8.67735863,  -17.36266371,\n",
       "          42.08736167],\n",
       "       [  33.45420912,  339.17589729,    8.67735863,  -17.36266371,\n",
       "          42.08736167],\n",
       "       [  33.45420912,  339.17589729,    8.67735863,  -17.36266371,\n",
       "          42.08736167],\n",
       "       [  33.45420912,  339.17589729,    8.67735863,  -17.36266371,\n",
       "          42.08736167]])"
      ]
     },
     "execution_count": 7,
     "metadata": {},
     "output_type": "execute_result"
    }
   ],
   "source": [
    "psf"
   ]
  },
  {
   "cell_type": "code",
   "execution_count": 8,
   "metadata": {
    "collapsed": true
   },
   "outputs": [],
   "source": [
    "#amazon\n",
    "spath = '/home/ucfafyi/DATA/Sentinel/s_data/21/M/TT/2016/7/17/0/'\n",
    "mfile = [ '/home/ucfafyi/DATA/Sentinel/m_data/MCD43A1.A2016201.h12v09.005.2016218075609.hdf',\n",
    " '/home/ucfafyi/DATA/Sentinel/m_data/MCD43A2.A2016201.h12v09.005.2016218075609.hdf']"
   ]
  },
  {
   "cell_type": "code",
   "execution_count": 9,
   "metadata": {
    "collapsed": true
   },
   "outputs": [],
   "source": [
    "lat, lon, year = -2.143889,-59.000, 2016"
   ]
  },
  {
   "cell_type": "code",
   "execution_count": null,
   "metadata": {
    "collapsed": false
   },
   "outputs": [
    {
     "name": "stdout",
     "output_type": "stream",
     "text": [
      "\n",
      "Here is the cloud probability calculation!\n",
      "\n",
      "/home/ucfafyi/DATA/Sentinel/s_data/21/M/TT/2016/7/17/0/ (2, 3, 4, 8, 11, 12, 13)\n",
      "7%\n",
      "14%\n",
      "21%\n",
      "29%\n",
      "36%\n",
      "43%\n",
      "50%\n",
      "57%\n",
      "64%\n",
      "71%\n",
      "79%\n",
      "86%\n"
     ]
    }
   ],
   "source": [
    "to_regs = applied(lat, lon, spath, mfile, psf)"
   ]
  },
  {
   "cell_type": "code",
   "execution_count": null,
   "metadata": {
    "collapsed": true
   },
   "outputs": [],
   "source": []
  }
 ],
 "metadata": {
  "kernelspec": {
   "display_name": "Python 2",
   "language": "python",
   "name": "python2"
  },
  "language_info": {
   "codemirror_mode": {
    "name": "ipython",
    "version": 2
   },
   "file_extension": ".py",
   "mimetype": "text/x-python",
   "name": "python",
   "nbconvert_exporter": "python",
   "pygments_lexer": "ipython2",
   "version": "2.7.12"
  }
 },
 "nbformat": 4,
 "nbformat_minor": 0
}
