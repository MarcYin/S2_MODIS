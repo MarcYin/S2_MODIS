{
 "cells": [
  {
   "cell_type": "code",
   "execution_count": 1,
   "metadata": {
    "collapsed": false
   },
   "outputs": [
    {
     "name": "stdout",
     "output_type": "stream",
     "text": [
      "/data/store01/data_dirs/students/ucfafyi/Sentinel\n"
     ]
    }
   ],
   "source": [
    "cd /data/store01/data_dirs/students/ucfafyi/Sentinel"
   ]
  },
  {
   "cell_type": "code",
   "execution_count": 2,
   "metadata": {
    "collapsed": true
   },
   "outputs": [],
   "source": [
    "import numpy as np\n",
    "import matplotlib.pyplot as plt\n",
    "from scipy.stats import linregress\n",
    "%matplotlib inline\n",
    "import sys\n",
    "sys.path.append ( \"..\")\n",
    "import gp_emulator\n",
    "sys.path.insert(0,'python')\n",
    "from fastRWpkl import *\n",
    "from scipy import interpolate\n",
    "from nicer_plot import *\n",
    "from readSent import *\n",
    "import pandas as pd\n",
    "from Py6S import *\n",
    "from multiprocessing import *\n",
    "from downloader_and_file_finder import *\n",
    "from scipy import optimize\n",
    "from sklearn import linear_model\n",
    "from matplotlib import gridspec\n",
    "from scipy.stats import gaussian_kde\n",
    "from nicer_plot import *\n",
    "from matplotlib import cm, colors\n",
    "import scipy\n",
    "from applied import *"
   ]
  },
  {
   "cell_type": "code",
   "execution_count": 3,
   "metadata": {
    "collapsed": false
   },
   "outputs": [
    {
     "name": "stdout",
     "output_type": "stream",
     "text": [
      "/home/ucfafyi/DATA/Sentinel/s_data/50/S/KG/2016/4/13/0/ \n",
      "[ '/home/ucfafyi/DATA/Sentinel/m_data/MCD43A1.A2016105.h27v05.005.2016122100738.hdf'\n",
      " '/home/ucfafyi/DATA/Sentinel/m_data/MCD43A2.A2016105.h27v05.005.2016122100739.hdf'] \n",
      "\n",
      "/home/ucfafyi/DATA/Sentinel/s_data/50/S/KG/2016/5/3/0/ \n",
      "[ '/home/ucfafyi/DATA/Sentinel/m_data/MCD43A1.A2016121.h27v05.005.2016140192730.hdf'\n",
      " '/home/ucfafyi/DATA/Sentinel/m_data/MCD43A2.A2016121.h27v05.005.2016140192731.hdf'] \n",
      "\n",
      "/home/ucfafyi/DATA/Sentinel/s_data/50/S/KG/2016/6/12/0/ \n",
      "[ '/home/ucfafyi/DATA/Sentinel/m_data/MCD43A1.A2016161.h27v05.005.2016183110712.hdf'\n",
      " '/home/ucfafyi/DATA/Sentinel/m_data/MCD43A2.A2016161.h27v05.005.2016183110712.hdf'] \n",
      "\n",
      "/home/ucfafyi/DATA/Sentinel/s_data/50/S/KG/2016/6/22/0/ \n",
      "[ '/home/ucfafyi/DATA/Sentinel/m_data/MCD43A1.A2016177.h27v05.005.2016194191852.hdf'\n",
      " '/home/ucfafyi/DATA/Sentinel/m_data/MCD43A2.A2016177.h27v05.005.2016194191852.hdf'] \n",
      "\n"
     ]
    }
   ],
   "source": [
    "lat, lon, year = 37.181944, 114.36, 2016\n",
    "sfiles, mfiles = get_closet(lat, lon,year,0)\n",
    "\n",
    "keys = 'B02', 'B03','B04','B08','B8A','B11','B12'\n",
    "bands = [2,3,4,8,13,11,12]\n",
    "\n",
    "for i in [8, 11, 15, 17]:\n",
    "    print sfiles[i],'\\n', mfiles[i], '\\n'"
   ]
  },
  {
   "cell_type": "code",
   "execution_count": null,
   "metadata": {
    "collapsed": false
   },
   "outputs": [],
   "source": [
    "import sys\n",
    "sys.path.insert(0, 'python')\n",
    "from optimizing import *\n",
    "lat, lon = 37.181944, 114.36\n",
    "mfile = \n",
    "sfile = "
   ]
  },
  {
   "cell_type": "code",
   "execution_count": 5,
   "metadata": {
    "collapsed": false
   },
   "outputs": [
    {
     "name": "stdout",
     "output_type": "stream",
     "text": [
      "get some imgs\n",
      "/home/ucfafyi/DATA/Sentinel/s_data/50/S/KG/2016/6/22/0/ (2, 3, 4, 8, 11, 12, 13)\n",
      "process 1...\n",
      "process 2...\n",
      "process 3...\n",
      "process 4...\n",
      "process 5...\n",
      "process 6...\n",
      "process 7...\n",
      "process 8...\n",
      "process 9...\n",
      "process 10...\n",
      "process 11...\n",
      "process 12...\n",
      "process 13...\n",
      "process 14...\n",
      "DOY:  177 \n",
      "Location:  50SKG\n",
      "Cloud proportion:  0.0275840574517\n"
     ]
    },
    {
     "ename": "TypeError",
     "evalue": "'int' object has no attribute '__getitem__'",
     "output_type": "error",
     "traceback": [
      "\u001b[0;31m---------------------------------------------------------------------------\u001b[0m",
      "\u001b[0;31mTypeError\u001b[0m                                 Traceback (most recent call last)",
      "\u001b[0;32m<ipython-input-5-04ce9d77fa1c>\u001b[0m in \u001b[0;36m<module>\u001b[0;34m()\u001b[0m\n\u001b[1;32m      1\u001b[0m \u001b[0mpsfs\u001b[0m \u001b[0;34m=\u001b[0m \u001b[0mparallel_rw_pkl\u001b[0m\u001b[0;34m(\u001b[0m\u001b[0mNone\u001b[0m\u001b[0;34m,\u001b[0m \u001b[0;34m'l177l'\u001b[0m\u001b[0;34m,\u001b[0m \u001b[0;34m'r'\u001b[0m\u001b[0;34m)\u001b[0m\u001b[0;34m\u001b[0m\u001b[0m\n\u001b[0;32m----> 2\u001b[0;31m \u001b[0mto_regs\u001b[0m \u001b[0;34m=\u001b[0m \u001b[0mapplied\u001b[0m\u001b[0;34m(\u001b[0m \u001b[0;36m37.181944\u001b[0m\u001b[0;34m,\u001b[0m \u001b[0;36m114.36\u001b[0m\u001b[0;34m,\u001b[0m\u001b[0msfiles\u001b[0m\u001b[0;34m[\u001b[0m\u001b[0mi\u001b[0m\u001b[0;34m]\u001b[0m\u001b[0;34m,\u001b[0m \u001b[0mmfiles\u001b[0m\u001b[0;34m[\u001b[0m\u001b[0mi\u001b[0m\u001b[0;34m]\u001b[0m\u001b[0;34m,\u001b[0m \u001b[0;36m1\u001b[0m\u001b[0;34m,\u001b[0m \u001b[0mpsfs\u001b[0m\u001b[0;34m)\u001b[0m\u001b[0;34m\u001b[0m\u001b[0m\n\u001b[0m",
      "\u001b[0;32m/data/store01/data_dirs/students/ucfafyi/Sentinel/python/applied.py\u001b[0m in \u001b[0;36mapplied\u001b[0;34m(lat, lon, fpath, mfile, psfs, pr)\u001b[0m\n\u001b[1;32m    132\u001b[0m     \u001b[0mpar\u001b[0m \u001b[0;34m=\u001b[0m \u001b[0mpartial\u001b[0m\u001b[0;34m(\u001b[0m\u001b[0mop\u001b[0m\u001b[0;34m,\u001b[0m \u001b[0margs\u001b[0m\u001b[0;34m=\u001b[0m\u001b[0margs\u001b[0m\u001b[0;34m)\u001b[0m\u001b[0;34m\u001b[0m\u001b[0m\n\u001b[1;32m    133\u001b[0m     \u001b[0mpool\u001b[0m \u001b[0;34m=\u001b[0m \u001b[0mmultiprocessing\u001b[0m\u001b[0;34m.\u001b[0m\u001b[0mPool\u001b[0m\u001b[0;34m(\u001b[0m\u001b[0mprocesses\u001b[0m \u001b[0;34m=\u001b[0m \u001b[0;36m7\u001b[0m\u001b[0;34m)\u001b[0m\u001b[0;34m\u001b[0m\u001b[0m\n\u001b[0;32m--> 134\u001b[0;31m     \u001b[0mretval\u001b[0m \u001b[0;34m=\u001b[0m \u001b[0mpool\u001b[0m\u001b[0;34m.\u001b[0m\u001b[0mmap\u001b[0m\u001b[0;34m(\u001b[0m\u001b[0mpar\u001b[0m\u001b[0;34m,\u001b[0m \u001b[0mrange\u001b[0m\u001b[0;34m(\u001b[0m\u001b[0;36m7\u001b[0m\u001b[0;34m)\u001b[0m\u001b[0;34m)\u001b[0m\u001b[0;34m\u001b[0m\u001b[0m\n\u001b[0m\u001b[1;32m    135\u001b[0m     \u001b[0mpool\u001b[0m\u001b[0;34m.\u001b[0m\u001b[0mclose\u001b[0m\u001b[0;34m(\u001b[0m\u001b[0;34m)\u001b[0m\u001b[0;34m\u001b[0m\u001b[0m\n\u001b[1;32m    136\u001b[0m     \u001b[0mpool\u001b[0m\u001b[0;34m.\u001b[0m\u001b[0mjoin\u001b[0m\u001b[0;34m(\u001b[0m\u001b[0;34m)\u001b[0m\u001b[0;34m\u001b[0m\u001b[0m\n",
      "\u001b[0;32m/home/ucfafyi/.conda/envs/gdal_env/lib/python2.7/multiprocessing/pool.pyc\u001b[0m in \u001b[0;36mmap\u001b[0;34m(self, func, iterable, chunksize)\u001b[0m\n\u001b[1;32m    249\u001b[0m         '''\n\u001b[1;32m    250\u001b[0m         \u001b[0;32massert\u001b[0m \u001b[0mself\u001b[0m\u001b[0;34m.\u001b[0m\u001b[0m_state\u001b[0m \u001b[0;34m==\u001b[0m \u001b[0mRUN\u001b[0m\u001b[0;34m\u001b[0m\u001b[0m\n\u001b[0;32m--> 251\u001b[0;31m         \u001b[0;32mreturn\u001b[0m \u001b[0mself\u001b[0m\u001b[0;34m.\u001b[0m\u001b[0mmap_async\u001b[0m\u001b[0;34m(\u001b[0m\u001b[0mfunc\u001b[0m\u001b[0;34m,\u001b[0m \u001b[0miterable\u001b[0m\u001b[0;34m,\u001b[0m \u001b[0mchunksize\u001b[0m\u001b[0;34m)\u001b[0m\u001b[0;34m.\u001b[0m\u001b[0mget\u001b[0m\u001b[0;34m(\u001b[0m\u001b[0;34m)\u001b[0m\u001b[0;34m\u001b[0m\u001b[0m\n\u001b[0m\u001b[1;32m    252\u001b[0m \u001b[0;34m\u001b[0m\u001b[0m\n\u001b[1;32m    253\u001b[0m     \u001b[0;32mdef\u001b[0m \u001b[0mimap\u001b[0m\u001b[0;34m(\u001b[0m\u001b[0mself\u001b[0m\u001b[0;34m,\u001b[0m \u001b[0mfunc\u001b[0m\u001b[0;34m,\u001b[0m \u001b[0miterable\u001b[0m\u001b[0;34m,\u001b[0m \u001b[0mchunksize\u001b[0m\u001b[0;34m=\u001b[0m\u001b[0;36m1\u001b[0m\u001b[0;34m)\u001b[0m\u001b[0;34m:\u001b[0m\u001b[0;34m\u001b[0m\u001b[0m\n",
      "\u001b[0;32m/home/ucfafyi/.conda/envs/gdal_env/lib/python2.7/multiprocessing/pool.pyc\u001b[0m in \u001b[0;36mget\u001b[0;34m(self, timeout)\u001b[0m\n\u001b[1;32m    565\u001b[0m             \u001b[0;32mreturn\u001b[0m \u001b[0mself\u001b[0m\u001b[0;34m.\u001b[0m\u001b[0m_value\u001b[0m\u001b[0;34m\u001b[0m\u001b[0m\n\u001b[1;32m    566\u001b[0m         \u001b[0;32melse\u001b[0m\u001b[0;34m:\u001b[0m\u001b[0;34m\u001b[0m\u001b[0m\n\u001b[0;32m--> 567\u001b[0;31m             \u001b[0;32mraise\u001b[0m \u001b[0mself\u001b[0m\u001b[0;34m.\u001b[0m\u001b[0m_value\u001b[0m\u001b[0;34m\u001b[0m\u001b[0m\n\u001b[0m\u001b[1;32m    568\u001b[0m \u001b[0;34m\u001b[0m\u001b[0m\n\u001b[1;32m    569\u001b[0m     \u001b[0;32mdef\u001b[0m \u001b[0m_set\u001b[0m\u001b[0;34m(\u001b[0m\u001b[0mself\u001b[0m\u001b[0;34m,\u001b[0m \u001b[0mi\u001b[0m\u001b[0;34m,\u001b[0m \u001b[0mobj\u001b[0m\u001b[0;34m)\u001b[0m\u001b[0;34m:\u001b[0m\u001b[0;34m\u001b[0m\u001b[0m\n",
      "\u001b[0;31mTypeError\u001b[0m: 'int' object has no attribute '__getitem__'"
     ]
    }
   ],
   "source": [
    "psfs = parallel_rw_pkl(None, 'l177l', 'r')\n",
    "to_regs = applied( 37.181944, 114.36,sfiles[i], mfiles[i], 1, psfs)"
   ]
  },
  {
   "cell_type": "code",
   "execution_count": 8,
   "metadata": {
    "collapsed": true
   },
   "outputs": [],
   "source": [
    "import sys\n",
    "sys.path.insert(0,'python')\n",
    "import numpy.ma as ma\n",
    "from collections import Counter\n",
    "import cPickle as pkl\n",
    "from scipy import optimize\n",
    "from functools import partial\n",
    "import scipy.ndimage as ndimage\n",
    "import numpy as np\n",
    "import scipy\n",
    "from scipy import signal\n",
    "import scipy.stats\n",
    "from downloader_and_file_finder import *\n",
    "from cloud import *\n",
    "from fastRWpkl import *\n",
    "import numpy \n",
    "from numpy import clip, where\n",
    "from scipy.ndimage.morphology import *\n",
    "import xml.etree.cElementTree as ET\n",
    "import multiprocessing\n",
    "from get_r import *\n",
    "from sklearn import linear_model\n",
    "\n",
    "keys = 'B02', 'B03','B04','B08','B8A','B11','B12'\n",
    "bands = [2,3,4,8,13,11,12]\n",
    "\n",
    "def gaussian(xwin, ywin, xstd, ystd, angle, norm = True):\n",
    "    win = max(xwin, ywin)\n",
    "    winx = win*2**0.5\n",
    "    winy = win*2**0.5\n",
    "    \n",
    "    xstd = xstd*2**0.5\n",
    "    ystd = ystd*2**0.5\n",
    "        \n",
    "    xgaus = signal.gaussian(winx, xstd)\n",
    "    ygaus = signal.gaussian(winy, ystd)\n",
    "    gaus  = np.outer(xgaus, ygaus)\n",
    "    r_gaus = scipy.ndimage.interpolation.rotate(gaus, angle, reshape=True)\n",
    "    center = np.array(r_gaus.shape)/2\n",
    "    cgaus = r_gaus[center[0]-xwin/2: center[0]+xwin/2, center[1]-ywin/2:center[1]+ywin/2]\n",
    "    if norm:\n",
    "        return cgaus/cgaus.sum()\n",
    "    else:\n",
    "        return cgaus\n",
    "\n",
    "def _psf(sent, sinds, mod, minds,band, psf):    \n",
    "    xstd,ystd,angle, xs, ys = psf\n",
    "    xwin,ywin = 150, 150\n",
    "    \n",
    "    to_regression =[]          \n",
    "    cx = sinds[0]\n",
    "    cy = sinds[1]\n",
    "    mx = minds[0]\n",
    "    my = minds[1]\n",
    "    \n",
    "    gaus = gaussian(xwin,ywin,xstd,ystd,angle,False)                              \n",
    "    ker = gaus/(gaus.sum())\n",
    "\n",
    "    s = signal.fftconvolve(sent, ker, mode='same')\n",
    "    \n",
    "    vld_x = ((cx+xs)>xwin/2)&((cx+xs)<10000-xwin/2)\n",
    "    vld_y = ((cy+ys)>ywin/2)&((cy+ys)<10000-ywin/2)\n",
    "    vld = vld_x&vld_y\n",
    "    \n",
    "    \n",
    "    indx,indy = np.round((cx+xs)[vld]).astype(int), np.round((cy+ys)[vld]).astype(int)\n",
    "    vals = s[indx,indy]\n",
    "    brdf = mod[mx[vld], my[vld]]\n",
    "    mask = (brdf>0)&(brdf<1)&(vals>0)&(vals<1)\n",
    "    \n",
    "    x,y = ransaclin(vals[mask], brdf[mask])\n",
    "    \n",
    "    m = y.ravel()\n",
    "    s = x.ravel()\n",
    "    \n",
    "    return [band, m,s]\n",
    "\n",
    "def ransaclin(x,y):\n",
    "    y, x = y.reshape((len(y),1)), x.reshape((len(x),1))\n",
    "    model = linear_model.LinearRegression()\n",
    "    model.fit(x, y)\n",
    "\n",
    "    model_ransac = linear_model.RANSACRegressor(linear_model.LinearRegression())\n",
    "    model_ransac.fit(x, y)\n",
    "    inlier_mask = model_ransac.inlier_mask_\n",
    "    return x[inlier_mask], y[inlier_mask]\n",
    "\n",
    "def ScaleExtent(data, shape): # used for unifine different array,\n",
    "\n",
    "    re = int(shape[0]/(data.shape[0]))\n",
    "\n",
    "    a = np.repeat(np.repeat(data, re, axis = 1), re, axis =0)\n",
    "    \n",
    "    if (re*(data.shape[0])-shape[0]) != 0:\n",
    "        extended = np.zeros(shape)\n",
    "        extended[:re*(data.shape[0]),:re*(data.shape[0])] = a\n",
    "        extended[re*(data.shape[0]):,re*(data.shape[0]):] = a[re*(data.shape[0])-shape[0]:, re*(data.shape[0])-shape[0]]\n",
    "        return extended\n",
    "    else:\n",
    "        return a\n",
    "\n",
    "def op(ind,  args=None ):\n",
    "    fpath, sentm, brdfs, sinds, minds, psfs = args\n",
    "    Sent = gdal_read(bands[ind], fpath)[keys[ind]]\n",
    "    sent = ScaleExtent(Sent, (10980,10980)) \n",
    "    sent[sentm]=100000000000\n",
    "    sent[np.isnan(sent)] = 100000000000\n",
    "    if ind<4:\n",
    "        brdfs[ind][brdfs[ind].mask] = np.nan                \n",
    "        to_regs = _psf(sent,sinds, brdfs[ind]*0.001, minds, bands[ind], psfs[ind])\n",
    "\n",
    "    else:\n",
    "        brdfs[ind-1][brdfs[ind-1].mask] = np.nan\n",
    "        to_regs = _psf(sent,sinds, brdfs[ind-1]*0.001, minds, bands[ind], psfs[ind])\n",
    "    return to_regs\n",
    "        \n",
    "def applied(lat, lon,fpath, mfile, psfs, pr=1):\n",
    "    \n",
    "    sentm = get_cloud_mask(fpath)\n",
    "    doy = int(mfile[0].split('.')[1][-3:])\n",
    "    pos = fpath.split('/')[6]+fpath.split('/')[7]+fpath.split('/')[8]\n",
    "    if pr:\n",
    "        print 'DOY: ', doy,'\\n', 'Location: ', pos\n",
    "        print 'Cloud proportion: ', sentm.sum()/(10980.*10980.)\n",
    "    \n",
    "    minds, sinds = get_coords(lat,lon) \n",
    "    modis_filenames = gdal.Open(mfile[0]).GetSubDatasets()\n",
    "    modisQA = gdal.Open(mfile[1]).GetSubDatasets()\n",
    "\n",
    "    brdfs = get_rs(modisQA, modis_filenames, fpath)\n",
    "    args = fpath, sentm, brdfs, sinds, minds, psfs\n",
    "    par = partial(op, args=args)\n",
    "    par(0)\n",
    "    #pool = multiprocessing.Pool(processes = 7)\n",
    "    #retval = pool.map(par, range(7))\n",
    "    #pool.close()\n",
    "    #pool.join()\n",
    "    #return retval\n",
    "    "
   ]
  },
  {
   "cell_type": "code",
   "execution_count": 9,
   "metadata": {
    "collapsed": false
   },
   "outputs": [
    {
     "name": "stdout",
     "output_type": "stream",
     "text": [
      "get some imgs\n",
      "/home/ucfafyi/DATA/Sentinel/s_data/50/S/KG/2016/6/22/0/ (2, 3, 4, 8, 11, 12, 13)\n",
      "process 1...\n",
      "process 2...\n",
      "process 3...\n",
      "process 4...\n",
      "process 5...\n",
      "process 6...\n",
      "process 7...\n",
      "process 8...\n",
      "process 9...\n",
      "process 10...\n",
      "process 11...\n",
      "process 12...\n",
      "process 13...\n",
      "process 14...\n",
      "DOY:  177 \n",
      "Location:  50SKG\n",
      "Cloud proportion:  0.0275840574517\n"
     ]
    },
    {
     "ename": "TypeError",
     "evalue": "'int' object has no attribute '__getitem__'",
     "output_type": "error",
     "traceback": [
      "\u001b[0;31m---------------------------------------------------------------------------\u001b[0m",
      "\u001b[0;31mTypeError\u001b[0m                                 Traceback (most recent call last)",
      "\u001b[0;32m<ipython-input-9-59f2a3ce8b92>\u001b[0m in \u001b[0;36m<module>\u001b[0;34m()\u001b[0m\n\u001b[0;32m----> 1\u001b[0;31m \u001b[0mto_regs\u001b[0m \u001b[0;34m=\u001b[0m \u001b[0mapplied\u001b[0m\u001b[0;34m(\u001b[0m \u001b[0;36m37.181944\u001b[0m\u001b[0;34m,\u001b[0m \u001b[0;36m114.36\u001b[0m\u001b[0;34m,\u001b[0m\u001b[0msfiles\u001b[0m\u001b[0;34m[\u001b[0m\u001b[0mi\u001b[0m\u001b[0;34m]\u001b[0m\u001b[0;34m,\u001b[0m \u001b[0mmfiles\u001b[0m\u001b[0;34m[\u001b[0m\u001b[0mi\u001b[0m\u001b[0;34m]\u001b[0m\u001b[0;34m,\u001b[0m \u001b[0;36m1\u001b[0m\u001b[0;34m,\u001b[0m \u001b[0mpsfs\u001b[0m\u001b[0;34m)\u001b[0m\u001b[0;34m\u001b[0m\u001b[0m\n\u001b[0m",
      "\u001b[0;32m<ipython-input-8-c61e2a0381e1>\u001b[0m in \u001b[0;36mapplied\u001b[0;34m(lat, lon, fpath, mfile, psfs, pr)\u001b[0m\n\u001b[1;32m    131\u001b[0m     \u001b[0margs\u001b[0m \u001b[0;34m=\u001b[0m \u001b[0mfpath\u001b[0m\u001b[0;34m,\u001b[0m \u001b[0msentm\u001b[0m\u001b[0;34m,\u001b[0m \u001b[0mbrdfs\u001b[0m\u001b[0;34m,\u001b[0m \u001b[0msinds\u001b[0m\u001b[0;34m,\u001b[0m \u001b[0mminds\u001b[0m\u001b[0;34m,\u001b[0m \u001b[0mpsfs\u001b[0m\u001b[0;34m\u001b[0m\u001b[0m\n\u001b[1;32m    132\u001b[0m     \u001b[0mpar\u001b[0m \u001b[0;34m=\u001b[0m \u001b[0mpartial\u001b[0m\u001b[0;34m(\u001b[0m\u001b[0mop\u001b[0m\u001b[0;34m,\u001b[0m \u001b[0margs\u001b[0m\u001b[0;34m=\u001b[0m\u001b[0margs\u001b[0m\u001b[0;34m)\u001b[0m\u001b[0;34m\u001b[0m\u001b[0m\n\u001b[0;32m--> 133\u001b[0;31m     \u001b[0mpar\u001b[0m\u001b[0;34m(\u001b[0m\u001b[0;36m0\u001b[0m\u001b[0;34m)\u001b[0m\u001b[0;34m\u001b[0m\u001b[0m\n\u001b[0m\u001b[1;32m    134\u001b[0m     \u001b[0;31m#pool = multiprocessing.Pool(processes = 7)\u001b[0m\u001b[0;34m\u001b[0m\u001b[0;34m\u001b[0m\u001b[0m\n\u001b[1;32m    135\u001b[0m     \u001b[0;31m#retval = pool.map(par, range(7))\u001b[0m\u001b[0;34m\u001b[0m\u001b[0;34m\u001b[0m\u001b[0m\n",
      "\u001b[0;32m<ipython-input-8-c61e2a0381e1>\u001b[0m in \u001b[0;36mop\u001b[0;34m(ind, args)\u001b[0m\n\u001b[1;32m    108\u001b[0m     \u001b[0;32mif\u001b[0m \u001b[0mind\u001b[0m\u001b[0;34m<\u001b[0m\u001b[0;36m4\u001b[0m\u001b[0;34m:\u001b[0m\u001b[0;34m\u001b[0m\u001b[0m\n\u001b[1;32m    109\u001b[0m         \u001b[0mbrdfs\u001b[0m\u001b[0;34m[\u001b[0m\u001b[0mind\u001b[0m\u001b[0;34m]\u001b[0m\u001b[0;34m[\u001b[0m\u001b[0mbrdfs\u001b[0m\u001b[0;34m[\u001b[0m\u001b[0mind\u001b[0m\u001b[0;34m]\u001b[0m\u001b[0;34m.\u001b[0m\u001b[0mmask\u001b[0m\u001b[0;34m]\u001b[0m \u001b[0;34m=\u001b[0m \u001b[0mnp\u001b[0m\u001b[0;34m.\u001b[0m\u001b[0mnan\u001b[0m\u001b[0;34m\u001b[0m\u001b[0m\n\u001b[0;32m--> 110\u001b[0;31m         \u001b[0mto_regs\u001b[0m \u001b[0;34m=\u001b[0m \u001b[0m_psf\u001b[0m\u001b[0;34m(\u001b[0m\u001b[0msent\u001b[0m\u001b[0;34m,\u001b[0m\u001b[0msinds\u001b[0m\u001b[0;34m,\u001b[0m \u001b[0mbrdfs\u001b[0m\u001b[0;34m[\u001b[0m\u001b[0mind\u001b[0m\u001b[0;34m]\u001b[0m\u001b[0;34m*\u001b[0m\u001b[0;36m0.001\u001b[0m\u001b[0;34m,\u001b[0m \u001b[0mminds\u001b[0m\u001b[0;34m,\u001b[0m \u001b[0mbands\u001b[0m\u001b[0;34m[\u001b[0m\u001b[0mind\u001b[0m\u001b[0;34m]\u001b[0m\u001b[0;34m,\u001b[0m \u001b[0mpsfs\u001b[0m\u001b[0;34m[\u001b[0m\u001b[0mind\u001b[0m\u001b[0;34m]\u001b[0m\u001b[0;34m)\u001b[0m\u001b[0;34m\u001b[0m\u001b[0m\n\u001b[0m\u001b[1;32m    111\u001b[0m \u001b[0;34m\u001b[0m\u001b[0m\n\u001b[1;32m    112\u001b[0m     \u001b[0;32melse\u001b[0m\u001b[0;34m:\u001b[0m\u001b[0;34m\u001b[0m\u001b[0m\n",
      "\u001b[0;31mTypeError\u001b[0m: 'int' object has no attribute '__getitem__'"
     ]
    }
   ],
   "source": [
    "to_regs = applied( 37.181944, 114.36,sfiles[i], mfiles[i], 1, psfs)"
   ]
  },
  {
   "cell_type": "code",
   "execution_count": 19,
   "metadata": {
    "collapsed": false
   },
   "outputs": [
    {
     "data": {
      "text/plain": [
       "array([  23.97447188,  306.15258185,    7.91598097,  -21.56165644,\n",
       "         59.7537709 ])"
      ]
     },
     "execution_count": 19,
     "metadata": {},
     "output_type": "execute_result"
    }
   ],
   "source": []
  },
  {
   "cell_type": "code",
   "execution_count": null,
   "metadata": {
    "collapsed": true
   },
   "outputs": [],
   "source": []
  }
 ],
 "metadata": {
  "kernelspec": {
   "display_name": "Python 2",
   "language": "python",
   "name": "python2"
  },
  "language_info": {
   "codemirror_mode": {
    "name": "ipython",
    "version": 2
   },
   "file_extension": ".py",
   "mimetype": "text/x-python",
   "name": "python",
   "nbconvert_exporter": "python",
   "pygments_lexer": "ipython2",
   "version": "2.7.12"
  }
 },
 "nbformat": 4,
 "nbformat_minor": 0
}
