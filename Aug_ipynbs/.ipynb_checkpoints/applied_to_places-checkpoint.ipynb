{
 "cells": [
  {
   "cell_type": "code",
   "execution_count": 1,
   "metadata": {
    "collapsed": false
   },
   "outputs": [
    {
     "name": "stdout",
     "output_type": "stream",
     "text": [
      "/data/store01/data_dirs/students/ucfafyi/Sentinel\n"
     ]
    }
   ],
   "source": [
    "cd /data/store01/data_dirs/students/ucfafyi/Sentinel"
   ]
  },
  {
   "cell_type": "code",
   "execution_count": 2,
   "metadata": {
    "collapsed": false
   },
   "outputs": [],
   "source": [
    "import sys\n",
    "sys.path.insert(0, 'python')\n",
    "from Dload_Finder import *\n",
    "import datetime"
   ]
  },
  {
   "cell_type": "code",
   "execution_count": null,
   "metadata": {
    "collapsed": false,
    "scrolled": true
   },
   "outputs": [],
   "source": [
    "# xuzhou 34.216944, 117.141944\n",
    "lat, lon = 34.216944, 117.141944\n",
    "star = datetime.datetime(2016,1,1)\n",
    "end = datetime.datetime(2016, 8,19)\n",
    "dload_sent_mod(lat, lon, star, end, directory = '/home/ucfafyi/DATA/Sentinel/')"
   ]
  },
  {
   "cell_type": "code",
   "execution_count": 30,
   "metadata": {
    "collapsed": true
   },
   "outputs": [],
   "source": [
    "aeronets = '''xuzhou 34.216944 117.141944, beijing 39.9042 116.4074, Bayfordbury 51.775633 -1.436944, \n",
    "Exeter 50.725 -3.475, Bondville 40.053 -88.3722, Pickle 51.448889 -90.21, Cheqzais 49.8222 -74.975, \n",
    "USGS 35.215 -111.63389, NEOW-OAES 35.41083 -99.058889, Amazon-ATTO-Tower -2.143889 -59.000, \n",
    "Campo-Grande-Sonda -20.437778 -54.537778, Zinder-aitport 13.77694 8.99, ICIPE-Mbita -0.41667 34.2, \n",
    "CEILAP-Newquen -38.95194 -68.13694, Bure-ope 48.561944 5.505, Leipzig 51.35194 12.435, Munich-uni 48.14778 11.572778, \n",
    "Aubiere-LAMP 45.76083 3.11083, Birdsuille -25.89889 139.34583, Canberra -35.270833 149.11083, Lake-lefroy -31.255 121.705, \n",
    "Lucida -18.52 146.3858, Luang-Namtha 20.930833 101.41583, Korus-kyn 35.89 128.605833, Osaka 34.65083 135.59083''' \n"
   ]
  },
  {
   "cell_type": "code",
   "execution_count": 54,
   "metadata": {
    "collapsed": false,
    "scrolled": true
   },
   "outputs": [],
   "source": [
    "aerns = np.array([[j[0].split(' '),j[1].split(' '),j[2].split(' ')]for j in [i.split(', ')[:3] for i in aeronets.split('\\n')]]).reshape(21,3)"
   ]
  },
  {
   "cell_type": "code",
   "execution_count": 58,
   "metadata": {
    "collapsed": false,
    "scrolled": true
   },
   "outputs": [],
   "source": [
    "for i in aerns:\n",
    "    lat, lon = float(i[1]), float(i[2])\n",
    "    try:\n",
    "        dload_sent_mod(lat, lon, star, end, directory = '/home/ucfafyi/DATA/Sentinel/')\n",
    "    except:\n",
    "        print 'something wrong with this place: %s, %s'%(lat, lon)        "
   ]
  },
  {
   "cell_type": "code",
   "execution_count": null,
   "metadata": {
    "collapsed": false,
    "scrolled": true
   },
   "outputs": [],
   "source": [
    "dload_sent_mod(39.9042, 116.4074, star, end, directory = '/home/ucfafyi/DATA/Sentinel/')"
   ]
  },
  {
   "cell_type": "code",
   "execution_count": null,
   "metadata": {
    "collapsed": true
   },
   "outputs": [],
   "source": [
    "dload_sent_mod(48.14778, 11.572778, star, end, directory = '/home/ucfafyi/DATA/Sentinel/')"
   ]
  },
  {
   "cell_type": "code",
   "execution_count": null,
   "metadata": {
    "collapsed": true
   },
   "outputs": [],
   "source": [
    "dload_sent_mod(-31.255, 121.705, star, end, directory = '/home/ucfafyi/DATA/Sentinel/')"
   ]
  },
  {
   "cell_type": "code",
   "execution_count": null,
   "metadata": {
    "collapsed": true
   },
   "outputs": [],
   "source": [
    "dload_sent_mod(34.65083, 135.59083, star, end, directory = '/home/ucfafyi/DATA/Sentinel/')"
   ]
  }
 ],
 "metadata": {
  "kernelspec": {
   "display_name": "Python 2",
   "language": "python",
   "name": "python2"
  },
  "language_info": {
   "codemirror_mode": {
    "name": "ipython",
    "version": 2
   },
   "file_extension": ".py",
   "mimetype": "text/x-python",
   "name": "python",
   "nbconvert_exporter": "python",
   "pygments_lexer": "ipython2",
   "version": "2.7.12"
  }
 },
 "nbformat": 4,
 "nbformat_minor": 0
}
