{
 "cells": [
  {
   "cell_type": "code",
   "execution_count": 1,
   "metadata": {
    "collapsed": false
   },
   "outputs": [
    {
     "name": "stdout",
     "output_type": "stream",
     "text": [
      "/data/store01/data_dirs/students/ucfafyi/Sentinel\n"
     ]
    }
   ],
   "source": [
    "cd /data/store01/data_dirs/students/ucfafyi/Sentinel"
   ]
  },
  {
   "cell_type": "code",
   "execution_count": 4,
   "metadata": {
    "collapsed": true
   },
   "outputs": [],
   "source": [
    "import sys\n",
    "sys.path.insert(0, 'python')\n",
    "from fastRWpkl import *\n",
    "from glob import glob\n",
    "import pylab as plt\n",
    "%matplotlib inline\n",
    "from applied import *\n",
    "from scipy.stats import linregress, gaussian_kde\n",
    "from nicer_plot import *\n",
    "from matplotlib import colors, cm, gridspec\n",
    "from geo_trans import *\n",
    "from Py6S import *\n",
    "import pandas as pd\n",
    "from smoothn import *\n",
    "from Dload_Finder import *"
   ]
  },
  {
   "cell_type": "code",
   "execution_count": 3,
   "metadata": {
    "collapsed": true
   },
   "outputs": [],
   "source": [
    "general_psf = [[  34.19600463,  436.11482328,    7.87349434,  -21.79469247,\n",
    "          60.57048682],\n",
    "       [  34.19600463,  436.11482328,    7.87349434,  -21.79469247,\n",
    "          60.57048682],\n",
    "       [  34.19600463,  436.11482328,    7.87349434,  -21.79469247,\n",
    "          60.57048682],\n",
    "       [  34.19600463,  436.11482328,    7.87349434,  -21.79469247,\n",
    "          60.57048682],\n",
    "       [  34.19600463,  436.11482328,    7.87349434,  -21.79469247,\n",
    "          60.57048682],\n",
    "       [  34.19600463,  436.11482328,    7.87349434,  -21.79469247,\n",
    "          60.57048682],\n",
    "       [  34.19600463,  436.11482328,    7.87349434,  -21.79469247,\n",
    "          60.57048682]]\n",
    "general_psf = np.array(general_psf)"
   ]
  },
  {
   "cell_type": "code",
   "execution_count": null,
   "metadata": {
    "collapsed": false,
    "scrolled": true
   },
   "outputs": [],
   "source": [
    "dates = get_closet(13.77694,8.99, 2016)"
   ]
  },
  {
   "cell_type": "code",
   "execution_count": null,
   "metadata": {
    "collapsed": true
   },
   "outputs": [],
   "source": []
  },
  {
   "cell_type": "code",
   "execution_count": null,
   "metadata": {
    "collapsed": true
   },
   "outputs": [],
   "source": [
    "spath = '/home/ucfafyi/DATA/Sentinel/s_data/32/P/MA/2016/4/3/0/'\n",
    "mfile = [ '/home/ucfafyi/DATA/Sentinel/m_data/MCD43A1.A2016009.h21v09.005.2016026084439.hdf',\n",
    " '/home/ucfafyi/DATA/Sentinel/m_data/MCD43A2.A2016009.h21v09.005.2016026084439.hdf']\n",
    "lat, lon, year =13.77694,8.99, 2016"
   ]
  },
  {
   "cell_type": "code",
   "execution_count": null,
   "metadata": {
    "collapsed": true
   },
   "outputs": [],
   "source": [
    "to_regs = applied(lat, lon, spath, mfile, general_psf)\n",
    "to_reg = [[i[3],i[4]] for i in to_regs]\n",
    "plot_config()\n",
    "fig = plt.figure()\n",
    "gs = gridspec.GridSpec(2,4)  # generate a grid space\n",
    "fig = plt.figure(figsize=(24,12))\n",
    "names = ('SB2_MB3,SB3_MB4,SB4_MB1,SB8_MB2,SB8A_MB2,SB11_MB6,SB12_MB7').split(',')\n",
    "cmap = cm.get_cmap('YlGnBu')\n",
    "psfsolve = []\n",
    "for i in range(7):\n",
    "    ax = fig.add_subplot(gs[i])\n",
    "    s,m = to_reg[i]\n",
    "    \n",
    "    mval = np.nanmax([s,m])\n",
    "    fit = np.polyfit(m,s,1)\n",
    "    fit_fn = np.poly1d(fit)\n",
    "    xy = np.vstack([m,s])\n",
    "    z = gaussian_kde(xy)(xy)\n",
    "    ax.scatter(m,s, c=z, s=4, edgecolor='',norm=colors.LogNorm(vmin=z.min(), vmax=z.max()*1.2), cmap = cmap)\n",
    "    ax.plot([0,1],[0.,1], '--',linewidth=0.5)\n",
    "    ax.plot(np.arange(0,1,0.1), fit_fn(np.arange(0,1,0.1)), '--', color='grey')\n",
    "    slope,inter, rval, pval, std = r = scipy.stats.linregress(m,s)\n",
    "    ax.set_title('%s'%names[i])\n",
    "    ax.text(mval*(4./6.),mval*(1.5/6.),'Slope: %02f \\nIntercept: %02f \\nCorrelation: %02f \\nStderr: %02f \\nPoints: %s'%(slope,inter, rval, std, len(m)), \n",
    "        )\n",
    "    pretty_axes(ax)\n",
    "    ax.set_xlim(0,mval)\n",
    "    ax.set_ylim(0,mval)\n",
    "    ax.set_yticks(np.arange(0,mval+0.1,mval/5.))\n",
    "    ax.set_xticks(np.arange(0,mval+0.1,mval/5.))\n",
    "    if i==4:\n",
    "        ax.set_xlabel ( \"MOD reflectance\")\n",
    "        ax.set_ylabel ( \"SEN reflectance\")\n",
    "    psfsolve.append([slope,inter])\n",
    "plt.tight_layout()"
   ]
  }
 ],
 "metadata": {
  "kernelspec": {
   "display_name": "Python 2",
   "language": "python",
   "name": "python2"
  },
  "language_info": {
   "codemirror_mode": {
    "name": "ipython",
    "version": 2
   },
   "file_extension": ".py",
   "mimetype": "text/x-python",
   "name": "python",
   "nbconvert_exporter": "python",
   "pygments_lexer": "ipython2",
   "version": "2.7.12"
  }
 },
 "nbformat": 4,
 "nbformat_minor": 0
}
