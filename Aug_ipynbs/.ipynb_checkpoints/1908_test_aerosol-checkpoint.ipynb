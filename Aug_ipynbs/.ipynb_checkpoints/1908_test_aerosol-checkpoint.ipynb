{
 "cells": [
  {
   "cell_type": "code",
   "execution_count": 31,
   "metadata": {
    "collapsed": false
   },
   "outputs": [
    {
     "name": "stdout",
     "output_type": "stream",
     "text": [
      "/data/store01/data_dirs/students/ucfafyi/Sentinel\n"
     ]
    }
   ],
   "source": [
    "cd /data/store01/data_dirs/students/ucfafyi/Sentinel"
   ]
  },
  {
   "cell_type": "code",
   "execution_count": 163,
   "metadata": {
    "collapsed": false
   },
   "outputs": [],
   "source": [
    "import numpy as np\n",
    "import matplotlib.pyplot as plt\n",
    "from scipy.stats import linregress\n",
    "%matplotlib inline\n",
    "import sys\n",
    "sys.path.append ( \"..\")\n",
    "import gp_emulator\n",
    "sys.path.insert(0,'python')\n",
    "from fastRWpkl import *\n",
    "from scipy import interpolate\n",
    "from nicer_plot import *\n",
    "from readSent import *\n",
    "import pandas as pd\n",
    "from Py6S import *\n",
    "from multiprocessing import *\n",
    "from Dload_Finder import *\n",
    "from scipy import optimize\n",
    "from sklearn import linear_model\n",
    "from matplotlib import gridspec\n",
    "from scipy.stats import gaussian_kde\n",
    "from nicer_plot import *\n",
    "from matplotlib import cm, colors\n",
    "import scipy\n",
    "plot_config()\n",
    "from applied import *"
   ]
  },
  {
   "cell_type": "code",
   "execution_count": 33,
   "metadata": {
    "collapsed": true
   },
   "outputs": [],
   "source": [
    "psfsolve = [[ 0.94396372,  0.06337542],\n",
    "[ 0.89290999,  0.03011558],\n",
    "[ 1.06268167,  0.01038946],\n",
    "[ 0.91907771,  0.01776961],\n",
    "[ 0.94980581,  0.0258882 ],\n",
    "[ 1.11922009, -0.02227448],\n",
    "[ 0.96234873,  0.0159126 ]]\n",
    "atmsolve = [[ 0.8959399 ,  0.        ,  0.05647779],\n",
    "       [ 0.89892351,  0.        ,  0.02876397],\n",
    "       [ 1.        ,  0.        ,  0.01429803],\n",
    "       [ 0.93626743,  0.        ,  0.01866714],\n",
    "       [ 0.95704675,  0.        ,  0.02120602],\n",
    "       [ 1.        ,  0.        ,  0.00636866],\n",
    "       [ 1.        ,  0.        ,  0.00777009]]\n",
    "psfsolve = np.array(psfsolve)\n",
    "atmsolve = np.array(atmsolve)"
   ]
  },
  {
   "cell_type": "code",
   "execution_count": 35,
   "metadata": {
    "collapsed": false
   },
   "outputs": [
    {
     "name": "stdout",
     "output_type": "stream",
     "text": [
      "0.510586465435 0.371318171103\n"
     ]
    }
   ],
   "source": [
    "lat, lon, year = 37.181944, 114.36, 2016\n",
    "sfiles, mfiles = get_closet(lat, lon,year,0)\n",
    "keys = 'B02', 'B03','B04','B08','B8A','B11','B12'\n",
    "bands = [2,3,4,8,13,11,12]\n",
    "i=11\n",
    "fpath = sfiles[i]\n",
    "atmos = readmeteo(fpath+'auxiliary/ECMWFT')\n",
    "ozone = np.mean(atmos['TCO3']*46.728972)\n",
    "water = np.mean(atmos['TCWV']/10.)\n",
    "print water, ozone\n",
    "mete = readxml(fpath+'metadata.xml')\n",
    "sz = mete['mSz']\n",
    "sa = mete['mSa']\n",
    "vz = mete['mVz']\n",
    "va = mete['mVa']"
   ]
  },
  {
   "cell_type": "code",
   "execution_count": 36,
   "metadata": {
    "collapsed": false,
    "scrolled": true
   },
   "outputs": [
    {
     "data": {
      "text/html": [
       "<div>\n",
       "<table border=\"1\" class=\"dataframe\">\n",
       "  <thead>\n",
       "    <tr style=\"text-align: right;\">\n",
       "      <th></th>\n",
       "      <th>Date(dd-mm-yyyy)</th>\n",
       "      <th>Time(hh:mm:ss)</th>\n",
       "      <th>Julian_Day</th>\n",
       "      <th>AOT_1640</th>\n",
       "      <th>AOT_1020</th>\n",
       "      <th>AOT_870</th>\n",
       "      <th>AOT_675</th>\n",
       "      <th>AOT_667</th>\n",
       "      <th>AOT_555</th>\n",
       "      <th>AOT_551</th>\n",
       "      <th>AOT_532</th>\n",
       "      <th>AOT_531</th>\n",
       "      <th>AOT_500</th>\n",
       "      <th>AOT_490</th>\n",
       "      <th>AOT_443</th>\n",
       "      <th>AOT_440</th>\n",
       "      <th>AOT_412</th>\n",
       "      <th>AOT_380</th>\n",
       "      <th>AOT_340</th>\n",
       "      <th>Water(cm)</th>\n",
       "    </tr>\n",
       "  </thead>\n",
       "  <tbody>\n",
       "    <tr>\n",
       "      <th>6</th>\n",
       "      <td>03:05:2016</td>\n",
       "      <td>01:22:19</td>\n",
       "      <td>124.057164</td>\n",
       "      <td>0.031955</td>\n",
       "      <td>0.041477</td>\n",
       "      <td>0.047839</td>\n",
       "      <td>0.060413</td>\n",
       "      <td>NaN</td>\n",
       "      <td>NaN</td>\n",
       "      <td>NaN</td>\n",
       "      <td>NaN</td>\n",
       "      <td>NaN</td>\n",
       "      <td>0.060192</td>\n",
       "      <td>NaN</td>\n",
       "      <td>NaN</td>\n",
       "      <td>0.069243</td>\n",
       "      <td>NaN</td>\n",
       "      <td>0.075497</td>\n",
       "      <td>0.070629</td>\n",
       "      <td>0.447453</td>\n",
       "    </tr>\n",
       "    <tr>\n",
       "      <th>7</th>\n",
       "      <td>03:05:2016</td>\n",
       "      <td>07:22:17</td>\n",
       "      <td>124.307141</td>\n",
       "      <td>0.081640</td>\n",
       "      <td>0.090919</td>\n",
       "      <td>0.101287</td>\n",
       "      <td>0.118541</td>\n",
       "      <td>NaN</td>\n",
       "      <td>NaN</td>\n",
       "      <td>NaN</td>\n",
       "      <td>NaN</td>\n",
       "      <td>NaN</td>\n",
       "      <td>0.135848</td>\n",
       "      <td>NaN</td>\n",
       "      <td>NaN</td>\n",
       "      <td>0.152733</td>\n",
       "      <td>NaN</td>\n",
       "      <td>0.174680</td>\n",
       "      <td>0.192274</td>\n",
       "      <td>0.760989</td>\n",
       "    </tr>\n",
       "    <tr>\n",
       "      <th>8</th>\n",
       "      <td>03:05:2016</td>\n",
       "      <td>08:37:27</td>\n",
       "      <td>124.359340</td>\n",
       "      <td>0.091557</td>\n",
       "      <td>0.102394</td>\n",
       "      <td>0.111964</td>\n",
       "      <td>0.129180</td>\n",
       "      <td>NaN</td>\n",
       "      <td>NaN</td>\n",
       "      <td>NaN</td>\n",
       "      <td>NaN</td>\n",
       "      <td>NaN</td>\n",
       "      <td>0.155331</td>\n",
       "      <td>NaN</td>\n",
       "      <td>NaN</td>\n",
       "      <td>0.176462</td>\n",
       "      <td>NaN</td>\n",
       "      <td>0.202620</td>\n",
       "      <td>0.220729</td>\n",
       "      <td>0.824685</td>\n",
       "    </tr>\n",
       "    <tr>\n",
       "      <th>9</th>\n",
       "      <td>03:05:2016</td>\n",
       "      <td>09:32:01</td>\n",
       "      <td>124.397234</td>\n",
       "      <td>0.097034</td>\n",
       "      <td>0.110542</td>\n",
       "      <td>0.120147</td>\n",
       "      <td>0.141056</td>\n",
       "      <td>NaN</td>\n",
       "      <td>NaN</td>\n",
       "      <td>NaN</td>\n",
       "      <td>NaN</td>\n",
       "      <td>NaN</td>\n",
       "      <td>0.180543</td>\n",
       "      <td>NaN</td>\n",
       "      <td>NaN</td>\n",
       "      <td>0.208450</td>\n",
       "      <td>NaN</td>\n",
       "      <td>0.244123</td>\n",
       "      <td>0.268813</td>\n",
       "      <td>0.877700</td>\n",
       "    </tr>\n",
       "    <tr>\n",
       "      <th>10</th>\n",
       "      <td>03:05:2016</td>\n",
       "      <td>10:06:10</td>\n",
       "      <td>124.420949</td>\n",
       "      <td>0.102942</td>\n",
       "      <td>0.117834</td>\n",
       "      <td>0.126913</td>\n",
       "      <td>0.147866</td>\n",
       "      <td>NaN</td>\n",
       "      <td>NaN</td>\n",
       "      <td>NaN</td>\n",
       "      <td>NaN</td>\n",
       "      <td>NaN</td>\n",
       "      <td>0.190915</td>\n",
       "      <td>NaN</td>\n",
       "      <td>NaN</td>\n",
       "      <td>0.219997</td>\n",
       "      <td>NaN</td>\n",
       "      <td>0.256489</td>\n",
       "      <td>0.279838</td>\n",
       "      <td>0.903077</td>\n",
       "    </tr>\n",
       "    <tr>\n",
       "      <th>11</th>\n",
       "      <td>03:05:2016</td>\n",
       "      <td>22:46:36</td>\n",
       "      <td>124.949028</td>\n",
       "      <td>0.110888</td>\n",
       "      <td>0.134589</td>\n",
       "      <td>0.139996</td>\n",
       "      <td>0.154928</td>\n",
       "      <td>NaN</td>\n",
       "      <td>NaN</td>\n",
       "      <td>NaN</td>\n",
       "      <td>NaN</td>\n",
       "      <td>NaN</td>\n",
       "      <td>0.181862</td>\n",
       "      <td>NaN</td>\n",
       "      <td>NaN</td>\n",
       "      <td>0.201206</td>\n",
       "      <td>NaN</td>\n",
       "      <td>0.222006</td>\n",
       "      <td>0.231482</td>\n",
       "      <td>1.120504</td>\n",
       "    </tr>\n",
       "    <tr>\n",
       "      <th>12</th>\n",
       "      <td>03:05:2016</td>\n",
       "      <td>23:13:34</td>\n",
       "      <td>124.967755</td>\n",
       "      <td>0.116685</td>\n",
       "      <td>0.139560</td>\n",
       "      <td>0.145124</td>\n",
       "      <td>0.159921</td>\n",
       "      <td>NaN</td>\n",
       "      <td>NaN</td>\n",
       "      <td>NaN</td>\n",
       "      <td>NaN</td>\n",
       "      <td>NaN</td>\n",
       "      <td>0.183771</td>\n",
       "      <td>NaN</td>\n",
       "      <td>NaN</td>\n",
       "      <td>0.201428</td>\n",
       "      <td>NaN</td>\n",
       "      <td>0.221696</td>\n",
       "      <td>0.231096</td>\n",
       "      <td>1.147006</td>\n",
       "    </tr>\n",
       "  </tbody>\n",
       "</table>\n",
       "</div>"
      ],
      "text/plain": [
       "   Date(dd-mm-yyyy) Time(hh:mm:ss)  Julian_Day  AOT_1640  AOT_1020   AOT_870  \\\n",
       "6        03:05:2016       01:22:19  124.057164  0.031955  0.041477  0.047839   \n",
       "7        03:05:2016       07:22:17  124.307141  0.081640  0.090919  0.101287   \n",
       "8        03:05:2016       08:37:27  124.359340  0.091557  0.102394  0.111964   \n",
       "9        03:05:2016       09:32:01  124.397234  0.097034  0.110542  0.120147   \n",
       "10       03:05:2016       10:06:10  124.420949  0.102942  0.117834  0.126913   \n",
       "11       03:05:2016       22:46:36  124.949028  0.110888  0.134589  0.139996   \n",
       "12       03:05:2016       23:13:34  124.967755  0.116685  0.139560  0.145124   \n",
       "\n",
       "     AOT_675  AOT_667  AOT_555  AOT_551  AOT_532  AOT_531   AOT_500  AOT_490  \\\n",
       "6   0.060413      NaN      NaN      NaN      NaN      NaN  0.060192      NaN   \n",
       "7   0.118541      NaN      NaN      NaN      NaN      NaN  0.135848      NaN   \n",
       "8   0.129180      NaN      NaN      NaN      NaN      NaN  0.155331      NaN   \n",
       "9   0.141056      NaN      NaN      NaN      NaN      NaN  0.180543      NaN   \n",
       "10  0.147866      NaN      NaN      NaN      NaN      NaN  0.190915      NaN   \n",
       "11  0.154928      NaN      NaN      NaN      NaN      NaN  0.181862      NaN   \n",
       "12  0.159921      NaN      NaN      NaN      NaN      NaN  0.183771      NaN   \n",
       "\n",
       "    AOT_443   AOT_440  AOT_412   AOT_380   AOT_340  Water(cm)  \n",
       "6       NaN  0.069243      NaN  0.075497  0.070629   0.447453  \n",
       "7       NaN  0.152733      NaN  0.174680  0.192274   0.760989  \n",
       "8       NaN  0.176462      NaN  0.202620  0.220729   0.824685  \n",
       "9       NaN  0.208450      NaN  0.244123  0.268813   0.877700  \n",
       "10      NaN  0.219997      NaN  0.256489  0.279838   0.903077  \n",
       "11      NaN  0.201206      NaN  0.222006  0.231482   1.120504  \n",
       "12      NaN  0.201428      NaN  0.221696  0.231096   1.147006  "
      ]
     },
     "execution_count": 36,
     "metadata": {},
     "output_type": "execute_result"
    }
   ],
   "source": [
    "pas = ['Date(dd-mm-yyyy)', 'Time(hh:mm:ss)', 'Julian_Day', 'AOT_1640', \n",
    "       'AOT_1020', 'AOT_870', 'AOT_675', 'AOT_667', 'AOT_555', 'AOT_551', 'AOT_532', \n",
    "       'AOT_531', 'AOT_500', 'AOT_490', 'AOT_443', 'AOT_440', 'AOT_412', 'AOT_380', 'AOT_340', 'Water(cm)']\n",
    "df = pd.read_csv('160101_161231_SONET_Xingtai.dubovik', skiprows=3, na_values=[\"N/A\"])\n",
    "date = df[pas][6:13]\n",
    "aero = np.array(date.AOT_1640),np.array(date.AOT_1020),np.array(date.AOT_870),np.array(date.AOT_675),np.array(date.AOT_500),np.array(date.AOT_440),np.array(date.AOT_380),np.array(date.AOT_340)\n",
    "wv = [1640, 1020,870, 675, 500, 440, 380, 340]\n",
    "aero = np.array(aero).T\n",
    "date"
   ]
  },
  {
   "cell_type": "code",
   "execution_count": 37,
   "metadata": {
    "collapsed": true
   },
   "outputs": [],
   "source": [
    "sen_rsp = pd.ExcelFile('sp_rep/Sentbands.xlsx')\n",
    "swl = np.array(sen_rsp.parse('Spectral Responses')['SR_WL'])\n",
    "cname= 'SR_AV_B2', 'SR_AV_B3', 'SR_AV_B4', 'SR_AV_B8', 'SR_AV_B8A', 'SR_AV_B11', 'SR_AV_B12'\n",
    "sen_rsr = [np.array(sen_rsp.parse('Spectral Responses')[i]) for i in cname]"
   ]
  },
  {
   "cell_type": "code",
   "execution_count": 38,
   "metadata": {
    "collapsed": false
   },
   "outputs": [
    {
     "data": {
      "text/plain": [
       "<matplotlib.legend.Legend at 0x7f7ad8cd1110>"
      ]
     },
     "execution_count": 38,
     "metadata": {},
     "output_type": "execute_result"
    },
    {
     "data": {
      "image/png": "[encoded data removed]",
      "text/plain": [
       "<matplotlib.figure.Figure at 0x7f7ad8a88c10>"
      ]
     },
     "metadata": {},
     "output_type": "display_data"
    }
   ],
   "source": [
    "aot550 = []\n",
    "fig = plt.figure(figsize=(8,4))\n",
    "ax = fig.add_subplot(111)\n",
    "for i,j in enumerate(aero):\n",
    "    ax.plot(wv, j, label = 'No. %s'%i)\n",
    "    f = interpolate.interp1d(wv,j, kind='cubic')\n",
    "    xnew = 550\n",
    "    ynew = f(xnew)\n",
    "    aot550.append(ynew)\n",
    "    plt.plot(550, ynew, 'r+')\n",
    "pretty_axes(ax)  \n",
    "ax.set_yticks(np.linspace(0, 1.2*np.max(aero), 6))\n",
    "plt.legend(ncol=2)"
   ]
  },
  {
   "cell_type": "code",
   "execution_count": 39,
   "metadata": {
    "collapsed": false
   },
   "outputs": [
    {
     "data": {
      "text/plain": [
       "[array(0.057471480787990546),\n",
       " array(0.12735285990289918),\n",
       " array(0.14364615438401096),\n",
       " array(0.16419135037848276),\n",
       " array(0.1734720605027159),\n",
       " array(0.17043786085775892),\n",
       " array(0.17365157452923824)]"
      ]
     },
     "execution_count": 39,
     "metadata": {},
     "output_type": "execute_result"
    }
   ],
   "source": [
    "aot550"
   ]
  },
  {
   "cell_type": "code",
   "execution_count": null,
   "metadata": {
    "collapsed": true
   },
   "outputs": [],
   "source": [
    "def ssssss(aot550, water, ozone, sa,sz, va, vz, sen_rsr):\n",
    "    path = '/home/ucfafyi/DATA/Downloads/6SV2.1/sixsV2.1'\n",
    "    s = SixS(path)\n",
    "    #r_path = []\n",
    "    #trans = []\n",
    "    ss = []\n",
    "    for band in range(7):\n",
    "        s = SixS(path)\n",
    "        s.altitudes.set_target_sea_level()\n",
    "        s.altitudes.set_sensor_satellite_level()\n",
    "\n",
    "        s.ground_reflectance = GroundReflectance.HomogeneousLambertian(GroundReflectance.GreenVegetation)\n",
    "        s.geometry = Geometry.User()\n",
    "        s.geometry.solar_a = 0\n",
    "        s.geometry.solar_z = 0\n",
    "        s.geometry.view_a = va[band]\n",
    "        s.geometry.view_z = vz[band]\n",
    "        srsp = sen_rsr[band]\n",
    "        wv, we = swl[srsp!=0]/1000.,srsp[srsp!=0]\n",
    "        mi,ma = round(wv.min(),3),round(wv.max(),3)\n",
    "        f = interpolate.interp1d(wv,we)\n",
    "        xnew = np.arange(mi,ma,0.0025)\n",
    "        ynew = f(xnew)\n",
    "        s.wavelength = Wavelength(xnew[0],xnew[-1],ynew)\n",
    "        s.aero_profile = AeroProfile.PredefinedType(AeroProfile.Continental)\n",
    "        s.aot550 = aot550\n",
    "        s.atmos_profile = AtmosProfile.UserWaterAndOzone(water, ozone)\n",
    "        s.run()\n",
    "        #r_path.append(s.outputs.atmospheric_intrinsic_reflectance)\n",
    "        #trans.append(s.outputs.transmittance_total_scattering.total)\n",
    "        ss.append(s)\n",
    "    return ss"
   ]
  },
  {
   "cell_type": "code",
   "execution_count": null,
   "metadata": {
    "collapsed": true
   },
   "outputs": [],
   "source": [
    "simud = [ssssss(i,water, ozone, sa, sz, va,vz, sen_rsr) for i in np.linspace(0.00, 0.36, 100)]"
   ]
  },
  {
   "cell_type": "code",
   "execution_count": 97,
   "metadata": {
    "collapsed": false
   },
   "outputs": [],
   "source": [
    "a1 = simud[0][0]"
   ]
  },
  {
   "cell_type": "code",
   "execution_count": 89,
   "metadata": {
    "collapsed": false
   },
   "outputs": [
    {
     "data": {
      "text/plain": [
       "100"
      ]
     },
     "execution_count": 89,
     "metadata": {},
     "output_type": "execute_result"
    }
   ],
   "source": [
    "len(simud)"
   ]
  },
  {
   "cell_type": "code",
   "execution_count": 90,
   "metadata": {
    "collapsed": true
   },
   "outputs": [],
   "source": [
    "aots = np.linspace(0.005, 0.4, 100)"
   ]
  },
  {
   "cell_type": "code",
   "execution_count": 91,
   "metadata": {
    "collapsed": false,
    "scrolled": true
   },
   "outputs": [
    {
     "data": {
      "text/plain": [
       "<matplotlib.text.Text at 0x7f103dd1d050>"
      ]
     },
     "execution_count": 91,
     "metadata": {},
     "output_type": "execute_result"
    },
    {
     "data": {
      "image/png": "[encoded data removed]",
      "text/plain": [
       "<matplotlib.figure.Figure at 0x7f103e091b10>"
      ]
     },
     "metadata": {},
     "output_type": "display_data"
    }
   ],
   "source": [
    "names = ['B02', 'B03', 'B04', 'B08', 'B8A', 'B11', 'B12']\n",
    "fig = plt.figure()\n",
    "ax = fig.add_subplot(111)\n",
    "for i in range(7):\n",
    "    trans = [ii[i].outputs.transmittance_total_scattering.total for ii in simud]\n",
    "    ax.plot(aots, trans, label = '%s'%names[i])\n",
    "ax.legend(loc = 'best', ncol = 2)\n",
    "pretty_axes(ax)\n",
    "ax.set_yticks(np.linspace(0.6, 1.2, 6))\n",
    "ax.set_xlabel('AOT500')\n",
    "ax.set_ylabel('Trans')"
   ]
  },
  {
   "cell_type": "code",
   "execution_count": 100,
   "metadata": {
    "collapsed": false
   },
   "outputs": [
    {
     "data": {
      "text/plain": [
       "[<Py6S.sixs.SixS at 0x7f108d4c2790>,\n",
       " <Py6S.sixs.SixS at 0x7f108ea95350>,\n",
       " <Py6S.sixs.SixS at 0x7f108fa88950>,\n",
       " <Py6S.sixs.SixS at 0x7f10883d0610>,\n",
       " <Py6S.sixs.SixS at 0x7f10409ad150>,\n",
       " <Py6S.sixs.SixS at 0x7f1041219a90>,\n",
       " <Py6S.sixs.SixS at 0x7f1040c5dc50>]"
      ]
     },
     "execution_count": 100,
     "metadata": {},
     "output_type": "execute_result"
    }
   ],
   "source": [
    "simud[0]"
   ]
  },
  {
   "cell_type": "code",
   "execution_count": 101,
   "metadata": {
    "collapsed": false,
    "scrolled": true
   },
   "outputs": [
    {
     "data": {
      "text/plain": [
       "<matplotlib.text.Text at 0x7f103dcc3d90>"
      ]
     },
     "execution_count": 101,
     "metadata": {},
     "output_type": "execute_result"
    },
    {
     "data": {
      "image/png": "[encoded data removed]",
      "text/plain": [
       "<matplotlib.figure.Figure at 0x7f103dbefc10>"
      ]
     },
     "metadata": {},
     "output_type": "display_data"
    }
   ],
   "source": [
    "names = ['B02', 'B03', 'B04', 'B08', 'B8A', 'B11', 'B12']\n",
    "fig = plt.figure()\n",
    "ax = fig.add_subplot(111)\n",
    "for i in range(7):\n",
    "    path = [ii[i].outputs.atmospheric_intrinsic_reflectance for ii in simud]\n",
    "    ax.plot(aots, path, label = '%s'%names[i])\n",
    "ax.legend(loc = 'best', ncol = 2)\n",
    "pretty_axes(ax)\n",
    "ax.set_yticks(np.linspace(0, 1.2*0.1, 6))\n",
    "ax.set_xlabel('AOT500')\n",
    "ax.set_ylabel('Path radiance')"
   ]
  },
  {
   "cell_type": "code",
   "execution_count": 127,
   "metadata": {
    "collapsed": false,
    "scrolled": true
   },
   "outputs": [],
   "source": [
    "rasi = [j.outputs.atmospheric_intrinsic_reflectance for i in simud for j in i]"
   ]
  },
  {
   "cell_type": "code",
   "execution_count": 129,
   "metadata": {
    "collapsed": false,
    "scrolled": true
   },
   "outputs": [
    {
     "data": {
      "text/plain": [
       "<matplotlib.legend.Legend at 0x7f103c050c50>"
      ]
     },
     "execution_count": 129,
     "metadata": {},
     "output_type": "execute_result"
    },
    {
     "data": {
      "image/png": "[encoded data removed]",
      "text/plain": [
       "<matplotlib.figure.Figure at 0x7f1039acdf90>"
      ]
     },
     "metadata": {},
     "output_type": "display_data"
    }
   ],
   "source": [
    "for i in range(len(rasi)/7):\n",
    "    plt.plot(rasi[i*7:i*7+7], color = 'gray', alpha=0.01)\n",
    "plt.plot(atmsolve.T[2], label='ATMO')\n",
    "plt.plot(psfsolve.T[1],label='PSF')\n",
    "r_path = ssssss(0.1734720605027159,water, ozone, sa, sz, va,vz, sen_rsr)\n",
    "six_path = [i.outputs.atmospheric_intrinsic_reflectance for i in r_path]\n",
    "plt.plot(six_path, label = '6S')\n",
    "plt.legend(loc='best')"
   ]
  },
  {
   "cell_type": "code",
   "execution_count": 154,
   "metadata": {
    "collapsed": true
   },
   "outputs": [],
   "source": [
    "ratrans = [j.outputs.transmittance_total_scattering.total for i in simud for j in i]"
   ]
  },
  {
   "cell_type": "code",
   "execution_count": 155,
   "metadata": {
    "collapsed": false,
    "scrolled": true
   },
   "outputs": [
    {
     "data": {
      "text/plain": [
       "<matplotlib.legend.Legend at 0x7f103a057dd0>"
      ]
     },
     "execution_count": 155,
     "metadata": {},
     "output_type": "execute_result"
    },
    {
     "data": {
      "image/png": "[encoded data removed]",
      "text/plain": [
       "<matplotlib.figure.Figure at 0x7f103b836ad0>"
      ]
     },
     "metadata": {},
     "output_type": "display_data"
    }
   ],
   "source": [
    "for i in range(len(ratran)/7):\n",
    "    plt.plot(ratrans[i*7:i*7+7], color = 'gray', alpha=0.01)\n",
    "plt.plot(atmsolve.T[0], label='ATMO')\n",
    "plt.plot(psfsolve.T[0],label='PSF')\n",
    "r_path = ssssss(0.1734720605027159,water, ozone, sa, sz, va,vz, sen_rsr)\n",
    "six_trans = [i.outputs.transmittance_total_scattering.total for i in r_path]\n",
    "plt.plot(six_trans, label = '6S')\n",
    "plt.legend(loc='best')"
   ]
  },
  {
   "cell_type": "code",
   "execution_count": 135,
   "metadata": {
    "collapsed": false
   },
   "outputs": [],
   "source": [
    "def cost(aot):\n",
    "    sixs = ssssss(aot ,water, ozone, sa, sz, va,vz, sen_rsr)\n",
    "    six_trans = np.array([i.outputs.transmittance_total_scattering.total for i in sixs])\n",
    "    six_path = np.array([i.outputs.atmospheric_intrinsic_reflectance for i in sixs])\n",
    "    costs = np.sum((atmsolve.T[2] - six_path)**2)+ np.sum((atmsolve.T[0][3:] - six_trans[3:])**2)\n",
    "    print aot, costs\n",
    "    return costs"
   ]
  },
  {
   "cell_type": "code",
   "execution_count": 136,
   "metadata": {
    "collapsed": false,
    "scrolled": true
   },
   "outputs": [
    {
     "name": "stdout",
     "output_type": "stream",
     "text": [
      "[ 0.17] 0.00252024724832\n",
      "[ 0.1785] 0.00282747830672\n",
      "[ 0.1615] 0.00224269001492\n",
      "[ 0.153] 0.00200889895012\n",
      "[ 0.136] 0.00162720089472\n",
      "[ 0.119] 0.00137748297292\n",
      "[ 0.085] 0.00126224765212\n",
      "[ 0.051] 0.00169858788412\n",
      "[ 0.051] 0.00169858788412\n",
      "[ 0.102] 0.00126689478252\n",
      "[ 0.068] 0.00140639077812\n",
      "[ 0.0935] 0.00125056756552\n",
      "[ 0.102] 0.00126689478252\n",
      "[ 0.08925] 0.00124312571132\n",
      "[ 0.085] 0.00126224765212\n",
      "[ 0.091375] 0.00123602487592\n",
      "[ 0.0935] 0.00125056756552\n",
      "[ 0.0903125] 0.00123930546792\n",
      "[ 0.0924375] 0.00123342953252\n",
      "[ 0.0935] 0.00125056756552\n",
      "[ 0.0935] 0.00125056756552\n",
      "[ 0.09190625] 0.00123500682992\n",
      "[ 0.09296875] 0.00125183461152\n",
      "[ 0.09217187] 0.00123421766372\n",
      "[ 0.09270312] 0.00123306491772\n",
      "[ 0.09296875] 0.00125183461152\n",
      "[ 0.09296875] 0.00125183461152\n",
      "[ 0.09257031] 0.00123344058332\n",
      "[ 0.09257031] 0.00123344058332\n",
      "[ 0.09283594] 0.00125216931212\n",
      "[ 0.09263672] 0.00123325175052\n",
      "Optimization terminated successfully.\n",
      "         Current function value: 0.001233\n",
      "         Iterations: 15\n",
      "         Function evaluations: 31\n"
     ]
    }
   ],
   "source": [
    "p=0.17\n",
    "sol = optimize.fmin(cost,p,full_output=1)"
   ]
  },
  {
   "cell_type": "code",
   "execution_count": 175,
   "metadata": {
    "collapsed": false
   },
   "outputs": [
    {
     "data": {
      "text/plain": [
       "(array([ 0.09270312]), 0.0012330649177169999, 15, 31, 0)"
      ]
     },
     "execution_count": 175,
     "metadata": {},
     "output_type": "execute_result"
    }
   ],
   "source": [
    "sol"
   ]
  },
  {
   "cell_type": "code",
   "execution_count": 181,
   "metadata": {
    "collapsed": false
   },
   "outputs": [
    {
     "data": {
      "text/plain": [
       "<matplotlib.legend.Legend at 0x7f1039ce4d90>"
      ]
     },
     "execution_count": 181,
     "metadata": {},
     "output_type": "execute_result"
    },
    {
     "data": {
      "image/png": "[encoded data removed]",
      "text/plain": [
       "<matplotlib.figure.Figure at 0x7f1039c01250>"
      ]
     },
     "metadata": {},
     "output_type": "display_data"
    }
   ],
   "source": [
    "for i in range(len(rasi)/7):\n",
    "    plt.plot(rasi[i*7:i*7+7], color = 'gray', alpha=0.01)\n",
    "plt.plot(atmsolve.T[2], label='ATMO')\n",
    "plt.plot(psfsolve.T[1],label='PSF')\n",
    "r_path = ssssss(0.1734720605027159,water, ozone, sa, sz, va,vz, sen_rsr)\n",
    "sol_path = ssssss(0.09270312, water, ozone, sa, sz, va,vz, sen_rsr)\n",
    "s_path = [i.outputs.atmospheric_intrinsic_reflectance for i in sol_path]\n",
    "six_path = [i.outputs.atmospheric_intrinsic_reflectance for i in r_path]\n",
    "plt.plot(six_path, label = 'Aeronet')\n",
    "plt.plot(s_path, label = 'Solved')\n",
    "plt.legend(loc='best')"
   ]
  },
  {
   "cell_type": "code",
   "execution_count": 183,
   "metadata": {
    "collapsed": false
   },
   "outputs": [
    {
     "data": {
      "text/plain": [
       "<matplotlib.legend.Legend at 0x7f1038e64910>"
      ]
     },
     "execution_count": 183,
     "metadata": {},
     "output_type": "execute_result"
    },
    {
     "data": {
      "image/png": "[encoded data removed]",
      "text/plain": [
       "<matplotlib.figure.Figure at 0x7f1038a6a110>"
      ]
     },
     "metadata": {},
     "output_type": "display_data"
    }
   ],
   "source": [
    "for i in range(len(ratran)/7):\n",
    "    plt.plot(ratrans[i*7:i*7+7], color = 'gray', alpha=0.01)\n",
    "plt.plot(atmsolve.T[0], label='ATMO')\n",
    "plt.plot(psfsolve.T[0],label='PSF')\n",
    "r_path = ssssss(0.1734720605027159,water, ozone, sa, sz, va,vz, sen_rsr)\n",
    "six_trans = [i.outputs.transmittance_total_scattering.total for i in r_path]\n",
    "sol_path = ssssss(0.09270312, water, ozone, sa, sz, va,vz, sen_rsr)\n",
    "s_trans = [i.outputs.transmittance_total_scattering.total for i in sol_path]\n",
    "plt.plot(six_trans, label = 'Aeronet')\n",
    "plt.plot(s_trans, label = 'Solved')\n",
    "plt.legend(loc='best')"
   ]
  },
  {
   "cell_type": "code",
   "execution_count": 138,
   "metadata": {
    "collapsed": true
   },
   "outputs": [],
   "source": [
    "def second(trans, S, ro):\n",
    "    print trans, S, ro\n",
    "    second = (trans*ro)/(1-S*ro)\n",
    "    return second"
   ]
  },
  {
   "cell_type": "code",
   "execution_count": 196,
   "metadata": {
    "collapsed": true
   },
   "outputs": [],
   "source": [
    "def get_closet(lat, lon, year, p=True):\n",
    "    \n",
    "    m = mgrs.MGRS()\n",
    "    mg_coor = m.toMGRS(lat, lon, MGRSPrecision=4)\n",
    "    \n",
    "    h,v = mtile_cal(lat, lon)\n",
    "    \n",
    "    sfnames = np.sort(file_finder('s_data'))\n",
    "    #print sfnames[0][7:9] ==mg_coor[:2], sfnames[0][10]==mg_coor[2], sfnames[0][12:14]==mg_coor[3:5]\n",
    "    dates = np.array([i.split('/')[-5:-2] for i in sfnames if ((i[-7:]=='B01.jp2')&(i[7:9]==mg_coor[:2])&(i[10]==mg_coor[2])&(i[12:14]==mg_coor[3:5]))&(i[15:19]=='%s'%year)]).astype(int)\n",
    "    sdates = np.array([datetime .datetime(i[0], i[1], i[2]).timetuple().tm_yday for i in dates])\n",
    "    sdates.sort()\n",
    "    mfnames = file_finder('m_data')\n",
    "    mdates = np.array([i.split('.')[1][5:] for i in mfnames if (i[len('m_data')+1:len('m_data')+8]=='MCD43A1')&(i.split('.')[1][1:5]=='%s'%year)&(i.split('.')[2]=='h%02dv%02d'%(h,v))]).astype(int)\n",
    "    mdates.sort()\n",
    "    if p:\n",
    "        print 'sentinel dates: ',sdates, '\\nmodis dates, ', mdates, '\\n'\n",
    "    \n",
    "    try:\n",
    "        dif = abs(sdates.reshape(len(sdates),1)-mdates)\n",
    "        si,mi = np.where(dif<4)\n",
    "        sdi = []\n",
    "        mdi = []\n",
    "        for i,j in enumerate(sdates[si]):\n",
    "            sd = datetime.datetime(year, 1, 1) + datetime.timedelta(j - 1)\n",
    "            y,m,d = sd.year, sd.month, sd.day\n",
    "            sdi.append(directory + 's_data'+'/%s/%s/%s/%s/%s/%s/0/'%(mg_coor[:2], mg_coor[2], mg_coor[3:5], y,m,d))\n",
    "            mdi.append([directory+ii for ii in mfnames if ((ii.split('.')[1])[1:]=='%s%03d'%(year,mdates[mi][i]))&(ii.split('.')[2]=='h%02dv%02d'%(h,v))])\n",
    "        if p:\n",
    "            print 'modis files: ', np.array(mdi),'\\n\\n', 'sentinel files directory: ', np.array(sdi), '\\n'\n",
    "        return np.array(sdi), np.array(mdi)\n",
    "    except:\n",
    "        print 'One/both of two kinds of file dose not exist, see above if print is True!!'\n",
    "        return 0"
   ]
  },
  {
   "cell_type": "code",
   "execution_count": 197,
   "metadata": {
    "collapsed": false,
    "scrolled": true
   },
   "outputs": [
    {
     "name": "stdout",
     "output_type": "stream",
     "text": [
      "/home/ucfafyi/DATA/Sentinel/s_data/50/S/KG/2016/4/13/0/ \n",
      "[ '/home/ucfafyi/DATA/Sentinel/m_data/MCD43A1.A2016105.h27v05.005.2016122100738.hdf'\n",
      " '/home/ucfafyi/DATA/Sentinel/m_data/MCD43A2.A2016105.h27v05.005.2016122100739.hdf'] \n",
      "\n",
      "/home/ucfafyi/DATA/Sentinel/s_data/50/S/KG/2016/5/3/0/ \n",
      "[ '/home/ucfafyi/DATA/Sentinel/m_data/MCD43A1.A2016121.h27v05.005.2016140192730.hdf'\n",
      " '/home/ucfafyi/DATA/Sentinel/m_data/MCD43A2.A2016121.h27v05.005.2016140192731.hdf'] \n",
      "\n",
      "/home/ucfafyi/DATA/Sentinel/s_data/50/S/KG/2016/6/12/0/ \n",
      "[ '/home/ucfafyi/DATA/Sentinel/m_data/MCD43A1.A2016161.h27v05.005.2016183110712.hdf'\n",
      " '/home/ucfafyi/DATA/Sentinel/m_data/MCD43A2.A2016161.h27v05.005.2016183110712.hdf'] \n",
      "\n",
      "/home/ucfafyi/DATA/Sentinel/s_data/50/S/KG/2016/6/22/0/ \n",
      "[ '/home/ucfafyi/DATA/Sentinel/m_data/MCD43A1.A2016177.h27v05.005.2016194191852.hdf'\n",
      " '/home/ucfafyi/DATA/Sentinel/m_data/MCD43A2.A2016177.h27v05.005.2016194191852.hdf'] \n",
      "\n"
     ]
    }
   ],
   "source": [
    "lat, lon, year = 37.181944, 114.36, 2016\n",
    "sfiles, mfiles = get_closet(lat, lon,year,0)\n",
    "\n",
    "keys = 'B02', 'B03','B04','B08','B8A','B11','B12'\n",
    "bands = [2,3,4,8,13,11,12]\n",
    "\n",
    "for i in [8, 11, 15, 17]:b\n",
    "    \n",
    "    print sfiles[i],'\\n', mfiles[i], '\\n'"
   ]
  },
  {
   "cell_type": "code",
   "execution_count": 8,
   "metadata": {
    "collapsed": true
   },
   "outputs": [],
   "source": [
    "psf = [[  24.78162257,  319.75603031,    7.60898016,  -20.44817067, 61.27414215],\n",
    "[  24.98695115,  312.02695267,    7.9308606 ,  -21.20931201, 59.01870048],\n",
    "[  23.97447645,  306.15258185,    7.91598097,  -21.56165644, 59.7537709 ],\n",
    "[  24.41782056,  306.04039495,    7.97986228,  -22.27513358, 59.27710844],\n",
    "[  24.41736189,  308.74673509,    7.87068097,  -21.64732953, 61.26454941],\n",
    "[  23.97447188,  306.15258185,    7.91598248,  -21.56165644, 59.7537709 ],\n",
    "[  24.02092481,  304.79130493,    8.01491173,  -20.96258739, 59.98666719]]"
   ]
  },
  {
   "cell_type": "code",
   "execution_count": 9,
   "metadata": {
    "collapsed": false,
    "scrolled": true
   },
   "outputs": [],
   "source": [
    "lat, lon, year = 37.181944, 114.36, 2016"
   ]
  },
  {
   "cell_type": "code",
   "execution_count": 10,
   "metadata": {
    "collapsed": true
   },
   "outputs": [],
   "source": [
    "fpath = '/home/ucfafyi/DATA/Sentinel/s_data/50/S/KG/2016/5/3/0/'\n",
    "mfile = [ '/home/ucfafyi/DATA/Sentinel/m_data/MCD43A1.A2016121.h27v05.005.2016140192730.hdf',\n",
    " '/home/ucfafyi/DATA/Sentinel/m_data/MCD43A2.A2016121.h27v05.005.2016140192731.hdf']"
   ]
  },
  {
   "cell_type": "code",
   "execution_count": 11,
   "metadata": {
    "collapsed": false
   },
   "outputs": [
    {
     "name": "stdout",
     "output_type": "stream",
     "text": [
      "\n",
      "Here is the cloud probability calculation!\n",
      "\n",
      "/home/ucfafyi/DATA/Sentinel/s_data/50/S/KG/2016/5/3/0/ (2, 3, 4, 8, 11, 12, 13)\n",
      "7%\n",
      "14%\n",
      "21%\n",
      "29%\n",
      "36%\n",
      "43%\n",
      "50%\n",
      "57%\n",
      "64%\n",
      "71%\n",
      "79%\n",
      "86%\n",
      "93%\n",
      "99%\n",
      "Done!!!\n",
      "DOY:  121 \n",
      "Location:  50SKG\n",
      "Cloud proportion:  0.0217098649308\n"
     ]
    }
   ],
   "source": [
    "to_regs = applied(lat, lon, fpath, mfile, psf)"
   ]
  },
  {
   "cell_type": "code",
   "execution_count": 28,
   "metadata": {
    "collapsed": false,
    "scrolled": true
   },
   "outputs": [
    {
     "data": {
      "text/plain": [
       "[[2,\n",
       "  array([  77,   78,   79, ..., 9922, 9923, 9925]),\n",
       "  array([8207, 8253, 8300, ..., 4537, 4584, 4630]),\n",
       "  array([ 0.12587852,  0.11918578,  0.11095867, ...,  0.10127359,\n",
       "          0.09500532,  0.09336921]),\n",
       "  masked_array(data = [0.046 0.036000000000000004 0.028 ..., 0.04124930406396476\n",
       "   0.03158813405162911 0.027609731044699107],\n",
       "               mask = [False False False ..., False False False],\n",
       "         fill_value = 1e+20)],\n",
       " [3,\n",
       "  array([  76,   77,   78, ..., 9922, 9924, 9925]),\n",
       "  array([8205, 8251, 8298, ..., 4582, 4628, 4675]),\n",
       "  array([ 0.11749805,  0.11069003,  0.10239213, ...,  0.09096375,\n",
       "          0.08855249,  0.09113445]),\n",
       "  masked_array(data = [0.07100000000000001 0.07100000000000001 0.054 ..., 0.06636647265447104\n",
       "   0.062046686144838215 0.06338806964754103],\n",
       "               mask = [False False False ..., False False False],\n",
       "         fill_value = 1e+20)],\n",
       " [4,\n",
       "  array([  75,   76,   77, ..., 9921, 9923, 9924]),\n",
       "  array([8206, 8252, 8299, ..., 4583, 4629, 4676]),\n",
       "  array([ 0.11905728,  0.10826913,  0.09515807, ...,  0.08154967,\n",
       "          0.07459681,  0.07745206]),\n",
       "  masked_array(data = [0.083 0.082 0.055 ..., 0.06476184863984887 0.05413307411711822\n",
       "   0.056122275620583216],\n",
       "               mask = [False False False ..., False False False],\n",
       "         fill_value = 1e+20)],\n",
       " [8,\n",
       "  array([  76,   77,   79, ..., 9921, 9923, 9924]),\n",
       "  array([8251, 8298, 8344, ..., 4582, 4628, 4675]),\n",
       "  array([ 0.2827468 ,  0.30186496,  0.31296517, ...,  0.25511665,\n",
       "          0.24689399,  0.23966185]),\n",
       "  masked_array(data = [0.267 0.298 0.311 ..., 0.2742710716816377 0.2669836806616099\n",
       "   0.24346289110422925],\n",
       "               mask = [False False False ..., False False False],\n",
       "         fill_value = 1e+20)],\n",
       " [13,\n",
       "  array([  75,   76,   77, ..., 9921, 9923, 9924]),\n",
       "  array([8207, 8253, 8300, ..., 4584, 4630, 4677]),\n",
       "  array([ 0.29012948,  0.30368748,  0.32265559, ...,  0.27431028,\n",
       "          0.26498721,  0.25742154]),\n",
       "  masked_array(data = [0.245 0.267 0.298 ..., 0.2742710716816377 0.2669836806616099\n",
       "   0.24346289110422925],\n",
       "               mask = [False False False ..., False False False],\n",
       "         fill_value = 1e+20)],\n",
       " [11,\n",
       "  array([  75,   76,   77, ..., 9921, 9923, 9924]),\n",
       "  array([8206, 8252, 8299, ..., 4583, 4629, 4676]),\n",
       "  array([ 0.21568406,  0.19492582,  0.17280759, ...,  0.20098584,\n",
       "          0.19035407,  0.19354149]),\n",
       "  masked_array(data = [0.20500000000000002 0.18 0.156 ..., 0.21099201743444426\n",
       "   0.18942803389092358 0.19872622340748644],\n",
       "               mask = [False False False ..., False False False],\n",
       "         fill_value = 1e+20)],\n",
       " [12,\n",
       "  array([  77,   78,   80, ..., 9921, 9922, 9924]),\n",
       "  array([8252, 8299, 8345, ..., 4536, 4583, 4629]),\n",
       "  array([ 0.14615788,  0.12133737,  0.10922107, ...,  0.15721806,\n",
       "          0.1302115 ,  0.11974138]),\n",
       "  masked_array(data = [0.121 0.097 0.097 ..., 0.1293118957354149 0.09307339016798516\n",
       "   0.09839317667761796],\n",
       "               mask = [False False False ..., False False False],\n",
       "         fill_value = 1e+20)]]"
      ]
     },
     "execution_count": 28,
     "metadata": {},
     "output_type": "execute_result"
    }
   ],
   "source": [
    "to_regs"
   ]
  },
  {
   "cell_type": "code",
   "execution_count": 20,
   "metadata": {
    "collapsed": false
   },
   "outputs": [],
   "source": [
    "indx, indy = to_regs[0][1], to_regs[0][2]"
   ]
  },
  {
   "cell_type": "code",
   "execution_count": 27,
   "metadata": {
    "collapsed": false
   },
   "outputs": [],
   "source": [
    "m, s = to_regs[0][3], to_regs[0][4]"
   ]
  },
  {
   "cell_type": "code",
   "execution_count": 44,
   "metadata": {
    "collapsed": true
   },
   "outputs": [],
   "source": [
    "def atm(p,sref = None, sen_rsr = None, band = None, angles = None):\n",
    "    aot550, water, ozone = p\n",
    "    print p, print angles\n",
    "    sa,sz, va, vz = angles\n",
    "    path = '/home/ucfafyi/DATA/Downloads/6SV2.1/sixsV2.1'\n",
    "    s = SixS(path)\n",
    "    ss = []\n",
    "    \n",
    "    s = SixS(path)\n",
    "    s.altitudes.set_target_sea_level()\n",
    "    s.altitudes.set_sensor_satellite_level()\n",
    "\n",
    "    s.ground_reflectance = GroundReflectance.HomogeneousLambertian(GroundReflectance.GreenVegetation)\n",
    "    s.geometry = Geometry.User()\n",
    "    s.geometry.solar_a = sa\n",
    "    s.geometry.solar_z = sz\n",
    "    s.geometry.view_a = va[band]\n",
    "    s.geometry.view_z = vz[band]\n",
    "    srsp = sen_rsr[band]\n",
    "    wv, we = swl[srsp!=0]/1000.,srsp[srsp!=0]\n",
    "    mi,ma = round(wv.min(),3),round(wv.max(),3)\n",
    "    f = interpolate.interp1d(wv,we)\n",
    "    xnew = np.arange(mi,ma,0.0025)\n",
    "    ynew = f(xnew)\n",
    "    s.wavelength = Wavelength(xnew[0],xnew[-1],ynew)\n",
    "    s.aero_profile = AeroProfile.PredefinedType(AeroProfile.Continental)\n",
    "    s.aot550 = aot550\n",
    "    s.atmos_profile = AtmosProfile.UserWaterAndOzone(water, ozone)\n",
    "    s.atmos_corr = AtmosCorr.AtmosCorrLambertianFromReflectance(sref)\n",
    "    s.run()\n",
    "    return s.outputs.atmos_corrected_reflectance_lambertian\n"
   ]
  },
  {
   "cell_type": "code",
   "execution_count": 43,
   "metadata": {
    "collapsed": false
   },
   "outputs": [
    {
     "data": {
      "text/plain": [
       "(array([ 143.37178471]),\n",
       " array([ 25.65012217]),\n",
       " array([ 111.39404288,  110.97246877,  113.21727347,  116.63309692,\n",
       "         114.32734662,  112.9980871 ,  112.39241577,  111.95750344,\n",
       "         111.56658455,  115.35167857,  111.26675666,  111.85397953,\n",
       "         110.99311741]))"
      ]
     },
     "execution_count": 43,
     "metadata": {},
     "output_type": "execute_result"
    }
   ],
   "source": [
    "sa, sz, va"
   ]
  },
  {
   "cell_type": "code",
   "execution_count": 48,
   "metadata": {
    "collapsed": false
   },
   "outputs": [
    {
     "data": {
      "text/plain": [
       "array([8207, 8253, 8300, ..., 4537, 4584, 4630])"
      ]
     },
     "execution_count": 48,
     "metadata": {},
     "output_type": "execute_result"
    }
   ],
   "source": [
    "to_regs[0][2]"
   ]
  },
  {
   "cell_type": "code",
   "execution_count": 168,
   "metadata": {
    "collapsed": true
   },
   "outputs": [],
   "source": [
    "def cost(p, args = None):\n",
    "    sref, mref, sen_rsr , band , angles = args\n",
    "    ss = atm(p, sref = sref, sen_rsr = sen_rsr, band = band, angles = angles)\n",
    "    cost = abs(mref-ss)\n",
    "    return cost"
   ]
  },
  {
   "cell_type": "code",
   "execution_count": 173,
   "metadata": {
    "collapsed": false
   },
   "outputs": [],
   "source": [
    "p = np.array([0.09,0.510586465435, 0.371318171103])\n",
    "bounds = [0,1], [0,1],[0,1]\n",
    "solved = []\n",
    "def opt(i):\n",
    "    args = to_regs[0][3][i], to_regs[0][4][i], sen_rsr,0, [sa,sz, va, vz]\n",
    "\n",
    "    psolve = optimize.fmin_powell(cost,p,full_output=1, args=(args,))\n",
    "    #return [(indx[i], indy[i]),psolve]"
   ]
  },
  {
   "cell_type": "code",
   "execution_count": null,
   "metadata": {
    "collapsed": false,
    "scrolled": true
   },
   "outputs": [
    {
     "name": "stdout",
     "output_type": "stream",
     "text": [
      "0.07575\n",
      "0.07575\n",
      "-0.00343\n",
      "0.0\n",
      "0.07575\n",
      "0.0\n",
      "0.0557\n",
      "0.03774\n",
      "0.04407\n",
      "0.04677\n",
      "0.04835\n",
      "0.04604\n",
      "0.04573\n",
      "0.04604\n",
      "0.04604\n",
      "0.04604\n",
      "0.04604\n",
      "0.04604\n",
      "0.04604\n",
      "0.04604\n",
      "0.04604\n",
      "0.04604\n",
      "0.04604\n",
      "0.04604\n",
      "0.04604\n",
      "0.04604\n",
      "0.05755\n",
      "0.02836\n",
      "0.04604\n",
      "0.03915\n",
      "0.05039\n",
      "0.04533\n",
      "0.04686\n",
      "0.04605\n",
      "0.04574\n",
      "0.04593\n",
      "0.04599\n",
      "0.04601\n",
      "0.046\n",
      "0.046\n",
      "0.046\n",
      "0.04601\n",
      "0.046\n",
      "0.046\n",
      "0.04601\n",
      "0.046\n",
      "-0.00686\n",
      "0.046\n",
      "-0.09039\n",
      "0.0\n",
      "0.046\n",
      "0.07631\n",
      "0.00878\n",
      "0.05625\n"
     ]
    }
   ],
   "source": [
    "opt(0)"
   ]
  },
  {
   "cell_type": "code",
   "execution_count": 121,
   "metadata": {
    "collapsed": false
   },
   "outputs": [
    {
     "ename": "TypeError",
     "evalue": "'tuple' object is not callable",
     "output_type": "error",
     "traceback": [
      "\u001b[0;31m---------------------------------------------------------------------------\u001b[0m",
      "\u001b[0;31mTypeError\u001b[0m                                 Traceback (most recent call last)",
      "\u001b[0;32m<ipython-input-121-5676f418c7fe>\u001b[0m in \u001b[0;36m<module>\u001b[0;34m()\u001b[0m\n\u001b[1;32m      1\u001b[0m \u001b[0mpool\u001b[0m \u001b[0;34m=\u001b[0m \u001b[0mmultiprocessing\u001b[0m\u001b[0;34m.\u001b[0m\u001b[0mPool\u001b[0m\u001b[0;34m(\u001b[0m\u001b[0mprocesses\u001b[0m \u001b[0;34m=\u001b[0m \u001b[0;36m16\u001b[0m\u001b[0;34m)\u001b[0m\u001b[0;34m\u001b[0m\u001b[0m\n\u001b[0;32m----> 2\u001b[0;31m \u001b[0mretval\u001b[0m \u001b[0;34m=\u001b[0m \u001b[0mpool\u001b[0m\u001b[0;34m.\u001b[0m\u001b[0mmap\u001b[0m\u001b[0;34m(\u001b[0m\u001b[0mopt\u001b[0m\u001b[0;34m,\u001b[0m \u001b[0mrange\u001b[0m\u001b[0;34m(\u001b[0m\u001b[0mlen\u001b[0m\u001b[0;34m(\u001b[0m \u001b[0mto_regs\u001b[0m\u001b[0;34m[\u001b[0m\u001b[0;36m0\u001b[0m\u001b[0;34m]\u001b[0m\u001b[0;34m[\u001b[0m\u001b[0;36m2\u001b[0m\u001b[0;34m]\u001b[0m\u001b[0;34m)\u001b[0m\u001b[0;34m)\u001b[0m\u001b[0;34m)\u001b[0m\u001b[0;34m\u001b[0m\u001b[0m\n\u001b[0m\u001b[1;32m      3\u001b[0m \u001b[0mpool\u001b[0m\u001b[0;34m.\u001b[0m\u001b[0mclose\u001b[0m\u001b[0;34m(\u001b[0m\u001b[0;34m)\u001b[0m\u001b[0;34m\u001b[0m\u001b[0m\n\u001b[1;32m      4\u001b[0m \u001b[0mpool\u001b[0m\u001b[0;34m.\u001b[0m\u001b[0mjoin\u001b[0m\u001b[0;34m(\u001b[0m\u001b[0;34m)\u001b[0m\u001b[0;34m\u001b[0m\u001b[0m\n",
      "\u001b[0;32m/home/ucfafyi/.conda/envs/gdal_env/lib/python2.7/multiprocessing/pool.pyc\u001b[0m in \u001b[0;36mmap\u001b[0;34m(self, func, iterable, chunksize)\u001b[0m\n\u001b[1;32m    249\u001b[0m         '''\n\u001b[1;32m    250\u001b[0m         \u001b[0;32massert\u001b[0m \u001b[0mself\u001b[0m\u001b[0;34m.\u001b[0m\u001b[0m_state\u001b[0m \u001b[0;34m==\u001b[0m \u001b[0mRUN\u001b[0m\u001b[0;34m\u001b[0m\u001b[0m\n\u001b[0;32m--> 251\u001b[0;31m         \u001b[0;32mreturn\u001b[0m \u001b[0mself\u001b[0m\u001b[0;34m.\u001b[0m\u001b[0mmap_async\u001b[0m\u001b[0;34m(\u001b[0m\u001b[0mfunc\u001b[0m\u001b[0;34m,\u001b[0m \u001b[0miterable\u001b[0m\u001b[0;34m,\u001b[0m \u001b[0mchunksize\u001b[0m\u001b[0;34m)\u001b[0m\u001b[0;34m.\u001b[0m\u001b[0mget\u001b[0m\u001b[0;34m(\u001b[0m\u001b[0;34m)\u001b[0m\u001b[0;34m\u001b[0m\u001b[0m\n\u001b[0m\u001b[1;32m    252\u001b[0m \u001b[0;34m\u001b[0m\u001b[0m\n\u001b[1;32m    253\u001b[0m     \u001b[0;32mdef\u001b[0m \u001b[0mimap\u001b[0m\u001b[0;34m(\u001b[0m\u001b[0mself\u001b[0m\u001b[0;34m,\u001b[0m \u001b[0mfunc\u001b[0m\u001b[0;34m,\u001b[0m \u001b[0miterable\u001b[0m\u001b[0;34m,\u001b[0m \u001b[0mchunksize\u001b[0m\u001b[0;34m=\u001b[0m\u001b[0;36m1\u001b[0m\u001b[0;34m)\u001b[0m\u001b[0;34m:\u001b[0m\u001b[0;34m\u001b[0m\u001b[0m\n",
      "\u001b[0;32m/home/ucfafyi/.conda/envs/gdal_env/lib/python2.7/multiprocessing/pool.pyc\u001b[0m in \u001b[0;36mget\u001b[0;34m(self, timeout)\u001b[0m\n\u001b[1;32m    565\u001b[0m             \u001b[0;32mreturn\u001b[0m \u001b[0mself\u001b[0m\u001b[0;34m.\u001b[0m\u001b[0m_value\u001b[0m\u001b[0;34m\u001b[0m\u001b[0m\n\u001b[1;32m    566\u001b[0m         \u001b[0;32melse\u001b[0m\u001b[0;34m:\u001b[0m\u001b[0;34m\u001b[0m\u001b[0m\n\u001b[0;32m--> 567\u001b[0;31m             \u001b[0;32mraise\u001b[0m \u001b[0mself\u001b[0m\u001b[0;34m.\u001b[0m\u001b[0m_value\u001b[0m\u001b[0;34m\u001b[0m\u001b[0m\n\u001b[0m\u001b[1;32m    568\u001b[0m \u001b[0;34m\u001b[0m\u001b[0m\n\u001b[1;32m    569\u001b[0m     \u001b[0;32mdef\u001b[0m \u001b[0m_set\u001b[0m\u001b[0;34m(\u001b[0m\u001b[0mself\u001b[0m\u001b[0;34m,\u001b[0m \u001b[0mi\u001b[0m\u001b[0;34m,\u001b[0m \u001b[0mobj\u001b[0m\u001b[0;34m)\u001b[0m\u001b[0;34m:\u001b[0m\u001b[0;34m\u001b[0m\u001b[0m\n",
      "\u001b[0;31mTypeError\u001b[0m: 'tuple' object is not callable"
     ]
    }
   ],
   "source": [
    "pool = multiprocessing.Pool(processes = 16)\n",
    "retval = pool.map(opt, range(len( to_regs[0][2])))\n",
    "pool.close()\n",
    "pool.join()"
   ]
  },
  {
   "cell_type": "code",
   "execution_count": null,
   "metadata": {
    "collapsed": true
   },
   "outputs": [],
   "source": []
  }
 ],
 "metadata": {
  "kernelspec": {
   "display_name": "Python 2",
   "language": "python",
   "name": "python2"
  },
  "language_info": {
   "codemirror_mode": {
    "name": "ipython",
    "version": 2
   },
   "file_extension": ".py",
   "mimetype": "text/x-python",
   "name": "python",
   "nbconvert_exporter": "python",
   "pygments_lexer": "ipython2",
   "version": "2.7.12"
  }
 },
 "nbformat": 4,
 "nbformat_minor": 0
}
