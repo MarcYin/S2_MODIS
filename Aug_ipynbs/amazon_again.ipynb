{
 "cells": [
  {
   "cell_type": "code",
   "execution_count": 3,
   "metadata": {
    "collapsed": false
   },
   "outputs": [
    {
     "name": "stdout",
     "output_type": "stream",
     "text": [
      "/data/store01/data_dirs/students/ucfafyi/Sentinel\n"
     ]
    }
   ],
   "source": [
    "cd /data/store01/data_dirs/students/ucfafyi/Sentinel"
   ]
  },
  {
   "cell_type": "code",
   "execution_count": 4,
   "metadata": {
    "collapsed": true
   },
   "outputs": [],
   "source": [
    "#Amazon-ATTO-Tower,-2.143889,-59.000\n",
    "import sys                        \n",
    "sys.path.insert(0, 'python')\n",
    "from optimizing import *\n",
    "from Dload_Finder import *\n",
    "import gdal\n",
    "import pylab as plt\n",
    "%matplotlib inline"
   ]
  },
  {
   "cell_type": "code",
   "execution_count": 5,
   "metadata": {
    "collapsed": true
   },
   "outputs": [],
   "source": [
    "lat, lon, year = -2.143889,-59.0, 2016\n",
    "sfiles, mfiles = get_closet(lat, lon,year,0)"
   ]
  },
  {
   "cell_type": "code",
   "execution_count": 51,
   "metadata": {
    "collapsed": false
   },
   "outputs": [
    {
     "name": "stdout",
     "output_type": "stream",
     "text": [
      "/home/ucfafyi/DATA/Sentinel/s_data/21/M/TT/2016/7/17/0/ [ '/home/ucfafyi/DATA/Sentinel/m_data/MCD43A1.A2016201.h12v09.005.2016218075609.hdf'\n",
      " '/home/ucfafyi/DATA/Sentinel/m_data/MCD43A2.A2016201.h12v09.005.2016218075609.hdf']\n"
     ]
    }
   ],
   "source": [
    "spath = sfiles[-1]; mfile = mfiles[-1]\n",
    "print spath, mfile"
   ]
  },
  {
   "cell_type": "code",
   "execution_count": 63,
   "metadata": {
    "collapsed": false
   },
   "outputs": [
    {
     "name": "stderr",
     "output_type": "stream",
     "text": [
      "<ipython-input-63-2850f7292fd9>:76: SyntaxWarning: name 'vals' is assigned to before global declaration\n",
      "  global vals; global mask; global brdf; global inliers\n",
      "<ipython-input-63-2850f7292fd9>:76: SyntaxWarning: name 'mask' is assigned to before global declaration\n",
      "  global vals; global mask; global brdf; global inliers\n",
      "<ipython-input-63-2850f7292fd9>:76: SyntaxWarning: name 'brdf' is assigned to before global declaration\n",
      "  global vals; global mask; global brdf; global inliers\n",
      "<ipython-input-63-2850f7292fd9>:76: SyntaxWarning: name 'inliers' is assigned to before global declaration\n",
      "  global vals; global mask; global brdf; global inliers\n",
      "<ipython-input-63-2850f7292fd9>:82: SyntaxWarning: name 'm' is assigned to before global declaration\n",
      "  global m; global s\n",
      "<ipython-input-63-2850f7292fd9>:82: SyntaxWarning: name 's' is assigned to before global declaration\n",
      "  global m; global s\n"
     ]
    }
   ],
   "source": [
    "import sys\n",
    "sys.path.insert(0,'python')\n",
    "import numpy.ma as ma\n",
    "from collections import Counter\n",
    "import cPickle as pkl\n",
    "from scipy import optimize\n",
    "from functools import partial\n",
    "import scipy.ndimage as ndimage\n",
    "import numpy as np\n",
    "import scipy\n",
    "from scipy import signal\n",
    "import scipy.stats\n",
    "from downloader_and_file_finder import *\n",
    "from cloud import *\n",
    "from fastRWpkl import *\n",
    "import numpy \n",
    "from numpy import clip, where\n",
    "from scipy.ndimage.morphology import *\n",
    "import xml.etree.cElementTree as ET\n",
    "import multiprocessing\n",
    "from get_r import *\n",
    "from sklearn import linear_model\n",
    "\n",
    "keys = 'B02', 'B03','B04','B08','B8A','B11','B12'\n",
    "bands = [2,3,4,8,13,11,12]\n",
    "\n",
    "def gaussian(xwin, ywin, xstd, ystd, angle, norm = True):\n",
    "    win = max(xwin, ywin)\n",
    "    winx = win*2**0.5\n",
    "    winy = win*2**0.5\n",
    "    \n",
    "    xstd = xstd*2**0.5\n",
    "    ystd = ystd*2**0.5\n",
    "        \n",
    "    xgaus = signal.gaussian(winx, xstd)\n",
    "    ygaus = signal.gaussian(winy, ystd)\n",
    "    gaus  = np.outer(xgaus, ygaus)\n",
    "    r_gaus = scipy.ndimage.interpolation.rotate(gaus, angle, reshape=True)\n",
    "    center = np.array(r_gaus.shape)/2\n",
    "    cgaus = r_gaus[center[0]-xwin/2: center[0]+xwin/2, center[1]-ywin/2:center[1]+ywin/2]\n",
    "    if norm:\n",
    "        return cgaus/cgaus.sum()\n",
    "    else:\n",
    "        return cgaus\n",
    "\n",
    "def cost(p, sent, sinds, mod, minds, band):    \n",
    "    xstd,ystd,angle, xs, ys = p\n",
    "    xwin,ywin = 150, 150\n",
    "    \n",
    "    to_regression =[]          \n",
    "    cx = sinds[0]\n",
    "    cy = sinds[1]\n",
    "    mx = minds[0]\n",
    "    my = minds[1]\n",
    "    \n",
    "    gaus = gaussian(xwin,ywin,xstd,ystd,angle,False)                              \n",
    "    ker = gaus/(gaus.sum())\n",
    "\n",
    "    s = signal.fftconvolve(sent, ker, mode='same')\n",
    "    \n",
    "    vld_x = ((cx+xs)>xwin/2)&((cx+xs)<10000-xwin/2)\n",
    "    vld_y = ((cy+ys)>ywin/2)&((cy+ys)<10000-ywin/2)\n",
    "    vld = vld_x&vld_y\n",
    "    \n",
    "    \n",
    "    indx,indy = np.round((cx+xs)[vld]).astype(int), np.round((cy+ys)[vld]).astype(int)\n",
    "    vals = s[indx,indy]\n",
    "    brdf = mod[mx[vld], my[vld]]\n",
    "    mask = (brdf>0)&(brdf<1)&(vals>0)&(vals<1)\n",
    "    if sum(mask) ==0:\n",
    "        print 'Too much cloud again to affect the convolve results'\n",
    "        return 10000\n",
    "    else:\n",
    "        dif = vals[mask] - brdf[mask]\n",
    "        inliers = (dif>(np.nanmean(dif)-np.nanstd(dif)))&(dif<(np.nanmean(dif)+np.nanstd(dif)))\n",
    "        global vals; global mask; global brdf; global inliers\n",
    "        #x,y = ransaclin(vals[mask][inliers], brdf[mask][inliers])\n",
    "\n",
    "        m = vals[mask][inliers]#y.ravel()\n",
    "        s = brdf[mask][inliers]#x.ravel()\n",
    "\n",
    "        global m; global s\n",
    "        print m, s\n",
    "        r = scipy.stats.linregress(m, s)    \n",
    "        costs = abs(1-r.rvalue)\n",
    "\n",
    "        print 'band: ',band,'\\n','costs:', costs, 'rvalue: ', r.rvalue, 'slop: ', r.slope,'inter',r.intercept, '\\n', 'parameters: ', p,'\\n'\n",
    "        if (r.intercept<0) or (r.slope>1):\n",
    "            costs = costs*1000000000000000.\n",
    "        return costs\n",
    "\n",
    "def ransaclin(x,y):\n",
    "    y, x = y.reshape((len(y),1)), x.reshape((len(x),1))\n",
    "    model = linear_model.LinearRegression()\n",
    "    model.fit(x, y)\n",
    "\n",
    "    model_ransac = linear_model.RANSACRegressor(linear_model.LinearRegression(),max_trials=10000000)\n",
    "    model_ransac.fit(x, y)\n",
    "    inlier_mask = model_ransac.inlier_mask_\n",
    "    return x[inlier_mask], y[inlier_mask]\n",
    "\n",
    "def ScaleExtent(data, shape): # used for unifine different array,\n",
    "\n",
    "    re = int(shape[0]/(data.shape[0]))\n",
    "\n",
    "    a = np.repeat(np.repeat(data, re, axis = 1), re, axis =0)\n",
    "    \n",
    "    if (re*(data.shape[0])-shape[0]) != 0:\n",
    "        extended = np.zeros(shape)\n",
    "        extended[:re*(data.shape[0]),:re*(data.shape[0])] = a\n",
    "        extended[re*(data.shape[0]):,re*(data.shape[0]):] = a[re*(data.shape[0])-shape[0]:, re*(data.shape[0])-shape[0]]\n",
    "        return extended\n",
    "    else:\n",
    "        return a\n",
    "\n",
    "def get_psf(sent, sinds, mod, minds, band):\n",
    "    p = np.array([23.9744718775, 306.15258185, 7.91598096945, -21.5616564408, 59.7537708998])\n",
    "    psolve = optimize.fmin(cost,p,full_output=1, args=(sent,sinds, mod, minds, band))\n",
    "    print 'solved b%02d: '%band, psolve\n",
    "    return [band,psolve]\n",
    "\n",
    "def op(ind,  args=None ):\n",
    "    fpath, sentm, brdfs, sinds, minds = args\n",
    "    Sent = gdal_read(bands[ind], fpath)[keys[ind]]\n",
    "    sent = ScaleExtent(Sent, (10980,10980)) \n",
    "    sent[sentm]= np.nanmean(sent[~sentm])\n",
    "    sent[np.isnan(sent)] = np.nanmean(sent[~sentm])\n",
    "    if ind<4:\n",
    "        brdfs[ind][brdfs[ind].mask] = np.nan                \n",
    "        psolve = get_psf(sent,sinds, brdfs[ind]*0.001, minds, bands[ind])\n",
    "\n",
    "    else:\n",
    "        brdfs[ind-1][brdfs[ind-1].mask] = np.nan\n",
    "        psolve = get_psf(sent,sinds, brdfs[ind-1]*0.001, minds, bands[ind])\n",
    "    return psolve"
   ]
  },
  {
   "cell_type": "code",
   "execution_count": 53,
   "metadata": {
    "collapsed": true
   },
   "outputs": [],
   "source": [
    "fpath = spath"
   ]
  },
  {
   "cell_type": "code",
   "execution_count": 54,
   "metadata": {
    "collapsed": false,
    "scrolled": true
   },
   "outputs": [
    {
     "name": "stdout",
     "output_type": "stream",
     "text": [
      "\n",
      "Here is the cloud probability calculation!\n",
      "\n",
      "/home/ucfafyi/DATA/Sentinel/s_data/21/M/TT/2016/7/17/0/ (2, 3, 4, 8, 11, 12, 13)\n",
      "7%\n",
      "14%\n",
      "21%\n",
      "29%\n",
      "36%\n",
      "43%\n",
      "50%\n",
      "57%\n",
      "64%\n",
      "71%\n",
      "79%\n",
      "86%\n",
      "93%\n",
      "99%\n",
      "Done!!!\n",
      "DOY:  201 \n",
      "Location:  21MTT Cloud proportion:  0.0124569510386\n"
     ]
    }
   ],
   "source": [
    "sentm = get_cloud_mask(fpath)\n",
    "doy = int(mfile[0].split('.')[1][-3:])\n",
    "pos = fpath.split('/')[6]+fpath.split('/')[7]+fpath.split('/')[8]\n",
    "if sentm.sum()/(10980.*10980.) <0.2:\n",
    "    print 'DOY: ', doy,'\\n', 'Location: ', pos, \n",
    "    print 'Cloud proportion: ', sentm.sum()/(10980.*10980.)\n",
    "    minds, sinds = get_coords(lat,lon) \n",
    "\n",
    "    modis_filenames = gdal.Open(mfile[0]).GetSubDatasets()\n",
    "    modisQA = gdal.Open(mfile[1]).GetSubDatasets()\n",
    "\n",
    "    brdfs = get_rs(modisQA, modis_filenames, fpath)\n",
    "    args = fpath, sentm, brdfs, sinds, minds"
   ]
  },
  {
   "cell_type": "code",
   "execution_count": null,
   "metadata": {
    "collapsed": false,
    "scrolled": true
   },
   "outputs": [
    {
     "name": "stdout",
     "output_type": "stream",
     "text": [
      "[ 0.09182205  0.09193546  0.09009829 ...,  0.08400081  0.08153056\n",
      "  0.08164427] [0.020659219123529787 0.02353047433484761 0.01946624166469855 ...,\n",
      " 0.02044544454982188 0.01965921912352979 0.020659219123529787]\n",
      "band:  2 \n",
      "costs: 0.488093163031 rvalue:  0.511906836969 slop:  0.657448235471 inter -0.0366061173517 \n",
      "parameters:  [  23.97447188  306.15258185    7.91598097  -21.56165644   59.7537709 ] \n",
      "\n",
      "[ 0.09181215  0.09193508  0.09009181 ...,  0.08392171  0.08151777\n",
      "  0.08162244] [0.020659219123529787 0.02353047433484761 0.01946624166469855 ...,\n",
      " 0.02044544454982188 0.01965921912352979 0.020659219123529787]\n",
      "band:  2 \n",
      "costs: 0.484434708567 rvalue:  0.515565291433 slop:  0.662125404535 inter -0.0369975295219 \n",
      "parameters:  [  25.17319547  306.15258185    7.91598097  -21.56165644   59.7537709 ] \n",
      "\n",
      "[ 0.09182208  0.09193536  0.0900983  ...,  0.08400024  0.08153029\n",
      "  0.08164476] [0.020659219123529787 0.02353047433484761 0.01946624166469855 ...,\n",
      " 0.02044544454982188 0.01965921912352979 0.020659219123529787]\n",
      "band:  2 \n",
      "costs: 0.488123030489 rvalue:  0.511876969511 slop:  0.657347455381 inter -0.036597966086 \n",
      "parameters:  [  23.97447188  321.46021094    7.91598097  -21.56165644   59.7537709 ] \n",
      "\n",
      "[ 0.0918154   0.09193198  0.09010013 ...,  0.08398865  0.08153165\n",
      "  0.08164901] [0.020659219123529787 0.02353047433484761 0.01946624166469855 ...,\n",
      " 0.02044544454982188 0.01965921912352979 0.020659219123529787]\n",
      "band:  2 \n",
      "costs: 0.488157185774 rvalue:  0.511842814226 slop:  0.657285335621 inter -0.0365927512221 \n",
      "parameters:  [  23.97447188  306.15258185    8.31178002  -21.56165644   59.7537709 ] \n",
      "\n",
      "[ 0.09181773  0.09191971  0.0900816  ...,  0.08401577  0.08152016\n",
      "  0.08163414] [0.020659219123529787 0.02353047433484761 0.01946624166469855 ...,\n",
      " 0.02044544454982188 0.01965921912352979 0.020659219123529787]\n",
      "band:  2 \n",
      "costs: 0.487702925762 rvalue:  0.512297074238 slop:  0.658830200223 inter -0.0367206603075 \n",
      "parameters:  [  23.97447188  306.15258185    7.91598097  -22.63973926   59.7537709 ] \n",
      "\n",
      "[ 0.09184632  0.09197164  0.09003176 ...,  0.08370103  0.08403493\n",
      "  0.08150066] [0.020659219123529787 0.02353047433484761 0.01946624166469855 ...,\n",
      " 0.01627616591833792 0.02044544454982188 0.01965921912352979]\n",
      "band:  2 \n",
      "costs: 0.48724189656 rvalue:  0.51275810344 slop:  0.657170159987 inter -0.0365831629814 \n",
      "parameters:  [  23.97447188  306.15258185    7.91598097  -21.56165644   62.74145944] \n",
      "\n",
      "[ 0.0918304   0.09194404  0.09006608 ...,  0.08399962  0.08150348\n",
      "  0.08162622] [0.020659219123529787 0.02353047433484761 0.01946624166469855 ...,\n",
      " 0.02044544454982188 0.01965921912352979 0.020659219123529787]\n",
      "band:  2 \n",
      "costs: 0.486559882149 rvalue:  0.513440117851 slop:  0.6585798235 inter -0.0367006470275 \n",
      "parameters:  [  24.45396132  312.27563349    7.52018192  -21.99288957   60.94884632] \n",
      "\n",
      "[ 0.09182565  0.09194957  0.09007241 ...,  0.0839726   0.08150856\n",
      "  0.0816303 ] [0.020659219123529787 0.02353047433484761 0.01946624166469855 ...,\n",
      " 0.02044544454982188 0.01965921912352979 0.020659219123529787]\n",
      "band:  2 \n",
      "costs: 0.48711924005 rvalue:  0.51288075995 slop:  0.658843468426 inter -0.0367224701235 \n",
      "parameters:  [  24.64575709  293.29417341    7.75766135  -22.16538282   61.42687648] \n",
      "\n",
      "[ 0.09183197  0.09196229  0.09004833 ...,  0.08359519  0.08396729\n",
      "  0.08149561] [0.020659219123529787 0.02353047433484761 0.01946624166469855 ...,\n",
      " 0.01627616591833792 0.02044544454982188 0.01965921912352979]\n",
      "band:  2 \n",
      "costs: 0.486480714388 rvalue:  0.513519285612 slop:  0.659620500559 inter -0.0367873107516 \n",
      "parameters:  [  24.91427118  303.45843913    7.6943335   -22.40687337   62.09611872] \n",
      "\n"
     ]
    }
   ],
   "source": [
    "par = partial(op, args=args)\n",
    "par(0)"
   ]
  },
  {
   "cell_type": "code",
   "execution_count": 1,
   "metadata": {
    "collapsed": false
   },
   "outputs": [],
   "source": [
    "def ransaclin(x,y):\n",
    "    y, x = y.reshape((len(y),1)), x.reshape((len(x),1))\n",
    "    model = linear_model.LinearRegression()\n",
    "    model.fit(x, y)\n",
    "\n",
    "    model_ransac = linear_model.RANSACRegressor(linear_model.LinearRegression(), max_trials=100000000)\n",
    "    model_ransac.fit(x, y)\n",
    "    inlier_mask = model_ransac.inlier_mask_\n",
    "    return x[inlier_mask], y[inlier_mask]dd"
   ]
  },
  {
   "cell_type": "code",
   "execution_count": null,
   "metadata": {
    "collapsed": true
   },
   "outputs": [],
   "source": []
  }
 ],
 "metadata": {
  "kernelspec": {
   "display_name": "Python 2",
   "language": "python",
   "name": "python2"
  },
  "language_info": {
   "codemirror_mode": {
    "name": "ipython",
    "version": 2
   },
   "file_extension": ".py",
   "mimetype": "text/x-python",
   "name": "python",
   "nbconvert_exporter": "python",
   "pygments_lexer": "ipython2",
   "version": "2.7.12"
  }
 },
 "nbformat": 4,
 "nbformat_minor": 0
}
