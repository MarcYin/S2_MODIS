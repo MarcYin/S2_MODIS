{
 "cells": [
  {
   "cell_type": "code",
   "execution_count": null,
   "metadata": {
    "collapsed": false
   },
   "outputs": [],
   "source": [
    "cd /data/store01/data_dirs/students/ucfafyi/Sentinel"
   ]
  },
  {
   "cell_type": "code",
   "execution_count": null,
   "metadata": {
    "collapsed": true
   },
   "outputs": [],
   "source": [
    "#Amazon-ATTO-Tower,-2.143889,-59.000\n",
    "import sys                        \n",
    "sys.path.insert(0, 'python')\n",
    "from optimizing import *\n",
    "from Dload_Finder import *\n",
    "import gdal\n",
    "import pylab as plt\n",
    "%matplotlib inline"
   ]
  },
  {
   "cell_type": "code",
   "execution_count": 3,
   "metadata": {
    "collapsed": true
   },
   "outputs": [],
   "source": [
    "lat, lon, year = -2.143889,-59.0, 2016\n",
    "sfiles, mfiles = get_closet(lat, lon,year,0)"
   ]
  },
  {
   "cell_type": "code",
   "execution_count": 5,
   "metadata": {
    "collapsed": false
   },
   "outputs": [
    {
     "name": "stdout",
     "output_type": "stream",
     "text": [
      "/home/ucfafyi/DATA/Sentinel/s_data/21/M/TT/2016/1/9/0/ [ '/home/ucfafyi/DATA/Sentinel/m_data/MCD43A1.A2016009.h12v09.005.2016026083209.hdf'\n",
      " '/home/ucfafyi/DATA/Sentinel/m_data/MCD43A2.A2016009.h12v09.005.2016026083210.hdf']\n"
     ]
    }
   ],
   "source": [
    "spath = sfiles[0]; mfile = mfiles[0]\n",
    "print spath, mfile"
   ]
  },
  {
   "cell_type": "code",
   "execution_count": 33,
   "metadata": {
    "collapsed": false
   },
   "outputs": [
    {
     "name": "stderr",
     "output_type": "stream",
     "text": [
      "<ipython-input-33-b97ec1a94d58>:76: SyntaxWarning: name 'm' is assigned to before global declaration\n",
      "  global m; global s\n",
      "<ipython-input-33-b97ec1a94d58>:76: SyntaxWarning: name 's' is assigned to before global declaration\n",
      "  global m; global s\n"
     ]
    }
   ],
   "source": [
    "import sys\n",
    "sys.path.insert(0,'python')\n",
    "import numpy.ma as ma\n",
    "from collections import Counter\n",
    "import cPickle as pkl\n",
    "from scipy import optimize\n",
    "from functools import partial\n",
    "import scipy.ndimage as ndimage\n",
    "import numpy as np\n",
    "import scipy\n",
    "from scipy import signal\n",
    "import scipy.stats\n",
    "from downloader_and_file_finder import *\n",
    "from cloud import *\n",
    "from fastRWpkl import *\n",
    "import numpy \n",
    "from numpy import clip, where\n",
    "from scipy.ndimage.morphology import *\n",
    "import xml.etree.cElementTree as ET\n",
    "import multiprocessing\n",
    "from get_r import *\n",
    "from sklearn import linear_model\n",
    "\n",
    "keys = 'B02', 'B03','B04','B08','B8A','B11','B12'\n",
    "bands = [2,3,4,8,13,11,12]\n",
    "\n",
    "def gaussian(xwin, ywin, xstd, ystd, angle, norm = True):\n",
    "    win = max(xwin, ywin)\n",
    "    winx = win*2**0.5\n",
    "    winy = win*2**0.5\n",
    "    \n",
    "    xstd = xstd*2**0.5\n",
    "    ystd = ystd*2**0.5\n",
    "        \n",
    "    xgaus = signal.gaussian(winx, xstd)\n",
    "    ygaus = signal.gaussian(winy, ystd)\n",
    "    gaus  = np.outer(xgaus, ygaus)\n",
    "    r_gaus = scipy.ndimage.interpolation.rotate(gaus, angle, reshape=True)\n",
    "    center = np.array(r_gaus.shape)/2\n",
    "    cgaus = r_gaus[center[0]-xwin/2: center[0]+xwin/2, center[1]-ywin/2:center[1]+ywin/2]\n",
    "    if norm:\n",
    "        return cgaus/cgaus.sum()\n",
    "    else:\n",
    "        return cgaus\n",
    "\n",
    "def cost(p, sent, sinds, mod, minds, band):    \n",
    "    xstd,ystd,angle, xs, ys = p\n",
    "    xwin,ywin = 150, 150\n",
    "    \n",
    "    to_regression =[]          \n",
    "    cx = sinds[0]\n",
    "    cy = sinds[1]\n",
    "    mx = minds[0]\n",
    "    my = minds[1]\n",
    "    \n",
    "    gaus = gaussian(xwin,ywin,xstd,ystd,angle,False)                              \n",
    "    ker = gaus/(gaus.sum())\n",
    "\n",
    "    s = signal.fftconvolve(sent, ker, mode='same')\n",
    "    \n",
    "    vld_x = ((cx+xs)>xwin/2)&((cx+xs)<10000-xwin/2)\n",
    "    vld_y = ((cy+ys)>ywin/2)&((cy+ys)<10000-ywin/2)\n",
    "    vld = vld_x&vld_y\n",
    "    \n",
    "    \n",
    "    indx,indy = np.round((cx+xs)[vld]).astype(int), np.round((cy+ys)[vld]).astype(int)\n",
    "    vals = s[indx,indy]\n",
    "    brdf = mod[mx[vld], my[vld]]\n",
    "    mask = (brdf>0)&(brdf<1)&(vals>0)&(vals<1)\n",
    "    \n",
    "    x,y = ransaclin(vals[mask], brdf[mask])\n",
    "    \n",
    "    m = y.ravel()\n",
    "    s = x.ravel()\n",
    "    \n",
    "    global m; global s\n",
    "    print m, s\n",
    "    r = scipy.stats.linregress(m, s)    \n",
    "    costs = abs(1-r.rvalue)\n",
    "    \n",
    "    print 'band: ',band,'\\n','costs:', costs, 'rvalue: ', r.rvalue, 'slop: ', r.slope,'inter',r.intercept, '\\n', 'parameters: ', p,'\\n'\n",
    "    if (r.intercept<0) or (r.slope>1):\n",
    "        costs = costs*1000000000000000.\n",
    "    return costs\n",
    "\n",
    "def ransaclin(x,y):\n",
    "    y, x = y.reshape((len(y),1)), x.reshape((len(x),1))\n",
    "    model = linear_model.LinearRegression()\n",
    "    model.fit(x, y)\n",
    "\n",
    "    model_ransac = linear_model.RANSACRegressor(linear_model.LinearRegression())\n",
    "    model_ransac.fit(x, y)\n",
    "    inlier_mask = model_ransac.inlier_mask_\n",
    "    return x[inlier_mask], y[inlier_mask]\n",
    "\n",
    "def ScaleExtent(data, shape): # used for unifine different array,\n",
    "\n",
    "    re = int(shape[0]/(data.shape[0]))\n",
    "\n",
    "    a = np.repeat(np.repeat(data, re, axis = 1), re, axis =0)\n",
    "    \n",
    "    if (re*(data.shape[0])-shape[0]) != 0:\n",
    "        extended = np.zeros(shape)\n",
    "        extended[:re*(data.shape[0]),:re*(data.shape[0])] = a\n",
    "        extended[re*(data.shape[0]):,re*(data.shape[0]):] = a[re*(data.shape[0])-shape[0]:, re*(data.shape[0])-shape[0]]\n",
    "        return extended\n",
    "    else:\n",
    "        return a\n",
    "\n",
    "def get_psf(sent, sinds, mod, minds, band):\n",
    "    p = np.array([23.9744718775, 306.15258185, 7.91598096945, -21.5616564408, 59.7537708998])\n",
    "    psolve = optimize.fmin(cost,p,full_output=1, args=(sent,sinds, mod, minds, band))\n",
    "    print 'solved b%02d: '%band, psolve\n",
    "    return [band,psolve]\n",
    "\n",
    "def op(ind,  args=None ):\n",
    "    fpath, sentm, brdfs, sinds, minds = args\n",
    "    Sent = gdal_read(bands[ind], fpath)[keys[ind]]\n",
    "    sent = ScaleExtent(Sent, (10980,10980)) \n",
    "    sent[sentm]=100000000000\n",
    "    sent[np.isnan(sent)] = 100000000000\n",
    "    if ind<4:\n",
    "        brdfs[ind][brdfs[ind].mask] = np.nan                \n",
    "        psolve = get_psf(sent,sinds, brdfs[ind]*0.001, minds, bands[ind])\n",
    "\n",
    "    else:\n",
    "        brdfs[ind-1][brdfs[ind-1].mask] = np.nan\n",
    "        psolve = get_psf(sent,sinds, brdfs[ind-1]*0.001, minds, bands[ind])\n",
    "    return psolve"
   ]
  },
  {
   "cell_type": "code",
   "execution_count": 36,
   "metadata": {
    "collapsed": false
   },
   "outputs": [],
   "source": [
    "fpath = spath"
   ]
  },
  {
   "cell_type": "code",
   "execution_count": 37,
   "metadata": {
    "collapsed": false,
    "scrolled": true
   },
   "outputs": [
    {
     "name": "stdout",
     "output_type": "stream",
     "text": [
      "\n",
      "Here is the cloud probability calculation!\n",
      "\n",
      "/home/ucfafyi/DATA/Sentinel/s_data/21/M/TT/2016/1/9/0/ (2, 3, 4, 8, 11, 12, 13)\n",
      "No meteo data!!!\n",
      "7%\n",
      "14%\n",
      "21%\n",
      "29%\n",
      "36%\n",
      "43%\n",
      "50%\n",
      "57%\n",
      "64%\n",
      "71%\n",
      "79%\n",
      "86%\n",
      "93%\n",
      "99%\n",
      "Done!!!\n",
      "DOY:  9 \n",
      "Location:  21MTT Cloud proportion:  0.194853890664\n"
     ]
    },
    {
     "name": "stderr",
     "output_type": "stream",
     "text": [
      "/data/store01/data_dirs/students/ucfafyi/.conda/envs/gdal_env/lib/python2.7/site-packages/ipykernel/__main__.py:69: RuntimeWarning: invalid value encountered in greater\n",
      "/data/store01/data_dirs/students/ucfafyi/.conda/envs/gdal_env/lib/python2.7/site-packages/ipykernel/__main__.py:69: RuntimeWarning: invalid value encountered in less\n",
      "/data/store01/data_dirs/students/ucfafyi/.conda/envs/gdal_env/lib/python2.7/site-packages/ipykernel/__main__.py:69: RuntimeWarning: invalid value encountered in greater\n",
      "/data/store01/data_dirs/students/ucfafyi/.conda/envs/gdal_env/lib/python2.7/site-packages/ipykernel/__main__.py:69: RuntimeWarning: invalid value encountered in less\n",
      "/data/store01/data_dirs/students/ucfafyi/.conda/envs/gdal_env/lib/python2.7/site-packages/ipykernel/__main__.py:69: RuntimeWarning: invalid value encountered in greater\n",
      "/data/store01/data_dirs/students/ucfafyi/.conda/envs/gdal_env/lib/python2.7/site-packages/ipykernel/__main__.py:69: RuntimeWarning: invalid value encountered in less\n"
     ]
    },
    {
     "name": "stdout",
     "output_type": "stream",
     "text": [
      "[0.0443004501577842 0.0433004501577842 0.04753643443541395 ...,\n",
      " 0.04467534385063145 0.04616661400420784 0.04383514106058936][0.04205258735645178 0.04304070883274912 0.04105258735645178 ...,\n",
      " 0.04158061880119228 0.04058061880119228 0.043227895959326836][0.1423547810468448 0.14533102399943948 0.14109503972180973 ...,\n",
      " 0.14704419589796672 0.14704419589796672 0.1535313727059612] [ 0.09344861  0.07789653  0.0660125  ...,  0.04571667  0.04438889  0.042175  ]\n",
      " [ 0.12610764  0.12031111  0.08920929 ...,  0.08441111  0.07913611\n",
      "  0.07724444]\n",
      " [ 0.17292292  0.17432361  0.17172465 ...,  0.12309444  0.1232      0.11952222]\n",
      "band:  12 \n",
      "band:  3 \n",
      "band:  11 \n",
      "costs: 0.543802826689 rvalue:  0.456197173311 slop:  6.41489433276 inter -0.225717709947 \n",
      "costs: 0.502973572889 rvalue:  0.497026427111 slop:  5.81276692068 inter -0.151979096978 \n",
      "costs: 1.17013307397 rvalue:  -0.170133073974 slop:  -1.4922245886 inter 0.364693500618 \n",
      "parameters:  [  23.97447188  306.15258185    7.91598097  -21.56165644   59.7537709 ] \n",
      "parameters:  [  23.97447188  306.15258185    7.91598097  -21.56165644   59.7537709 ] \n",
      "\n",
      "parameters:  [  23.97447188  306.15258185    7.91598097  -21.56165644   59.7537709 ] \n",
      "\n",
      "\n"
     ]
    },
    {
     "name": "stderr",
     "output_type": "stream",
     "text": [
      "/data/store01/data_dirs/students/ucfafyi/.conda/envs/gdal_env/lib/python2.7/site-packages/ipykernel/__main__.py:69: RuntimeWarning: invalid value encountered in greater\n",
      "/data/store01/data_dirs/students/ucfafyi/.conda/envs/gdal_env/lib/python2.7/site-packages/ipykernel/__main__.py:69: RuntimeWarning: invalid value encountered in less\n"
     ]
    },
    {
     "name": "stdout",
     "output_type": "stream",
     "text": [
      "[0.2931039031888506 0.29509202466514795 0.2941039031888506 ...,\n",
      " 0.29119177554509224 0.29702138286767304 0.30196578045455946] [ 0.30678056  0.31120278  0.30937057 ...,  0.24415     0.24606667\n",
      "  0.23968889]\n"
     ]
    },
    {
     "name": "stderr",
     "output_type": "stream",
     "text": [
      "/data/store01/data_dirs/students/ucfafyi/.conda/envs/gdal_env/lib/python2.7/site-packages/ipykernel/__main__.py:69: RuntimeWarning: invalid value encountered in greater\n",
      "/data/store01/data_dirs/students/ucfafyi/.conda/envs/gdal_env/lib/python2.7/site-packages/ipykernel/__main__.py:69: RuntimeWarning: invalid value encountered in less\n"
     ]
    },
    {
     "name": "stdout",
     "output_type": "stream",
     "text": [
      "band:  8 \n",
      "costs: 0.703354264932 rvalue:  0.296645735068 slop:  2.23158924356 inter -0.403762397618 \n",
      "parameters:  [  23.97447188  306.15258185    7.91598097  -21.56165644   59.7537709 ] \n",
      "[0.023392148618373184 0.024392148618373185 0.02538027009467052 ...,\n",
      " 0.02392018006311368 0.02292018006311368 0.021932058586816346] [ 0.1091125   0.09914861  0.09675208 ...,  0.05789306  0.05280278\n",
      "  0.05107778]\n",
      "\n",
      "band:  4 \n",
      "costs: 0.583330758459 rvalue:  0.416669241541 slop:  7.47139374354 inter -0.115312500734 \n",
      "parameters:  [  23.97447188  306.15258185    7.91598097  -21.56165644   59.7537709 ] \n",
      "\n"
     ]
    },
    {
     "ename": "MemoryError",
     "evalue": "",
     "output_type": "error",
     "traceback": [
      "\u001b[0;31m---------------------------------------------------------------------------\u001b[0m",
      "\u001b[0;31mMemoryError\u001b[0m                               Traceback (most recent call last)",
      "\u001b[0;32m<ipython-input-37-f92825a4a145>\u001b[0m in \u001b[0;36m<module>\u001b[0;34m()\u001b[0m\n\u001b[1;32m     14\u001b[0m     \u001b[0mpar\u001b[0m \u001b[0;34m=\u001b[0m \u001b[0mpartial\u001b[0m\u001b[0;34m(\u001b[0m\u001b[0mop\u001b[0m\u001b[0;34m,\u001b[0m \u001b[0margs\u001b[0m\u001b[0;34m=\u001b[0m\u001b[0margs\u001b[0m\u001b[0;34m)\u001b[0m\u001b[0;34m\u001b[0m\u001b[0m\n\u001b[1;32m     15\u001b[0m     \u001b[0mpool\u001b[0m \u001b[0;34m=\u001b[0m \u001b[0mmultiprocessing\u001b[0m\u001b[0;34m.\u001b[0m\u001b[0mPool\u001b[0m\u001b[0;34m(\u001b[0m\u001b[0mprocesses\u001b[0m \u001b[0;34m=\u001b[0m \u001b[0;36m7\u001b[0m\u001b[0;34m)\u001b[0m\u001b[0;34m\u001b[0m\u001b[0m\n\u001b[0;32m---> 16\u001b[0;31m     \u001b[0mretval\u001b[0m \u001b[0;34m=\u001b[0m \u001b[0mpool\u001b[0m\u001b[0;34m.\u001b[0m\u001b[0mmap\u001b[0m\u001b[0;34m(\u001b[0m\u001b[0mpar\u001b[0m\u001b[0;34m,\u001b[0m \u001b[0mrange\u001b[0m\u001b[0;34m(\u001b[0m\u001b[0;36m7\u001b[0m\u001b[0;34m)\u001b[0m\u001b[0;34m)\u001b[0m\u001b[0;34m\u001b[0m\u001b[0m\n\u001b[0m\u001b[1;32m     17\u001b[0m     \u001b[0mpool\u001b[0m\u001b[0;34m.\u001b[0m\u001b[0mclose\u001b[0m\u001b[0;34m(\u001b[0m\u001b[0;34m)\u001b[0m\u001b[0;34m\u001b[0m\u001b[0m\n\u001b[1;32m     18\u001b[0m     \u001b[0mpool\u001b[0m\u001b[0;34m.\u001b[0m\u001b[0mjoin\u001b[0m\u001b[0;34m(\u001b[0m\u001b[0;34m)\u001b[0m\u001b[0;34m\u001b[0m\u001b[0m\n",
      "\u001b[0;32m/home/ucfafyi/.conda/envs/gdal_env/lib/python2.7/multiprocessing/pool.pyc\u001b[0m in \u001b[0;36mmap\u001b[0;34m(self, func, iterable, chunksize)\u001b[0m\n\u001b[1;32m    249\u001b[0m         '''\n\u001b[1;32m    250\u001b[0m         \u001b[0;32massert\u001b[0m \u001b[0mself\u001b[0m\u001b[0;34m.\u001b[0m\u001b[0m_state\u001b[0m \u001b[0;34m==\u001b[0m \u001b[0mRUN\u001b[0m\u001b[0;34m\u001b[0m\u001b[0m\n\u001b[0;32m--> 251\u001b[0;31m         \u001b[0;32mreturn\u001b[0m \u001b[0mself\u001b[0m\u001b[0;34m.\u001b[0m\u001b[0mmap_async\u001b[0m\u001b[0;34m(\u001b[0m\u001b[0mfunc\u001b[0m\u001b[0;34m,\u001b[0m \u001b[0miterable\u001b[0m\u001b[0;34m,\u001b[0m \u001b[0mchunksize\u001b[0m\u001b[0;34m)\u001b[0m\u001b[0;34m.\u001b[0m\u001b[0mget\u001b[0m\u001b[0;34m(\u001b[0m\u001b[0;34m)\u001b[0m\u001b[0;34m\u001b[0m\u001b[0m\n\u001b[0m\u001b[1;32m    252\u001b[0m \u001b[0;34m\u001b[0m\u001b[0m\n\u001b[1;32m    253\u001b[0m     \u001b[0;32mdef\u001b[0m \u001b[0mimap\u001b[0m\u001b[0;34m(\u001b[0m\u001b[0mself\u001b[0m\u001b[0;34m,\u001b[0m \u001b[0mfunc\u001b[0m\u001b[0;34m,\u001b[0m \u001b[0miterable\u001b[0m\u001b[0;34m,\u001b[0m \u001b[0mchunksize\u001b[0m\u001b[0;34m=\u001b[0m\u001b[0;36m1\u001b[0m\u001b[0;34m)\u001b[0m\u001b[0;34m:\u001b[0m\u001b[0;34m\u001b[0m\u001b[0m\n",
      "\u001b[0;32m/home/ucfafyi/.conda/envs/gdal_env/lib/python2.7/multiprocessing/pool.pyc\u001b[0m in \u001b[0;36mget\u001b[0;34m(self, timeout)\u001b[0m\n\u001b[1;32m    565\u001b[0m             \u001b[0;32mreturn\u001b[0m \u001b[0mself\u001b[0m\u001b[0;34m.\u001b[0m\u001b[0m_value\u001b[0m\u001b[0;34m\u001b[0m\u001b[0m\n\u001b[1;32m    566\u001b[0m         \u001b[0;32melse\u001b[0m\u001b[0;34m:\u001b[0m\u001b[0;34m\u001b[0m\u001b[0m\n\u001b[0;32m--> 567\u001b[0;31m             \u001b[0;32mraise\u001b[0m \u001b[0mself\u001b[0m\u001b[0;34m.\u001b[0m\u001b[0m_value\u001b[0m\u001b[0;34m\u001b[0m\u001b[0m\n\u001b[0m\u001b[1;32m    568\u001b[0m \u001b[0;34m\u001b[0m\u001b[0m\n\u001b[1;32m    569\u001b[0m     \u001b[0;32mdef\u001b[0m \u001b[0m_set\u001b[0m\u001b[0;34m(\u001b[0m\u001b[0mself\u001b[0m\u001b[0;34m,\u001b[0m \u001b[0mi\u001b[0m\u001b[0;34m,\u001b[0m \u001b[0mobj\u001b[0m\u001b[0;34m)\u001b[0m\u001b[0;34m:\u001b[0m\u001b[0;34m\u001b[0m\u001b[0m\n",
      "\u001b[0;31mMemoryError\u001b[0m: "
     ]
    }
   ],
   "source": [
    "sentm = get_cloud_mask(fpath)\n",
    "doy = int(mfile[0].split('.')[1][-3:])\n",
    "pos = fpath.split('/')[6]+fpath.split('/')[7]+fpath.split('/')[8]\n",
    "if sentm.sum()/(10980.*10980.) <0.2:\n",
    "    print 'DOY: ', doy,'\\n', 'Location: ', pos, \n",
    "    print 'Cloud proportion: ', sentm.sum()/(10980.*10980.)\n",
    "    minds, sinds = get_coords(lat,lon) \n",
    "\n",
    "    modis_filenames = gdal.Open(mfile[0]).GetSubDatasets()\n",
    "    modisQA = gdal.Open(mfile[1]).GetSubDatasets()\n",
    "\n",
    "    brdfs = get_rs(modisQA, modis_filenames, fpath)\n",
    "    args = fpath, sentm, brdfs, sinds, minds\n",
    "    par = partial(op, args=args)\n",
    "    pool = multiprocessing.Pool(processes = 7)\n",
    "    retval = pool.map(par, range(7))\n",
    "    pool.close()\n",
    "    pool.join()\n",
    "    #print doy, lat, lon, retval\n",
    "    parallel_rw_pkl(retval, '%s%spsfs'%(pos, doy), 'w')\n",
    "    if ret:\n",
    "        parallel_rw_pkl([m,s], '%s%s%to_regs'%(pos, doy), 'w')\n",
    "\n",
    "else:\n",
    "    print 'Too much cloud, and this tile (doy: %s, lat: %s, lon: %s) is considered as invalid.'%(doy, lat, lon)\n",
    "        "
   ]
  },
  {
   "cell_type": "code",
   "execution_count": null,
   "metadata": {
    "collapsed": true
   },
   "outputs": [],
   "source": [
    "m"
   ]
  },
  {
   "cell_type": "code",
   "execution_count": null,
   "metadata": {
    "collapsed": true
   },
   "outputs": [],
   "source": []
  }
 ],
 "metadata": {
  "kernelspec": {
   "display_name": "Python 2",
   "language": "python",
   "name": "python2"
  },
  "language_info": {
   "codemirror_mode": {
    "name": "ipython",
    "version": 2
   },
   "file_extension": ".py",
   "mimetype": "text/x-python",
   "name": "python",
   "nbconvert_exporter": "python",
   "pygments_lexer": "ipython2",
   "version": "2.7.12"
  }
 },
 "nbformat": 4,
 "nbformat_minor": 0
}
