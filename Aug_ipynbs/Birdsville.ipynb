{
 "cells": [
  {
   "cell_type": "code",
   "execution_count": 2,
   "metadata": {
    "collapsed": false
   },
   "outputs": [
    {
     "name": "stdout",
     "output_type": "stream",
     "text": [
      "/data/store01/data_dirs/students/ucfafyi/Sentinel\n"
     ]
    }
   ],
   "source": [
    "cd /data/store01/data_dirs/students/ucfafyi/Sentinel"
   ]
  },
  {
   "cell_type": "code",
   "execution_count": 24,
   "metadata": {
    "collapsed": false
   },
   "outputs": [
    {
     "name": "stderr",
     "output_type": "stream",
     "text": [
      "/home/ucfafyi/.conda/envs/gdal_env/lib/python2.7/site-packages/matplotlib/__init__.py:878: UserWarning: axes.color_cycle is deprecated and replaced with axes.prop_cycle; please use the latter.\n",
      "  warnings.warn(self.msg_depr % (key, alt_key))\n",
      "/home/ucfafyi/.conda/envs/gdal_env/lib/python2.7/site-packages/matplotlib/__init__.py:878: UserWarning: svg.embed_char_paths is deprecated and replaced with svg.fonttype; please use the latter.\n",
      "  warnings.warn(self.msg_depr % (key, alt_key))\n"
     ]
    }
   ],
   "source": [
    "import sys\n",
    "sys.path.insert(0, 'python')\n",
    "import pandas as pd\n",
    "import numpy as np\n",
    "import pylab as plt\n",
    "from scipy import interpolate\n",
    "from nicer_plot import *\n",
    "%matplotlib inline \n",
    "plot_config()"
   ]
  },
  {
   "cell_type": "code",
   "execution_count": 20,
   "metadata": {
    "collapsed": false,
    "scrolled": true
   },
   "outputs": [
    {
     "data": {
      "text/html": [
       "<div>\n",
       "<table border=\"1\" class=\"dataframe\">\n",
       "  <thead>\n",
       "    <tr style=\"text-align: right;\">\n",
       "      <th></th>\n",
       "      <th>Date(dd-mm-yyyy)</th>\n",
       "      <th>Time(hh:mm:ss)</th>\n",
       "      <th>Julian_Day</th>\n",
       "      <th>AOT_1640</th>\n",
       "      <th>AOT_1020</th>\n",
       "      <th>AOT_870</th>\n",
       "      <th>AOT_675</th>\n",
       "      <th>AOT_667</th>\n",
       "      <th>AOT_555</th>\n",
       "      <th>AOT_551</th>\n",
       "      <th>AOT_532</th>\n",
       "      <th>AOT_531</th>\n",
       "      <th>AOT_500</th>\n",
       "      <th>AOT_490</th>\n",
       "      <th>AOT_443</th>\n",
       "      <th>AOT_440</th>\n",
       "      <th>AOT_412</th>\n",
       "      <th>AOT_380</th>\n",
       "      <th>AOT_340</th>\n",
       "      <th>Water(cm)</th>\n",
       "    </tr>\n",
       "  </thead>\n",
       "  <tbody>\n",
       "    <tr>\n",
       "      <th>10</th>\n",
       "      <td>05:02:2016</td>\n",
       "      <td>05:58:46</td>\n",
       "      <td>36.249144</td>\n",
       "      <td>0.041373</td>\n",
       "      <td>0.042334</td>\n",
       "      <td>0.052011</td>\n",
       "      <td>0.063958</td>\n",
       "      <td>NaN</td>\n",
       "      <td>NaN</td>\n",
       "      <td>NaN</td>\n",
       "      <td>NaN</td>\n",
       "      <td>NaN</td>\n",
       "      <td>0.071710</td>\n",
       "      <td>NaN</td>\n",
       "      <td>NaN</td>\n",
       "      <td>0.082973</td>\n",
       "      <td>NaN</td>\n",
       "      <td>0.103529</td>\n",
       "      <td>0.100552</td>\n",
       "      <td>2.076429</td>\n",
       "    </tr>\n",
       "    <tr>\n",
       "      <th>11</th>\n",
       "      <td>05:02:2016</td>\n",
       "      <td>08:24:39</td>\n",
       "      <td>36.350451</td>\n",
       "      <td>0.042956</td>\n",
       "      <td>0.046899</td>\n",
       "      <td>0.051539</td>\n",
       "      <td>0.057613</td>\n",
       "      <td>NaN</td>\n",
       "      <td>NaN</td>\n",
       "      <td>NaN</td>\n",
       "      <td>NaN</td>\n",
       "      <td>NaN</td>\n",
       "      <td>0.068778</td>\n",
       "      <td>NaN</td>\n",
       "      <td>NaN</td>\n",
       "      <td>0.073407</td>\n",
       "      <td>NaN</td>\n",
       "      <td>0.087425</td>\n",
       "      <td>0.090138</td>\n",
       "      <td>2.006438</td>\n",
       "    </tr>\n",
       "    <tr>\n",
       "      <th>12</th>\n",
       "      <td>05:02:2016</td>\n",
       "      <td>21:33:32</td>\n",
       "      <td>36.898287</td>\n",
       "      <td>0.028074</td>\n",
       "      <td>0.027165</td>\n",
       "      <td>0.032422</td>\n",
       "      <td>0.039044</td>\n",
       "      <td>NaN</td>\n",
       "      <td>NaN</td>\n",
       "      <td>NaN</td>\n",
       "      <td>NaN</td>\n",
       "      <td>NaN</td>\n",
       "      <td>0.055704</td>\n",
       "      <td>NaN</td>\n",
       "      <td>NaN</td>\n",
       "      <td>0.055614</td>\n",
       "      <td>NaN</td>\n",
       "      <td>0.068275</td>\n",
       "      <td>0.066913</td>\n",
       "      <td>2.881002</td>\n",
       "    </tr>\n",
       "    <tr>\n",
       "      <th>13</th>\n",
       "      <td>05:02:2016</td>\n",
       "      <td>21:56:07</td>\n",
       "      <td>36.913970</td>\n",
       "      <td>0.029019</td>\n",
       "      <td>0.027150</td>\n",
       "      <td>0.033112</td>\n",
       "      <td>0.040382</td>\n",
       "      <td>NaN</td>\n",
       "      <td>NaN</td>\n",
       "      <td>NaN</td>\n",
       "      <td>NaN</td>\n",
       "      <td>NaN</td>\n",
       "      <td>0.057209</td>\n",
       "      <td>NaN</td>\n",
       "      <td>NaN</td>\n",
       "      <td>0.056690</td>\n",
       "      <td>NaN</td>\n",
       "      <td>0.070363</td>\n",
       "      <td>0.067750</td>\n",
       "      <td>2.942514</td>\n",
       "    </tr>\n",
       "    <tr>\n",
       "      <th>14</th>\n",
       "      <td>05:02:2016</td>\n",
       "      <td>23:10:04</td>\n",
       "      <td>36.965324</td>\n",
       "      <td>0.032372</td>\n",
       "      <td>0.028524</td>\n",
       "      <td>0.037152</td>\n",
       "      <td>0.047758</td>\n",
       "      <td>NaN</td>\n",
       "      <td>NaN</td>\n",
       "      <td>NaN</td>\n",
       "      <td>NaN</td>\n",
       "      <td>NaN</td>\n",
       "      <td>0.066756</td>\n",
       "      <td>NaN</td>\n",
       "      <td>NaN</td>\n",
       "      <td>0.064841</td>\n",
       "      <td>NaN</td>\n",
       "      <td>0.080978</td>\n",
       "      <td>0.074604</td>\n",
       "      <td>3.091355</td>\n",
       "    </tr>\n",
       "    <tr>\n",
       "      <th>15</th>\n",
       "      <td>05:02:2016</td>\n",
       "      <td>23:58:51</td>\n",
       "      <td>36.999201</td>\n",
       "      <td>0.034944</td>\n",
       "      <td>0.031868</td>\n",
       "      <td>0.041672</td>\n",
       "      <td>0.054406</td>\n",
       "      <td>NaN</td>\n",
       "      <td>NaN</td>\n",
       "      <td>NaN</td>\n",
       "      <td>NaN</td>\n",
       "      <td>NaN</td>\n",
       "      <td>0.071205</td>\n",
       "      <td>NaN</td>\n",
       "      <td>NaN</td>\n",
       "      <td>0.074671</td>\n",
       "      <td>NaN</td>\n",
       "      <td>0.092779</td>\n",
       "      <td>0.086925</td>\n",
       "      <td>3.316232</td>\n",
       "    </tr>\n",
       "  </tbody>\n",
       "</table>\n",
       "</div>"
      ],
      "text/plain": [
       "   Date(dd-mm-yyyy) Time(hh:mm:ss)  Julian_Day  AOT_1640  AOT_1020   AOT_870  \\\n",
       "10       05:02:2016       05:58:46   36.249144  0.041373  0.042334  0.052011   \n",
       "11       05:02:2016       08:24:39   36.350451  0.042956  0.046899  0.051539   \n",
       "12       05:02:2016       21:33:32   36.898287  0.028074  0.027165  0.032422   \n",
       "13       05:02:2016       21:56:07   36.913970  0.029019  0.027150  0.033112   \n",
       "14       05:02:2016       23:10:04   36.965324  0.032372  0.028524  0.037152   \n",
       "15       05:02:2016       23:58:51   36.999201  0.034944  0.031868  0.041672   \n",
       "\n",
       "     AOT_675  AOT_667  AOT_555  AOT_551  AOT_532  AOT_531   AOT_500  AOT_490  \\\n",
       "10  0.063958      NaN      NaN      NaN      NaN      NaN  0.071710      NaN   \n",
       "11  0.057613      NaN      NaN      NaN      NaN      NaN  0.068778      NaN   \n",
       "12  0.039044      NaN      NaN      NaN      NaN      NaN  0.055704      NaN   \n",
       "13  0.040382      NaN      NaN      NaN      NaN      NaN  0.057209      NaN   \n",
       "14  0.047758      NaN      NaN      NaN      NaN      NaN  0.066756      NaN   \n",
       "15  0.054406      NaN      NaN      NaN      NaN      NaN  0.071205      NaN   \n",
       "\n",
       "    AOT_443   AOT_440  AOT_412   AOT_380   AOT_340  Water(cm)  \n",
       "10      NaN  0.082973      NaN  0.103529  0.100552   2.076429  \n",
       "11      NaN  0.073407      NaN  0.087425  0.090138   2.006438  \n",
       "12      NaN  0.055614      NaN  0.068275  0.066913   2.881002  \n",
       "13      NaN  0.056690      NaN  0.070363  0.067750   2.942514  \n",
       "14      NaN  0.064841      NaN  0.080978  0.074604   3.091355  \n",
       "15      NaN  0.074671      NaN  0.092779  0.086925   3.316232  "
      ]
     },
     "execution_count": 20,
     "metadata": {},
     "output_type": "execute_result"
    }
   ],
   "source": [
    "pas = ['Date(dd-mm-yyyy)', 'Time(hh:mm:ss)', 'Julian_Day', 'AOT_1640', \n",
    "       'AOT_1020', 'AOT_870', 'AOT_675', 'AOT_667', 'AOT_555', 'AOT_551', 'AOT_532', \n",
    "       'AOT_531', 'AOT_500', 'AOT_490', 'AOT_443', 'AOT_440', 'AOT_412', 'AOT_380', 'AOT_340', 'Water(cm)']\n",
    "df = pd.read_csv('160201_160210_Birdsville.dubovik', skiprows=3, na_values=[\"N/A\"])\n",
    "date = df[pas][10:16]\n",
    "aero = np.array(date.AOT_1640),np.array(date.AOT_1020),np.array(date.AOT_870),np.array(date.AOT_675),np.array(date.AOT_500),np.array(date.AOT_440),np.array(date.AOT_380),np.array(date.AOT_340)\n",
    "wv = [1640, 1020,870, 675, 500, 440, 380, 340]\n",
    "aero = np.array(aero).T\n",
    "date"
   ]
  },
  {
   "cell_type": "code",
   "execution_count": 25,
   "metadata": {
    "collapsed": false,
    "scrolled": true
   },
   "outputs": [
    {
     "data": {
      "text/plain": [
       "<matplotlib.legend.Legend at 0x7f3ac8f8b390>"
      ]
     },
     "execution_count": 25,
     "metadata": {},
     "output_type": "execute_result"
    },
    {
     "data": {
      "image/png": "[encoded data removed]",
      "text/plain": [
       "<matplotlib.figure.Figure at 0x7f3ac8edd750>"
      ]
     },
     "metadata": {},
     "output_type": "display_data"
    }
   ],
   "source": [
    "aot550 = []\n",
    "fig = plt.figure(figsize=(8,4))\n",
    "ax = fig.add_subplot(111)\n",
    "for i,j in enumerate(aero[:,::-1]):\n",
    "    ax.plot(wv[::-1], j, label = 'No. %s'%i)\n",
    "    f = interpolate.interp1d(wv[::-1],j, kind='cubic')\n",
    "    xnew = 550\n",
    "    ynew = f(xnew)\n",
    "    aot550.append(ynew)\n",
    "    plt.plot(550, ynew, 'r+')\n",
    "pretty_axes(ax)  \n",
    "ax.set_yticks(np.linspace(0, 1.2*np.max(aero), 6))\n",
    "plt.legend(ncol=2)"
   ]
  },
  {
   "cell_type": "code",
   "execution_count": 26,
   "metadata": {
    "collapsed": false
   },
   "outputs": [
    {
     "data": {
      "text/plain": [
       "[array(0.06793831923818089),\n",
       " array(0.0661950679219985),\n",
       " array(0.05413720715070781),\n",
       " array(0.05597613610877274),\n",
       " array(0.0662249395935082),\n",
       " array(0.06897576164808863)]"
      ]
     },
     "execution_count": 26,
     "metadata": {},
     "output_type": "execute_result"
    }
   ],
   "source": [
    "aot550"
   ]
  },
  {
   "cell_type": "code",
   "execution_count": null,
   "metadata": {
    "collapsed": true
   },
   "outputs": [],
   "source": []
  }
 ],
 "metadata": {
  "kernelspec": {
   "display_name": "Python 2",
   "language": "python",
   "name": "python2"
  },
  "language_info": {
   "codemirror_mode": {
    "name": "ipython",
    "version": 2
   },
   "file_extension": ".py",
   "mimetype": "text/x-python",
   "name": "python",
   "nbconvert_exporter": "python",
   "pygments_lexer": "ipython2",
   "version": "2.7.12"
  }
 },
 "nbformat": 4,
 "nbformat_minor": 0
}
